{
 "cells": [
  {
   "cell_type": "markdown",
   "id": "f352e111-9f69-4229-a5cc-1aea72a5c506",
   "metadata": {},
   "source": [
    "# Hypercube inducibility and statistics problems\n",
    "\n",
    "This notebook contains calculations for inducibility and statistics problems and for hypercubes. To run these calculations, use the modified version of sage from\n",
    "https://github.com/bodnalev/sage\n",
    "\n",
    "Below is a description of the main calculation sections.\n",
    "\n",
    "1. The inducibility Section 1 contains the description of the structures and corresponding inducibility upper bounds.\n",
    "\n",
    "2. The statistics Section 2 contains a function to calculate statistics as linear combination of flags, and the exact upper bounds, with special discussion for $\\lambda(2, 1)$.\n",
    "\n",
    "3. The verification Section 3 contains a single cell verifying the certificates. It can be run independently from the rest of the notebook.\n",
    "\n",
    "4. The inspect Section 4 contains code that exports pickled certificates to human readable text files. Additionally there is an interactive code to inspect the certificate data."
   ]
  },
  {
   "cell_type": "markdown",
   "id": "17300ab3-d0c8-4db5-8b7d-904c9aaa234f",
   "metadata": {},
   "source": [
    "## Section 1 - Inducibility calculations\n",
    "\n",
    "First cell contains representations of $W_7, W_8, W_9, W_{10}, W_{12}$ as flags in the `HypercubeVertex` theory.\n",
    "The second cell gives an upper bound for the maximum induced density of the displayed $W$ structures"
   ]
  },
  {
   "cell_type": "code",
   "execution_count": 1,
   "id": "966c1bc3-293d-4573-bb4b-3694cef4d763",
   "metadata": {},
   "outputs": [
    {
     "name": "stdout",
     "output_type": "stream",
     "text": [
      "The structures are:\n",
      "W7 is 3-subcube with points: {0 7}\n",
      "W8 is 3-subcube with points: {0 3 5}\n",
      "W9 is 3-subcube with points: {0 1 2 7}\n",
      "W10 is 3-subcube with points: {0 1 6}\n",
      "W12 is 3-subcube with points: {0 1 2 4}\n"
     ]
    }
   ],
   "source": [
    "HV = Theory(\"HypercubeVertex\")\n",
    "HV.reset()\n",
    "all8s = HV.generate(8)\n",
    "orinds = [4, 7, 11, 6, 9]\n",
    "winds = [7, 8, 9, 10, 12]\n",
    "\n",
    "# Get a nice representation for flags\n",
    "def prep(flag):\n",
    "    return str(log(flag.size(), 2)) + \"-subcube with points: {\" + \" \".join([str(xx[0]) for xx in flag.blocks(\"points\")]) + \"}\"\n",
    "# Confirm the structures are the same as claimed\n",
    "print(\"The structures are:\")\n",
    "for ii in range(len(winds)):\n",
    "    print(\"W{} is {}\".format(winds[ii], prep(all8s[orinds[ii]])))"
   ]
  },
  {
   "cell_type": "code",
   "execution_count": 2,
   "id": "a08fefd8-d0fb-4ca7-baf6-33e8b976de12",
   "metadata": {},
   "outputs": [
    {
     "name": "stdout",
     "output_type": "stream",
     "text": [
      "For W7 the found upper bound is 1/3\n",
      "For W8 the found upper bound is 2/3\n",
      "For W9 the found upper bound is 4/9\n",
      "For W10 the found upper bound is 5/12\n",
      "For W12 the found upper bound is 1/2\n"
     ]
    }
   ],
   "source": [
    "# Calculate the bound for each\n",
    "HV.reset()\n",
    "target_sizes = [8, 16, 8, 16, 8]\n",
    "for ii in range(len(winds)):\n",
    "    lam_w_ii = HV.optimize(all8s[orinds[ii]], target_sizes[ii], exact=True, \n",
    "                           file=\"certificates/w{}_cert\".format(winds[ii]), \n",
    "                           printlevel=0\n",
    "                          )\n",
    "    print(\"For W{} the found upper bound is {}\".format(winds[ii], lam_w_ii))"
   ]
  },
  {
   "cell_type": "markdown",
   "id": "cac638cd-87f2-46ef-9b23-c9b2385a8f2a",
   "metadata": {},
   "source": [
    "## Section 2 - Statistics calculations\n",
    "\n",
    "First a `targ_ds` function is defined, it creates a quantum flag representing the sum of hypercubes with dimension $d$ and $s$ points. Then the induced exact upper-bound for various $d, s$ pairs are calculated.\n",
    "\n",
    "The following Subsection 2.1 deals with $\\lambda(2,1)$, by arguing that the $24/35$ flag upper-bound can not be tight. First calculate the configurations with zero slack $H$ coming from the $24/35$ bound. By determining that $H_5$ has no valid extension among the zero slack patterns, a final maximization of $\\lambda(2, 1)$ without $H_5$ yields a strictly smaller bound, showing that $24/35$ is not attainable.\n",
    "\n",
    "Finally, Subsection 2.2 displays the floating-point data presented in the Table 1, proving unrounded upper-bounds for the remaining statistics cases."
   ]
  },
  {
   "cell_type": "code",
   "execution_count": 3,
   "id": "aead0d00-5425-437c-baa5-d2181194cb20",
   "metadata": {},
   "outputs": [
    {
     "name": "stdout",
     "output_type": "stream",
     "text": [
      "For d=3 and s=2 the found upper bound is 8/9\n",
      "For d=4 and s=2 the found upper bound is 264/343\n",
      "For d=4 and s=4 the found upper bound is 26/27\n"
     ]
    }
   ],
   "source": [
    "# Define the structures for the statistics\n",
    "HV.reset()\n",
    "def targ_ds(d, s):\n",
    "    return sum([xx for xx in HV.generate(2**d) if len(xx.blocks(\"points\"))==s])\n",
    "\n",
    "for d, s in [(3, 2), (4, 2), (4, 4)]:\n",
    "    lam_ds = HV.optimize(targ_ds(d, s), 16, exact=True, \n",
    "                         file=\"certificates/d{}s{}_cert\".format(d, s), \n",
    "                         printlevel=0\n",
    "                        )\n",
    "    print(\"For d={} and s={} the found upper bound is {}\".format(d, s, lam_ds))"
   ]
  },
  {
   "cell_type": "markdown",
   "id": "11fde1f7-00a7-481f-a001-0602858f04dc",
   "metadata": {},
   "source": [
    "### Subsection 2.1 - Proof that lambda(2, 1) is not 24/35"
   ]
  },
  {
   "cell_type": "code",
   "execution_count": 5,
   "id": "e52a95c1-6a5d-4a91-9f2e-469a70f169a4",
   "metadata": {},
   "outputs": [
    {
     "name": "stdout",
     "output_type": "stream",
     "text": [
      "For d=2 and s=1 the found upper bound is 24/35\n",
      "The configurations with zero slack at the upper bound above:\n",
      "H_1 is the 4-subcube with points: {}\n",
      "H_2 is the 4-subcube with points: {0 3 5 6}\n",
      "H_3 is the 4-subcube with points: {0 3 13 14}\n",
      "H_4 is the 4-subcube with points: {0 3 5 9 14}\n",
      "H_5 is the 4-subcube with points: {0 3 5 10 12}\n",
      "H_6 is the 4-subcube with points: {0 3 5 6 9 10 12 15}\n"
     ]
    }
   ],
   "source": [
    "HV.reset()\n",
    "lam_21 = HV.optimize(targ_ds(2, 1), 16, exact=True, \n",
    "                     file=\"certificates/d2s1_cert\",\n",
    "                     printlevel=0\n",
    "                    )\n",
    "print(\"For d=2 and s=1 the found upper bound is {}\".format(lam_21))\n",
    "import pickle\n",
    "with open(\"certificates/d2s1_cert.pickle\", \"rb\") as file:\n",
    "    certificate = pickle.load(file)\n",
    "# Get the flags with zero slack in the certificate\n",
    "H = [\n",
    "    HV(certificate[\"base flags\"][ii][0], **dict(certificate[\"base flags\"][ii][2])) for \n",
    "    ii,vv in enumerate(certificate[\"slack vector\"]) if QQ(vv)==0\n",
    "]\n",
    "print(\"The configurations with zero slack at the upper bound above:\")\n",
    "print(\"\\n\".join([\"H_\" + str(ii+1) + \" is the \" + prep(xx) for ii,xx in enumerate(H)]))"
   ]
  },
  {
   "cell_type": "code",
   "execution_count": 19,
   "id": "34ad5868-8ebc-4f9b-b476-d698d506948d",
   "metadata": {},
   "outputs": [
    {
     "name": "stdout",
     "output_type": "stream",
     "text": [
      "[]\n"
     ]
    }
   ],
   "source": [
    "from functools import lru_cache\n",
    "\n",
    "@lru_cache\n",
    "def generate_hypercube_edges(d):\n",
    "    edges = []\n",
    "    for vertex in range(2**d):\n",
    "        for i in range(d):\n",
    "            if not (vertex >> i) & 1:\n",
    "                neighbor = vertex | (1 << i)\n",
    "                edges.append((vertex, neighbor))\n",
    "    return tuple(edges)\n",
    "\n",
    "def remove_bit(x, i):\n",
    "    return ((x >> (i + 1)) << i) | (x & ((1 << i) - 1))\n",
    "\n",
    "def restrict_to_face(flag, i, b):\n",
    "    face_points = []\n",
    "    d = log(flag.size(), 2)\n",
    "    for xx in flag.blocks(\"points\"):\n",
    "        x = xx[0]\n",
    "        if ((x >> i) & 1) == b:\n",
    "            y = remove_bit(x, i)\n",
    "            face_points.append([y])\n",
    "    return HV(flag.size()/2, edges=generate_hypercube_edges(d-1), points=face_points)\n",
    "\n",
    "def stack_flags(base, extension):\n",
    "    d = log(base.size(), 2)\n",
    "    points = []\n",
    "    points.extend(base.blocks(\"points\"))\n",
    "    points.extend([[(1 << d) + v[0]] for v in extension.blocks(\"points\")])\n",
    "    return HV(2**(d+1), edges=generate_hypercube_edges(d+1), points=points)\n",
    "\n",
    "def all_automorphisms(d):\n",
    "    perms = list(itertools.permutations(range(d)))\n",
    "    refls = list(itertools.product([0, 1], repeat=d))\n",
    "    automorphisms = []\n",
    "    for perm in perms:\n",
    "        for refl in refls:\n",
    "            automorphisms.append((perm, refl))\n",
    "    return automorphisms\n",
    "\n",
    "def apply_automorphism(flag, automorphism):\n",
    "    perm, refl = automorphism\n",
    "    d = log(flag.size(), 2)\n",
    "    new_points = []\n",
    "    for vv in flag.blocks(\"points\"):\n",
    "        v = vv[0]\n",
    "        new_v = 0\n",
    "        for i in range(d):\n",
    "            bit = (v >> i) & 1\n",
    "            new_bit = bit ^^ refl[i]\n",
    "            new_v += new_bit * (1 << perm[i])\n",
    "        new_points.append([new_v])\n",
    "    return HV(2**d, edges=generate_hypercube_edges(d), points=new_points)\n",
    "\n",
    "def distinct_automorphism_variants(flag):\n",
    "    d = log(flag.size(), 2)\n",
    "    autos = all_automorphisms(d)\n",
    "    variants = {}\n",
    "    for auto in autos:\n",
    "        variant = apply_automorphism(flag, auto)\n",
    "        key = tuple([xx[0] for xx in variant.blocks(\"points\")])\n",
    "        if key not in variants:\n",
    "            variants[key] = variant\n",
    "    return list(variants.values())\n",
    "\n",
    "def generate_extensions(flag, H):\n",
    "    d = log(flag.size(), 2)\n",
    "    valid_configs = []\n",
    "    # All non-equal permutations of the flag\n",
    "    flag_variants = distinct_automorphism_variants(flag)\n",
    "    # Try to stack every element from H\n",
    "    for base in H:\n",
    "        # With every permutation of the flag\n",
    "        for flag_variant in flag_variants:\n",
    "            candidate = stack_flags(base, flag_variant)\n",
    "            valid = True\n",
    "            for i in range(d+1):\n",
    "                for b in (0, 1):\n",
    "                    # Check if the faces are still in H\n",
    "                    face = restrict_to_face(candidate, i, b)\n",
    "                    if face not in H:\n",
    "                        valid = False\n",
    "                        break\n",
    "                if not valid:\n",
    "                    break\n",
    "            if valid:\n",
    "                print(\"Found a valid extension: \", candidate)\n",
    "                valid_configs.append(candidate)\n",
    "    return valid_configs\n",
    "\n",
    "# Print the possibe extensions of H_5 that only contains subcubes from H\n",
    "print(generate_extensions(H[4], H))"
   ]
  },
  {
   "cell_type": "code",
   "execution_count": 20,
   "id": "e495a5a6-d220-4794-8529-96225fe4f80e",
   "metadata": {},
   "outputs": [
    {
     "name": "stdout",
     "output_type": "stream",
     "text": [
      "Without H_5 the optimum is 528013/786432 ~= 0.671403249104818. (Note 24/35 ~= 0.685714285714286)\n"
     ]
    }
   ],
   "source": [
    "# Optimize lambda(2, 1), but now assuming H_5 has density 0\n",
    "HV.exclude(H[4])\n",
    "lam_21_noh5 = HV.optimize(targ_ds(2, 1), 16, exact=True, denom=2**20,\n",
    "                     file=\"certificates/d2s1_noh5_cert\",\n",
    "                     printlevel=0\n",
    "                    )\n",
    "print(\"Without H_5 the optimum is {} ~= {}. (Note {} ~= {})\".format(lam_21_noh5, lam_21_noh5.n(), 24/35, (24/35).n()))"
   ]
  },
  {
   "cell_type": "markdown",
   "id": "d7b95d86-dd2a-4db6-aee5-51188a45e85e",
   "metadata": {},
   "source": [
    "### Subsection 2.2 - Remaining small statistics cases\n",
    "An unrounded upper-bound is provided for each remaining $d \\leq 4$ statistics case."
   ]
  },
  {
   "cell_type": "code",
   "execution_count": 21,
   "id": "c3d6b704-be71-40df-a829-d311c242e854",
   "metadata": {},
   "outputs": [
    {
     "name": "stdout",
     "output_type": "stream",
     "text": [
      "For d=3 and s=1 the found numerical upper bound is 0.6100426093596065\n",
      "For d=3 and s=3 the found numerical upper bound is 0.6842325624118085\n",
      "For d=4 and s=1 the found numerical upper bound is 0.6025329211355644\n",
      "For d=4 and s=3 the found numerical upper bound is 0.681263540657437\n",
      "For d=4 and s=5 the found numerical upper bound is 0.7096421914321209\n",
      "For d=4 and s=6 the found numerical upper bound is 0.8540599904128074\n",
      "For d=4 and s=7 the found numerical upper bound is 0.7270395543425598\n"
     ]
    }
   ],
   "source": [
    "HV.reset()\n",
    "for d, s in [(3, 1), (3, 3), (4, 1), (4, 3), (4, 5), (4, 6), (4, 7)]:\n",
    "    lam_ds = HV.optimize(targ_ds(d, s), 16, exact=False, printlevel=0)\n",
    "    print(\"For d={} and s={} the found numerical upper bound is {}\".format(d, s, lam_ds))"
   ]
  },
  {
   "cell_type": "markdown",
   "id": "9aea554a-7bdc-4b8c-a7dd-4db2e7edd5db",
   "metadata": {},
   "source": [
    "## Section 3 - Verification of the certificates\n",
    "\n",
    "If one only wants to verify that any of the exact certificates are indeed correct, it is enough\n",
    "to run this cell. For each step above, it loads the generated certificates and verifies that the matrices are indeed positive semidefinite\n",
    "and that the bound they prove is exactly as claimed. Note however that the majority of the time is spent at calculating the problem data, once that is complete all the cells run quickly and it is not much slower to re-calculate the certificates instead of verifying them."
   ]
  },
  {
   "cell_type": "code",
   "execution_count": 22,
   "id": "64ae1352-12e1-40fd-abb5-e3c75b7b63cb",
   "metadata": {},
   "outputs": [
    {
     "name": "stdout",
     "output_type": "stream",
     "text": [
      "Verifying for W7\n",
      "Checking X matrices\n"
     ]
    },
    {
     "name": "stderr",
     "output_type": "stream",
     "text": [
      "5it [00:00, 4312.47it/s]\n"
     ]
    },
    {
     "name": "stdout",
     "output_type": "stream",
     "text": [
      "Solution matrices are all positive semidefinite, linear coefficients are all non-negative\n",
      "Calculating multiplication tables\n"
     ]
    },
    {
     "name": "stderr",
     "output_type": "stream",
     "text": [
      "5it [00:00, 2345.28it/s]\n"
     ]
    },
    {
     "name": "stdout",
     "output_type": "stream",
     "text": [
      "Done calculating linear constraints\n",
      "Calculating the bound provided by the certificate\n"
     ]
    },
    {
     "name": "stderr",
     "output_type": "stream",
     "text": [
      "5it [00:00, 302.23it/s]\n"
     ]
    },
    {
     "name": "stdout",
     "output_type": "stream",
     "text": [
      "The solution is valid, it proves the bound 1/3\n",
      "Verifying for W8\n",
      "Checking X matrices\n"
     ]
    },
    {
     "name": "stderr",
     "output_type": "stream",
     "text": [
      "13it [00:00, 642.36it/s]\n"
     ]
    },
    {
     "name": "stdout",
     "output_type": "stream",
     "text": [
      "Solution matrices are all positive semidefinite, linear coefficients are all non-negative\n",
      "Calculating multiplication tables\n"
     ]
    },
    {
     "name": "stderr",
     "output_type": "stream",
     "text": [
      "13it [00:00, 72.27it/s]\n"
     ]
    },
    {
     "name": "stdout",
     "output_type": "stream",
     "text": [
      "Done calculating linear constraints\n",
      "Calculating the bound provided by the certificate\n"
     ]
    },
    {
     "name": "stderr",
     "output_type": "stream",
     "text": [
      "13it [00:01,  7.96it/s]\n"
     ]
    },
    {
     "name": "stdout",
     "output_type": "stream",
     "text": [
      "The solution is valid, it proves the bound 2/3\n",
      "Verifying for W9\n",
      "Checking X matrices\n"
     ]
    },
    {
     "name": "stderr",
     "output_type": "stream",
     "text": [
      "5it [00:00, 5266.58it/s]\n"
     ]
    },
    {
     "name": "stdout",
     "output_type": "stream",
     "text": [
      "Solution matrices are all positive semidefinite, linear coefficients are all non-negative\n",
      "Calculating multiplication tables\n"
     ]
    },
    {
     "name": "stderr",
     "output_type": "stream",
     "text": [
      "5it [00:00, 1676.11it/s]\n"
     ]
    },
    {
     "name": "stdout",
     "output_type": "stream",
     "text": [
      "Done calculating linear constraints\n",
      "Calculating the bound provided by the certificate\n"
     ]
    },
    {
     "name": "stderr",
     "output_type": "stream",
     "text": [
      "5it [00:00, 250.04it/s]\n"
     ]
    },
    {
     "name": "stdout",
     "output_type": "stream",
     "text": [
      "The solution is valid, it proves the bound 4/9\n",
      "Verifying for W10\n",
      "Checking X matrices\n"
     ]
    },
    {
     "name": "stderr",
     "output_type": "stream",
     "text": [
      "13it [00:00, 873.79it/s]\n"
     ]
    },
    {
     "name": "stdout",
     "output_type": "stream",
     "text": [
      "Solution matrices are all positive semidefinite, linear coefficients are all non-negative\n",
      "Calculating multiplication tables\n"
     ]
    },
    {
     "name": "stderr",
     "output_type": "stream",
     "text": [
      "13it [00:00, 319.96it/s]\n"
     ]
    },
    {
     "name": "stdout",
     "output_type": "stream",
     "text": [
      "Done calculating linear constraints\n",
      "Calculating the bound provided by the certificate\n"
     ]
    },
    {
     "name": "stderr",
     "output_type": "stream",
     "text": [
      "13it [00:01,  9.45it/s]\n"
     ]
    },
    {
     "name": "stdout",
     "output_type": "stream",
     "text": [
      "The solution is valid, it proves the bound 5/12\n",
      "Verifying for W12\n",
      "Checking X matrices\n"
     ]
    },
    {
     "name": "stderr",
     "output_type": "stream",
     "text": [
      "5it [00:00, 2542.31it/s]\n"
     ]
    },
    {
     "name": "stdout",
     "output_type": "stream",
     "text": [
      "Solution matrices are all positive semidefinite, linear coefficients are all non-negative\n",
      "Calculating multiplication tables\n"
     ]
    },
    {
     "name": "stderr",
     "output_type": "stream",
     "text": [
      "5it [00:00, 1153.30it/s]\n"
     ]
    },
    {
     "name": "stdout",
     "output_type": "stream",
     "text": [
      "Done calculating linear constraints\n",
      "Calculating the bound provided by the certificate\n"
     ]
    },
    {
     "name": "stderr",
     "output_type": "stream",
     "text": [
      "5it [00:00, 170.45it/s]\n"
     ]
    },
    {
     "name": "stdout",
     "output_type": "stream",
     "text": [
      "The solution is valid, it proves the bound 1/2\n",
      "Verifying for d=3, s=2\n",
      "Checking X matrices\n"
     ]
    },
    {
     "name": "stderr",
     "output_type": "stream",
     "text": [
      "13it [00:00, 707.49it/s]\n"
     ]
    },
    {
     "name": "stdout",
     "output_type": "stream",
     "text": [
      "Solution matrices are all positive semidefinite, linear coefficients are all non-negative\n",
      "Calculating multiplication tables\n"
     ]
    },
    {
     "name": "stderr",
     "output_type": "stream",
     "text": [
      "13it [00:00, 54.30it/s]\n"
     ]
    },
    {
     "name": "stdout",
     "output_type": "stream",
     "text": [
      "Done calculating linear constraints\n",
      "Calculating the bound provided by the certificate\n"
     ]
    },
    {
     "name": "stderr",
     "output_type": "stream",
     "text": [
      "13it [00:01,  8.99it/s]\n"
     ]
    },
    {
     "name": "stdout",
     "output_type": "stream",
     "text": [
      "The solution is valid, it proves the bound 8/9\n",
      "Verifying for d=4, s=2\n",
      "Checking X matrices\n"
     ]
    },
    {
     "name": "stderr",
     "output_type": "stream",
     "text": [
      "13it [00:00, 460.87it/s]\n"
     ]
    },
    {
     "name": "stdout",
     "output_type": "stream",
     "text": [
      "Solution matrices are all positive semidefinite, linear coefficients are all non-negative\n",
      "Calculating multiplication tables\n"
     ]
    },
    {
     "name": "stderr",
     "output_type": "stream",
     "text": [
      "13it [00:00, 153.81it/s]\n"
     ]
    },
    {
     "name": "stdout",
     "output_type": "stream",
     "text": [
      "Done calculating linear constraints\n",
      "Calculating the bound provided by the certificate\n"
     ]
    },
    {
     "name": "stderr",
     "output_type": "stream",
     "text": [
      "13it [00:01,  9.35it/s]\n"
     ]
    },
    {
     "name": "stdout",
     "output_type": "stream",
     "text": [
      "The solution is valid, it proves the bound 264/343\n",
      "Verifying for d=4, s=4\n",
      "Checking X matrices\n"
     ]
    },
    {
     "name": "stderr",
     "output_type": "stream",
     "text": [
      "13it [00:00, 474.40it/s]\n"
     ]
    },
    {
     "name": "stdout",
     "output_type": "stream",
     "text": [
      "Solution matrices are all positive semidefinite, linear coefficients are all non-negative\n",
      "Calculating multiplication tables\n"
     ]
    },
    {
     "name": "stderr",
     "output_type": "stream",
     "text": [
      "13it [00:00, 113.15it/s]\n"
     ]
    },
    {
     "name": "stdout",
     "output_type": "stream",
     "text": [
      "Done calculating linear constraints\n",
      "Calculating the bound provided by the certificate\n"
     ]
    },
    {
     "name": "stderr",
     "output_type": "stream",
     "text": [
      "13it [00:01,  9.88it/s]\n"
     ]
    },
    {
     "name": "stdout",
     "output_type": "stream",
     "text": [
      "The solution is valid, it proves the bound 26/27\n",
      "H_5 is  Flag on 16 points, ftype from () with edges=(01 02 04 08 13 15 19 23 26 210 37 311 45 46 412 57 513 67 614 715 89 810 812 911 913 1011 1014 1115 1213 1214 1315 1415), points=(0 3 5 10 12)\n",
      "Checking X matrices\n"
     ]
    },
    {
     "name": "stderr",
     "output_type": "stream",
     "text": [
      "13it [00:00, 1300.68it/s]\n"
     ]
    },
    {
     "name": "stdout",
     "output_type": "stream",
     "text": [
      "Solution matrices are all positive semidefinite, linear coefficients are all non-negative\n",
      "Calculating multiplication tables\n"
     ]
    },
    {
     "name": "stderr",
     "output_type": "stream",
     "text": [
      "13it [00:00, 290.85it/s]\n"
     ]
    },
    {
     "name": "stdout",
     "output_type": "stream",
     "text": [
      "Done calculating linear constraints\n",
      "Calculating the bound provided by the certificate\n"
     ]
    },
    {
     "name": "stderr",
     "output_type": "stream",
     "text": [
      "13it [00:01,  9.57it/s]"
     ]
    },
    {
     "name": "stdout",
     "output_type": "stream",
     "text": [
      "The solution is valid, it proves the bound 528013/786432\n"
     ]
    },
    {
     "name": "stderr",
     "output_type": "stream",
     "text": [
      "\n"
     ]
    },
    {
     "data": {
      "text/plain": [
       "528013/786432"
      ]
     },
     "execution_count": 22,
     "metadata": {},
     "output_type": "execute_result"
    }
   ],
   "source": [
    "HV = Theory(\"HypercubeVertex\")\n",
    "HV.reset()\n",
    "all8s = HV.generate(8)\n",
    "orinds = [4, 7, 11, 6, 9]\n",
    "winds = [7, 8, 9, 10, 12]\n",
    "target_sizes = [8, 16, 8, 16, 8]\n",
    "for ii in range(len(winds)):\n",
    "    print(\"Verifying for W{}\".format(winds[ii]))\n",
    "    HV.verify(\"certificates/w{}_cert\".format(winds[ii]), \n",
    "              all8s[orinds[ii]], target_sizes[ii], printlevel=1\n",
    "             )\n",
    "def targ_ds(d, s):\n",
    "    return sum([xx for xx in HV.generate(2**d) if len(xx.blocks(\"points\"))==s])\n",
    "for d, s in [(3, 2), (4, 2), (4, 4)]:\n",
    "    print(\"Verifying for d={}, s={}\".format(d, s))\n",
    "    HV.verify(\"certificates/d{}s{}_cert\".format(d, s), \n",
    "              targ_ds(d, s), 16, printlevel=1\n",
    "             )\n",
    "H5 = HV.generate(16)[57]\n",
    "print(\"H_5 is \", H5)\n",
    "HV.exclude(H5)\n",
    "HV.verify(\"certificates/d2s1_noh5_cert\", \n",
    "          targ_ds(2, 1), 16, printlevel=1\n",
    "         )"
   ]
  },
  {
   "cell_type": "markdown",
   "id": "3fa837c0-c1b4-4963-b22c-cdec0e4edb67",
   "metadata": {},
   "source": [
    "## Section 4 - Inspect certificates interactively\n",
    "\n",
    "The largest semidefinite block has dimension 16, the last part allows the interactive inspection of the certificate. An easy to read text file is also exported to the certificates folder, for each exact result.\n",
    "\n",
    "First, an easy to read data is exported. They are simple text files, showing the linear combination of typed configurations, whose (scaled) square provides the final proof in each case.\n",
    "\n",
    "These terms can be inspected afterwards, in an interactive way as well, by running the final cell."
   ]
  },
  {
   "cell_type": "code",
   "execution_count": 1,
   "id": "a4c7f6ec-e34a-4f5a-86a6-57ff64f03c63",
   "metadata": {},
   "outputs": [],
   "source": [
    "import pickle\n",
    "from sage.algebras.combinatorial_theory import _unflatten_matrix\n",
    "HV = Theory(\"HypercubeVertex\")\n",
    "HV.reset()\n",
    "\n",
    "def hprint(hflag):\n",
    "    dim = int(log(hflag.size(), 2))\n",
    "    points = [xx[0] for xx in hflag.blocks(\"points\")]\n",
    "    type = hflag.ftype_points()\n",
    "    return f\"({dim}-dim cube with {type} type and {points} marked points)\"\n",
    "def vecprint(vec, tdata, hide=True):\n",
    "    flags = HV.generate(tdata[0], tdata[1])\n",
    "    return \"\\n\".join([f\"{ww} \\t {hprint(flags[ii])}\" for ii,ww in enumerate(vec) if ww!=0 or (not hide)])\n",
    "\n",
    "cert_names = [\"w7\", \"w8\", \"w9\", \"w10\", \"w12\", \"d2s1\", \"d2s1_noh5\", \"d3s2\", \"d4s2\", \"d4s4\"]\n",
    "interactive_data = {}\n",
    "\n",
    "for nind,name in enumerate(cert_names):\n",
    "    cert = pickle.load(open(f\"certificates/{name}_cert.pickle\", \"rb\"))\n",
    "    bound = QQ(cert[\"result\"])\n",
    "    tsize = cert[\"target size\"]\n",
    "    base_strs = HV.generate(tsize)\n",
    "    base_hprint = \"\\n\".join(map(hprint, base_strs))\n",
    "    slacks_hprint = vecprint(vector(cert[\"slack vector\"]), [tsize, None], False)\n",
    "    types = HV._get_relevant_ftypes(tsize)\n",
    "    slacks = cert[\"slack vector\"]\n",
    "    int_data = {\n",
    "        \"0 - the final bound\": bound,\n",
    "        \"1 - the vertices of the cubes used\": tsize, \n",
    "        \"2 - the list of maximum sized hypercubes used\": base_hprint, \n",
    "        \"3 - the list of slack values\": slacks_hprint\n",
    "    }\n",
    "    squares = {}\n",
    "    with open(f\"certificates/{name}_cert.txt\", \"w\") as file:\n",
    "        file.write(f\"Text certificate for {name} proving the bound {bound}\\n{\"=\"*50}\\n\\n\")\n",
    "        file.write(f\"Base structures\\n{base_hprint}\\n{\"=\"*50}\\n\\n\")\n",
    "        file.write(f\"Slack values\\n{slacks_hprint}\\n{\"=\"*50}\\n\\n\")\n",
    "        file.write(f\"Semi-definite blocks\\n\")\n",
    "        for ii,tdata in enumerate(types):\n",
    "            mat = _unflatten_matrix(cert[\"X matrices\"][ii])[0]\n",
    "            P, L, D = mat.block_ldlt()\n",
    "            type_hprint = hprint(tdata[1])\n",
    "            type_interactive = {}\n",
    "            file.write(f\"{\"-\"*50}\\n\\nType {type_hprint} contributes the following\")\n",
    "            all_squares = \"\"\n",
    "            for jj,col in enumerate((P*L).columns()):\n",
    "                text = f\"\\n{D[jj,jj]} scaled square of \\n{vecprint(col, tdata)}\\n\"\n",
    "                all_squares += text\n",
    "                type_interactive[f\"{jj} - the square with this index and it's scale\"] = text\n",
    "                file.write(text)\n",
    "            type_interactive[f\"{P.nrows()} - all the squares and their scale\"] = all_squares\n",
    "            squares[f\"{ii} - squares coming from type {type_hprint}\"] = type_interactive\n",
    "    int_data[\"4 - the squares used in the proof\"] = squares\n",
    "    interactive_data[f\"{nind} - certificate for {name}\"] = int_data"
   ]
  },
  {
   "cell_type": "code",
   "execution_count": 2,
   "id": "c4b7887d-89fd-48af-939c-6ae484ba1453",
   "metadata": {},
   "outputs": [
    {
     "name": "stdout",
     "output_type": "stream",
     "text": [
      "0 - certificate for w7\n",
      "1 - certificate for w8\n",
      "2 - certificate for w9\n",
      "3 - certificate for w10\n",
      "4 - certificate for w12\n",
      "5 - certificate for d2s1\n",
      "6 - certificate for d2s1_noh5\n",
      "7 - certificate for d3s2\n",
      "8 - certificate for d4s2\n",
      "9 - certificate for d4s4\n",
      "\n",
      "\n"
     ]
    },
    {
     "name": "stdin",
     "output_type": "stream",
     "text": [
      "Inspect:  4\n"
     ]
    },
    {
     "name": "stdout",
     "output_type": "stream",
     "text": [
      "\n",
      "\n",
      "0 - the final bound\n",
      "1 - the vertices of the cubes used\n",
      "2 - the list of maximum sized hypercubes used\n",
      "3 - the list of slack values\n",
      "4 - the squares used in the proof\n",
      "\n",
      "\n"
     ]
    },
    {
     "name": "stdin",
     "output_type": "stream",
     "text": [
      "Inspect:  4\n"
     ]
    },
    {
     "name": "stdout",
     "output_type": "stream",
     "text": [
      "\n",
      "\n",
      "0 - squares coming from type (0-dim cube with (0,) type and [] marked points)\n",
      "1 - squares coming from type (0-dim cube with (0,) type and [0] marked points)\n",
      "2 - squares coming from type (1-dim cube with (0, 1) type and [] marked points)\n",
      "3 - squares coming from type (1-dim cube with (0, 1) type and [0] marked points)\n",
      "4 - squares coming from type (1-dim cube with (0, 1) type and [0, 1] marked points)\n",
      "\n",
      "\n"
     ]
    },
    {
     "name": "stdin",
     "output_type": "stream",
     "text": [
      "Inspect:  4\n"
     ]
    },
    {
     "name": "stdout",
     "output_type": "stream",
     "text": [
      "\n",
      "\n",
      "0 - the square with this index and it's scale\n",
      "1 - the square with this index and it's scale\n",
      "2 - the square with this index and it's scale\n",
      "3 - the square with this index and it's scale\n",
      "4 - all the squares and their scale\n",
      "\n",
      "\n"
     ]
    },
    {
     "name": "stdin",
     "output_type": "stream",
     "text": [
      "Inspect:  4\n"
     ]
    },
    {
     "name": "stdout",
     "output_type": "stream",
     "text": [
      "\n",
      "\n",
      "\n",
      "615/1024 scaled square of \n",
      "1 \t (2-dim cube with (0, 1) type and [0, 1] marked points)\n",
      "-2/41 \t (2-dim cube with (0, 1) type and [0, 1, 2, 3] marked points)\n",
      "\n",
      "77/384 scaled square of \n",
      "1 \t (2-dim cube with (0, 1) type and [0, 1, 2] marked points)\n",
      "-1 \t (2-dim cube with (1, 0) type and [0, 1, 2] marked points)\n",
      "\n",
      "0 scaled square of \n",
      "1 \t (2-dim cube with (1, 0) type and [0, 1, 2] marked points)\n",
      "\n",
      "6787/41984 scaled square of \n",
      "1 \t (2-dim cube with (0, 1) type and [0, 1, 2, 3] marked points)\n",
      "\n"
     ]
    }
   ],
   "source": [
    "def inspect(dd):\n",
    "    keys = list(dd.keys())\n",
    "    for kk in keys:\n",
    "        print(kk)\n",
    "    print(\"\\n\")\n",
    "    val = input(\"Inspect: \")\n",
    "    res = dd[keys[int(val)]]\n",
    "    print(\"\\n\")\n",
    "    if isinstance(res, dict):\n",
    "        inspect(res)\n",
    "    else:\n",
    "        print(res)\n",
    "\n",
    "inspect(interactive_data)"
   ]
  },
  {
   "cell_type": "code",
   "execution_count": null,
   "id": "c46eaf9d-aa2c-44b9-b3f2-62cc21417410",
   "metadata": {},
   "outputs": [],
   "source": []
  }
 ],
 "metadata": {
  "kernelspec": {
   "display_name": "SageMath 10.5.beta7",
   "language": "sage",
   "name": "sagemath"
  },
  "language_info": {
   "codemirror_mode": {
    "name": "ipython",
    "version": 3
   },
   "file_extension": ".py",
   "mimetype": "text/x-python",
   "name": "python",
   "nbconvert_exporter": "python",
   "pygments_lexer": "ipython3",
   "version": "3.12.3"
  }
 },
 "nbformat": 4,
 "nbformat_minor": 5
}
