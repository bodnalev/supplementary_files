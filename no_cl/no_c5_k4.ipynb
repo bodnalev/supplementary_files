{
 "cells": [
  {
   "cell_type": "markdown",
   "id": "44116592-68cf-4b52-bb17-a22b6a29e898",
   "metadata": {},
   "source": [
    "The Turán number of $\\{C_5, K_4\\}$\n",
    "==============================\n",
    "\n",
    "This notebook contains calculations for the Turán number of $\\{C_5, K_4\\}$. To run these calculations, use the modified version of sage from\n",
    "https://github.com/bodnalev/sage\n",
    "\n",
    "1. The first cell sets up the combinatorial theory of $\\{C_5, K_4\\}$-free 3-graphs (called TG). In addition, it sets up the \n",
    "combinatorial theory on the same 3-graphs with colored vertices (called CTG).\n",
    "\n",
    "2. The second cell performs the basic calculation of upper bounding edges \n",
    "in the theory for Proposition 3.1. The resulting $\\alpha_{3, 1}$ upper bound is printed after the cell.\n",
    "The certificate proving the claim is saved to the file \"prop_3_1_c5k4.pickle\".\n",
    "\n",
    "3. The next cell lower bounds the max-cut ration for Proposition 3.2.\n",
    "The exact lower bound provided is printed after the cell, which is a lower bound for $\\alpha_{3, 2}$.\n",
    "The certificate proving the claim is saved to the file \"prop_3_2_c5k4.pickle\".\n",
    "\n",
    "4. The following cell works in the colored theory. It sets up the problem for the precise density bound that there are less bad\n",
    "edges than missing edges asymptotically on the top level. Here bad and missing is defined compared to the expected construction.\n",
    "\n",
    "5. The following cell constructs and solves the SDP problem for this final step, saving the (floating point) SDP solution to the file \"prop_3_3_c5k4_sdp.pickle\"\n",
    "  \n",
    "6. The final cell rounds the SDP solution to an exact bound and saves the certificate to a file called \"prop_3_3_c5k4.pickle\", proving Proposition 3.3."
   ]
  },
  {
   "cell_type": "code",
   "execution_count": 1,
   "id": "302fccbd-bf59-4a28-8e00-fd27bec26e67",
   "metadata": {},
   "outputs": [
    {
     "name": "stdout",
     "output_type": "stream",
     "text": [
      "Number of structures without C5, K4\n",
      "and size 5:  20  (should be 20)\n",
      "and size 6:  572  (should be 572)\n",
      "\n",
      "Number of 2 colored structures without C5, K4\n",
      "and size 5:  338  (should be 338)\n",
      "and size 6:  28080  (should be 28080)\n"
     ]
    }
   ],
   "source": [
    "# Setting up three graph theory\n",
    "K4 = ThreeGraphTheory(4, edges=[[0, 1, 2], [1, 2, 3], [0, 2, 3], [0, 1, 3]])\n",
    "C5 = ThreeGraphTheory.p(5, edges=[[0, 1, 2], [1, 2, 3], [2, 3, 4], [3, 4, 0], [4, 0, 1]])\n",
    "ThreeGraphTheory.exclude([K4, C5])\n",
    "TG = ThreeGraphTheory\n",
    "\n",
    "# Setting up colored theory\n",
    "TwoColorTheory = combine(\"2Colors\", Color0, Color1, symmetries=NoSymmetry)\n",
    "TwoColorTheory.exclude([TwoColorTheory(1), TwoColorTheory(1, C0=[0], C1=[0])])\n",
    "CTG = combine(\"2ColorThreeGraphs\", TG, TwoColorTheory)\n",
    "\n",
    "# Testing the generation of structures\n",
    "print(\"Number of structures without C5, K4\")\n",
    "print(\"and size 5: \", len(TG.generate(5)), \" (should be 20)\")\n",
    "print(\"and size 6: \", len(TG.generate(6)), \" (should be 572)\")\n",
    "\n",
    "print(\"\\nNumber of 2 colored structures without C5, K4\")\n",
    "print(\"and size 5: \", len(CTG.generate(5)), \" (should be 338)\")\n",
    "print(\"and size 6: \", len(CTG.generate(6)), \" (should be 28080)\")\n",
    "TG.printlevel(0)"
   ]
  },
  {
   "cell_type": "code",
   "execution_count": 2,
   "id": "207f0a5f-94e8-484a-8fae-8710e83b506d",
   "metadata": {},
   "outputs": [
    {
     "name": "stdout",
     "output_type": "stream",
     "text": [
      "The initial upper bound on the Turan density from Proposition 3.1 is 7309337/15728640 ~= 0.464715131123861\n"
     ]
    }
   ],
   "source": [
    "a31 = TG.optimize(TG(3, edges=[[0, 1, 2]]), 6, exact=True, denom=2**20, file=\"certificates/prop_3_1_c5k4\")\n",
    "print(\"The initial upper bound on the Turan density from Proposition 3.1 is {} ~= {}\".format(a31, a31.n()))"
   ]
  },
  {
   "cell_type": "code",
   "execution_count": 4,
   "id": "b4267d32-19e9-4b98-9d5a-5fef628c1498",
   "metadata": {},
   "outputs": [
    {
     "name": "stdout",
     "output_type": "stream",
     "text": [
      "The max-cut ratio returned by Proposition 3.2 is at least 1194242541/2923734800 ~= 0.408464728401495\n"
     ]
    }
   ],
   "source": [
    "# Generate good partition\n",
    "target_size = 6\n",
    "all_graphs = TG.generate(target_size, TG(3, ftype=[0, 1, 2], edges=[[0, 1, 2]]))\n",
    "\n",
    "edge = TG(3, edges=[[0, 1, 2]])\n",
    "target_typed = 0\n",
    "for ii, flag in enumerate(all_graphs):\n",
    "    nfp = flag.not_ftype_points()\n",
    "    if flag.subflag(points=nfp, ftype_points=[]) != edge:\n",
    "        continue\n",
    "    A = 0\n",
    "    for xx in nfp:\n",
    "        touch = len(flag.subflag(points=[xx]).blocks(\"edges\")) - 1\n",
    "        if touch not in [0, 1]:\n",
    "            A += 1\n",
    "    if A == 2:\n",
    "        target_typed += flag\n",
    "target_flag = target_typed.project()\n",
    "\n",
    "\n",
    "# Average degree lower bound\n",
    "positives = [TG(3, edges=[[0, 1, 2]]) - 4641/10000]\n",
    "\n",
    "# Optimize\n",
    "ratio = TG.optimize(target_flag, target_size, maximize=False, \n",
    "                    positives=positives, exact=True, denom=2**20, \n",
    "                    file=\"certificates/prop_3_2_c5k4\"\n",
    "                   )\n",
    "a32 = ratio / a31\n",
    "print(\"The max-cut ratio returned by Proposition 3.2 is at least {} ~= {}\".format(a32, a32.n()))"
   ]
  },
  {
   "cell_type": "code",
   "execution_count": 8,
   "id": "760f38e8-b61f-45f4-8c26-95eec3f2dbc7",
   "metadata": {},
   "outputs": [
    {
     "name": "stderr",
     "output_type": "stream",
     "text": [
      "/home/levente/sage/src/sage/algebras/combinatorial_theory.py:2920: UserWarning: The pattern is initialized with optional relations inside \n",
      "            the ftype. Those relations will be missing in the resulting pattern.\n",
      "  return Pattern(self, n, ftype_points, **blocks)\n"
     ]
    }
   ],
   "source": [
    "target_size = 6\n",
    "\n",
    "# Edge with correct colors\n",
    "C = CTG(3, edges=[[0, 1, 2]], C0=[0, 1], C1=[2])\n",
    "# Missing edge with good colors\n",
    "M = CTG(3, edges=[], C0=[0, 1], C1=[2])\n",
    "# Pointed edge with correct colors, point from color 0\n",
    "Cp0 = CTG(3, edges=[[0, 1, 2]], C0=[0, 1], C1=[2], ftype=[0])\n",
    "# Pointed edge with correct colors, point from color 1\n",
    "Cp1 = CTG(3, edges=[[0, 1, 2]], C0=[0, 1], C1=[2], ftype=[2])\n",
    "\n",
    "\n",
    "# Edge with bad colors all in color 0\n",
    "B000 = CTG(3, edges=[[0, 1, 2]], C0=[0, 1, 2], C1=[])\n",
    "# Edge with bad colors, looking the wrong way\n",
    "B011 = CTG(3, edges=[[0, 1, 2]], C0=[0], C1=[1, 2])\n",
    "# Pointed edge with bad colors, point from moving 1 -> 0\n",
    "Bp0 = CTG(3, edges=[[0, 1, 2]], C0=[0, 1, 2], C1=[], ftype=[0])\n",
    "# Pointed edge with bad colors, point from moving 0 -> 1\n",
    "Bp1 = CTG(3, edges=[[0, 1, 2]], C0=[0], C1=[1, 2], ftype=[2])\n",
    "\n",
    "# Degree equality conditions for various type pairs\n",
    "degeq_00 = CTG.p(4, ftype=[0, 1], edges=[[0, 2, 3]], edges_m=[[1, 2, 3]], C0=[0, 1]) - \\\n",
    "           CTG.p(4, ftype=[1, 0], edges=[[0, 2, 3]], edges_m=[[1, 2, 3]], C0=[0, 1])\n",
    "degeq_01 = CTG.p(4, ftype=[0, 1], edges=[[0, 2, 3]], edges_m=[[1, 2, 3]], C0=[0], C1=[1]) - \\\n",
    "           CTG.p(4, ftype=[0, 1], edges=[[1, 2, 3]], edges_m=[[0, 2, 3]], C0=[0], C1=[1])\n",
    "degeq_11 = CTG.p(4, ftype=[0, 1], edges=[[0, 2, 3]], edges_m=[[1, 2, 3]], C1=[0, 1]) - \\\n",
    "           CTG.p(4, ftype=[1, 0], edges=[[0, 2, 3]], edges_m=[[1, 2, 3]], C1=[0, 1])\n",
    "\n",
    "# Assumptions used in the proof\n",
    "assums = [\n",
    "    Cp0 - Bp0, Cp1 - Bp1, # Local optimality\n",
    "    degeq_00, -degeq_00, degeq_01, -degeq_01, degeq_11, -degeq_11, # Degree regularity\n",
    "    C - 2/5 # Best fit assumption\n",
    "]\n",
    "\n",
    "# Close rational approximation for gamma: 2521/5432\n",
    "gamma = continued_fraction(2*sqrt(3) - 3).convergent(7)\n",
    "# Construction\n",
    "symbolic_constr = CTG.blowup_construction(target_size, [\"X0\", \"X1\"], edges=[[0, 0, 1]], C0=[[0]], C1=[[1]]).set_sum()\n",
    "ders = symbolic_constr.derivatives([gamma])"
   ]
  },
  {
   "cell_type": "code",
   "execution_count": 9,
   "id": "d779b756-de09-486f-ba74-f8cd5e3edc42",
   "metadata": {},
   "outputs": [
    {
     "name": "stdout",
     "output_type": "stream",
     "text": [
      "Base flags generated, their number is 28080\n",
      "The relevant ftypes are constructed, their number is 33\n",
      "Block sizes before symmetric/asymmetric change is applied: [37, 37, 37, 128, 128, 128, 128, 128, 112, 112, 112, 112, 112, 112, 112, 112, 82, 82, 82, 82, 82, 82, 82, 82, 82, 66, 66, 66, 66, 66, 66, 66, 66]\n"
     ]
    },
    {
     "name": "stderr",
     "output_type": "stream",
     "text": [
      "Done with mult table for Ftype on 4 points with edges=(013 023 123), C0=(0 1 2 3), C1=(): : 33it [00:16,  1.99it/s]\n"
     ]
    },
    {
     "name": "stdout",
     "output_type": "stream",
     "text": [
      "Adjusting table with kernels from construction\n",
      "Tables finished\n"
     ]
    },
    {
     "name": "stderr",
     "output_type": "stream",
     "text": [
      "Done with positivity constraint 8: 100%|██████████| 9/9 [08:13<00:00, 54.84s/it]\n"
     ]
    },
    {
     "name": "stdout",
     "output_type": "stream",
     "text": [
      "Constraints finished\n",
      "Running SDP. Used block sizes are [26, 10, 36, 26, 10, 21, 106, 39, 88, 56, 72, 40, 88, 21, 106, 32, 80, 68, 44, 32, 80, 68, 44, 68, 44, 32, 80, 68, 44, 32, 80, 36, 46, 50, 32, 54, 28, 82, 36, 46, 35, 46, 54, 28, 50, 32, 36, 46, 22, 44, 22, 44, 42, 24, 42, 24, 42, 24, 42, 24, 21, 44, 22, 44, -28080, -304]\n",
      "CSDP 6.2.0\n",
      "Iter:  0 Ap: 0.00e+00 Pobj:  0.0000000e+00 Ad: 0.00e+00 Dobj:  0.0000000e+00 \n",
      "Iter:  1 Ap: 1.73e-02 Pobj: -4.6852961e+00 Ad: 1.43e-02 Dobj:  1.0774782e+02 \n",
      "Iter:  2 Ap: 2.51e-02 Pobj: -1.2052756e+01 Ad: 3.90e-02 Dobj:  1.1238619e+02 \n",
      "Iter:  3 Ap: 7.98e-02 Pobj: -3.7152273e+01 Ad: 6.91e-02 Dobj:  1.1194943e+02 \n",
      "Iter:  4 Ap: 1.00e+00 Pobj: -2.4992381e+02 Ad: 2.38e-01 Dobj:  8.5467521e+01 \n",
      "Iter:  5 Ap: 1.00e+00 Pobj: -2.9064178e+02 Ad: 7.83e-01 Dobj:  1.7369542e+01 \n",
      "Iter:  6 Ap: 1.00e+00 Pobj: -3.1793513e+02 Ad: 8.93e-01 Dobj:  1.7893695e+00 \n",
      "Iter:  7 Ap: 1.00e+00 Pobj: -3.4746201e+02 Ad: 9.20e-01 Dobj:  1.5622027e-01 \n",
      "Iter:  8 Ap: 1.00e+00 Pobj: -4.2011707e+02 Ad: 7.92e-01 Dobj:  3.7063154e-02 \n",
      "Iter:  9 Ap: 1.00e+00 Pobj: -4.6568964e+02 Ad: 6.58e-01 Dobj:  1.7629529e-02 \n",
      "Iter: 10 Ap: 7.23e-01 Pobj: -4.3057484e+02 Ad: 6.15e-01 Dobj:  1.5774844e-02 \n",
      "Iter: 11 Ap: 7.03e-01 Pobj: -4.2512399e+02 Ad: 5.58e-01 Dobj:  1.1956497e-02 \n",
      "Iter: 12 Ap: 5.64e-01 Pobj: -4.3552349e+02 Ad: 4.66e-01 Dobj:  1.3660555e-02 \n",
      "Iter: 13 Ap: 2.58e-01 Pobj: -4.4409184e+02 Ad: 4.81e-01 Dobj:  1.6372304e-02 \n",
      "Iter: 14 Ap: 2.69e-01 Pobj: -4.3110127e+02 Ad: 5.12e-01 Dobj:  1.7341797e-02 \n",
      "Iter: 15 Ap: 4.62e-01 Pobj: -3.7049819e+02 Ad: 4.74e-01 Dobj:  1.7554880e-02 \n",
      "Iter: 16 Ap: 4.37e-01 Pobj: -3.1965525e+02 Ad: 5.16e-01 Dobj:  1.8912230e-02 \n",
      "Iter: 17 Ap: 3.83e-01 Pobj: -2.7977164e+02 Ad: 4.13e-01 Dobj:  2.0662459e-02 \n",
      "Iter: 18 Ap: 2.12e-01 Pobj: -2.6485552e+02 Ad: 4.64e-01 Dobj:  2.2963678e-02 \n",
      "Iter: 19 Ap: 2.22e-01 Pobj: -2.4840119e+02 Ad: 4.85e-01 Dobj:  2.3733060e-02 \n",
      "Iter: 20 Ap: 2.52e-01 Pobj: -2.2350550e+02 Ad: 4.39e-01 Dobj:  2.4640571e-02 \n",
      "Iter: 21 Ap: 4.06e-01 Pobj: -1.8445761e+02 Ad: 4.29e-01 Dobj:  2.5110359e-02 \n",
      "Iter: 22 Ap: 2.56e-01 Pobj: -1.7467478e+02 Ad: 3.36e-01 Dobj:  2.4997176e-02 \n",
      "Iter: 23 Ap: 2.26e-01 Pobj: -1.6725179e+02 Ad: 3.91e-01 Dobj:  2.4629477e-02 \n",
      "Iter: 24 Ap: 1.62e-01 Pobj: -1.6191871e+02 Ad: 4.54e-01 Dobj:  2.4315070e-02 \n",
      "Iter: 25 Ap: 2.72e-01 Pobj: -1.4865425e+02 Ad: 4.12e-01 Dobj:  2.3735410e-02 \n",
      "Iter: 26 Ap: 2.43e-01 Pobj: -1.3875678e+02 Ad: 4.49e-01 Dobj:  2.3149234e-02 \n",
      "Iter: 27 Ap: 2.90e-01 Pobj: -1.2582045e+02 Ad: 4.71e-01 Dobj:  2.2578364e-02 \n",
      "Iter: 28 Ap: 4.25e-01 Pobj: -1.0867449e+02 Ad: 5.14e-01 Dobj:  2.2041702e-02 \n",
      "Iter: 29 Ap: 3.64e-01 Pobj: -9.5768514e+01 Ad: 6.05e-01 Dobj:  2.1488932e-02 \n",
      "Iter: 30 Ap: 3.72e-01 Pobj: -7.9341714e+01 Ad: 6.37e-01 Dobj:  2.1147357e-02 \n",
      "Iter: 31 Ap: 3.18e-01 Pobj: -6.8860371e+01 Ad: 7.03e-01 Dobj:  2.0868231e-02 \n",
      "Iter: 32 Ap: 4.84e-01 Pobj: -4.6951194e+01 Ad: 1.00e+00 Dobj:  2.0699788e-02 \n",
      "Iter: 33 Ap: 7.97e-01 Pobj: -1.3329168e+01 Ad: 1.00e+00 Dobj:  2.0643651e-02 \n",
      "Iter: 34 Ap: 8.09e-01 Pobj: -4.0490523e+00 Ad: 1.00e+00 Dobj:  2.0539762e-02 \n",
      "Iter: 35 Ap: 7.92e-01 Pobj: -1.9352582e+00 Ad: 1.00e+00 Dobj:  2.0253997e-02 \n",
      "Iter: 36 Ap: 6.74e-01 Pobj: -1.1514223e+00 Ad: 1.00e+00 Dobj:  1.9934407e-02 \n",
      "Iter: 37 Ap: 1.00e+00 Pobj: -8.1433250e-01 Ad: 1.00e+00 Dobj:  1.9602584e-02 \n",
      "Iter: 38 Ap: 7.18e-01 Pobj: -4.9696338e-01 Ad: 1.00e+00 Dobj:  1.9345723e-02 \n",
      "Iter: 39 Ap: 1.00e+00 Pobj: -3.6094551e-01 Ad: 1.00e+00 Dobj:  1.8833680e-02 \n",
      "Iter: 40 Ap: 1.00e+00 Pobj: -1.8416245e-01 Ad: 1.00e+00 Dobj:  1.8406904e-02 \n",
      "Iter: 41 Ap: 7.40e-01 Pobj: -1.5079474e-01 Ad: 7.17e-01 Dobj:  1.7514303e-02 \n",
      "Iter: 42 Ap: 8.20e-01 Pobj: -1.1475867e-01 Ad: 1.00e+00 Dobj:  1.7100176e-02 \n",
      "Iter: 43 Ap: 4.19e-01 Pobj: -1.0768409e-01 Ad: 8.21e-01 Dobj:  1.6382337e-02 \n",
      "Iter: 44 Ap: 1.63e-01 Pobj: -1.0474418e-01 Ad: 6.61e-01 Dobj:  1.6634152e-02 \n",
      "Iter: 45 Ap: 4.10e-01 Pobj: -9.3356581e-02 Ad: 7.97e-01 Dobj:  1.5975042e-02 \n",
      "Iter: 46 Ap: 6.22e-01 Pobj: -7.3199891e-02 Ad: 1.00e+00 Dobj:  1.5435888e-02 \n",
      "Iter: 47 Ap: 6.93e-01 Pobj: -5.8484313e-02 Ad: 1.00e+00 Dobj:  1.4329727e-02 \n",
      "Iter: 48 Ap: 4.33e-01 Pobj: -4.9697067e-02 Ad: 1.00e+00 Dobj:  1.3989433e-02 \n",
      "Iter: 49 Ap: 4.05e-01 Pobj: -4.1267736e-02 Ad: 8.49e-01 Dobj:  1.2837732e-02 \n",
      "Iter: 50 Ap: 4.24e-01 Pobj: -3.8006635e-02 Ad: 9.73e-01 Dobj:  1.3332717e-02 \n",
      "Iter: 51 Ap: 2.82e-01 Pobj: -3.5699235e-02 Ad: 1.00e+00 Dobj:  1.2000765e-02 \n",
      "Iter: 52 Ap: 3.07e-01 Pobj: -3.2709015e-02 Ad: 7.79e-01 Dobj:  1.2135371e-02 \n",
      "Iter: 53 Ap: 4.02e-01 Pobj: -2.9806183e-02 Ad: 9.68e-01 Dobj:  1.1334255e-02 \n",
      "Iter: 54 Ap: 2.65e-01 Pobj: -2.8145524e-02 Ad: 8.67e-01 Dobj:  1.1288472e-02 \n",
      "Iter: 55 Ap: 3.33e-01 Pobj: -2.5541561e-02 Ad: 8.88e-01 Dobj:  1.0560322e-02 \n",
      "Iter: 56 Ap: 3.10e-01 Pobj: -2.3344067e-02 Ad: 9.47e-01 Dobj:  1.0210432e-02 \n",
      "Iter: 57 Ap: 4.76e-01 Pobj: -1.9941539e-02 Ad: 1.00e+00 Dobj:  9.4951878e-03 \n",
      "Iter: 58 Ap: 7.67e-01 Pobj: -1.2876206e-02 Ad: 1.00e+00 Dobj:  8.3896478e-03 \n",
      "Iter: 59 Ap: 7.44e-01 Pobj: -7.6352860e-03 Ad: 1.00e+00 Dobj:  6.8015465e-03 \n",
      "Iter: 60 Ap: 6.05e-01 Pobj: -5.9098133e-03 Ad: 1.00e+00 Dobj:  5.8134504e-03 \n",
      "Iter: 61 Ap: 2.50e-01 Pobj: -5.4475336e-03 Ad: 7.04e-01 Dobj:  5.2593972e-03 \n",
      "Iter: 62 Ap: 3.98e-01 Pobj: -4.6962916e-03 Ad: 8.68e-01 Dobj:  4.6535618e-03 \n",
      "Iter: 63 Ap: 6.96e-01 Pobj: -3.0527115e-03 Ad: 1.00e+00 Dobj:  3.6208046e-03 \n",
      "Iter: 64 Ap: 6.73e-01 Pobj: -1.8307323e-03 Ad: 1.00e+00 Dobj:  2.8037931e-03 \n",
      "Iter: 65 Ap: 7.19e-01 Pobj: -1.2303114e-03 Ad: 1.00e+00 Dobj:  2.3746118e-03 \n",
      "Iter: 66 Ap: 7.41e-01 Pobj: -7.4517627e-04 Ad: 1.00e+00 Dobj:  1.6450739e-03 \n",
      "Iter: 67 Ap: 7.10e-01 Pobj: -4.5527351e-04 Ad: 1.00e+00 Dobj:  1.1837533e-03 \n",
      "Iter: 68 Ap: 7.71e-01 Pobj: -2.4469163e-04 Ad: 1.00e+00 Dobj:  7.4656633e-04 \n",
      "Iter: 69 Ap: 7.30e-01 Pobj: -1.4138616e-04 Ad: 1.00e+00 Dobj:  5.1423682e-04 \n",
      "Iter: 70 Ap: 6.96e-01 Pobj: -8.3449775e-05 Ad: 1.00e+00 Dobj:  3.2949601e-04 \n",
      "Iter: 71 Ap: 7.07e-01 Pobj: -4.7860445e-05 Ad: 1.00e+00 Dobj:  2.1281887e-04 \n",
      "Iter: 72 Ap: 6.12e-01 Pobj: -3.1706048e-05 Ad: 9.38e-01 Dobj:  1.6893250e-04 \n",
      "Iter: 73 Ap: 5.54e-01 Pobj: -2.1608709e-05 Ad: 1.00e+00 Dobj:  9.6801630e-05 \n",
      "Iter: 74 Ap: 1.39e-01 Pobj: -2.0128933e-05 Ad: 5.37e-01 Dobj:  1.0055553e-04 \n",
      "Iter: 75 Ap: 5.36e-02 Pobj: -1.9560344e-05 Ad: 4.46e-01 Dobj:  9.0591881e-05 \n",
      "Iter: 76 Ap: 3.34e-01 Pobj: -1.6091057e-05 Ad: 1.00e+00 Dobj:  7.6821203e-05 \n",
      "Iter: 77 Ap: 5.89e-01 Pobj: -1.0447034e-05 Ad: 9.96e-01 Dobj:  4.8351087e-05 \n",
      "Iter: 78 Ap: 3.63e-01 Pobj: -8.4371001e-06 Ad: 1.00e+00 Dobj:  4.1178516e-05 \n",
      "Iter: 79 Ap: 6.52e-01 Pobj: -5.4420870e-06 Ad: 1.00e+00 Dobj:  2.7413108e-05 \n",
      "Iter: 80 Ap: 6.81e-01 Pobj: -3.2706365e-06 Ad: 8.20e-01 Dobj:  1.4716020e-05 \n",
      "Iter: 81 Ap: 5.41e-01 Pobj: -2.6025334e-06 Ad: 1.00e+00 Dobj:  7.3109163e-06 \n",
      "Iter: 82 Ap: 6.47e-01 Pobj: -1.9592991e-06 Ad: 7.64e-01 Dobj:  3.3975268e-06 \n",
      "Iter: 83 Ap: 8.10e-01 Pobj: -1.3614237e-06 Ad: 1.00e+00 Dobj: -1.0572518e-06 \n",
      "Iter: 84 Ap: 6.51e-01 Pobj: -1.0769568e-06 Ad: 8.50e-01 Dobj: -3.1365063e-06 \n",
      "Iter: 85 Ap: 8.90e-01 Pobj: -7.7524747e-07 Ad: 1.00e+00 Dobj: -5.0079987e-06 \n",
      "Iter: 86 Ap: 4.28e-01 Pobj: -6.7831623e-07 Ad: 7.19e-01 Dobj: -5.8575059e-06 \n",
      "Iter: 87 Ap: 5.06e-01 Pobj: -5.8441810e-07 Ad: 1.00e+00 Dobj: -6.7162849e-06 \n",
      "Iter: 88 Ap: 9.21e-01 Pobj: -4.1935588e-07 Ad: 1.00e+00 Dobj: -7.4053637e-06 \n",
      "Iter: 89 Ap: 8.72e-01 Pobj: -2.8019202e-07 Ad: 1.00e+00 Dobj: -8.5506125e-06 \n",
      "Iter: 90 Ap: 2.66e-01 Pobj: -2.6236078e-07 Ad: 6.29e-01 Dobj: -7.3124137e-06 \n",
      "Iter: 91 Ap: 9.78e-01 Pobj: -1.2854093e-07 Ad: 1.00e+00 Dobj: -5.5687734e-06 \n",
      "Iter: 92 Ap: 7.68e-01 Pobj: -7.4257367e-08 Ad: 7.21e-01 Dobj: -2.7699638e-06 \n",
      "Iter: 93 Ap: 5.66e-01 Pobj: -5.4296719e-08 Ad: 5.52e-01 Dobj: -1.5381329e-06 \n",
      "Iter: 94 Ap: 6.31e-01 Pobj: -3.2241059e-08 Ad: 7.44e-01 Dobj: -6.8208807e-07 \n",
      "Iter: 95 Ap: 8.92e-01 Pobj: -1.2155436e-08 Ad: 6.43e-01 Dobj: -3.0660976e-07 \n",
      "Iter: 96 Ap: 8.92e-01 Pobj: -4.6351244e-09 Ad: 7.24e-01 Dobj: -1.0829296e-07 \n",
      "Iter: 97 Ap: 1.00e+00 Pobj: -1.3145303e-09 Ad: 7.75e-01 Dobj: -3.2362698e-08 \n",
      "Iter: 98 Ap: 8.48e-01 Pobj:  1.5656973e-10 Ad: 8.84e-01 Dobj: -6.4761702e-09 \n",
      "Success: SDP solved\n",
      "Primal objective value: 1.5656973e-10 \n",
      "Dual objective value: -6.4761702e-09 \n",
      "Relative primal infeasibility: 1.97e-09 \n",
      "Relative dual infeasibility: 5.53e-10 \n",
      "Real Relative Gap: -6.63e-09 \n",
      "XZ Relative Gap: 9.81e-09 \n",
      "DIMACS error measures: 3.70e-08 0.00e+00 2.28e-09 0.00e+00 -6.63e-09 9.81e-09\n"
     ]
    },
    {
     "data": {
      "text/plain": [
       "-1.565697294036994e-10"
      ]
     },
     "execution_count": 9,
     "metadata": {},
     "output_type": "execute_result"
    }
   ],
   "source": [
    "# First solving the sdp\n",
    "CTG.solve_sdp(B000 + B011 - (1 - 1/4000)*M, target_size, maximize=True, positives=assums,\n",
    "              construction=ders, file=\"certificates/prop_3_3_c5k4_sdp\")"
   ]
  },
  {
   "cell_type": "code",
   "execution_count": 10,
   "id": "760ea701-2c13-438e-9b9c-2908c4b515cf",
   "metadata": {
    "scrolled": true
   },
   "outputs": [
    {
     "name": "stdout",
     "output_type": "stream",
     "text": [
      "Starting the rounding of the result\n",
      "Flattening X matrices\n",
      "This took 100.64823651313782s\n",
      "Correcting flat X matrices\n",
      "Dimensions:  (601, 72204)\n",
      "This took 7.017298698425293s\n",
      "Unflattening X matrices\n",
      "This took 0.0007748603820800781s\n",
      "Calculating resulting bound\n"
     ]
    },
    {
     "name": "stderr",
     "output_type": "stream",
     "text": [
      "100%|██████████████████████████████████████| 33/33 [13:37:37<00:00, 1486.60s/it]\n"
     ]
    },
    {
     "name": "stdout",
     "output_type": "stream",
     "text": [
      "This took 49060.12200808525s\n",
      "Final rounded bound is 0\n"
     ]
    },
    {
     "data": {
      "text/plain": [
       "0"
      ]
     },
     "execution_count": 10,
     "metadata": {},
     "output_type": "execute_result"
    }
   ],
   "source": [
    "# Second, rounding the sdp solution\n",
    "CTG.round_solution(\"certificates/prop_3_3_c5k4_sdp\", certificate_file=\"certificates/prop_3_3_c5k4\", \n",
    "                   denom=1024*225, slack_threshold=1e-6, kernel_denom=2**20)"
   ]
  }
 ],
 "metadata": {
  "kernelspec": {
   "display_name": "SageMath 10.5.beta7",
   "language": "sage",
   "name": "sagemath"
  },
  "language_info": {
   "codemirror_mode": {
    "name": "ipython",
    "version": 3
   },
   "file_extension": ".py",
   "mimetype": "text/x-python",
   "name": "python",
   "nbconvert_exporter": "python",
   "pygments_lexer": "ipython3",
   "version": "3.12.3"
  }
 },
 "nbformat": 4,
 "nbformat_minor": 5
}
