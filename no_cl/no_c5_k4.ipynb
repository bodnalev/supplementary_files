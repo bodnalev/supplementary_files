{
 "cells": [
  {
   "cell_type": "code",
   "execution_count": 1,
   "id": "302fccbd-bf59-4a28-8e00-fd27bec26e67",
   "metadata": {},
   "outputs": [
    {
     "name": "stdout",
     "output_type": "stream",
     "text": [
      "Number of structures without C5, K4\n",
      "and size 5:  20  (should be 20)\n",
      "and size 6:  572  (should be 572)\n",
      "\n",
      "Number of 2 colored structures without C5, K4\n",
      "and size 5:  338  (should be 338)\n",
      "and size 6:  28080  (should be 28080)\n"
     ]
    }
   ],
   "source": [
    "# Setting up three graph theory\n",
    "K4 = ThreeGraphTheory(4, edges=[[0, 1, 2], [1, 2, 3], [0, 2, 3], [0, 1, 3]])\n",
    "C5 = ThreeGraphTheory.p(5, edges=[[0, 1, 2], [1, 2, 3], [2, 3, 4], [3, 4, 0], [4, 0, 1]])\n",
    "ThreeGraphTheory.exclude([K4, C5])\n",
    "TG = ThreeGraphTheory\n",
    "\n",
    "# Setting up colored theory\n",
    "TwoColorTheory = combine(\"2Colors\", Color0, Color1, symmetries=NoSymmetry)\n",
    "TwoColorTheory.exclude([TwoColorTheory(1), TwoColorTheory(1, C0=[0], C1=[0])])\n",
    "CTG = combine(\"2ColorThreeGraphs\", TG, TwoColorTheory)\n",
    "\n",
    "# Testing the generation of structures\n",
    "print(\"Number of structures without C5, K4\")\n",
    "print(\"and size 5: \", len(TG.generate(5)), \" (should be 20)\")\n",
    "print(\"and size 6: \", len(TG.generate(6)), \" (should be 572)\")\n",
    "\n",
    "print(\"\\nNumber of 2 colored structures without C5, K4\")\n",
    "print(\"and size 5: \", len(CTG.generate(5)), \" (should be 338)\")\n",
    "print(\"and size 6: \", len(CTG.generate(6)), \" (should be 28080)\")\n",
    "TG.printlevel(0)"
   ]
  },
  {
   "cell_type": "code",
   "execution_count": 4,
   "id": "7388c247-109e-4898-83ae-a1df0ca94fa3",
   "metadata": {},
   "outputs": [
    {
     "name": "stdout",
     "output_type": "stream",
     "text": [
      "The initial upper bound on the Turan density from Proposition 3.1 is 7309337/15728640 ~= 0.464715131123861\n"
     ]
    }
   ],
   "source": [
    "a31 = TG.optimize(TG(3, edges=[[0, 1, 2]]), 6, exact=True, denom=2**20, file=\"certificates/prop_3_1_c5k4\")\n",
    "print(\"The initial upper bound on the Turan density from Proposition 3.1 is {} ~= {}\".format(a31, a31.n()))"
   ]
  },
  {
   "cell_type": "code",
   "execution_count": 5,
   "id": "b4267d32-19e9-4b98-9d5a-5fef628c1498",
   "metadata": {},
   "outputs": [
    {
     "name": "stdout",
     "output_type": "stream",
     "text": [
      "The max-cut ratio returned by Proposition 3.2 is at least 6017268291/14618674000 ~= 0.411615191022113\n"
     ]
    }
   ],
   "source": [
    "# Generate good partition\n",
    "target_size = 6\n",
    "all_graphs = TG.generate(target_size, TG(3, ftype=[0, 1, 2], edges=[[0, 1, 2]]))\n",
    "\n",
    "edge = TG(3, edges=[[0, 1, 2]])\n",
    "target_typed = 0\n",
    "for ii, flag in enumerate(all_graphs):\n",
    "    nfp = flag.not_ftype_points()\n",
    "    if flag.subflag(points=nfp, ftype_points=[]) != edge:\n",
    "        continue\n",
    "    A = 0\n",
    "    for xx in nfp:\n",
    "        touch = len(flag.subflag(points=[xx]).blocks(\"edges\")) - 1\n",
    "        if touch not in [0, 1]:\n",
    "            A += 1\n",
    "    if A == 2:\n",
    "        target_typed += flag\n",
    "target_flag = target_typed.project()\n",
    "\n",
    "\n",
    "# Minimum degree\n",
    "degree = TG(3, ftype=[0], edges=[[0, 1, 2]])\n",
    "positives = [degree - 0.4641]\n",
    "# Regularity\n",
    "degree_difference = TG.p(4, ftype=[0, 1], edges=[[0, 2, 3]], edges_m=[[1, 2, 3]]) - \\\n",
    "TG.p(4, ftype=[0, 1], edges=[[0, 2, 3]], edges_m=[[1, 2, 3]])\n",
    "positives += [degree_difference, -degree_difference]\n",
    "\n",
    "# Optimize\n",
    "ratio = TG.optimize(target_flag, target_size, maximize=False, \n",
    "                    positives=positives, exact=True, denom=2**20, \n",
    "                    file=\"certificates/prop_3_2_c5k4\"\n",
    "                   )\n",
    "a32 = ratio / a31\n",
    "print(\"The max-cut ratio returned by Proposition 3.2 is at least {} ~= {}\".format(a32, a32.n()))"
   ]
  },
  {
   "cell_type": "code",
   "execution_count": 3,
   "id": "760f38e8-b61f-45f4-8c26-95eec3f2dbc7",
   "metadata": {},
   "outputs": [
    {
     "name": "stdout",
     "output_type": "stream",
     "text": [
      "Number of structures without C5, K4\n",
      "and size 5:  20  (should be 20)\n",
      "and size 6:  572  (should be 572)\n",
      "\n",
      "Number of 2 colored structures without C5, K4\n",
      "and size 5:  338  (should be 338)\n",
      "and size 6:  28080  (should be 28080)\n"
     ]
    },
    {
     "name": "stderr",
     "output_type": "stream",
     "text": [
      "100%|█████████████████████████████████████████████| 7/7 [00:00<00:00, 10.97it/s]\n"
     ]
    }
   ],
   "source": [
    "target_size = 6\n",
    "\n",
    "# Edge with correct colors\n",
    "C = CTG(3, edges=[[0, 1, 2]], C0=[0, 1], C1=[2])\n",
    "# Missing edge with good colors\n",
    "M = CTG(3, edges=[], C0=[0, 1], C1=[2])\n",
    "# Pointed edge with correct colors, point from color 0\n",
    "Cp0 = CTG(3, edges=[[0, 1, 2]], C0=[0, 1], C1=[2], ftype=[0])\n",
    "# Pointed edge with correct colors, point from color 1\n",
    "Cp1 = CTG(3, edges=[[0, 1, 2]], C0=[0, 1], C1=[2], ftype=[2])\n",
    "\n",
    "\n",
    "# Edge with bad colors all in color 0\n",
    "B000 = CTG(3, edges=[[0, 1, 2]], C0=[0, 1, 2], C1=[])\n",
    "# Edge with bad colors, looking the wrong way\n",
    "B011 = CTG(3, edges=[[0, 1, 2]], C0=[0], C1=[1, 2])\n",
    "# Pointed edge with bad colors, point from moving 1 -> 0\n",
    "Bp0 = CTG(3, edges=[[0, 1, 2]], C0=[0, 1, 2], C1=[], ftype=[0])\n",
    "# Pointed edge with bad colors, point from moving 0 -> 1\n",
    "Bp1 = CTG(3, edges=[[0, 1, 2]], C0=[0], C1=[1, 2], ftype=[2])\n",
    "\n",
    "# Degree equality conditions for various type pairs\n",
    "degeq_00 = CTG.p(4, ftype=[0, 1], edges=[[0, 2, 3]], edges_m=[[1, 2, 3]], C0=[0, 1]) - \\\n",
    "           CTG.p(4, ftype=[1, 0], edges=[[0, 2, 3]], edges_m=[[1, 2, 3]], C0=[0, 1])\n",
    "degeq_01 = CTG.p(4, ftype=[0, 1], edges=[[0, 2, 3]], edges_m=[[1, 2, 3]], C0=[0], C1=[1]) - \\\n",
    "           CTG.p(4, ftype=[0, 1], edges=[[1, 2, 3]], edges_m=[[0, 2, 3]], C0=[0], C1=[1])\n",
    "degeq_11 = CTG.p(4, ftype=[0, 1], edges=[[0, 2, 3]], edges_m=[[1, 2, 3]], C1=[0, 1]) - \\\n",
    "           CTG.p(4, ftype=[1, 0], edges=[[0, 2, 3]], edges_m=[[1, 2, 3]], C1=[0, 1])\n",
    "\n",
    "# Assumptions used in the proof\n",
    "assums = [\n",
    "    Cp0 - Bp0, Cp1 - Bp1, # Local optimality\n",
    "    degeq_00, -degeq_00, degeq_01, -degeq_01, degeq_11, -degeq_11, # Degree regularity\n",
    "    C - 2/5 # Best fit assumption\n",
    "]\n",
    "\n",
    "# Close rational approximation for gamma: 2521/5432\n",
    "gamma = continued_fraction(2*sqrt(3) - 3).convergent(7)\n",
    "# Construction\n",
    "symbolic_constr = CTG.blowup_construction(target_size, 2, edges=[[0, 0, 1]], C0=[[0]], C1=[[1]], symbolic_parts=True).set_sum()\n",
    "ders = symbolic_constr.derivatives([gamma])"
   ]
  },
  {
   "cell_type": "code",
   "execution_count": 4,
   "id": "d779b756-de09-486f-ba74-f8cd5e3edc42",
   "metadata": {},
   "outputs": [
    {
     "name": "stdout",
     "output_type": "stream",
     "text": [
      "Base flags generated, their number is 28080\n",
      "The relevant ftypes are constructed, their number is 33\n",
      "Block sizes before symmetric/asymmetric change is applied: [37, 37, 37, 128, 128, 128, 128, 128, 112, 112, 112, 112, 112, 112, 112, 112, 82, 82, 82, 82, 82, 82, 82, 82, 82, 66, 66, 66, 66, 66, 66, 66, 66]\n"
     ]
    },
    {
     "name": "stderr",
     "output_type": "stream",
     "text": [
      "Done with mult table for Ftype on 4 points with edges=(013 023 123), C0=(0 1 2 3), C1=(): : 33it [00:18,  1.83it/s]\n"
     ]
    },
    {
     "name": "stdout",
     "output_type": "stream",
     "text": [
      "Adjusting table with kernels from construction\n",
      "Tables finished\n"
     ]
    },
    {
     "name": "stderr",
     "output_type": "stream",
     "text": [
      "Done with positivity constraint 8: 100%|██████████| 9/9 [08:22<00:00, 55.88s/it]\n"
     ]
    },
    {
     "name": "stdout",
     "output_type": "stream",
     "text": [
      "Constraints finished\n",
      "Running SDP. Used block sizes are [26, 10, 36, 26, 10, 21, 106, 39, 88, 56, 72, 40, 88, 21, 106, 32, 80, 68, 44, 32, 80, 68, 44, 68, 44, 32, 80, 68, 44, 32, 80, 36, 46, 50, 32, 54, 28, 82, 36, 46, 35, 46, 54, 28, 50, 32, 36, 46, 22, 44, 22, 44, 42, 24, 42, 24, 42, 24, 42, 24, 21, 44, 22, 44, -28080, -304]\n",
      "CSDP 6.2.0\n",
      "Iter:  0 Ap: 0.00e+00 Pobj:  0.0000000e+00 Ad: 0.00e+00 Dobj:  0.0000000e+00 \n",
      "Iter:  1 Ap: 1.73e-02 Pobj: -4.6852961e+00 Ad: 1.43e-02 Dobj:  1.0774782e+02 \n",
      "Iter:  2 Ap: 2.51e-02 Pobj: -1.2052756e+01 Ad: 3.90e-02 Dobj:  1.1238619e+02 \n",
      "Iter:  3 Ap: 7.98e-02 Pobj: -3.7152273e+01 Ad: 6.91e-02 Dobj:  1.1194943e+02 \n",
      "Iter:  4 Ap: 1.00e+00 Pobj: -2.4992381e+02 Ad: 2.38e-01 Dobj:  8.5467521e+01 \n",
      "Iter:  5 Ap: 1.00e+00 Pobj: -2.9064178e+02 Ad: 7.83e-01 Dobj:  1.7369542e+01 \n",
      "Iter:  6 Ap: 1.00e+00 Pobj: -3.1793513e+02 Ad: 8.93e-01 Dobj:  1.7893695e+00 \n",
      "Iter:  7 Ap: 1.00e+00 Pobj: -3.4746201e+02 Ad: 9.20e-01 Dobj:  1.5622027e-01 \n",
      "Iter:  8 Ap: 1.00e+00 Pobj: -4.2011707e+02 Ad: 7.92e-01 Dobj:  3.7063154e-02 \n",
      "Iter:  9 Ap: 1.00e+00 Pobj: -4.6568964e+02 Ad: 6.58e-01 Dobj:  1.7629529e-02 \n",
      "Iter: 10 Ap: 7.23e-01 Pobj: -4.3057484e+02 Ad: 6.15e-01 Dobj:  1.5774844e-02 \n",
      "Iter: 11 Ap: 7.03e-01 Pobj: -4.2512399e+02 Ad: 5.58e-01 Dobj:  1.1956497e-02 \n",
      "Iter: 12 Ap: 5.64e-01 Pobj: -4.3552349e+02 Ad: 4.66e-01 Dobj:  1.3660555e-02 \n",
      "Iter: 13 Ap: 2.58e-01 Pobj: -4.4409184e+02 Ad: 4.81e-01 Dobj:  1.6372304e-02 \n",
      "Iter: 14 Ap: 2.69e-01 Pobj: -4.3110127e+02 Ad: 5.12e-01 Dobj:  1.7341797e-02 \n",
      "Iter: 15 Ap: 4.62e-01 Pobj: -3.7049819e+02 Ad: 4.74e-01 Dobj:  1.7554880e-02 \n",
      "Iter: 16 Ap: 4.37e-01 Pobj: -3.1965525e+02 Ad: 5.16e-01 Dobj:  1.8912230e-02 \n",
      "Iter: 17 Ap: 3.83e-01 Pobj: -2.7977164e+02 Ad: 4.13e-01 Dobj:  2.0662459e-02 \n",
      "Iter: 18 Ap: 2.12e-01 Pobj: -2.6485552e+02 Ad: 4.64e-01 Dobj:  2.2963678e-02 \n",
      "Iter: 19 Ap: 2.22e-01 Pobj: -2.4840119e+02 Ad: 4.85e-01 Dobj:  2.3733060e-02 \n",
      "Iter: 20 Ap: 2.52e-01 Pobj: -2.2350550e+02 Ad: 4.39e-01 Dobj:  2.4640571e-02 \n",
      "Iter: 21 Ap: 4.06e-01 Pobj: -1.8445761e+02 Ad: 4.29e-01 Dobj:  2.5110359e-02 \n",
      "Iter: 22 Ap: 2.56e-01 Pobj: -1.7467478e+02 Ad: 3.36e-01 Dobj:  2.4997176e-02 \n",
      "Iter: 23 Ap: 2.26e-01 Pobj: -1.6725179e+02 Ad: 3.91e-01 Dobj:  2.4629477e-02 \n",
      "Iter: 24 Ap: 1.62e-01 Pobj: -1.6191871e+02 Ad: 4.54e-01 Dobj:  2.4315070e-02 \n",
      "Iter: 25 Ap: 2.72e-01 Pobj: -1.4865425e+02 Ad: 4.12e-01 Dobj:  2.3735410e-02 \n",
      "Iter: 26 Ap: 2.43e-01 Pobj: -1.3875678e+02 Ad: 4.49e-01 Dobj:  2.3149234e-02 \n",
      "Iter: 27 Ap: 2.90e-01 Pobj: -1.2582045e+02 Ad: 4.71e-01 Dobj:  2.2578364e-02 \n",
      "Iter: 28 Ap: 4.25e-01 Pobj: -1.0867447e+02 Ad: 5.14e-01 Dobj:  2.2041702e-02 \n",
      "Iter: 29 Ap: 3.64e-01 Pobj: -9.5768517e+01 Ad: 6.05e-01 Dobj:  2.1488932e-02 \n",
      "Iter: 30 Ap: 3.72e-01 Pobj: -7.9341664e+01 Ad: 6.37e-01 Dobj:  2.1147357e-02 \n",
      "Iter: 31 Ap: 3.18e-01 Pobj: -6.8860354e+01 Ad: 7.03e-01 Dobj:  2.0868231e-02 \n",
      "Iter: 32 Ap: 4.84e-01 Pobj: -4.6951167e+01 Ad: 1.00e+00 Dobj:  2.0699788e-02 \n",
      "Iter: 33 Ap: 7.97e-01 Pobj: -1.3329156e+01 Ad: 1.00e+00 Dobj:  2.0643652e-02 \n",
      "Iter: 34 Ap: 8.09e-01 Pobj: -4.0490576e+00 Ad: 1.00e+00 Dobj:  2.0539762e-02 \n",
      "Iter: 35 Ap: 7.92e-01 Pobj: -1.9352612e+00 Ad: 1.00e+00 Dobj:  2.0253997e-02 \n",
      "Iter: 36 Ap: 6.74e-01 Pobj: -1.1514220e+00 Ad: 1.00e+00 Dobj:  1.9934408e-02 \n",
      "Iter: 37 Ap: 1.00e+00 Pobj: -8.1433168e-01 Ad: 1.00e+00 Dobj:  1.9602584e-02 \n",
      "Iter: 38 Ap: 7.18e-01 Pobj: -4.9696726e-01 Ad: 1.00e+00 Dobj:  1.9345728e-02 \n",
      "Iter: 39 Ap: 1.00e+00 Pobj: -3.6094819e-01 Ad: 1.00e+00 Dobj:  1.8833689e-02 \n",
      "Iter: 40 Ap: 1.00e+00 Pobj: -1.8416371e-01 Ad: 1.00e+00 Dobj:  1.8406914e-02 \n",
      "Iter: 41 Ap: 7.40e-01 Pobj: -1.5079396e-01 Ad: 7.17e-01 Dobj:  1.7514306e-02 \n",
      "Iter: 42 Ap: 8.20e-01 Pobj: -1.1475138e-01 Ad: 1.00e+00 Dobj:  1.7100165e-02 \n",
      "Iter: 43 Ap: 4.19e-01 Pobj: -1.0767516e-01 Ad: 8.20e-01 Dobj:  1.6382172e-02 \n",
      "Iter: 44 Ap: 1.63e-01 Pobj: -1.0473671e-01 Ad: 6.61e-01 Dobj:  1.6633993e-02 \n",
      "Iter: 45 Ap: 4.10e-01 Pobj: -9.3352355e-02 Ad: 7.97e-01 Dobj:  1.5975145e-02 \n",
      "Iter: 46 Ap: 6.22e-01 Pobj: -7.3199292e-02 Ad: 1.00e+00 Dobj:  1.5435542e-02 \n",
      "Iter: 47 Ap: 6.93e-01 Pobj: -5.8475218e-02 Ad: 9.83e-01 Dobj:  1.4348604e-02 \n",
      "Iter: 48 Ap: 5.53e-01 Pobj: -4.6286319e-02 Ad: 1.00e+00 Dobj:  1.3892196e-02 \n",
      "Iter: 49 Ap: 4.40e-01 Pobj: -3.8254403e-02 Ad: 9.09e-01 Dobj:  1.2602463e-02 \n",
      "Iter: 50 Ap: 3.01e-01 Pobj: -3.5665595e-02 Ad: 6.36e-01 Dobj:  1.2986822e-02 \n",
      "Iter: 51 Ap: 2.13e-01 Pobj: -3.4206083e-02 Ad: 5.80e-01 Dobj:  1.2518347e-02 \n",
      "Iter: 52 Ap: 1.52e-01 Pobj: -3.3115274e-02 Ad: 6.91e-01 Dobj:  1.2055446e-02 \n",
      "Iter: 53 Ap: 4.40e-01 Pobj: -2.9499640e-02 Ad: 1.00e+00 Dobj:  1.1310536e-02 \n",
      "Iter: 54 Ap: 5.46e-01 Pobj: -2.4470824e-02 Ad: 1.00e+00 Dobj:  1.0626884e-02 \n",
      "Iter: 55 Ap: 8.76e-01 Pobj: -1.3089920e-02 Ad: 1.00e+00 Dobj:  8.9293331e-03 \n",
      "Iter: 56 Ap: 5.94e-01 Pobj: -9.9415477e-03 Ad: 1.00e+00 Dobj:  7.9517181e-03 \n",
      "Iter: 57 Ap: 5.47e-01 Pobj: -8.2539154e-03 Ad: 1.00e+00 Dobj:  6.6716263e-03 \n",
      "Iter: 58 Ap: 6.61e-01 Pobj: -6.2881342e-03 Ad: 1.00e+00 Dobj:  5.8151149e-03 \n",
      "Iter: 59 Ap: 6.69e-01 Pobj: -4.2337358e-03 Ad: 1.00e+00 Dobj:  4.3221447e-03 \n",
      "Iter: 60 Ap: 5.35e-01 Pobj: -3.2382037e-03 Ad: 1.00e+00 Dobj:  3.9617151e-03 \n",
      "Iter: 61 Ap: 7.80e-01 Pobj: -1.9559581e-03 Ad: 1.00e+00 Dobj:  2.9984600e-03 \n",
      "Iter: 62 Ap: 7.39e-01 Pobj: -1.0917459e-03 Ad: 1.00e+00 Dobj:  2.1260424e-03 \n",
      "Iter: 63 Ap: 6.07e-01 Pobj: -7.7938556e-04 Ad: 1.00e+00 Dobj:  1.6650712e-03 \n",
      "Iter: 64 Ap: 7.64e-01 Pobj: -4.5445282e-04 Ad: 1.00e+00 Dobj:  1.1907878e-03 \n",
      "Iter: 65 Ap: 8.25e-01 Pobj: -2.4699640e-04 Ad: 1.00e+00 Dobj:  8.3811200e-04 \n",
      "Iter: 66 Ap: 8.20e-01 Pobj: -1.2701822e-04 Ad: 1.00e+00 Dobj:  4.8431882e-04 \n",
      "Iter: 67 Ap: 6.66e-01 Pobj: -7.9959431e-05 Ad: 1.00e+00 Dobj:  3.4535484e-04 \n",
      "Iter: 68 Ap: 6.84e-01 Pobj: -4.8118743e-05 Ad: 1.00e+00 Dobj:  2.1344219e-04 \n",
      "Iter: 69 Ap: 6.22e-01 Pobj: -3.1126749e-05 Ad: 9.64e-01 Dobj:  1.5880880e-04 \n",
      "Iter: 70 Ap: 5.48e-01 Pobj: -2.1339991e-05 Ad: 8.37e-01 Dobj:  1.0744515e-04 \n",
      "Iter: 71 Ap: 1.65e-01 Pobj: -1.9585856e-05 Ad: 7.40e-01 Dobj:  9.9436442e-05 \n",
      "Iter: 72 Ap: 4.13e-02 Pobj: -1.9179216e-05 Ad: 4.33e-01 Dobj:  9.1924811e-05 \n",
      "Iter: 73 Ap: 3.38e-01 Pobj: -1.5830349e-05 Ad: 1.00e+00 Dobj:  7.7690979e-05 \n",
      "Iter: 74 Ap: 6.10e-01 Pobj: -1.0249529e-05 Ad: 9.14e-01 Dobj:  5.2876935e-05 \n",
      "Iter: 75 Ap: 3.82e-01 Pobj: -8.2155868e-06 Ad: 1.00e+00 Dobj:  4.1029286e-05 \n",
      "Iter: 76 Ap: 5.75e-01 Pobj: -5.6909314e-06 Ad: 1.00e+00 Dobj:  2.7765513e-05 \n",
      "Iter: 77 Ap: 6.54e-01 Pobj: -3.4985005e-06 Ad: 9.43e-01 Dobj:  1.3720115e-05 \n",
      "Iter: 78 Ap: 5.26e-01 Pobj: -2.7022487e-06 Ad: 1.00e+00 Dobj:  7.0852257e-06 \n",
      "Iter: 79 Ap: 6.98e-01 Pobj: -1.9445273e-06 Ad: 8.53e-01 Dobj:  2.9547489e-06 \n",
      "Iter: 80 Ap: 7.87e-01 Pobj: -1.3756146e-06 Ad: 1.00e+00 Dobj: -1.1721206e-06 \n",
      "Iter: 81 Ap: 6.76e-01 Pobj: -1.0834309e-06 Ad: 9.07e-01 Dobj: -3.2253986e-06 \n",
      "Iter: 82 Ap: 6.64e-01 Pobj: -8.7196323e-07 Ad: 9.64e-01 Dobj: -4.8345479e-06 \n",
      "Iter: 83 Ap: 5.35e-01 Pobj: -7.2325567e-07 Ad: 8.86e-01 Dobj: -5.8096976e-06 \n",
      "Iter: 84 Ap: 7.05e-01 Pobj: -5.4698080e-07 Ad: 1.00e+00 Dobj: -6.7980985e-06 \n",
      "Iter: 85 Ap: 8.80e-01 Pobj: -3.8154749e-07 Ad: 1.00e+00 Dobj: -7.6995054e-06 \n",
      "Iter: 86 Ap: 7.52e-01 Pobj: -2.8606265e-07 Ad: 1.00e+00 Dobj: -8.6134578e-06 \n",
      "Iter: 87 Ap: 7.65e-01 Pobj: -2.2476965e-07 Ad: 8.43e-01 Dobj: -6.7152992e-06 \n",
      "Iter: 88 Ap: 1.00e+00 Pobj: -9.9315551e-08 Ad: 1.00e+00 Dobj: -5.0464675e-06 \n",
      "Iter: 89 Ap: 7.05e-01 Pobj: -6.1761710e-08 Ad: 5.98e-01 Dobj: -2.6387742e-06 \n",
      "Iter: 90 Ap: 6.40e-01 Pobj: -4.1690860e-08 Ad: 5.29e-01 Dobj: -1.4286872e-06 \n",
      "Iter: 91 Ap: 5.88e-01 Pobj: -2.7760541e-08 Ad: 5.86e-01 Dobj: -7.1400235e-07 \n",
      "Iter: 92 Ap: 9.84e-01 Pobj: -9.7772599e-09 Ad: 7.04e-01 Dobj: -2.7597312e-07 \n",
      "Iter: 93 Ap: 1.00e+00 Pobj: -3.8082189e-09 Ad: 7.69e-01 Dobj: -9.0073076e-08 \n",
      "Iter: 94 Ap: 1.00e+00 Pobj: -1.1337459e-09 Ad: 6.92e-01 Dobj: -3.2373834e-08 \n",
      "Iter: 95 Ap: 6.71e-01 Pobj: -1.0876374e-09 Ad: 3.64e-01 Dobj: -2.0033653e-08 \n",
      "Iter: 96 Ap: 1.24e-01 Pobj: -9.7058599e-10 Ad: 4.22e-01 Dobj: -1.0903939e-08 \n",
      "Iter: 97 Ap: 2.18e-01 Pobj: -8.3961230e-10 Ad: 2.81e-01 Dobj: -7.7031321e-09 \n",
      "Iter: 98 Ap: 1.62e-01 Pobj: -7.1991724e-10 Ad: 1.93e-01 Dobj: -6.0815286e-09 \n",
      "Iter: 99 Ap: 9.97e-02 Pobj: -6.4701766e-10 Ad: 1.11e-01 Dobj: -5.3158492e-09 \n",
      "Iter: 100 Ap: 6.55e-02 Pobj: -6.3298289e-10 Ad: 7.22e-02 Dobj: -4.8745524e-09 \n",
      "Maximum iterations reached. \n",
      "Partial Success: SDP solved with reduced accuracy\n",
      "Primal objective value: -4.4292671e-10 \n",
      "Dual objective value: -3.5867892e-09 \n",
      "Relative primal infeasibility: 4.49e-10 \n",
      "Relative dual infeasibility: 4.39e-10 \n",
      "Real Relative Gap: -3.14e-09 \n",
      "XZ Relative Gap: 1.37e-08 \n",
      "DIMACS error measures: 8.44e-09 0.00e+00 1.81e-09 0.00e+00 -3.14e-09 1.37e-08\n"
     ]
    },
    {
     "data": {
      "text/plain": [
       "4.429267091987654e-10"
      ]
     },
     "execution_count": 4,
     "metadata": {},
     "output_type": "execute_result"
    }
   ],
   "source": [
    "# First solving the sdp\n",
    "CTG.solve_sdp(B000 + B011 - (1 - 1/4000)*M, target_size, maximize=True, positives=assums,\n",
    "              construction=ders, file=\"certificates/prop_3_3_c5k4_sdp\")"
   ]
  },
  {
   "cell_type": "code",
   "execution_count": 37,
   "id": "760ea701-2c13-438e-9b9c-2908c4b515cf",
   "metadata": {
    "scrolled": true
   },
   "outputs": [
    {
     "name": "stdout",
     "output_type": "stream",
     "text": [
      "Starting the rounding of the result\n",
      "Flattening X matrices\n",
      "This took 92.61082577705383s\n",
      "Correcting flat X matrices\n",
      "Dimensions:  (601, 72204)\n",
      "This took 8.055120706558228s\n",
      "Unflattening X matrices\n",
      "This took 0.0005853176116943359s\n",
      "Calculating resulting bound\n"
     ]
    },
    {
     "name": "stderr",
     "output_type": "stream",
     "text": [
      "100%|████████████████████████████████████████| 33/33 [1:31:48<00:00, 166.94s/it]\n"
     ]
    },
    {
     "name": "stdout",
     "output_type": "stream",
     "text": [
      "This took 5511.961145877838s\n",
      "Final rounded bound is 0\n"
     ]
    },
    {
     "data": {
      "text/plain": [
       "0"
      ]
     },
     "execution_count": 37,
     "metadata": {},
     "output_type": "execute_result"
    }
   ],
   "source": [
    "# Second, rounding the sdp solution\n",
    "CTG.round_solution(\"certificates/prop_3_3_c5k4_sdp\", certificate_file=\"certificates/prop_3_3_c5k4\", \n",
    "                   denom=1024*225, slack_threshold=1e-6, kernel_denom=2**20)"
   ]
  },
  {
   "cell_type": "code",
   "execution_count": 10,
   "id": "d31a99f7-49f0-458b-93a1-6bdb13cd9f56",
   "metadata": {},
   "outputs": [
    {
     "data": {
      "text/plain": [
       "0.411615191022113"
      ]
     },
     "execution_count": 10,
     "metadata": {},
     "output_type": "execute_result"
    }
   ],
   "source": [
    "(2005756097/10485760000).n()/a31"
   ]
  },
  {
   "cell_type": "code",
   "execution_count": 8,
   "id": "37a3023a-6c5d-45ce-9604-11bec77c3523",
   "metadata": {},
   "outputs": [
    {
     "name": "stdout",
     "output_type": "stream",
     "text": [
      "The solution is valid, it proves the bound -2005756097/10485760000\n"
     ]
    },
    {
     "data": {
      "text/plain": [
       "-2005756097/10485760000"
      ]
     },
     "execution_count": 8,
     "metadata": {},
     "output_type": "execute_result"
    }
   ],
   "source": [
    "TG.verify(\"certificates/prop_3_2_c5k4\")"
   ]
  }
 ],
 "metadata": {
  "kernelspec": {
   "display_name": "SageMath 10.5.beta7",
   "language": "sage",
   "name": "sagemath"
  },
  "language_info": {
   "codemirror_mode": {
    "name": "ipython",
    "version": 3
   },
   "file_extension": ".py",
   "mimetype": "text/x-python",
   "name": "python",
   "nbconvert_exporter": "python",
   "pygments_lexer": "ipython3",
   "version": "3.12.3"
  }
 },
 "nbformat": 4,
 "nbformat_minor": 5
}
