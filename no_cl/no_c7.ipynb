{
 "cells": [
  {
   "cell_type": "markdown",
   "id": "40a2bb5a-499d-4de7-8b2c-b5d544610c98",
   "metadata": {},
   "source": [
    "The Turán number of $C_7$\n",
    "==============================\n",
    "\n",
    "Forbidding all homomorphic images of C7: K4, F1, and F2"
   ]
  },
  {
   "cell_type": "code",
   "execution_count": 5,
   "id": "fe5b9540-73c4-43d2-ac55-fe92a1d5f999",
   "metadata": {},
   "outputs": [
    {
     "name": "stdout",
     "output_type": "stream",
     "text": [
      "Number of structures without K4, F1, F2\n",
      "and size 5:  19  (should be 19)\n",
      "and size 6:  371  (should be 371)\n",
      "\n",
      "Number of 2 colored structures without K4, F1, F2\n",
      "and size 5:  302  (should be 302)\n",
      "and size 6:  16807  (should be 16807)\n"
     ]
    }
   ],
   "source": [
    "# Setting up three graph theory\n",
    "K4 = ThreeGraphTheory(4, edges=[[0, 1, 2], [1, 2, 3], [0, 2, 3], [0, 1, 3]])\n",
    "# C5 = ThreeGraphTheory.p(5, edges=[[0, 1, 2], [1, 2, 3], [2, 3, 4], [3, 4, 0], [4, 0, 1]])\n",
    "# ThreeGraphTheory.exclude([K4, C5])\n",
    "F1 = ThreeGraphTheory.pattern(5, edges=[[0, 1, 2], [0, 1, 3], [0, 1, 4], [0, 2, 4], [1, 3, 4]])\n",
    "F2 = ThreeGraphTheory.pattern(6, edges=[[0, 1, 2], [0, 1, 5], [0, 2, 3], [0, 3, 4], [0, 4, 5], [1, 4, 5]])\n",
    "ThreeGraphTheory.exclude([K4, F1, F2])\n",
    "TG = ThreeGraphTheory\n",
    "\n",
    "# Setting up colored theory\n",
    "TwoColorTheory = combine(\"2Colors\", Color0, Color1, symmetries=NoSymmetry)\n",
    "TwoColorTheory.exclude([TwoColorTheory(1), TwoColorTheory(1, C0=[0], C1=[0])])\n",
    "CTG = combine(\"2ColorThreeGraphs\", TG, TwoColorTheory)\n",
    "\n",
    "# Testing the generation of structures\n",
    "print(\"Number of structures without K4, F1, F2\")\n",
    "print(\"and size 5: \", len(TG.generate(5)), \" (should be 19)\")\n",
    "print(\"and size 6: \", len(TG.generate(6)), \" (should be 371)\")\n",
    "\n",
    "print(\"\\nNumber of 2 colored structures without K4, F1, F2\")\n",
    "print(\"and size 5: \", len(CTG.generate(5)), \" (should be 302)\")\n",
    "print(\"and size 6: \", len(CTG.generate(6)), \" (should be 16807)\")\n",
    "TG.printlevel(0)"
   ]
  },
  {
   "cell_type": "code",
   "execution_count": 6,
   "id": "37a63cda-8301-47a5-873e-69f3ac72abc0",
   "metadata": {},
   "outputs": [
    {
     "name": "stdout",
     "output_type": "stream",
     "text": [
      "The initial upper bound on the Turan density from Proposition 3.1 is 60891/131072 ~= 0.464561462402344\n"
     ]
    }
   ],
   "source": [
    "a31 = TG.optimize(TG(3, edges=[[0, 1, 2]]), 6, exact=True, denom=2**20, file=\"certificates/prop_3_1_c7\")\n",
    "print(\"The initial upper bound on the Turan density from Proposition 3.1 is {} ~= {}\".format(a31, a31.n()))"
   ]
  },
  {
   "cell_type": "code",
   "execution_count": 7,
   "id": "6130bd1d-9ee6-4050-a384-49f50e77508a",
   "metadata": {},
   "outputs": [
    {
     "name": "stdout",
     "output_type": "stream",
     "text": [
      "The max-cut ratio returned by Proposition 3.2 is at least 2027961479/4871280000 ~= 0.416309774638288\n"
     ]
    }
   ],
   "source": [
    "# Generate good partition\n",
    "target_size = 6\n",
    "all_graphs = TG.generate(target_size, TG(3, ftype=[0, 1, 2], edges=[[0, 1, 2]]))\n",
    "\n",
    "edge = TG(3, edges=[[0, 1, 2]])\n",
    "target_typed = 0\n",
    "for ii, flag in enumerate(all_graphs):\n",
    "    nfp = flag.not_ftype_points()\n",
    "    if flag.subflag(points=nfp, ftype_points=[]) != edge:\n",
    "        continue\n",
    "    A = 0\n",
    "    for xx in nfp:\n",
    "        touch = len(flag.subflag(points=[xx]).blocks(\"edges\")) - 1\n",
    "        if touch not in [0, 1]:\n",
    "            A += 1\n",
    "    if A == 2:\n",
    "        target_typed += flag\n",
    "target_flag = target_typed.project()\n",
    "\n",
    "# Minimum degree\n",
    "degree = TG(3, ftype=[0], edges=[[0, 1, 2]])\n",
    "positives = [degree - 0.4641]\n",
    "\n",
    "# Optimize\n",
    "ratio = TG.optimize(target_flag, target_size, maximize=False, \n",
    "                    positives=positives, exact=True, denom=2**20, \n",
    "                    file=\"certificates/prop_3_2_c7\"\n",
    "                   )\n",
    "a32 = ratio / a31\n",
    "print(\"The max-cut ratio returned by Proposition 3.2 is at least {} ~= {}\".format(a32, a32.n()))"
   ]
  },
  {
   "cell_type": "code",
   "execution_count": 8,
   "id": "d2b75bc6-0c5d-490c-857c-d5770f250743",
   "metadata": {},
   "outputs": [],
   "source": [
    "target_size = 6\n",
    "\n",
    "# Edge with correct colors\n",
    "C = CTG(3, edges=[[0, 1, 2]], C0=[0, 1], C1=[2])\n",
    "# Missing edge with good colors\n",
    "M = CTG(3, edges=[], C0=[0, 1], C1=[2])\n",
    "# Pointed edge with correct colors, point from color 0\n",
    "Cp0 = CTG(3, edges=[[0, 1, 2]], C0=[0, 1], C1=[2], ftype=[0])\n",
    "# Pointed edge with correct colors, point from color 1\n",
    "Cp1 = CTG(3, edges=[[0, 1, 2]], C0=[0, 1], C1=[2], ftype=[2])\n",
    "\n",
    "\n",
    "# Edge with bad colors all in color 0\n",
    "B000 = CTG(3, edges=[[0, 1, 2]], C0=[0, 1, 2], C1=[])\n",
    "# Edge with bad colors, looking the wrong way\n",
    "B011 = CTG(3, edges=[[0, 1, 2]], C0=[0], C1=[1, 2])\n",
    "# Pointed edge with bad colors, point from moving 1 -> 0\n",
    "Bp0 = CTG(3, edges=[[0, 1, 2]], C0=[0, 1, 2], C1=[], ftype=[0])\n",
    "# Pointed edge with bad colors, point from moving 0 -> 1\n",
    "Bp1 = CTG(3, edges=[[0, 1, 2]], C0=[0], C1=[1, 2], ftype=[2])\n",
    "\n",
    "# Degree equality conditions for various type pairs\n",
    "degeq_00 = CTG.p(4, ftype=[0, 1], edges=[[0, 2, 3]], edges_m=[[1, 2, 3]], C0=[0, 1]) - \\\n",
    "           CTG.p(4, ftype=[1, 0], edges=[[0, 2, 3]], edges_m=[[1, 2, 3]], C0=[0, 1])\n",
    "degeq_01 = CTG.p(4, ftype=[0, 1], edges=[[0, 2, 3]], edges_m=[[1, 2, 3]], C0=[0], C1=[1]) - \\\n",
    "           CTG.p(4, ftype=[0, 1], edges=[[1, 2, 3]], edges_m=[[0, 2, 3]], C0=[0], C1=[1])\n",
    "degeq_11 = CTG.p(4, ftype=[0, 1], edges=[[0, 2, 3]], edges_m=[[1, 2, 3]], C1=[0, 1]) - \\\n",
    "           CTG.p(4, ftype=[1, 0], edges=[[0, 2, 3]], edges_m=[[1, 2, 3]], C1=[0, 1])\n",
    "\n",
    "# Assumptions used in the proof\n",
    "assums = [\n",
    "    Cp0 - Bp0, Cp1 - Bp1, # Local optimality\n",
    "    degeq_00, -degeq_00, degeq_01, -degeq_01, degeq_11, -degeq_11, # Degree regularity\n",
    "    C - 2/5 # Best fit assumption\n",
    "]\n",
    "\n",
    "# Close rational approximation for gamma: 2521/5432\n",
    "gamma = continued_fraction(2*sqrt(3) - 3).convergent(7)\n",
    "# Optimal construction and its derivatives\n",
    "symbolic_constr = CTG.blowup_construction(target_size, [\"X0\", \"X1\"], edges=[[0, 0, 1]], C0=[[0]], C1=[[1]]).set_sum()\n",
    "ders = symbolic_constr.derivatives([gamma])"
   ]
  },
  {
   "cell_type": "code",
   "execution_count": 9,
   "id": "97a1e3f7-de1d-46ae-9136-59b85660d3e2",
   "metadata": {},
   "outputs": [
    {
     "name": "stdout",
     "output_type": "stream",
     "text": [
      "Base flags generated, their number is 16807\n",
      "The relevant ftypes are constructed, their number is 33\n",
      "Block sizes before symmetric/asymmetric change is applied: [37, 37, 37, 128, 128, 128, 128, 128, 94, 94, 94, 94, 94, 94, 94, 94, 78, 78, 78, 78, 78, 78, 78, 78, 78, 36, 36, 36, 36, 36, 36, 36, 36]\n"
     ]
    },
    {
     "name": "stderr",
     "output_type": "stream",
     "text": [
      "Done with mult table for Ftype on 4 points with edges=(013 023 123), C0=(0 1 2 3), C1=(): : 33it [00:09,  3.35it/s]\n"
     ]
    },
    {
     "name": "stdout",
     "output_type": "stream",
     "text": [
      "Adjusting table with kernels from construction\n",
      "Tables finished\n"
     ]
    },
    {
     "name": "stderr",
     "output_type": "stream",
     "text": [
      "Done with positivity constraint 8: 100%|██████████| 9/9 [02:42<00:00, 18.06s/it]\n"
     ]
    },
    {
     "name": "stdout",
     "output_type": "stream",
     "text": [
      "Constraints finished\n",
      "Running SDP. Used block sizes are [26, 10, 36, 26, 10, 21, 106, 39, 88, 56, 72, 40, 88, 21, 106, 28, 66, 58, 36, 28, 66, 58, 36, 58, 36, 28, 66, 58, 36, 28, 66, 34, 44, 48, 30, 50, 28, 78, 34, 44, 33, 44, 50, 28, 48, 30, 34, 44, 16, 20, 16, 20, 26, 10, 26, 10, 26, 10, 26, 10, 15, 20, 16, 20, -16807, -304]\n",
      "CSDP 6.2.0\n",
      "Iter:  0 Ap: 0.00e+00 Pobj:  0.0000000e+00 Ad: 0.00e+00 Dobj:  0.0000000e+00 \n",
      "Iter:  1 Ap: 4.07e-02 Pobj: -7.2655132e+00 Ad: 2.82e-02 Dobj:  1.0041569e+02 \n",
      "Iter:  2 Ap: 4.94e-02 Pobj: -1.7399717e+01 Ad: 7.52e-02 Dobj:  8.1706682e+01 \n",
      "Iter:  3 Ap: 1.15e-01 Pobj: -4.1789699e+01 Ad: 1.29e-01 Dobj:  8.8972914e+01 \n",
      "Iter:  4 Ap: 1.00e+00 Pobj: -1.9802408e+02 Ad: 3.00e-01 Dobj:  5.9061809e+01 \n",
      "Iter:  5 Ap: 1.00e+00 Pobj: -2.2504500e+02 Ad: 8.28e-01 Dobj:  9.5871438e+00 \n",
      "Iter:  6 Ap: 1.00e+00 Pobj: -2.4304403e+02 Ad: 9.26e-01 Dobj:  6.8970771e-01 \n",
      "Iter:  7 Ap: 1.00e+00 Pobj: -2.6663229e+02 Ad: 9.10e-01 Dobj:  8.5209044e-02 \n",
      "Iter:  8 Ap: 1.00e+00 Pobj: -3.2179158e+02 Ad: 7.75e-01 Dobj:  3.5523927e-02 \n",
      "Iter:  9 Ap: 4.88e-01 Pobj: -2.8089311e+02 Ad: 6.15e-01 Dobj:  3.2816613e-02 \n",
      "Iter: 10 Ap: 4.64e-01 Pobj: -2.4524377e+02 Ad: 5.17e-01 Dobj:  2.3360390e-02 \n",
      "Iter: 11 Ap: 4.52e-01 Pobj: -2.1989765e+02 Ad: 6.57e-01 Dobj:  2.0179323e-02 \n",
      "Iter: 12 Ap: 4.12e-01 Pobj: -1.9780157e+02 Ad: 4.72e-01 Dobj:  2.1581734e-02 \n",
      "Iter: 13 Ap: 3.52e-01 Pobj: -1.8091606e+02 Ad: 5.12e-01 Dobj:  2.1893758e-02 \n",
      "Iter: 14 Ap: 5.13e-01 Pobj: -1.4429524e+02 Ad: 5.09e-01 Dobj:  2.1896870e-02 \n",
      "Iter: 15 Ap: 5.36e-01 Pobj: -1.1523099e+02 Ad: 4.97e-01 Dobj:  2.3526317e-02 \n",
      "Iter: 16 Ap: 4.88e-01 Pobj: -1.0816055e+02 Ad: 4.47e-01 Dobj:  2.5645750e-02 \n",
      "Iter: 17 Ap: 3.70e-01 Pobj: -1.0386571e+02 Ad: 5.10e-01 Dobj:  2.6625404e-02 \n",
      "Iter: 18 Ap: 3.05e-01 Pobj: -9.6687268e+01 Ad: 4.27e-01 Dobj:  2.6960661e-02 \n",
      "Iter: 19 Ap: 4.36e-01 Pobj: -8.6618942e+01 Ad: 4.23e-01 Dobj:  2.7234319e-02 \n",
      "Iter: 20 Ap: 2.58e-01 Pobj: -8.5090063e+01 Ad: 3.59e-01 Dobj:  2.6709633e-02 \n",
      "Iter: 21 Ap: 2.42e-01 Pobj: -8.2543902e+01 Ad: 4.37e-01 Dobj:  2.6126255e-02 \n",
      "Iter: 22 Ap: 2.93e-01 Pobj: -7.6987768e+01 Ad: 4.77e-01 Dobj:  2.5639896e-02 \n",
      "Iter: 23 Ap: 2.61e-01 Pobj: -7.2006111e+01 Ad: 4.55e-01 Dobj:  2.4643480e-02 \n",
      "Iter: 24 Ap: 2.18e-01 Pobj: -6.8288608e+01 Ad: 3.87e-01 Dobj:  2.4155123e-02 \n",
      "Iter: 25 Ap: 3.54e-01 Pobj: -6.1459205e+01 Ad: 4.54e-01 Dobj:  2.3279807e-02 \n",
      "Iter: 26 Ap: 3.35e-01 Pobj: -5.5384191e+01 Ad: 5.58e-01 Dobj:  2.2488429e-02 \n",
      "Iter: 27 Ap: 2.81e-01 Pobj: -5.0202849e+01 Ad: 5.75e-01 Dobj:  2.1968102e-02 \n",
      "Iter: 28 Ap: 4.28e-01 Pobj: -4.1621382e+01 Ad: 4.89e-01 Dobj:  2.1702013e-02 \n",
      "Iter: 29 Ap: 2.82e-01 Pobj: -3.7345520e+01 Ad: 4.51e-01 Dobj:  2.1486784e-02 \n",
      "Iter: 30 Ap: 2.99e-01 Pobj: -3.3010847e+01 Ad: 3.94e-01 Dobj:  2.1314079e-02 \n",
      "Iter: 31 Ap: 2.95e-01 Pobj: -2.8884280e+01 Ad: 4.87e-01 Dobj:  2.1129675e-02 \n",
      "Iter: 32 Ap: 3.40e-01 Pobj: -2.3262950e+01 Ad: 8.64e-01 Dobj:  2.0933180e-02 \n",
      "Iter: 33 Ap: 6.29e-01 Pobj: -1.0750011e+01 Ad: 1.00e+00 Dobj:  2.0870248e-02 \n",
      "Iter: 34 Ap: 8.77e-01 Pobj: -2.4641844e+00 Ad: 1.00e+00 Dobj:  2.0792988e-02 \n",
      "Iter: 35 Ap: 7.76e-01 Pobj: -1.0200632e+00 Ad: 1.00e+00 Dobj:  2.0523073e-02 \n",
      "Iter: 36 Ap: 9.23e-01 Pobj: -4.9304096e-01 Ad: 1.00e+00 Dobj:  1.9987687e-02 \n",
      "Iter: 37 Ap: 8.88e-01 Pobj: -3.0784110e-01 Ad: 1.00e+00 Dobj:  1.9322130e-02 \n",
      "Iter: 38 Ap: 1.00e+00 Pobj: -1.7918490e-01 Ad: 1.00e+00 Dobj:  1.8479477e-02 \n",
      "Iter: 39 Ap: 6.58e-01 Pobj: -1.2656688e-01 Ad: 1.00e+00 Dobj:  1.7577345e-02 \n",
      "Iter: 40 Ap: 7.96e-01 Pobj: -9.9211969e-02 Ad: 9.15e-01 Dobj:  1.6649856e-02 \n",
      "Iter: 41 Ap: 4.62e-01 Pobj: -8.5013303e-02 Ad: 1.00e+00 Dobj:  1.6079544e-02 \n",
      "Iter: 42 Ap: 7.40e-01 Pobj: -6.3355333e-02 Ad: 1.00e+00 Dobj:  1.5272077e-02 \n",
      "Iter: 43 Ap: 5.52e-01 Pobj: -5.4176414e-02 Ad: 1.00e+00 Dobj:  1.4689779e-02 \n",
      "Iter: 44 Ap: 1.00e+00 Pobj: -3.4624276e-02 Ad: 1.00e+00 Dobj:  1.3309056e-02 \n",
      "Iter: 45 Ap: 5.81e-01 Pobj: -2.8405162e-02 Ad: 1.00e+00 Dobj:  1.2176584e-02 \n",
      "Iter: 46 Ap: 5.18e-01 Pobj: -2.2163861e-02 Ad: 8.56e-01 Dobj:  1.0884494e-02 \n",
      "Iter: 47 Ap: 1.28e-01 Pobj: -2.1112515e-02 Ad: 3.99e-01 Dobj:  1.1528324e-02 \n",
      "Iter: 48 Ap: 4.13e-01 Pobj: -1.9431441e-02 Ad: 6.57e-01 Dobj:  1.0575106e-02 \n",
      "Iter: 49 Ap: 1.81e-01 Pobj: -1.8460272e-02 Ad: 7.22e-01 Dobj:  1.0243057e-02 \n",
      "Iter: 50 Ap: 2.52e-01 Pobj: -1.7590983e-02 Ad: 5.75e-01 Dobj:  9.7359240e-03 \n",
      "Iter: 51 Ap: 2.06e-01 Pobj: -1.6720592e-02 Ad: 6.30e-01 Dobj:  9.3937838e-03 \n",
      "Iter: 52 Ap: 1.80e-01 Pobj: -1.6132368e-02 Ad: 6.16e-01 Dobj:  9.2712644e-03 \n",
      "Iter: 53 Ap: 2.36e-01 Pobj: -1.5396464e-02 Ad: 6.81e-01 Dobj:  8.9247491e-03 \n",
      "Iter: 54 Ap: 2.47e-01 Pobj: -1.4370109e-02 Ad: 8.04e-01 Dobj:  8.3451120e-03 \n",
      "Iter: 55 Ap: 2.64e-01 Pobj: -1.3190960e-02 Ad: 9.50e-01 Dobj:  7.7260094e-03 \n",
      "Iter: 56 Ap: 4.81e-01 Pobj: -1.0665613e-02 Ad: 1.00e+00 Dobj:  6.9531619e-03 \n",
      "Iter: 57 Ap: 8.58e-01 Pobj: -6.0800195e-03 Ad: 1.00e+00 Dobj:  5.8173467e-03 \n",
      "Iter: 58 Ap: 7.02e-01 Pobj: -3.3636859e-03 Ad: 8.38e-01 Dobj:  4.2601372e-03 \n",
      "Iter: 59 Ap: 1.50e-01 Pobj: -3.1840208e-03 Ad: 7.20e-01 Dobj:  3.9009498e-03 \n",
      "Iter: 60 Ap: 2.91e-01 Pobj: -2.8429111e-03 Ad: 1.00e+00 Dobj:  3.2701537e-03 \n",
      "Iter: 61 Ap: 6.19e-01 Pobj: -1.8577465e-03 Ad: 1.00e+00 Dobj:  2.4426234e-03 \n",
      "Iter: 62 Ap: 6.39e-01 Pobj: -1.2214910e-03 Ad: 9.81e-01 Dobj:  2.1735512e-03 \n",
      "Iter: 63 Ap: 5.88e-01 Pobj: -8.4797856e-04 Ad: 1.00e+00 Dobj:  1.6812232e-03 \n",
      "Iter: 64 Ap: 7.09e-01 Pobj: -4.5684182e-04 Ad: 1.00e+00 Dobj:  1.0542752e-03 \n",
      "Iter: 65 Ap: 6.55e-01 Pobj: -2.7769423e-04 Ad: 1.00e+00 Dobj:  7.8038336e-04 \n",
      "Iter: 66 Ap: 7.81e-01 Pobj: -1.4701121e-04 Ad: 1.00e+00 Dobj:  5.2336788e-04 \n",
      "Iter: 67 Ap: 6.41e-01 Pobj: -9.1329230e-05 Ad: 9.61e-01 Dobj:  3.4075861e-04 \n",
      "Iter: 68 Ap: 8.37e-01 Pobj: -5.0027887e-05 Ad: 8.24e-01 Dobj:  2.8442181e-04 \n",
      "Iter: 69 Ap: 6.48e-01 Pobj: -3.2965799e-05 Ad: 1.00e+00 Dobj:  1.5505066e-04 \n",
      "Iter: 70 Ap: 5.25e-01 Pobj: -2.4778054e-05 Ad: 1.00e+00 Dobj:  1.3345528e-04 \n",
      "Iter: 71 Ap: 5.19e-01 Pobj: -1.7329207e-05 Ad: 8.18e-01 Dobj:  6.9798583e-05 \n",
      "Iter: 72 Ap: 5.05e-01 Pobj: -1.3176059e-05 Ad: 5.33e-01 Dobj:  7.1585968e-05 \n",
      "Iter: 73 Ap: 5.99e-01 Pobj: -8.8433179e-06 Ad: 5.56e-01 Dobj:  5.2742589e-05 \n",
      "Iter: 74 Ap: 6.13e-01 Pobj: -6.2074340e-06 Ad: 1.00e+00 Dobj:  3.0029197e-05 \n",
      "Iter: 75 Ap: 5.83e-01 Pobj: -4.5124667e-06 Ad: 8.78e-01 Dobj:  2.1070223e-05 \n",
      "Iter: 76 Ap: 6.79e-01 Pobj: -3.4669606e-06 Ad: 1.00e+00 Dobj:  1.5422597e-05 \n",
      "Iter: 77 Ap: 6.97e-01 Pobj: -2.2718885e-06 Ad: 7.22e-01 Dobj:  8.6150609e-06 \n",
      "Iter: 78 Ap: 6.66e-01 Pobj: -1.7708670e-06 Ad: 1.00e+00 Dobj:  2.8314746e-06 \n",
      "Iter: 79 Ap: 7.86e-01 Pobj: -1.2047514e-06 Ad: 1.00e+00 Dobj: -5.0725732e-07 \n",
      "Iter: 80 Ap: 7.22e-01 Pobj: -8.5637981e-07 Ad: 9.98e-01 Dobj: -2.4079957e-06 \n",
      "Iter: 81 Ap: 1.30e-01 Pobj: -8.3144724e-07 Ad: 9.89e-01 Dobj: -3.0351866e-06 \n",
      "Iter: 82 Ap: 3.16e-01 Pobj: -7.1949769e-07 Ad: 5.75e-01 Dobj: -3.4653461e-06 \n",
      "Iter: 83 Ap: 5.79e-01 Pobj: -5.8380924e-07 Ad: 1.00e+00 Dobj: -3.9157046e-06 \n",
      "Iter: 84 Ap: 7.65e-01 Pobj: -3.4927615e-07 Ad: 8.38e-01 Dobj: -4.6929775e-06 \n",
      "Iter: 85 Ap: 4.46e-01 Pobj: -3.0565753e-07 Ad: 1.00e+00 Dobj: -3.4812809e-06 \n",
      "Iter: 86 Ap: 9.33e-01 Pobj: -1.6030512e-07 Ad: 9.23e-01 Dobj: -3.4006170e-06 \n",
      "Iter: 87 Ap: 5.79e-01 Pobj: -1.1845115e-07 Ad: 8.54e-01 Dobj: -1.4965273e-06 \n",
      "Iter: 88 Ap: 6.92e-01 Pobj: -6.2693064e-08 Ad: 9.73e-01 Dobj: -5.3582573e-07 \n",
      "Iter: 89 Ap: 8.48e-01 Pobj: -1.8435997e-08 Ad: 8.07e-01 Dobj: -1.8622650e-07 \n",
      "Iter: 90 Ap: 1.00e+00 Pobj: -2.8735448e-09 Ad: 8.34e-01 Dobj: -4.6757250e-08 \n",
      "Iter: 91 Ap: 1.00e+00 Pobj: -5.2107234e-10 Ad: 9.00e-01 Dobj: -7.4354606e-09 \n",
      "Iter: 92 Ap: 9.01e-01 Pobj: -5.3923123e-11 Ad: 9.54e-01 Dobj: -5.8238663e-10 \n",
      "Success: SDP solved\n",
      "Primal objective value: -5.3923123e-11 \n",
      "Dual objective value: -5.8238663e-10 \n",
      "Relative primal infeasibility: 8.06e-11 \n",
      "Relative dual infeasibility: 8.04e-11 \n",
      "Real Relative Gap: -5.28e-10 \n",
      "XZ Relative Gap: 1.03e-09 \n",
      "DIMACS error measures: 1.26e-09 0.00e+00 3.67e-10 0.00e+00 -5.28e-10 1.03e-09\n"
     ]
    },
    {
     "data": {
      "text/plain": [
       "5.392312291130352e-11"
      ]
     },
     "execution_count": 9,
     "metadata": {},
     "output_type": "execute_result"
    }
   ],
   "source": [
    "# First solving the sdp\n",
    "CTG.solve_sdp(B000 + B011 - (1-1/1000)*M, target_size, maximize=True,\n",
    "              positives=assums, construction=ders, \n",
    "              file=\"certificates/prop_3_3_c7_sdp\")"
   ]
  },
  {
   "cell_type": "code",
   "execution_count": 10,
   "id": "5e6795ad-02cf-4de8-98e7-3a5a2a7f6007",
   "metadata": {},
   "outputs": [
    {
     "name": "stdout",
     "output_type": "stream",
     "text": [
      "Starting the rounding of the result\n",
      "Flattening X matrices\n",
      "This took 57.47968769073486s\n",
      "Correcting flat X matrices\n",
      "Dimensions:  (399, 57021)\n",
      "This took 2.416335344314575s\n",
      "Unflattening X matrices\n",
      "This took 0.0006625652313232422s\n",
      "Calculating resulting bound\n"
     ]
    },
    {
     "name": "stderr",
     "output_type": "stream",
     "text": [
      "100%|████████████████████████████████████████| 33/33 [5:14:53<00:00, 572.53s/it]\n"
     ]
    },
    {
     "name": "stdout",
     "output_type": "stream",
     "text": [
      "This took 18894.880256414413s\n",
      "Final rounded bound is 0\n"
     ]
    },
    {
     "data": {
      "text/plain": [
       "0"
      ]
     },
     "execution_count": 10,
     "metadata": {},
     "output_type": "execute_result"
    }
   ],
   "source": [
    "# Second, rounding the sdp solution\n",
    "CTG.round_solution(\"certificates/prop_3_3_c7_sdp\", certificate_file=\"certificates/prop_3_3_c7\", \n",
    "                   denom=2**10 * 225, slack_threshold=1e-6)"
   ]
  },
  {
   "cell_type": "code",
   "execution_count": null,
   "id": "2f735d75-ce66-4e20-aaa5-f5eb1fb54d9f",
   "metadata": {},
   "outputs": [],
   "source": []
  }
 ],
 "metadata": {
  "kernelspec": {
   "display_name": "SageMath 10.5.beta7",
   "language": "sage",
   "name": "sagemath"
  },
  "language_info": {
   "codemirror_mode": {
    "name": "ipython",
    "version": 3
   },
   "file_extension": ".py",
   "mimetype": "text/x-python",
   "name": "python",
   "nbconvert_exporter": "python",
   "pygments_lexer": "ipython3",
   "version": "3.12.3"
  }
 },
 "nbformat": 4,
 "nbformat_minor": 5
}
