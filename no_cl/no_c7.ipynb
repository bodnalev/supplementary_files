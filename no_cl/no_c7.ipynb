{
 "cells": [
  {
   "cell_type": "markdown",
   "id": "40a2bb5a-499d-4de7-8b2c-b5d544610c98",
   "metadata": {},
   "source": [
    "The Turán number of $C_7$\n",
    "==============================\n",
    "\n",
    "Forbidding all homomorphic images of C7: K4, F1, and F2"
   ]
  },
  {
   "cell_type": "code",
   "execution_count": 1,
   "id": "fe5b9540-73c4-43d2-ac55-fe92a1d5f999",
   "metadata": {},
   "outputs": [
    {
     "name": "stdout",
     "output_type": "stream",
     "text": [
      "Number of structures without K4, F1, F2\n",
      "and size 5:  19  (should be 19)\n",
      "and size 6:  371  (should be 371)\n",
      "\n",
      "Number of 2 colored structures without K4, F1, F2\n",
      "and size 5:  302  (should be 302)\n",
      "and size 6:  16807  (should be 16807)\n"
     ]
    }
   ],
   "source": [
    "# Setting up three graph theory\n",
    "K4 = ThreeGraphTheory(4, edges=[[0, 1, 2], [1, 2, 3], [0, 2, 3], [0, 1, 3]])\n",
    "# C5 = ThreeGraphTheory.p(5, edges=[[0, 1, 2], [1, 2, 3], [2, 3, 4], [3, 4, 0], [4, 0, 1]])\n",
    "# ThreeGraphTheory.exclude([K4, C5])\n",
    "F1 = ThreeGraphTheory.pattern(5, edges=[[0, 1, 2], [0, 1, 3], [0, 1, 4], [0, 2, 4], [1, 3, 4]])\n",
    "F2 = ThreeGraphTheory.pattern(6, edges=[[0, 1, 2], [0, 1, 5], [0, 2, 3], [0, 3, 4], [0, 4, 5], [1, 4, 5]])\n",
    "ThreeGraphTheory.exclude([K4, F1, F2])\n",
    "TG = ThreeGraphTheory\n",
    "\n",
    "# Setting up colored theory\n",
    "TwoColorTheory = combine(\"2Colors\", Color0, Color1, symmetries=NoSymmetry)\n",
    "TwoColorTheory.exclude([TwoColorTheory(1), TwoColorTheory(1, C0=[0], C1=[0])])\n",
    "CTG = combine(\"2ColorThreeGraphs\", TG, TwoColorTheory)\n",
    "\n",
    "# Testing the generation of structures\n",
    "print(\"Number of structures without K4, F1, F2\")\n",
    "print(\"and size 5: \", len(TG.generate(5)), \" (should be 19)\")\n",
    "print(\"and size 6: \", len(TG.generate(6)), \" (should be 371)\")\n",
    "\n",
    "print(\"\\nNumber of 2 colored structures without K4, F1, F2\")\n",
    "print(\"and size 5: \", len(CTG.generate(5)), \" (should be 302)\")\n",
    "print(\"and size 6: \", len(CTG.generate(6)), \" (should be 16807)\")\n",
    "TG.printlevel(0)"
   ]
  },
  {
   "cell_type": "code",
   "execution_count": 10,
   "id": "37a63cda-8301-47a5-873e-69f3ac72abc0",
   "metadata": {},
   "outputs": [
    {
     "name": "stdout",
     "output_type": "stream",
     "text": [
      "The initial upper bound on the Turan density from Proposition 3.1 is 60891/131072 ~= 0.464561462402344\n"
     ]
    }
   ],
   "source": [
    "a31 = TG.optimize(TG(3, edges=[[0, 1, 2]]), 6, exact=True, denom=2**20, file=\"certificates/prop_3_1_c7\")\n",
    "print(\"The initial upper bound on the Turan density from Proposition 3.1 is {} ~= {}\".format(a31, a31.n()))"
   ]
  },
  {
   "cell_type": "code",
   "execution_count": 11,
   "id": "6130bd1d-9ee6-4050-a384-49f50e77508a",
   "metadata": {},
   "outputs": [
    {
     "name": "stdout",
     "output_type": "stream",
     "text": [
      "The max-cut ratio returned by Proposition 3.2 is at least 337992541/811880000 ~= 0.416308495097798\n"
     ]
    }
   ],
   "source": [
    "# Generate good partition\n",
    "target_size = 6\n",
    "all_graphs = TG.generate(target_size, TG(3, ftype=[0, 1, 2], edges=[[0, 1, 2]]))\n",
    "\n",
    "edge = TG(3, edges=[[0, 1, 2]])\n",
    "target_typed = 0\n",
    "for ii, flag in enumerate(all_graphs):\n",
    "    nfp = flag.not_ftype_points()\n",
    "    if flag.subflag(points=nfp, ftype_points=[]) != edge:\n",
    "        continue\n",
    "    A = 0\n",
    "    for xx in nfp:\n",
    "        touch = len(flag.subflag(points=[xx]).blocks(\"edges\")) - 1\n",
    "        if touch not in [0, 1]:\n",
    "            A += 1\n",
    "    if A == 2:\n",
    "        target_typed += flag\n",
    "target_flag = target_typed.project()\n",
    "\n",
    "# Minimum degree\n",
    "degree = TG(3, ftype=[0], edges=[[0, 1, 2]])\n",
    "positives = [degree - 0.4641]\n",
    "# Regularity\n",
    "degree_difference = TG.p(4, ftype=[0, 1], edges=[[0, 2, 3]], edges_m=[[1, 2, 3]]) - \\\n",
    "TG.p(4, ftype=[0, 1], edges=[[0, 2, 3]], edges_m=[[1, 2, 3]])\n",
    "positives += [degree_difference, -degree_difference]\n",
    "\n",
    "# Optimize\n",
    "ratio = TG.optimize(target_flag, target_size, maximize=False, \n",
    "                    positives=positives, exact=True, denom=2**20, \n",
    "                    file=\"certificates/prop_3_2_c7\"\n",
    "                   )\n",
    "a32 = ratio / a31\n",
    "print(\"The max-cut ratio returned by Proposition 3.2 is at least {} ~= {}\".format(a32, a32.n()))"
   ]
  },
  {
   "cell_type": "code",
   "execution_count": 3,
   "id": "d2b75bc6-0c5d-490c-857c-d5770f250743",
   "metadata": {},
   "outputs": [
    {
     "name": "stderr",
     "output_type": "stream",
     "text": [
      "/home/levente/sage/src/sage/algebras/combinatorial_theory.py:2787: UserWarning: The pattern is initialized with optional relations inside \n",
      "            the ftype. Those relations will be missing in the resulting pattern.\n",
      "  return Pattern(self, n, ftype_points, **blocks)\n",
      "/home/levente/sage/src/sage/algebras/combinatorial_theory.py:2787: UserWarning: The pattern is initialized with optional relations inside \n",
      "            the ftype. Those relations will be missing in the resulting pattern.\n",
      "  return Pattern(self, n, ftype_points, **blocks)\n",
      "100%|█████████████████████████████████████████████| 7/7 [00:00<00:00,  9.73it/s]\n"
     ]
    }
   ],
   "source": [
    "target_size = 6\n",
    "\n",
    "# Edge with correct colors\n",
    "C = CTG(3, edges=[[0, 1, 2]], C0=[0, 1], C1=[2])\n",
    "# Missing edge with good colors\n",
    "M = CTG(3, edges=[], C0=[0, 1], C1=[2])\n",
    "# Pointed edge with correct colors, point from color 0\n",
    "Cp0 = CTG(3, edges=[[0, 1, 2]], C0=[0, 1], C1=[2], ftype=[0])\n",
    "# Pointed edge with correct colors, point from color 1\n",
    "Cp1 = CTG(3, edges=[[0, 1, 2]], C0=[0, 1], C1=[2], ftype=[2])\n",
    "\n",
    "\n",
    "# Edge with bad colors all in color 0\n",
    "B000 = CTG(3, edges=[[0, 1, 2]], C0=[0, 1, 2], C1=[])\n",
    "# Edge with bad colors, looking the wrong way\n",
    "B011 = CTG(3, edges=[[0, 1, 2]], C0=[0], C1=[1, 2])\n",
    "# Pointed edge with bad colors, point from moving 1 -> 0\n",
    "Bp0 = CTG(3, edges=[[0, 1, 2]], C0=[0, 1, 2], C1=[], ftype=[0])\n",
    "# Pointed edge with bad colors, point from moving 0 -> 1\n",
    "Bp1 = CTG(3, edges=[[0, 1, 2]], C0=[0], C1=[1, 2], ftype=[2])\n",
    "\n",
    "# Degree equality conditions for various type pairs\n",
    "degeq_00 = CTG.p(4, ftype=[0, 1], edges=[[0, 2, 3]], edges_m=[[1, 2, 3]], C0=[0, 1]) - \\\n",
    "           CTG.p(4, ftype=[1, 0], edges=[[0, 2, 3]], edges_m=[[1, 2, 3]], C0=[0, 1])\n",
    "degeq_01 = CTG.p(4, ftype=[0, 1], edges=[[0, 2, 3]], edges_m=[[1, 2, 3]], C0=[0], C1=[1]) - \\\n",
    "           CTG.p(4, ftype=[0, 1], edges=[[1, 2, 3]], edges_m=[[0, 2, 3]], C0=[0], C1=[1])\n",
    "degeq_11 = CTG.p(4, ftype=[0, 1], edges=[[0, 2, 3]], edges_m=[[1, 2, 3]], C1=[0, 1]) - \\\n",
    "           CTG.p(4, ftype=[1, 0], edges=[[0, 2, 3]], edges_m=[[1, 2, 3]], C1=[0, 1])\n",
    "\n",
    "# Assumptions used in the proof\n",
    "assums = [\n",
    "    Cp0 - Bp0, Cp1 - Bp1, # Local optimality\n",
    "    degeq_00, -degeq_00, degeq_01, -degeq_01, degeq_11, -degeq_11, # Degree regularity\n",
    "    C - 2/5 # Best fit assumption\n",
    "]\n",
    "\n",
    "# Close rational approximation for gamma: 2521/5432\n",
    "gamma = continued_fraction(2*sqrt(3) - 3).convergent(7)\n",
    "# Optimal construction and its derivatives\n",
    "symbolic_constr = CTG.blowup_construction(target_size, 2, edges=[[0, 0, 1]], C0=[[0]], C1=[[1]], symbolic_parts=True).set_sum()\n",
    "ders = symbolic_constr.derivatives([gamma])"
   ]
  },
  {
   "cell_type": "code",
   "execution_count": 4,
   "id": "97a1e3f7-de1d-46ae-9136-59b85660d3e2",
   "metadata": {},
   "outputs": [
    {
     "name": "stdout",
     "output_type": "stream",
     "text": [
      "Base flags generated, their number is 16807\n",
      "The relevant ftypes are constructed, their number is 33\n",
      "Block sizes before symmetric/asymmetric change is applied: [37, 37, 37, 128, 128, 128, 128, 128, 94, 94, 94, 94, 94, 94, 94, 94, 78, 78, 78, 78, 78, 78, 78, 78, 78, 36, 36, 36, 36, 36, 36, 36, 36]\n"
     ]
    },
    {
     "name": "stderr",
     "output_type": "stream",
     "text": [
      "Done with mult table for Ftype on 4 points with edges=(013 023 123), C0=(0 1 2 3), C1=(): : 33it [00:09,  3.51it/s]\n"
     ]
    },
    {
     "name": "stdout",
     "output_type": "stream",
     "text": [
      "Adjusting table with kernels from construction\n",
      "Tables finished\n"
     ]
    },
    {
     "name": "stderr",
     "output_type": "stream",
     "text": [
      "Done with positivity constraint 8: 100%|██████████| 9/9 [03:01<00:00, 20.11s/it]\n"
     ]
    },
    {
     "name": "stdout",
     "output_type": "stream",
     "text": [
      "Constraints finished\n",
      "Running SDP. Used block sizes are [26, 10, 36, 26, 10, 21, 106, 39, 88, 56, 72, 40, 88, 21, 106, 28, 66, 58, 36, 28, 66, 58, 36, 58, 36, 28, 66, 58, 36, 28, 66, 34, 44, 48, 30, 50, 28, 78, 34, 44, 33, 44, 50, 28, 48, 30, 34, 44, 16, 20, 16, 20, 26, 10, 26, 10, 26, 10, 26, 10, 15, 20, 16, 20, -16807, -304]\n"
     ]
    },
    {
     "data": {
      "text/plain": [
       "4.121579397220465e-10"
      ]
     },
     "execution_count": 4,
     "metadata": {},
     "output_type": "execute_result"
    }
   ],
   "source": [
    "# First solving the sdp\n",
    "CTG.solve_sdp(B000 + B011 - (1-1/1000)*M, target_size, maximize=True,\n",
    "              positives=assums, construction=ders, \n",
    "              file=\"certificates/prop_3_3_c7_sdp\")"
   ]
  },
  {
   "cell_type": "code",
   "execution_count": 5,
   "id": "5e6795ad-02cf-4de8-98e7-3a5a2a7f6007",
   "metadata": {},
   "outputs": [
    {
     "name": "stdout",
     "output_type": "stream",
     "text": [
      "Starting the rounding of the result\n",
      "Flattening X matrices\n",
      "This took 52.023868560791016s\n",
      "Correcting flat X matrices\n",
      "Dimensions:  (399, 57021)\n",
      "This took 2.463675022125244s\n",
      "Unflattening X matrices\n",
      "This took 0.0005753040313720703s\n",
      "Calculating resulting bound\n"
     ]
    },
    {
     "name": "stderr",
     "output_type": "stream",
     "text": [
      "100%|███████████████████████████████████████████| 33/33 [44:33<00:00, 81.01s/it]\n"
     ]
    },
    {
     "name": "stdout",
     "output_type": "stream",
     "text": [
      "This took 2674.9620792865753s\n",
      "Final rounded bound is 0\n"
     ]
    },
    {
     "data": {
      "text/plain": [
       "0"
      ]
     },
     "execution_count": 5,
     "metadata": {},
     "output_type": "execute_result"
    }
   ],
   "source": [
    "# Second, rounding the sdp solution\n",
    "CTG.round_solution(\"certificates/prop_3_3_c7_sdp\", certificate_file=\"certificates/prop_3_3_c7\", \n",
    "                   denom=2**10 * 225, slack_threshold=1e-6)"
   ]
  }
 ],
 "metadata": {
  "kernelspec": {
   "display_name": "SageMath 10.5.beta7",
   "language": "sage",
   "name": "sagemath"
  },
  "language_info": {
   "codemirror_mode": {
    "name": "ipython",
    "version": 3
   },
   "file_extension": ".py",
   "mimetype": "text/x-python",
   "name": "python",
   "nbconvert_exporter": "python",
   "pygments_lexer": "ipython3",
   "version": "3.12.3"
  }
 },
 "nbformat": 4,
 "nbformat_minor": 5
}
