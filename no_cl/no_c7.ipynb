{
 "cells": [
  {
   "cell_type": "markdown",
   "id": "40a2bb5a-499d-4de7-8b2c-b5d544610c98",
   "metadata": {},
   "source": [
    "The Turán number of $C_7$\n",
    "==============================\n",
    "\n",
    "Forbidding all homomorphic images of C7: K4, F1, and F2"
   ]
  },
  {
   "cell_type": "code",
   "execution_count": 4,
   "id": "fe5b9540-73c4-43d2-ac55-fe92a1d5f999",
   "metadata": {},
   "outputs": [
    {
     "name": "stdout",
     "output_type": "stream",
     "text": [
      "Number of structures without K4, F1, F2\n",
      "and size 5:  19  (should be 19)\n",
      "and size 6:  371  (should be 371)\n",
      "\n",
      "Number of 2 colored structures without K4, F1, F2\n",
      "and size 5:  302  (should be 302)\n",
      "and size 6:  16807  (should be 16807)\n"
     ]
    }
   ],
   "source": [
    "# Setting up three graph theory\n",
    "K4 = ThreeGraphTheory(4, edges=[[0, 1, 2], [1, 2, 3], [0, 2, 3], [0, 1, 3]])\n",
    "# C5 = ThreeGraphTheory.p(5, edges=[[0, 1, 2], [1, 2, 3], [2, 3, 4], [3, 4, 0], [4, 0, 1]])\n",
    "# ThreeGraphTheory.exclude([K4, C5])\n",
    "F1 = ThreeGraphTheory.pattern(5, edges=[[0, 1, 2], [0, 1, 3], [0, 1, 4], [0, 2, 4], [1, 3, 4]])\n",
    "F2 = ThreeGraphTheory.pattern(6, edges=[[0, 1, 2], [0, 1, 5], [0, 2, 3], [0, 3, 4], [0, 4, 5], [1, 4, 5]])\n",
    "ThreeGraphTheory.exclude([K4, F1, F2])\n",
    "TG = ThreeGraphTheory\n",
    "\n",
    "# Setting up colored theory\n",
    "TwoColorTheory = combine(\"2Colors\", Color0, Color1, symmetries=NoSymmetry)\n",
    "TwoColorTheory.exclude([TwoColorTheory(1), TwoColorTheory(1, C0=[0], C1=[0])])\n",
    "CTG = combine(\"2ColorThreeGraphs\", TG, TwoColorTheory)\n",
    "\n",
    "# Testing the generation of structures\n",
    "print(\"Number of structures without K4, F1, F2\")\n",
    "print(\"and size 5: \", len(TG.generate(5)), \" (should be 19)\")\n",
    "print(\"and size 6: \", len(TG.generate(6)), \" (should be 371)\")\n",
    "\n",
    "print(\"\\nNumber of 2 colored structures without K4, F1, F2\")\n",
    "print(\"and size 5: \", len(CTG.generate(5)), \" (should be 302)\")\n",
    "print(\"and size 6: \", len(CTG.generate(6)), \" (should be 16807)\")\n",
    "TG.printlevel(0)"
   ]
  },
  {
   "cell_type": "code",
   "execution_count": 5,
   "id": "37a63cda-8301-47a5-873e-69f3ac72abc0",
   "metadata": {},
   "outputs": [
    {
     "name": "stdout",
     "output_type": "stream",
     "text": [
      "The initial upper bound on the Turan density from Proposition 3.1 is 60891/131072 ~= 0.464561462402344\n"
     ]
    }
   ],
   "source": [
    "a31 = TG.optimize(TG(3, edges=[[0, 1, 2]]), 6, exact=True, denom=2**20, file=\"certificates/prop_3_1_c7\")\n",
    "print(\"The initial upper bound on the Turan density from Proposition 3.1 is {} ~= {}\".format(a31, a31.n()))"
   ]
  },
  {
   "cell_type": "code",
   "execution_count": 6,
   "id": "6130bd1d-9ee6-4050-a384-49f50e77508a",
   "metadata": {},
   "outputs": [
    {
     "name": "stdout",
     "output_type": "stream",
     "text": [
      "The max-cut ratio returned by Proposition 3.2 is at least 2013187661/4871280000 ~= 0.413276933578033\n"
     ]
    }
   ],
   "source": [
    "# Generate good partition\n",
    "target_size = 6\n",
    "all_graphs = TG.generate(target_size, TG(3, ftype=[0, 1, 2], edges=[[0, 1, 2]]))\n",
    "\n",
    "edge = TG(3, edges=[[0, 1, 2]])\n",
    "target_typed = 0\n",
    "for ii, flag in enumerate(all_graphs):\n",
    "    nfp = flag.not_ftype_points()\n",
    "    if flag.subflag(points=nfp, ftype_points=[]) != edge:\n",
    "        continue\n",
    "    A = 0\n",
    "    for xx in nfp:\n",
    "        touch = len(flag.subflag(points=[xx]).blocks(\"edges\")) - 1\n",
    "        if touch not in [0, 1]:\n",
    "            A += 1\n",
    "    if A == 2:\n",
    "        target_typed += flag\n",
    "target_flag = target_typed.project()\n",
    "\n",
    "# Average degree lower bound \n",
    "positives = [TG(3, edges=[[0, 1, 2]]) - 4641/10000]\n",
    "\n",
    "# Optimize\n",
    "ratio = TG.optimize(target_flag, target_size, maximize=False, \n",
    "                    positives=positives, exact=True, denom=2**20, \n",
    "                    file=\"certificates/prop_3_2_c7\"\n",
    "                   )\n",
    "a32 = ratio / a31\n",
    "print(\"The max-cut ratio returned by Proposition 3.2 is at least {} ~= {}\".format(a32, a32.n()))"
   ]
  },
  {
   "cell_type": "code",
   "execution_count": 7,
   "id": "d2b75bc6-0c5d-490c-857c-d5770f250743",
   "metadata": {},
   "outputs": [
    {
     "name": "stderr",
     "output_type": "stream",
     "text": [
      "/home/levente/sage/src/sage/algebras/combinatorial_theory.py:2919: UserWarning: The pattern is initialized with optional relations inside \n",
      "            the ftype. Those relations will be missing in the resulting pattern.\n",
      "  return Pattern(self, n, ftype_points, **blocks)\n"
     ]
    }
   ],
   "source": [
    "target_size = 6\n",
    "\n",
    "# Edge with correct colors\n",
    "C = CTG(3, edges=[[0, 1, 2]], C0=[0, 1], C1=[2])\n",
    "# Missing edge with good colors\n",
    "M = CTG(3, edges=[], C0=[0, 1], C1=[2])\n",
    "# Pointed edge with correct colors, point from color 0\n",
    "Cp0 = CTG(3, edges=[[0, 1, 2]], C0=[0, 1], C1=[2], ftype=[0])\n",
    "# Pointed edge with correct colors, point from color 1\n",
    "Cp1 = CTG(3, edges=[[0, 1, 2]], C0=[0, 1], C1=[2], ftype=[2])\n",
    "\n",
    "\n",
    "# Edge with bad colors all in color 0\n",
    "B000 = CTG(3, edges=[[0, 1, 2]], C0=[0, 1, 2], C1=[])\n",
    "# Edge with bad colors, looking the wrong way\n",
    "B011 = CTG(3, edges=[[0, 1, 2]], C0=[0], C1=[1, 2])\n",
    "# Pointed edge with bad colors, point from moving 1 -> 0\n",
    "Bp0 = CTG(3, edges=[[0, 1, 2]], C0=[0, 1, 2], C1=[], ftype=[0])\n",
    "# Pointed edge with bad colors, point from moving 0 -> 1\n",
    "Bp1 = CTG(3, edges=[[0, 1, 2]], C0=[0], C1=[1, 2], ftype=[2])\n",
    "\n",
    "# Degree equality conditions for various type pairs\n",
    "degeq_00 = CTG.p(4, ftype=[0, 1], edges=[[0, 2, 3]], edges_m=[[1, 2, 3]], C0=[0, 1]) - \\\n",
    "           CTG.p(4, ftype=[1, 0], edges=[[0, 2, 3]], edges_m=[[1, 2, 3]], C0=[0, 1])\n",
    "degeq_01 = CTG.p(4, ftype=[0, 1], edges=[[0, 2, 3]], edges_m=[[1, 2, 3]], C0=[0], C1=[1]) - \\\n",
    "           CTG.p(4, ftype=[0, 1], edges=[[1, 2, 3]], edges_m=[[0, 2, 3]], C0=[0], C1=[1])\n",
    "degeq_11 = CTG.p(4, ftype=[0, 1], edges=[[0, 2, 3]], edges_m=[[1, 2, 3]], C1=[0, 1]) - \\\n",
    "           CTG.p(4, ftype=[1, 0], edges=[[0, 2, 3]], edges_m=[[1, 2, 3]], C1=[0, 1])\n",
    "\n",
    "# Assumptions used in the proof\n",
    "assums = [\n",
    "    Cp0 - Bp0, Cp1 - Bp1, # Local optimality\n",
    "    degeq_00, -degeq_00, degeq_01, -degeq_01, degeq_11, -degeq_11, # Degree regularity\n",
    "    C - 2/5 # Best fit assumption\n",
    "]\n",
    "\n",
    "# Close rational approximation for gamma: 2521/5432\n",
    "gamma = continued_fraction(2*sqrt(3) - 3).convergent(7)\n",
    "# Optimal construction and its derivatives\n",
    "symbolic_constr = CTG.blowup_construction(target_size, [\"X0\", \"X1\"], edges=[[0, 0, 1]], C0=[[0]], C1=[[1]]).set_sum()\n",
    "ders = symbolic_constr.derivatives([gamma])"
   ]
  },
  {
   "cell_type": "code",
   "execution_count": 8,
   "id": "97a1e3f7-de1d-46ae-9136-59b85660d3e2",
   "metadata": {},
   "outputs": [
    {
     "name": "stdout",
     "output_type": "stream",
     "text": [
      "Base flags generated, their number is 16807\n",
      "The relevant ftypes are constructed, their number is 33\n",
      "Block sizes before symmetric/asymmetric change is applied: [37, 37, 37, 128, 128, 128, 128, 128, 94, 94, 94, 94, 94, 94, 94, 94, 78, 78, 78, 78, 78, 78, 78, 78, 78, 36, 36, 36, 36, 36, 36, 36, 36]\n"
     ]
    },
    {
     "name": "stderr",
     "output_type": "stream",
     "text": [
      "Done with mult table for Ftype on 4 points with edges=(013 023 123), C0=(0 1 2 3), C1=(): : 33it [00:09,  3.32it/s]\n"
     ]
    },
    {
     "name": "stdout",
     "output_type": "stream",
     "text": [
      "Adjusting table with kernels from construction\n",
      "Tables finished\n"
     ]
    },
    {
     "name": "stderr",
     "output_type": "stream",
     "text": [
      "Done with positivity constraint 8: 100%|██████████| 9/9 [02:41<00:00, 17.90s/it]\n"
     ]
    },
    {
     "name": "stdout",
     "output_type": "stream",
     "text": [
      "Constraints finished\n",
      "Running SDP. Used block sizes are [26, 10, 36, 26, 10, 21, 106, 39, 88, 56, 72, 40, 88, 21, 106, 28, 66, 58, 36, 28, 66, 58, 36, 58, 36, 28, 66, 58, 36, 28, 66, 34, 44, 48, 30, 50, 28, 78, 34, 44, 33, 44, 50, 28, 48, 30, 34, 44, 16, 20, 16, 20, 26, 10, 26, 10, 26, 10, 26, 10, 15, 20, 16, 20, -16807, -304]\n",
      "CSDP 6.2.0\n",
      "Iter:  0 Ap: 0.00e+00 Pobj:  0.0000000e+00 Ad: 0.00e+00 Dobj:  0.0000000e+00 \n",
      "Iter:  1 Ap: 4.07e-02 Pobj: -7.2634649e+00 Ad: 2.82e-02 Dobj:  1.0037747e+02 \n",
      "Iter:  2 Ap: 4.94e-02 Pobj: -1.7394525e+01 Ad: 7.52e-02 Dobj:  8.1652494e+01 \n",
      "Iter:  3 Ap: 1.15e-01 Pobj: -4.1776578e+01 Ad: 1.29e-01 Dobj:  8.8920211e+01 \n",
      "Iter:  4 Ap: 1.00e+00 Pobj: -1.9796860e+02 Ad: 3.00e-01 Dobj:  5.9015251e+01 \n",
      "Iter:  5 Ap: 1.00e+00 Pobj: -2.2498211e+02 Ad: 8.28e-01 Dobj:  9.5789416e+00 \n",
      "Iter:  6 Ap: 1.00e+00 Pobj: -2.4297614e+02 Ad: 9.26e-01 Dobj:  6.8913116e-01 \n",
      "Iter:  7 Ap: 1.00e+00 Pobj: -2.6655755e+02 Ad: 9.10e-01 Dobj:  8.5230265e-02 \n",
      "Iter:  8 Ap: 1.00e+00 Pobj: -3.2170132e+02 Ad: 7.75e-01 Dobj:  3.5589072e-02 \n",
      "Iter:  9 Ap: 4.88e-01 Pobj: -2.8081323e+02 Ad: 6.15e-01 Dobj:  3.2870199e-02 \n",
      "Iter: 10 Ap: 4.64e-01 Pobj: -2.4517457e+02 Ad: 5.17e-01 Dobj:  2.3403919e-02 \n",
      "Iter: 11 Ap: 4.52e-01 Pobj: -2.1983522e+02 Ad: 6.57e-01 Dobj:  2.0213836e-02 \n",
      "Iter: 12 Ap: 4.12e-01 Pobj: -1.9774608e+02 Ad: 4.72e-01 Dobj:  2.1614919e-02 \n",
      "Iter: 13 Ap: 3.52e-01 Pobj: -1.8086600e+02 Ad: 5.12e-01 Dobj:  2.1925787e-02 \n",
      "Iter: 14 Ap: 5.13e-01 Pobj: -1.4425541e+02 Ad: 5.09e-01 Dobj:  2.1928247e-02 \n",
      "Iter: 15 Ap: 5.36e-01 Pobj: -1.1519909e+02 Ad: 4.97e-01 Dobj:  2.3557376e-02 \n",
      "Iter: 16 Ap: 4.88e-01 Pobj: -1.0813050e+02 Ad: 4.47e-01 Dobj:  2.5676817e-02 \n",
      "Iter: 17 Ap: 3.70e-01 Pobj: -1.0383602e+02 Ad: 5.10e-01 Dobj:  2.6656397e-02 \n",
      "Iter: 18 Ap: 3.05e-01 Pobj: -9.6658598e+01 Ad: 4.27e-01 Dobj:  2.6991235e-02 \n",
      "Iter: 19 Ap: 4.36e-01 Pobj: -8.6592934e+01 Ad: 4.23e-01 Dobj:  2.7264366e-02 \n",
      "Iter: 20 Ap: 2.58e-01 Pobj: -8.5064478e+01 Ad: 3.59e-01 Dobj:  2.6738714e-02 \n",
      "Iter: 21 Ap: 2.42e-01 Pobj: -8.2518785e+01 Ad: 4.37e-01 Dobj:  2.6154483e-02 \n",
      "Iter: 22 Ap: 2.93e-01 Pobj: -7.6963888e+01 Ad: 4.77e-01 Dobj:  2.5667478e-02 \n",
      "Iter: 23 Ap: 2.61e-01 Pobj: -7.1985178e+01 Ad: 4.55e-01 Dobj:  2.4670101e-02 \n",
      "Iter: 24 Ap: 2.19e-01 Pobj: -6.8265159e+01 Ad: 3.87e-01 Dobj:  2.4181314e-02 \n",
      "Iter: 25 Ap: 3.54e-01 Pobj: -6.1437671e+01 Ad: 4.54e-01 Dobj:  2.3305181e-02 \n",
      "Iter: 26 Ap: 3.35e-01 Pobj: -5.5365464e+01 Ad: 5.58e-01 Dobj:  2.2512781e-02 \n",
      "Iter: 27 Ap: 2.81e-01 Pobj: -5.0184847e+01 Ad: 5.75e-01 Dobj:  2.1992438e-02 \n",
      "Iter: 28 Ap: 4.28e-01 Pobj: -4.1610714e+01 Ad: 4.89e-01 Dobj:  2.1726060e-02 \n",
      "Iter: 29 Ap: 2.82e-01 Pobj: -3.7334307e+01 Ad: 4.51e-01 Dobj:  2.1510696e-02 \n",
      "Iter: 30 Ap: 2.99e-01 Pobj: -3.2997440e+01 Ad: 3.95e-01 Dobj:  2.1337884e-02 \n",
      "Iter: 31 Ap: 2.95e-01 Pobj: -2.8870994e+01 Ad: 4.88e-01 Dobj:  2.1153295e-02 \n",
      "Iter: 32 Ap: 3.40e-01 Pobj: -2.3245476e+01 Ad: 8.65e-01 Dobj:  2.0956599e-02 \n",
      "Iter: 33 Ap: 6.30e-01 Pobj: -1.0720269e+01 Ad: 1.00e+00 Dobj:  2.0893781e-02 \n",
      "Iter: 34 Ap: 8.77e-01 Pobj: -2.4586191e+00 Ad: 1.00e+00 Dobj:  2.0816264e-02 \n",
      "Iter: 35 Ap: 7.75e-01 Pobj: -1.0206958e+00 Ad: 1.00e+00 Dobj:  2.0545342e-02 \n",
      "Iter: 36 Ap: 9.23e-01 Pobj: -4.9327442e-01 Ad: 1.00e+00 Dobj:  2.0010047e-02 \n",
      "Iter: 37 Ap: 8.88e-01 Pobj: -3.0805925e-01 Ad: 1.00e+00 Dobj:  1.9344274e-02 \n",
      "Iter: 38 Ap: 1.00e+00 Pobj: -1.7929455e-01 Ad: 1.00e+00 Dobj:  1.8501215e-02 \n",
      "Iter: 39 Ap: 6.59e-01 Pobj: -1.2659339e-01 Ad: 1.00e+00 Dobj:  1.7597931e-02 \n",
      "Iter: 40 Ap: 7.96e-01 Pobj: -9.9237364e-02 Ad: 9.17e-01 Dobj:  1.6667137e-02 \n",
      "Iter: 41 Ap: 4.63e-01 Pobj: -8.5019448e-02 Ad: 1.00e+00 Dobj:  1.6097944e-02 \n",
      "Iter: 42 Ap: 7.37e-01 Pobj: -6.3487406e-02 Ad: 1.00e+00 Dobj:  1.5290827e-02 \n",
      "Iter: 43 Ap: 5.44e-01 Pobj: -5.4449701e-02 Ad: 1.00e+00 Dobj:  1.4718639e-02 \n",
      "Iter: 44 Ap: 1.00e+00 Pobj: -3.4917422e-02 Ad: 1.00e+00 Dobj:  1.3344506e-02 \n",
      "Iter: 45 Ap: 5.97e-01 Pobj: -2.8346915e-02 Ad: 1.00e+00 Dobj:  1.2203876e-02 \n",
      "Iter: 46 Ap: 6.23e-01 Pobj: -2.0313938e-02 Ad: 8.27e-01 Dobj:  1.0846751e-02 \n",
      "Iter: 47 Ap: 1.25e-01 Pobj: -1.9411997e-02 Ad: 4.12e-01 Dobj:  1.1377175e-02 \n",
      "Iter: 48 Ap: 4.56e-01 Pobj: -1.7507537e-02 Ad: 6.75e-01 Dobj:  1.0289980e-02 \n",
      "Iter: 49 Ap: 1.39e-01 Pobj: -1.6942220e-02 Ad: 5.35e-01 Dobj:  1.0132526e-02 \n",
      "Iter: 50 Ap: 1.84e-01 Pobj: -1.6364298e-02 Ad: 5.79e-01 Dobj:  9.5510514e-03 \n",
      "Iter: 51 Ap: 2.02e-01 Pobj: -1.5584609e-02 Ad: 5.73e-01 Dobj:  9.1823584e-03 \n",
      "Iter: 52 Ap: 1.72e-01 Pobj: -1.5077603e-02 Ad: 6.96e-01 Dobj:  8.9742202e-03 \n",
      "Iter: 53 Ap: 2.39e-01 Pobj: -1.4349594e-02 Ad: 6.61e-01 Dobj:  8.6201140e-03 \n",
      "Iter: 54 Ap: 3.08e-01 Pobj: -1.3076814e-02 Ad: 8.59e-01 Dobj:  7.9540055e-03 \n",
      "Iter: 55 Ap: 3.72e-01 Pobj: -1.1248891e-02 Ad: 1.00e+00 Dobj:  7.0392247e-03 \n",
      "Iter: 56 Ap: 7.14e-01 Pobj: -7.0842715e-03 Ad: 1.00e+00 Dobj:  5.9233395e-03 \n",
      "Iter: 57 Ap: 8.14e-01 Pobj: -3.5935269e-03 Ad: 1.00e+00 Dobj:  4.4366880e-03 \n",
      "Iter: 58 Ap: 1.93e-01 Pobj: -3.3341492e-03 Ad: 9.82e-01 Dobj:  3.8418602e-03 \n",
      "Iter: 59 Ap: 2.94e-01 Pobj: -2.9972327e-03 Ad: 8.22e-01 Dobj:  3.5349869e-03 \n",
      "Iter: 60 Ap: 7.84e-01 Pobj: -1.6057524e-03 Ad: 1.00e+00 Dobj:  2.3445294e-03 \n",
      "Iter: 61 Ap: 4.14e-01 Pobj: -1.2996216e-03 Ad: 7.58e-01 Dobj:  2.3057134e-03 \n",
      "Iter: 62 Ap: 5.72e-01 Pobj: -9.5011943e-04 Ad: 8.68e-01 Dobj:  1.9023956e-03 \n",
      "Iter: 63 Ap: 7.34e-01 Pobj: -4.9965906e-04 Ad: 9.98e-01 Dobj:  1.1478596e-03 \n",
      "Iter: 64 Ap: 6.51e-01 Pobj: -3.1769133e-04 Ad: 1.00e+00 Dobj:  9.2004739e-04 \n",
      "Iter: 65 Ap: 8.85e-01 Pobj: -1.4743204e-04 Ad: 1.00e+00 Dobj:  5.6598223e-04 \n",
      "Iter: 66 Ap: 5.87e-01 Pobj: -1.0048963e-04 Ad: 1.00e+00 Dobj:  3.8600634e-04 \n",
      "Iter: 67 Ap: 7.67e-01 Pobj: -5.9273803e-05 Ad: 9.80e-01 Dobj:  2.8948615e-04 \n",
      "Iter: 68 Ap: 6.57e-01 Pobj: -3.6019053e-05 Ad: 9.81e-01 Dobj:  1.4409416e-04 \n",
      "Iter: 69 Ap: 3.84e-01 Pobj: -2.9311809e-05 Ad: 8.34e-01 Dobj:  1.4528445e-04 \n",
      "Iter: 70 Ap: 6.04e-01 Pobj: -1.9528693e-05 Ad: 8.66e-01 Dobj:  8.8356290e-05 \n",
      "Iter: 71 Ap: 5.74e-01 Pobj: -1.3873565e-05 Ad: 5.05e-01 Dobj:  7.9447992e-05 \n",
      "Iter: 72 Ap: 5.97e-01 Pobj: -9.8795038e-06 Ad: 6.49e-01 Dobj:  6.0872346e-05 \n",
      "Iter: 73 Ap: 6.12e-01 Pobj: -6.9342022e-06 Ad: 1.00e+00 Dobj:  3.3956156e-05 \n",
      "Iter: 74 Ap: 5.38e-01 Pobj: -5.2507755e-06 Ad: 1.00e+00 Dobj:  2.4930933e-05 \n",
      "Iter: 75 Ap: 7.01e-01 Pobj: -3.6039591e-06 Ad: 1.00e+00 Dobj:  1.5665479e-05 \n",
      "Iter: 76 Ap: 6.60e-01 Pobj: -2.5964752e-06 Ad: 8.88e-01 Dobj:  8.8814738e-06 \n",
      "Iter: 77 Ap: 6.08e-01 Pobj: -2.0133953e-06 Ad: 1.00e+00 Dobj:  3.8159105e-06 \n",
      "Iter: 78 Ap: 8.05e-01 Pobj: -1.2886468e-06 Ad: 9.77e-01 Dobj:  1.4514883e-07 \n",
      "Iter: 79 Ap: 6.05e-01 Pobj: -1.0395436e-06 Ad: 1.00e+00 Dobj: -1.7756591e-06 \n",
      "Iter: 80 Ap: 7.20e-01 Pobj: -7.2116153e-07 Ad: 9.88e-01 Dobj: -3.1100917e-06 \n",
      "Iter: 81 Ap: 3.86e-01 Pobj: -6.2031214e-07 Ad: 7.01e-01 Dobj: -3.6220141e-06 \n",
      "Iter: 82 Ap: 4.56e-01 Pobj: -5.3538162e-07 Ad: 9.74e-01 Dobj: -4.1060191e-06 \n",
      "Iter: 83 Ap: 8.12e-01 Pobj: -3.2249345e-07 Ad: 9.37e-01 Dobj: -4.8745162e-06 \n",
      "Iter: 84 Ap: 5.60e-01 Pobj: -2.4719261e-07 Ad: 1.00e+00 Dobj: -3.7169325e-06 \n",
      "Iter: 85 Ap: 1.00e+00 Pobj: -9.7174849e-08 Ad: 1.00e+00 Dobj: -2.1926768e-06 \n",
      "Iter: 86 Ap: 1.00e+00 Pobj: -3.3818344e-08 Ad: 8.49e-01 Dobj: -7.8391357e-07 \n",
      "Iter: 87 Ap: 3.24e-01 Pobj: -3.0191364e-08 Ad: 3.94e-01 Dobj: -4.8641369e-07 \n",
      "Iter: 88 Ap: 4.91e-01 Pobj: -2.2336882e-08 Ad: 5.07e-01 Dobj: -2.5722164e-07 \n",
      "Iter: 89 Ap: 1.00e+00 Pobj: -5.3891692e-09 Ad: 8.77e-01 Dobj: -5.8443461e-08 \n",
      "Iter: 90 Ap: 1.00e+00 Pobj: -1.0955399e-09 Ad: 8.94e-01 Dobj: -1.1146533e-08 \n",
      "Iter: 91 Ap: 9.32e-01 Pobj: -1.1184093e-10 Ad: 9.13e-01 Dobj: -1.8109704e-09 \n",
      "Success: SDP solved\n",
      "Primal objective value: -1.1184093e-10 \n",
      "Dual objective value: -1.8109704e-09 \n",
      "Relative primal infeasibility: 2.26e-10 \n",
      "Relative dual infeasibility: 2.66e-10 \n",
      "Real Relative Gap: -1.70e-09 \n",
      "XZ Relative Gap: 3.73e-09 \n",
      "DIMACS error measures: 3.53e-09 0.00e+00 1.21e-09 0.00e+00 -1.70e-09 3.73e-09\n"
     ]
    },
    {
     "data": {
      "text/plain": [
       "1.1184092540972301e-10"
      ]
     },
     "execution_count": 8,
     "metadata": {},
     "output_type": "execute_result"
    }
   ],
   "source": [
    "# First solving the sdp\n",
    "CTG.solve_sdp(B000 + B011 - (1-1/4000)*M, target_size, maximize=True,\n",
    "              positives=assums, construction=ders, \n",
    "              file=\"certificates/prop_3_3_c7_sdp\")"
   ]
  },
  {
   "cell_type": "code",
   "execution_count": 9,
   "id": "5e6795ad-02cf-4de8-98e7-3a5a2a7f6007",
   "metadata": {},
   "outputs": [
    {
     "name": "stdout",
     "output_type": "stream",
     "text": [
      "Starting the rounding of the result\n",
      "Flattening X matrices\n",
      "This took 59.48841214179993s\n",
      "Correcting flat X matrices\n",
      "Dimensions:  (399, 57021)\n",
      "This took 2.426697254180908s\n",
      "Unflattening X matrices\n",
      "This took 0.0007405281066894531s\n",
      "Calculating resulting bound\n"
     ]
    },
    {
     "name": "stderr",
     "output_type": "stream",
     "text": [
      "100%|████████████████████████████████████████| 33/33 [5:36:57<00:00, 612.65s/it]\n"
     ]
    },
    {
     "name": "stdout",
     "output_type": "stream",
     "text": [
      "This took 20219.04615688324s\n",
      "Final rounded bound is 0\n"
     ]
    },
    {
     "data": {
      "text/plain": [
       "0"
      ]
     },
     "execution_count": 9,
     "metadata": {},
     "output_type": "execute_result"
    }
   ],
   "source": [
    "# Second, rounding the sdp solution\n",
    "CTG.round_solution(\"certificates/prop_3_3_c7_sdp\", certificate_file=\"certificates/prop_3_3_c7\", \n",
    "                   denom=2**10 * 225, slack_threshold=1e-6)"
   ]
  },
  {
   "cell_type": "code",
   "execution_count": null,
   "id": "2f735d75-ce66-4e20-aaa5-f5eb1fb54d9f",
   "metadata": {},
   "outputs": [],
   "source": []
  }
 ],
 "metadata": {
  "kernelspec": {
   "display_name": "SageMath 10.5.beta7",
   "language": "sage",
   "name": "sagemath"
  },
  "language_info": {
   "codemirror_mode": {
    "name": "ipython",
    "version": 3
   },
   "file_extension": ".py",
   "mimetype": "text/x-python",
   "name": "python",
   "nbconvert_exporter": "python",
   "pygments_lexer": "ipython3",
   "version": "3.12.3"
  }
 },
 "nbformat": 4,
 "nbformat_minor": 5
}
