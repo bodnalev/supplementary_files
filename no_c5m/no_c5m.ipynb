{
 "cells": [
  {
   "cell_type": "markdown",
   "id": "60fa7a71-547f-4444-ab76-30ad097871db",
   "metadata": {},
   "source": [
    "The Turán number of $C_5^-$\n",
    "==============================\n",
    "\n",
    "This notebook contains calculations for the Turán number of $C_5^-$. To run these calculations, use the modified version of sage from\n",
    "https://github.com/bodnalev/sage\n",
    "\n",
    "As the blowup of $K_4^-$ contains $C_5^-$, we can additionally assume \n",
    "that we work in $K_4^-$-free structures. \n",
    "\n",
    "1. The first cell sets up the combinatorial theory of $C_5^-$ and \n",
    "$K_4^-$-free 3-graphs (called TGp). In addition, it sets up the \n",
    "combinatorial theory on the same 3-graphs with vertices partitioned \n",
    "into 3 parts using an additional 2-ary relation indicating different parts (called CTGp)\n",
    "\n",
    "2. The second cell performs the basic calculation of upper bounding edges \n",
    "in the theory for Proposition 3.1. It gives the $\\alpha_{3, 1}$ = a31 = 126373441/504000000 ~= 0.250740954365079... upper bound.\n",
    "The certificate proving the claim is saved to the file \"proposition_3_1.pickle\".\n",
    "\n",
    "3. The next cell lower bounds the max-cut ration (k222) for Proposition 3.2.\n",
    "Note at the optimal construction this value is exactly 25/121 ~= 0.19834710743801652892...\n",
    "The exact lower bound provided is $\\alpha_{3, 2}$ = a32 = 1607168566087/8282009829376 ~= 0.194055380179148...\n",
    "The certificate proving the claim is saved to the file \"proposition_3_2.pickle\".\n",
    "\n",
    "5. The following cell works in the 3 partitioned theory.\n",
    "It uses the lower bound b33=0.19 on the edges in the correct parts, where $\\beta_{3, 3}$ = b33 < a32 from the previous calculation.\n",
    "The calculations provide the precise density bound that there are less bad\n",
    "edges than missing edges asymptotically on the top\n",
    "level. Here bad and missing is defined compared to the expected construction.\n",
    "The certificate proving this claim is saved to the file \"proposition_3_3.pickle\".\n",
    "\n",
    "6. The next cell establishes the theory for 3 colored graphs appearing as\n",
    "a link of a vertex. The patterns excluded all would result in a $C_5^-$\n",
    "assuming that all the 3-edges between the three parts are present.\n",
    "\n",
    "7. Then the calculation on the link graph is performed.\n",
    "The calculations provide the precise density bound that there are less bad\n",
    "edges than missing edges asymptotically. The\n",
    "certificate proving this claim is saved to the file \"proposition_3_4.pickle\".\n",
    "\n",
    "8. The first 6 cells perform the entire calculation from scratch. If one\n",
    "only wants to verify that any of the certificates are indeed correct, it is enough\n",
    "to run the corresponding cell from the final 4. For each step above, it loads the generated\n",
    "certificates and verifies that the matrices are indeed positive semidefinite\n",
    "and that the bound they prove is exactly as claimed."
   ]
  },
  {
   "cell_type": "code",
   "execution_count": 1,
   "id": "3b851628-87a4-4df0-b0fb-935d3a2e4c65",
   "metadata": {},
   "outputs": [],
   "source": [
    "### Theory for 3-graphs, with k4m and c5m excluded\n",
    "k4m = ThreeGraphTheory.pattern(4, edges=[[0, 1, 2], [0, 1, 3], [0, 2, 3]])\n",
    "c5m = ThreeGraphTheory.pattern(5, edges=[[0, 1, 2], [1, 2, 3], [2, 3, 4], [3, 4, 0]])\n",
    "ThreeGraphTheory.exclude([k4m, c5m])\n",
    "TGp = ThreeGraphTheory\n",
    "\n",
    "\n",
    "# Graphs representing a three-partition\n",
    "P = Theory(\"3Partition\", relation_name=\"part\", arity=2, is_ordered=False)\n",
    "P.exclude([P(3, part=[[0, 1]]), P(4, part=[[0, 1], [0, 2], [0, 3], [1, 2], [1, 3], [2, 3]])])\n",
    "ThreePartitionedThreeGraphTheory = combine(\"3PartitionNoC5m\", TGp, P)\n",
    "CTGp = ThreePartitionedThreeGraphTheory"
   ]
  },
  {
   "cell_type": "code",
   "execution_count": 3,
   "id": "7e338b71-9c2f-423c-8fa9-184eb1d42ac8",
   "metadata": {},
   "outputs": [
    {
     "name": "stdout",
     "output_type": "stream",
     "text": [
      "Base flags generated, their number is 1127\n",
      "The relevant ftypes are constructed, their number is 12\n",
      "Block sizes before symmetric/asymmetric change is applied: [5, 74, 32, 388, 178, 83, 97, 34, 45, 54, 31, 28]\n"
     ]
    },
    {
     "name": "stderr",
     "output_type": "stream",
     "text": [
      "Done with mult table for Ftype on 5 points with edges=(012 023 024 134): : 12it [00:01,  7.71it/s]\n"
     ]
    },
    {
     "name": "stdout",
     "output_type": "stream",
     "text": [
      "Tables finished\n",
      "Constraints finished\n",
      "Running sdp without construction. Used block sizes are [5, 26, 48, 11, 21, 14, 374, 31, 147, 35, 48, 23, 74, 10, 24, 28, 17, 27, 27, 12, 19, 8, 20, -1127, -2]\n",
      "CSDP 6.2.0\n",
      "Iter:  0 Ap: 0.00e+00 Pobj:  0.0000000e+00 Ad: 0.00e+00 Dobj:  0.0000000e+00 \n",
      "Iter:  1 Ap: 4.75e-01 Pobj: -7.8579696e+01 Ad: 1.33e-01 Dobj:  1.1544783e+00 \n",
      "Iter:  2 Ap: 6.77e-01 Pobj: -2.0704718e+02 Ad: 5.29e-01 Dobj:  4.5238772e+00 \n",
      "Iter:  3 Ap: 8.72e-01 Pobj: -4.1716318e+02 Ad: 6.11e-01 Dobj:  8.5665662e-01 \n",
      "Iter:  4 Ap: 1.00e+00 Pobj: -4.5342409e+02 Ad: 8.79e-01 Dobj:  7.8309248e-03 \n",
      "Iter:  5 Ap: 1.00e+00 Pobj: -4.0202358e+02 Ad: 8.94e-01 Dobj: -1.4867890e-01 \n",
      "Iter:  6 Ap: 7.60e-01 Pobj: -3.7223042e+02 Ad: 8.53e-01 Dobj: -1.7578573e-01 \n",
      "Iter:  7 Ap: 5.16e-01 Pobj: -3.5064930e+02 Ad: 6.62e-01 Dobj: -1.8586373e-01 \n",
      "Iter:  8 Ap: 1.23e-01 Pobj: -3.5446827e+02 Ad: 4.18e-01 Dobj: -1.7747875e-01 \n",
      "Iter:  9 Ap: 6.38e-01 Pobj: -3.2583305e+02 Ad: 4.21e-01 Dobj: -1.7502294e-01 \n",
      "Iter: 10 Ap: 9.35e-01 Pobj: -2.6901006e+02 Ad: 6.37e-01 Dobj: -1.6757018e-01 \n",
      "Iter: 11 Ap: 9.07e-01 Pobj: -2.4237031e+02 Ad: 6.26e-01 Dobj: -1.6478039e-01 \n",
      "Iter: 12 Ap: 9.71e-01 Pobj: -1.8848153e+02 Ad: 6.70e-01 Dobj: -1.6427382e-01 \n",
      "Iter: 13 Ap: 3.02e-01 Pobj: -1.7547688e+02 Ad: 6.53e-01 Dobj: -1.6404954e-01 \n",
      "Iter: 14 Ap: 7.39e-01 Pobj: -1.3496079e+02 Ad: 5.85e-01 Dobj: -1.6415844e-01 \n",
      "Iter: 15 Ap: 7.09e-01 Pobj: -9.1243095e+01 Ad: 7.79e-01 Dobj: -1.6419869e-01 \n",
      "Iter: 16 Ap: 6.29e-01 Pobj: -6.3210984e+01 Ad: 8.19e-01 Dobj: -1.6413192e-01 \n",
      "Iter: 17 Ap: 7.81e-01 Pobj: -3.9113605e+01 Ad: 1.00e+00 Dobj: -1.6399785e-01 \n",
      "Iter: 18 Ap: 9.76e-01 Pobj: -3.4954055e+00 Ad: 1.00e+00 Dobj: -1.6405848e-01 \n",
      "Iter: 19 Ap: 1.00e+00 Pobj: -5.4741436e-01 Ad: 1.00e+00 Dobj: -1.6490597e-01 \n",
      "Iter: 20 Ap: 1.00e+00 Pobj: -3.7381157e-01 Ad: 7.83e-01 Dobj: -1.7080089e-01 \n",
      "Iter: 21 Ap: 2.66e-01 Pobj: -3.6427435e-01 Ad: 1.00e+00 Dobj: -1.7707352e-01 \n",
      "Iter: 22 Ap: 1.00e+00 Pobj: -2.9691998e-01 Ad: 8.96e-01 Dobj: -1.8625471e-01 \n",
      "Iter: 23 Ap: 7.91e-01 Pobj: -2.8550114e-01 Ad: 1.00e+00 Dobj: -2.0525608e-01 \n",
      "Iter: 24 Ap: 3.87e-01 Pobj: -2.8139625e-01 Ad: 9.28e-01 Dobj: -2.1806383e-01 \n",
      "Iter: 25 Ap: 8.42e-01 Pobj: -2.6692239e-01 Ad: 1.00e+00 Dobj: -2.2862685e-01 \n",
      "Iter: 26 Ap: 9.48e-01 Pobj: -2.5575399e-01 Ad: 1.00e+00 Dobj: -2.4011855e-01 \n",
      "Iter: 27 Ap: 5.31e-01 Pobj: -2.5388948e-01 Ad: 1.00e+00 Dobj: -2.4215751e-01 \n",
      "Iter: 28 Ap: 9.33e-01 Pobj: -2.5169063e-01 Ad: 1.00e+00 Dobj: -2.4607521e-01 \n",
      "Iter: 29 Ap: 1.00e+00 Pobj: -2.5113362e-01 Ad: 1.00e+00 Dobj: -2.4816293e-01 \n",
      "Iter: 30 Ap: 1.00e+00 Pobj: -2.5096555e-01 Ad: 1.00e+00 Dobj: -2.4959793e-01 \n",
      "Iter: 31 Ap: 1.00e+00 Pobj: -2.5089117e-01 Ad: 1.00e+00 Dobj: -2.5013782e-01 \n",
      "Iter: 32 Ap: 1.00e+00 Pobj: -2.5083978e-01 Ad: 1.00e+00 Dobj: -2.5043535e-01 \n",
      "Iter: 33 Ap: 9.43e-01 Pobj: -2.5080696e-01 Ad: 1.00e+00 Dobj: -2.5059405e-01 \n",
      "Iter: 34 Ap: 7.32e-01 Pobj: -2.5079530e-01 Ad: 7.40e-01 Dobj: -2.5065658e-01 \n",
      "Iter: 35 Ap: 6.60e-01 Pobj: -2.5078455e-01 Ad: 1.00e+00 Dobj: -2.5071578e-01 \n",
      "Iter: 36 Ap: 9.82e-01 Pobj: -2.5076913e-01 Ad: 1.00e+00 Dobj: -2.5075344e-01 \n",
      "Iter: 37 Ap: 9.52e-01 Pobj: -2.5076540e-01 Ad: 1.00e+00 Dobj: -2.5076512e-01 \n",
      "Iter: 38 Ap: 1.00e+00 Pobj: -2.5076038e-01 Ad: 1.00e+00 Dobj: -2.5077887e-01 \n",
      "Iter: 39 Ap: 9.66e-01 Pobj: -2.5075870e-01 Ad: 1.00e+00 Dobj: -2.5078346e-01 \n",
      "Iter: 40 Ap: 7.40e-01 Pobj: -2.5075648e-01 Ad: 6.66e-01 Dobj: -2.5077973e-01 \n",
      "Iter: 41 Ap: 1.50e-01 Pobj: -2.5075567e-01 Ad: 3.48e-01 Dobj: -2.5077403e-01 \n",
      "Iter: 42 Ap: 3.98e-01 Pobj: -2.5075345e-01 Ad: 3.62e-01 Dobj: -2.5077024e-01 \n",
      "Iter: 43 Ap: 2.97e-01 Pobj: -2.5075198e-01 Ad: 4.24e-01 Dobj: -2.5076512e-01 \n",
      "Iter: 44 Ap: 7.54e-02 Pobj: -2.5075165e-01 Ad: 2.14e-01 Dobj: -2.5076355e-01 \n",
      "Iter: 45 Ap: 1.88e-01 Pobj: -2.5075092e-01 Ad: 5.05e-01 Dobj: -2.5076054e-01 \n",
      "Iter: 46 Ap: 3.23e-01 Pobj: -2.5074939e-01 Ad: 4.35e-01 Dobj: -2.5075811e-01 \n",
      "Iter: 47 Ap: 2.14e-01 Pobj: -2.5074873e-01 Ad: 5.55e-01 Dobj: -2.5075550e-01 \n",
      "Iter: 48 Ap: 7.31e-02 Pobj: -2.5074843e-01 Ad: 3.01e-01 Dobj: -2.5075433e-01 \n",
      "Iter: 49 Ap: 2.62e-01 Pobj: -2.5074755e-01 Ad: 3.47e-01 Dobj: -2.5075343e-01 \n",
      "Iter: 50 Ap: 2.70e-01 Pobj: -2.5074675e-01 Ad: 4.89e-01 Dobj: -2.5075208e-01 \n",
      "Iter: 51 Ap: 2.38e-01 Pobj: -2.5074609e-01 Ad: 4.64e-01 Dobj: -2.5075073e-01 \n",
      "Iter: 52 Ap: 5.00e-01 Pobj: -2.5074507e-01 Ad: 7.47e-01 Dobj: -2.5074985e-01 \n",
      "Iter: 53 Ap: 1.20e-01 Pobj: -2.5074467e-01 Ad: 3.18e-01 Dobj: -2.5074864e-01 \n",
      "Iter: 54 Ap: 9.13e-02 Pobj: -2.5074441e-01 Ad: 3.76e-01 Dobj: -2.5074769e-01 \n",
      "Iter: 55 Ap: 2.22e-01 Pobj: -2.5074386e-01 Ad: 5.66e-01 Dobj: -2.5074681e-01 \n",
      "Iter: 56 Ap: 2.80e-01 Pobj: -2.5074304e-01 Ad: 4.69e-01 Dobj: -2.5074592e-01 \n",
      "Iter: 57 Ap: 3.00e-01 Pobj: -2.5074251e-01 Ad: 3.97e-01 Dobj: -2.5074525e-01 \n",
      "Iter: 58 Ap: 4.56e-01 Pobj: -2.5074197e-01 Ad: 7.00e-01 Dobj: -2.5074457e-01 \n",
      "Iter: 59 Ap: 4.07e-01 Pobj: -2.5074154e-01 Ad: 6.79e-01 Dobj: -2.5074395e-01 \n",
      "Iter: 60 Ap: 3.36e-01 Pobj: -2.5074120e-01 Ad: 6.91e-01 Dobj: -2.5074328e-01 \n",
      "Iter: 61 Ap: 4.97e-02 Pobj: -2.5074113e-01 Ad: 2.68e-01 Dobj: -2.5074299e-01 \n",
      "Iter: 62 Ap: 1.93e-01 Pobj: -2.5074096e-01 Ad: 3.48e-01 Dobj: -2.5074270e-01 \n",
      "Iter: 63 Ap: 4.38e-01 Pobj: -2.5074061e-01 Ad: 8.79e-01 Dobj: -2.5074230e-01 \n",
      "Iter: 64 Ap: 1.44e-01 Pobj: -2.5074045e-01 Ad: 4.52e-01 Dobj: -2.5074190e-01 \n",
      "Iter: 65 Ap: 1.49e-01 Pobj: -2.5074035e-01 Ad: 4.65e-01 Dobj: -2.5074167e-01 \n",
      "Iter: 66 Ap: 2.51e-01 Pobj: -2.5074017e-01 Ad: 5.90e-01 Dobj: -2.5074158e-01 \n",
      "Iter: 67 Ap: 4.00e-01 Pobj: -2.5073990e-01 Ad: 7.50e-01 Dobj: -2.5074139e-01 \n",
      "Iter: 68 Ap: 1.24e-01 Pobj: -2.5073976e-01 Ad: 4.14e-01 Dobj: -2.5074102e-01 \n",
      "Iter: 69 Ap: 3.31e-01 Pobj: -2.5073954e-01 Ad: 5.49e-01 Dobj: -2.5074073e-01 \n",
      "Iter: 70 Ap: 3.92e-01 Pobj: -2.5073929e-01 Ad: 5.85e-01 Dobj: -2.5074039e-01 \n",
      "Iter: 71 Ap: 2.76e-01 Pobj: -2.5073917e-01 Ad: 4.56e-01 Dobj: -2.5074014e-01 \n",
      "Iter: 72 Ap: 2.06e-01 Pobj: -2.5073907e-01 Ad: 4.48e-01 Dobj: -2.5073986e-01 \n",
      "Iter: 73 Ap: 2.87e-01 Pobj: -2.5073895e-01 Ad: 4.12e-01 Dobj: -2.5073966e-01 \n",
      "Iter: 74 Ap: 3.19e-01 Pobj: -2.5073885e-01 Ad: 6.25e-01 Dobj: -2.5073941e-01 \n",
      "Iter: 75 Ap: 1.59e-01 Pobj: -2.5073880e-01 Ad: 5.65e-01 Dobj: -2.5073922e-01 \n",
      "Iter: 76 Ap: 2.51e-01 Pobj: -2.5073873e-01 Ad: 4.22e-01 Dobj: -2.5073914e-01 \n",
      "Iter: 77 Ap: 4.82e-01 Pobj: -2.5073864e-01 Ad: 6.35e-01 Dobj: -2.5073901e-01 \n",
      "Iter: 78 Ap: 4.95e-01 Pobj: -2.5073859e-01 Ad: 7.65e-01 Dobj: -2.5073887e-01 \n",
      "Iter: 79 Ap: 3.42e-01 Pobj: -2.5073856e-01 Ad: 6.21e-01 Dobj: -2.5073875e-01 \n",
      "Iter: 80 Ap: 3.19e-01 Pobj: -2.5073854e-01 Ad: 6.90e-01 Dobj: -2.5073867e-01 \n",
      "Iter: 81 Ap: 4.32e-01 Pobj: -2.5073851e-01 Ad: 5.71e-01 Dobj: -2.5073862e-01 \n",
      "Iter: 82 Ap: 3.62e-01 Pobj: -2.5073850e-01 Ad: 7.86e-01 Dobj: -2.5073857e-01 \n",
      "Iter: 83 Ap: 4.64e-01 Pobj: -2.5073849e-01 Ad: 6.78e-01 Dobj: -2.5073854e-01 \n",
      "Iter: 84 Ap: 4.82e-01 Pobj: -2.5073848e-01 Ad: 6.67e-01 Dobj: -2.5073851e-01 \n",
      "Iter: 85 Ap: 6.75e-01 Pobj: -2.5073847e-01 Ad: 6.63e-01 Dobj: -2.5073849e-01 \n",
      "Iter: 86 Ap: 3.61e-01 Pobj: -2.5073846e-01 Ad: 3.16e-01 Dobj: -2.5073849e-01 \n",
      "Success: SDP solved\n",
      "Primal objective value: -2.5073846e-01 \n",
      "Dual objective value: -2.5073849e-01 \n",
      "Relative primal infeasibility: 6.78e-10 \n",
      "Relative dual infeasibility: 4.27e-11 \n",
      "Real Relative Gap: -1.39e-08 \n",
      "XZ Relative Gap: 8.37e-09 \n",
      "DIMACS error measures: 3.91e-09 0.00e+00 1.85e-10 0.00e+00 -1.39e-08 8.37e-09\n",
      "The initial run didn't provide an accurate construction\n",
      "Rounding X matrices\n"
     ]
    },
    {
     "name": "stderr",
     "output_type": "stream",
     "text": [
      "100%|█████████████████████████████████████████████████████████████████████████████████████████████████████████████████████████████████████████████████████████| 23/23 [00:06<00:00,  3.73it/s]\n"
     ]
    },
    {
     "name": "stdout",
     "output_type": "stream",
     "text": [
      "Calculating resulting bound\n"
     ]
    },
    {
     "name": "stderr",
     "output_type": "stream",
     "text": [
      "100%|█████████████████████████████████████████████████████████████████████████████████████████████████████████████████████████████████████████████████████████| 12/12 [03:04<00:00, 15.37s/it]\n"
     ]
    },
    {
     "name": "stdout",
     "output_type": "stream",
     "text": [
      "The rounded result is -16849789/67200000\n",
      "The initial upper bound on the Turan density from Proposition 3.1 is 16849789/67200000 ~= 0.250740907738095\n"
     ]
    }
   ],
   "source": [
    "### This part just gives a standard upper bound on the number of edges without C5- and K4- (Proposition 3.1)\n",
    "\n",
    "a31 = TGp.optimize(TGp(3, edges=[[0, 1, 2]]), 7,  exact=True, \n",
    "                   file=\"certificates/proposition_3_1\", \n",
    "                   denom=1024*3125\n",
    "                  )\n",
    "print(\"The initial upper bound on the Turan density from Proposition 3.1 is {} ~= {}\".format(a31, a31.n()))"
   ]
  },
  {
   "cell_type": "code",
   "execution_count": 4,
   "id": "d2b75bc6-0c5d-490c-857c-d5770f250743",
   "metadata": {
    "scrolled": true
   },
   "outputs": [
    {
     "name": "stdout",
     "output_type": "stream",
     "text": [
      "Base flags generated, their number is 1127\n",
      "The relevant ftypes are constructed, their number is 12\n",
      "Block sizes before symmetric/asymmetric change is applied: [5, 74, 32, 388, 178, 83, 97, 34, 45, 54, 31, 28]\n"
     ]
    },
    {
     "name": "stderr",
     "output_type": "stream",
     "text": [
      "Done with mult table for Ftype on 5 points with edges=(012 023 024 134): : 12it [00:01,  7.33it/s]\n"
     ]
    },
    {
     "name": "stdout",
     "output_type": "stream",
     "text": [
      "Tables finished\n"
     ]
    },
    {
     "name": "stderr",
     "output_type": "stream",
     "text": [
      "Done with positivity constraint 0: 100%|████████████████████████████████████████████████████████████████████████████████████████████████████████████████████████| 1/1 [00:00<00:00,  1.78it/s]\n"
     ]
    },
    {
     "name": "stdout",
     "output_type": "stream",
     "text": [
      "Constraints finished\n",
      "Running sdp without construction. Used block sizes are [5, 26, 48, 11, 21, 14, 374, 31, 147, 35, 48, 23, 74, 10, 24, 28, 17, 27, 27, 12, 19, 8, 20, -1127, -5]\n",
      "CSDP 6.2.0\n",
      "Iter:  0 Ap: 0.00e+00 Pobj:  0.0000000e+00 Ad: 0.00e+00 Dobj:  0.0000000e+00 \n",
      "Iter:  1 Ap: 6.09e-01 Pobj: -9.2052112e+01 Ad: 1.47e-01 Dobj:  3.1143968e+00 \n",
      "Iter:  2 Ap: 7.13e-01 Pobj: -2.0415132e+02 Ad: 5.43e-01 Dobj:  3.0456394e+00 \n",
      "Iter:  3 Ap: 1.00e+00 Pobj: -3.7441986e+02 Ad: 7.10e-01 Dobj:  6.9577767e-01 \n",
      "Iter:  4 Ap: 1.00e+00 Pobj: -3.7587362e+02 Ad: 8.98e-01 Dobj:  1.2288131e-01 \n",
      "Iter:  5 Ap: 1.00e+00 Pobj: -3.0805356e+02 Ad: 8.97e-01 Dobj:  3.8922659e-02 \n",
      "Iter:  6 Ap: 7.42e-01 Pobj: -2.7570722e+02 Ad: 7.38e-01 Dobj:  2.5778021e-02 \n",
      "Iter:  7 Ap: 4.99e-01 Pobj: -2.1738401e+02 Ad: 4.00e-01 Dobj:  2.9783858e-02 \n",
      "Iter:  8 Ap: 8.73e-01 Pobj: -1.4405554e+02 Ad: 5.91e-01 Dobj:  3.7240210e-02 \n",
      "Iter:  9 Ap: 1.00e+00 Pobj: -1.1671792e+02 Ad: 5.77e-01 Dobj:  4.1653897e-02 \n",
      "Iter: 10 Ap: 6.03e-01 Pobj: -1.0884612e+02 Ad: 6.26e-01 Dobj:  4.4960066e-02 \n",
      "Iter: 11 Ap: 3.46e-01 Pobj: -9.4546802e+01 Ad: 4.96e-01 Dobj:  4.6394993e-02 \n",
      "Iter: 12 Ap: 1.76e-01 Pobj: -8.7126533e+01 Ad: 4.85e-01 Dobj:  4.7207542e-02 \n",
      "Iter: 13 Ap: 3.18e-01 Pobj: -7.3524405e+01 Ad: 4.71e-01 Dobj:  4.7959388e-02 \n",
      "Iter: 14 Ap: 6.07e-01 Pobj: -5.2243917e+01 Ad: 5.21e-01 Dobj:  4.8420739e-02 \n",
      "Iter: 15 Ap: 5.96e-01 Pobj: -4.2582031e+01 Ad: 5.94e-01 Dobj:  4.8700314e-02 \n",
      "Iter: 16 Ap: 5.52e-01 Pobj: -3.5396984e+01 Ad: 5.34e-01 Dobj:  4.8819010e-02 \n",
      "Iter: 17 Ap: 3.61e-01 Pobj: -3.2185745e+01 Ad: 3.64e-01 Dobj:  4.8862674e-02 \n",
      "Iter: 18 Ap: 1.04e-01 Pobj: -3.1042633e+01 Ad: 1.86e-01 Dobj:  4.8877847e-02 \n",
      "Iter: 19 Ap: 3.00e-01 Pobj: -2.8462854e+01 Ad: 4.78e-01 Dobj:  4.8925567e-02 \n",
      "Iter: 20 Ap: 7.01e-01 Pobj: -2.2617857e+01 Ad: 3.81e-01 Dobj:  4.8955680e-02 \n",
      "Iter: 21 Ap: 5.45e-01 Pobj: -2.0857786e+01 Ad: 4.73e-01 Dobj:  4.9000457e-02 \n",
      "Iter: 22 Ap: 5.58e-01 Pobj: -1.6838027e+01 Ad: 6.18e-01 Dobj:  4.9019274e-02 \n",
      "Iter: 23 Ap: 1.90e-01 Pobj: -1.5881457e+01 Ad: 5.42e-01 Dobj:  4.9046699e-02 \n",
      "Iter: 24 Ap: 4.67e-01 Pobj: -1.1970481e+01 Ad: 7.05e-01 Dobj:  4.9051573e-02 \n",
      "Iter: 25 Ap: 8.48e-01 Pobj: -5.9904961e+00 Ad: 1.00e+00 Dobj:  4.9062566e-02 \n",
      "Iter: 26 Ap: 9.68e-01 Pobj: -4.2898503e-01 Ad: 1.00e+00 Dobj:  4.9063224e-02 \n",
      "Iter: 27 Ap: 9.88e-01 Pobj:  2.0688749e-02 Ad: 1.00e+00 Dobj:  4.9063076e-02 \n",
      "Iter: 28 Ap: 1.00e+00 Pobj:  4.4956437e-02 Ad: 1.00e+00 Dobj:  4.9051216e-02 \n",
      "Iter: 29 Ap: 1.00e+00 Pobj:  4.6639078e-02 Ad: 7.24e-01 Dobj:  4.8988166e-02 \n",
      "Iter: 30 Ap: 7.45e-01 Pobj:  4.7147055e-02 Ad: 9.30e-01 Dobj:  4.8925597e-02 \n",
      "Iter: 31 Ap: 5.12e-01 Pobj:  4.7361067e-02 Ad: 7.34e-01 Dobj:  4.8898003e-02 \n",
      "Iter: 32 Ap: 3.58e-01 Pobj:  4.7465471e-02 Ad: 7.37e-01 Dobj:  4.8877179e-02 \n",
      "Iter: 33 Ap: 5.71e-01 Pobj:  4.7694812e-02 Ad: 1.00e+00 Dobj:  4.8857012e-02 \n",
      "Iter: 34 Ap: 8.82e-01 Pobj:  4.7991475e-02 Ad: 1.00e+00 Dobj:  4.8830723e-02 \n",
      "Iter: 35 Ap: 1.00e+00 Pobj:  4.8308564e-02 Ad: 1.00e+00 Dobj:  4.8776933e-02 \n",
      "Iter: 36 Ap: 8.85e-01 Pobj:  4.8441973e-02 Ad: 1.00e+00 Dobj:  4.8736834e-02 \n",
      "Iter: 37 Ap: 8.31e-01 Pobj:  4.8497132e-02 Ad: 1.00e+00 Dobj:  4.8698094e-02 \n",
      "Iter: 38 Ap: 9.45e-01 Pobj:  4.8561531e-02 Ad: 1.00e+00 Dobj:  4.8666702e-02 \n",
      "Iter: 39 Ap: 8.57e-01 Pobj:  4.8588035e-02 Ad: 1.00e+00 Dobj:  4.8645785e-02 \n",
      "Iter: 40 Ap: 1.00e+00 Pobj:  4.8613591e-02 Ad: 1.00e+00 Dobj:  4.8631790e-02 \n",
      "Iter: 41 Ap: 1.00e+00 Pobj:  4.8629462e-02 Ad: 1.00e+00 Dobj:  4.8616203e-02 \n",
      "Iter: 42 Ap: 1.00e+00 Pobj:  4.8635937e-02 Ad: 1.00e+00 Dobj:  4.8609231e-02 \n",
      "Iter: 43 Ap: 1.00e+00 Pobj:  4.8638817e-02 Ad: 1.00e+00 Dobj:  4.8605307e-02 \n",
      "Iter: 44 Ap: 9.52e-01 Pobj:  4.8640922e-02 Ad: 1.00e+00 Dobj:  4.8605603e-02 \n",
      "Iter: 45 Ap: 2.02e-01 Pobj:  4.8643379e-02 Ad: 3.38e-01 Dobj:  4.8613753e-02 \n",
      "Iter: 46 Ap: 6.49e-03 Pobj:  4.8643518e-02 Ad: 1.16e-01 Dobj:  4.8616352e-02 \n",
      "Iter: 47 Ap: 1.05e-01 Pobj:  4.8644937e-02 Ad: 2.63e-01 Dobj:  4.8621229e-02 \n",
      "Iter: 48 Ap: 1.70e-01 Pobj:  4.8647594e-02 Ad: 2.75e-01 Dobj:  4.8625246e-02 \n",
      "Iter: 49 Ap: 1.86e-01 Pobj:  4.8649844e-02 Ad: 4.76e-01 Dobj:  4.8630464e-02 \n",
      "Iter: 50 Ap: 2.68e-01 Pobj:  4.8652327e-02 Ad: 3.69e-01 Dobj:  4.8633203e-02 \n",
      "Iter: 51 Ap: 4.53e-01 Pobj:  4.8655433e-02 Ad: 5.39e-01 Dobj:  4.8636368e-02 \n",
      "Iter: 52 Ap: 6.78e-01 Pobj:  4.8657961e-02 Ad: 7.44e-01 Dobj:  4.8638308e-02 \n",
      "Iter: 53 Ap: 2.34e-01 Pobj:  4.8659200e-02 Ad: 3.73e-01 Dobj:  4.8641980e-02 \n",
      "Iter: 54 Ap: 3.20e-01 Pobj:  4.8660864e-02 Ad: 4.25e-01 Dobj:  4.8645093e-02 \n",
      "Iter: 55 Ap: 3.96e-01 Pobj:  4.8662777e-02 Ad: 5.63e-01 Dobj:  4.8648519e-02 \n",
      "Iter: 56 Ap: 1.81e-01 Pobj:  4.8663856e-02 Ad: 5.58e-01 Dobj:  4.8651904e-02 \n",
      "Iter: 57 Ap: 3.93e-02 Pobj:  4.8664084e-02 Ad: 1.74e-01 Dobj:  4.8652383e-02 \n",
      "Iter: 58 Ap: 3.02e-01 Pobj:  4.8665459e-02 Ad: 6.51e-01 Dobj:  4.8653768e-02 \n",
      "Iter: 59 Ap: 1.05e-01 Pobj:  4.8666267e-02 Ad: 4.39e-01 Dobj:  4.8655783e-02 \n",
      "Iter: 60 Ap: 6.32e-02 Pobj:  4.8666526e-02 Ad: 2.30e-01 Dobj:  4.8656364e-02 \n",
      "Iter: 61 Ap: 3.05e-01 Pobj:  4.8667543e-02 Ad: 5.21e-01 Dobj:  4.8657301e-02 \n",
      "Iter: 62 Ap: 5.06e-01 Pobj:  4.8668652e-02 Ad: 1.00e+00 Dobj:  4.8658015e-02 \n",
      "Iter: 63 Ap: 2.07e-01 Pobj:  4.8669209e-02 Ad: 4.84e-01 Dobj:  4.8659322e-02 \n",
      "Iter: 64 Ap: 4.47e-01 Pobj:  4.8670111e-02 Ad: 7.99e-01 Dobj:  4.8660717e-02 \n",
      "Iter: 65 Ap: 1.95e-01 Pobj:  4.8670708e-02 Ad: 3.61e-01 Dobj:  4.8662321e-02 \n",
      "Iter: 66 Ap: 4.28e-01 Pobj:  4.8671514e-02 Ad: 6.60e-01 Dobj:  4.8664083e-02 \n",
      "Iter: 67 Ap: 3.38e-01 Pobj:  4.8672206e-02 Ad: 5.89e-01 Dobj:  4.8665966e-02 \n",
      "Iter: 68 Ap: 5.32e-01 Pobj:  4.8672827e-02 Ad: 8.51e-01 Dobj:  4.8667003e-02 \n",
      "Iter: 69 Ap: 2.06e-01 Pobj:  4.8673159e-02 Ad: 4.68e-01 Dobj:  4.8667888e-02 \n",
      "Iter: 70 Ap: 4.13e-01 Pobj:  4.8673533e-02 Ad: 6.93e-01 Dobj:  4.8668511e-02 \n",
      "Iter: 71 Ap: 1.48e-01 Pobj:  4.8673802e-02 Ad: 4.32e-01 Dobj:  4.8669613e-02 \n",
      "Iter: 72 Ap: 2.01e-02 Pobj:  4.8673823e-02 Ad: 2.85e-01 Dobj:  4.8670036e-02 \n",
      "Iter: 73 Ap: 3.83e-01 Pobj:  4.8674212e-02 Ad: 4.75e-01 Dobj:  4.8670522e-02 \n",
      "Iter: 74 Ap: 5.56e-01 Pobj:  4.8674596e-02 Ad: 8.22e-01 Dobj:  4.8670898e-02 \n",
      "Iter: 75 Ap: 1.35e-01 Pobj:  4.8674738e-02 Ad: 3.83e-01 Dobj:  4.8671687e-02 \n",
      "Iter: 76 Ap: 7.60e-02 Pobj:  4.8674788e-02 Ad: 4.28e-01 Dobj:  4.8672219e-02 \n",
      "Iter: 77 Ap: 2.30e-01 Pobj:  4.8674947e-02 Ad: 7.43e-01 Dobj:  4.8672689e-02 \n",
      "Iter: 78 Ap: 5.95e-01 Pobj:  4.8675297e-02 Ad: 8.32e-01 Dobj:  4.8672835e-02 \n",
      "Iter: 79 Ap: 5.86e-02 Pobj:  4.8675348e-02 Ad: 1.53e-01 Dobj:  4.8673047e-02 \n",
      "Iter: 80 Ap: 1.63e-01 Pobj:  4.8675423e-02 Ad: 4.54e-01 Dobj:  4.8673589e-02 \n",
      "Iter: 81 Ap: 3.37e-01 Pobj:  4.8675557e-02 Ad: 4.73e-01 Dobj:  4.8673921e-02 \n",
      "Iter: 82 Ap: 2.97e-01 Pobj:  4.8675645e-02 Ad: 4.38e-01 Dobj:  4.8674218e-02 \n",
      "Iter: 83 Ap: 4.58e-01 Pobj:  4.8675768e-02 Ad: 7.65e-01 Dobj:  4.8674751e-02 \n",
      "Iter: 84 Ap: 2.93e-01 Pobj:  4.8675833e-02 Ad: 4.45e-01 Dobj:  4.8675012e-02 \n",
      "Iter: 85 Ap: 4.97e-01 Pobj:  4.8675891e-02 Ad: 6.30e-01 Dobj:  4.8675214e-02 \n",
      "Iter: 86 Ap: 4.59e-01 Pobj:  4.8675935e-02 Ad: 5.65e-01 Dobj:  4.8675481e-02 \n",
      "Iter: 87 Ap: 6.51e-01 Pobj:  4.8675972e-02 Ad: 7.05e-01 Dobj:  4.8675624e-02 \n",
      "Iter: 88 Ap: 4.85e-01 Pobj:  4.8675991e-02 Ad: 6.45e-01 Dobj:  4.8675786e-02 \n",
      "Iter: 89 Ap: 4.05e-01 Pobj:  4.8676003e-02 Ad: 3.45e-01 Dobj:  4.8675829e-02 \n",
      "Iter: 90 Ap: 1.09e-01 Pobj:  4.8676006e-02 Ad: 5.75e-01 Dobj:  4.8675902e-02 \n",
      "Iter: 91 Ap: 4.87e-01 Pobj:  4.8676015e-02 Ad: 7.55e-01 Dobj:  4.8675954e-02 \n",
      "Iter: 92 Ap: 3.71e-01 Pobj:  4.8676021e-02 Ad: 7.56e-01 Dobj:  4.8675998e-02 \n",
      "Iter: 93 Ap: 4.38e-01 Pobj:  4.8676025e-02 Ad: 6.69e-01 Dobj:  4.8676012e-02 \n",
      "Iter: 94 Ap: 4.26e-01 Pobj:  4.8676031e-02 Ad: 5.33e-01 Dobj:  4.8676015e-02 \n",
      "Success: SDP solved\n",
      "Primal objective value: 4.8676031e-02 \n",
      "Dual objective value: 4.8676015e-02 \n",
      "Relative primal infeasibility: 2.75e-09 \n",
      "Relative dual infeasibility: 3.94e-11 \n",
      "Real Relative Gap: -1.39e-08 \n",
      "XZ Relative Gap: 8.82e-09 \n",
      "DIMACS error measures: 3.31e-09 0.00e+00 1.71e-10 0.00e+00 -1.39e-08 8.82e-09\n",
      "The initial run didn't provide an accurate construction\n",
      "Rounding X matrices\n"
     ]
    },
    {
     "name": "stderr",
     "output_type": "stream",
     "text": [
      "100%|█████████████████████████████████████████████████████████████████████████████████████████████████████████████████████████████████████████████████████████| 23/23 [00:05<00:00,  4.59it/s]\n"
     ]
    },
    {
     "name": "stdout",
     "output_type": "stream",
     "text": [
      "Calculating resulting bound\n"
     ]
    },
    {
     "name": "stderr",
     "output_type": "stream",
     "text": [
      "100%|█████████████████████████████████████████████████████████████████████████████████████████████████████████████████████████████████████████████████████████| 12/12 [03:05<00:00, 15.42s/it]\n"
     ]
    },
    {
     "name": "stdout",
     "output_type": "stream",
     "text": [
      "The rounded result is 32144312729/660602880000\n",
      "The max-cut ratio returned by Proposition 3.2 is at least 160721563645/828200828928 ~= 0.194061099713017\n"
     ]
    }
   ],
   "source": [
    "### This code that minimizes the max-cut ratio K222 (Proposition 3.2)\n",
    "\n",
    "# beta_{3, 2} constant\n",
    "b32 = 1/4 - 1/100000\n",
    "edge = TGp(3, edges=[[0, 1, 2]])\n",
    "\n",
    "# First the typed f222 is constructed\n",
    "f222 = TGp.pattern(6, ftype=[0, 1, 2], \n",
    "                   edges=[[0, 1, 2], [3, 4, 5], [0, 1, 5], [0, 2, 4], [1, 2, 3]])\n",
    "# Then k222 is the projection of f222, this takes care of the automorphisms\n",
    "k222 = f222.project()\n",
    "\n",
    "gamma = TGp.optimize(k222, 7, maximize=False, positives=[edge - b32], exact=True, \n",
    "                     file=\"certificates/proposition_3_2\", \n",
    "                     denom=1024*1024\n",
    "                    )\n",
    "a32 = gamma / a31\n",
    "\n",
    "print(\"The max-cut ratio returned by Proposition 3.2 is at least {} ~= {}\".format(a32, a32.n()))"
   ]
  },
  {
   "cell_type": "code",
   "execution_count": 2,
   "id": "6a535c13-08a2-4a08-bcd0-ee43c2c4b586",
   "metadata": {
    "scrolled": true
   },
   "outputs": [
    {
     "name": "stderr",
     "output_type": "stream",
     "text": [
      "100%|████████████████████████████████████████████████████████████████████████████████████████████████████████████████████████████████████████████████████████| 28/28 [00:00<00:00, 140.75it/s]\n"
     ]
    },
    {
     "name": "stdout",
     "output_type": "stream",
     "text": [
      "Base flags generated, their number is 2840\n",
      "The relevant ftypes are constructed, their number is 20\n",
      "Block sizes before symmetric/asymmetric change is applied: [35, 57, 82, 123, 123, 123, 40, 60, 60, 60, 60, 60, 20, 30, 30, 30, 30, 30, 30, 30]\n"
     ]
    },
    {
     "name": "stderr",
     "output_type": "stream",
     "text": [
      "Done with mult table for Ftype on 4 points with edges=(023 123), part=(01 02 03 12 13): : 20it [00:01, 16.80it/s]\n"
     ]
    },
    {
     "name": "stdout",
     "output_type": "stream",
     "text": [
      "Tables finished\n"
     ]
    },
    {
     "name": "stderr",
     "output_type": "stream",
     "text": [
      "Done with positivity constraint 1: 100%|████████████████████████████████████████████████████████████████████████████████████████████████████████████████████████| 2/2 [00:01<00:00,  1.38it/s]\n"
     ]
    },
    {
     "name": "stdout",
     "output_type": "stream",
     "text": [
      "Constraints finished\n",
      "Adjusting table with kernels from construction\n",
      "Running SDP after kernel correction. Used block sizes are [25, 9, 32, 24, 13, 68, 35, 87, 30, 92, 43, 80, 14, 26, 21, 39, 39, 21, 39, 21, 39, 21, 33, 27, 14, 6, 25, 5, 21, 9, 18, 12, 18, 12, 30, 13, 16, 13, 17, -2840, -50]\n",
      "CSDP 6.2.0\n",
      "Iter:  0 Ap: 0.00e+00 Pobj:  0.0000000e+00 Ad: 0.00e+00 Dobj:  0.0000000e+00 \n",
      "Iter:  1 Ap: 4.33e-01 Pobj: -3.9087482e+01 Ad: 1.21e-01 Dobj:  4.8830059e+01 \n",
      "Iter:  2 Ap: 9.03e-01 Pobj: -1.0086510e+02 Ad: 6.22e-01 Dobj:  1.6984315e+01 \n",
      "Iter:  3 Ap: 1.00e+00 Pobj: -1.1652428e+02 Ad: 8.18e-01 Dobj:  3.7884695e+00 \n",
      "Iter:  4 Ap: 1.00e+00 Pobj: -1.2443519e+02 Ad: 9.16e-01 Dobj:  3.6916615e-01 \n",
      "Iter:  5 Ap: 1.00e+00 Pobj: -1.3967486e+02 Ad: 8.35e-01 Dobj:  4.9559751e-02 \n",
      "Iter:  6 Ap: 1.00e+00 Pobj: -1.3666620e+02 Ad: 6.06e-01 Dobj:  2.9714420e-02 \n",
      "Iter:  7 Ap: 7.35e-01 Pobj: -1.2599198e+02 Ad: 6.99e-01 Dobj:  9.7734940e-03 \n",
      "Iter:  8 Ap: 6.19e-01 Pobj: -1.2264963e+02 Ad: 6.12e-01 Dobj:  7.7531031e-03 \n",
      "Iter:  9 Ap: 5.97e-01 Pobj: -1.1777682e+02 Ad: 5.27e-01 Dobj:  7.7613422e-03 \n",
      "Iter: 10 Ap: 7.43e-01 Pobj: -1.1685436e+02 Ad: 4.91e-01 Dobj:  9.0123317e-03 \n",
      "Iter: 11 Ap: 4.49e-01 Pobj: -1.1863995e+02 Ad: 5.60e-01 Dobj:  9.2804976e-03 \n",
      "Iter: 12 Ap: 6.55e-01 Pobj: -1.0836887e+02 Ad: 4.64e-01 Dobj:  1.1227830e-02 \n",
      "Iter: 13 Ap: 5.16e-01 Pobj: -1.0616036e+02 Ad: 6.08e-01 Dobj:  1.2689947e-02 \n",
      "Iter: 14 Ap: 5.52e-01 Pobj: -9.6032232e+01 Ad: 4.31e-01 Dobj:  1.3609289e-02 \n",
      "Iter: 15 Ap: 4.27e-01 Pobj: -9.2649147e+01 Ad: 5.16e-01 Dobj:  1.4192992e-02 \n",
      "Iter: 16 Ap: 3.68e-01 Pobj: -8.6367842e+01 Ad: 4.76e-01 Dobj:  1.4894116e-02 \n",
      "Iter: 17 Ap: 3.79e-01 Pobj: -7.8577554e+01 Ad: 4.97e-01 Dobj:  1.5223805e-02 \n",
      "Iter: 18 Ap: 2.71e-01 Pobj: -7.3163465e+01 Ad: 4.87e-01 Dobj:  1.5440226e-02 \n",
      "Iter: 19 Ap: 4.79e-01 Pobj: -6.0881199e+01 Ad: 4.88e-01 Dobj:  1.5495385e-02 \n",
      "Iter: 20 Ap: 3.89e-01 Pobj: -5.1466197e+01 Ad: 6.36e-01 Dobj:  1.5498134e-02 \n",
      "Iter: 21 Ap: 7.14e-01 Pobj: -3.2151626e+01 Ad: 5.48e-01 Dobj:  1.5484916e-02 \n",
      "Iter: 22 Ap: 8.71e-01 Pobj: -1.8087888e+01 Ad: 1.00e+00 Dobj:  1.5436291e-02 \n",
      "Iter: 23 Ap: 9.65e-01 Pobj: -1.5349289e+00 Ad: 1.00e+00 Dobj:  1.5425048e-02 \n",
      "Iter: 24 Ap: 9.99e-01 Pobj: -1.2390796e-01 Ad: 1.00e+00 Dobj:  1.5318956e-02 \n",
      "Iter: 25 Ap: 1.00e+00 Pobj: -4.9035396e-02 Ad: 1.00e+00 Dobj:  1.4170047e-02 \n",
      "Iter: 26 Ap: 6.99e-01 Pobj: -3.3214367e-02 Ad: 1.00e+00 Dobj:  1.2791323e-02 \n",
      "Iter: 27 Ap: 7.59e-01 Pobj: -2.0408907e-02 Ad: 1.00e+00 Dobj:  1.1733086e-02 \n",
      "Iter: 28 Ap: 1.00e+00 Pobj: -9.0675166e-03 Ad: 1.00e+00 Dobj:  9.9027732e-03 \n",
      "Iter: 29 Ap: 9.60e-01 Pobj: -5.5914672e-03 Ad: 2.97e-01 Dobj:  9.1115315e-03 \n",
      "Iter: 30 Ap: 3.88e-01 Pobj: -5.7310805e-03 Ad: 7.08e-01 Dobj:  6.7288460e-03 \n",
      "Iter: 31 Ap: 2.17e-01 Pobj: -5.2680886e-03 Ad: 3.80e-01 Dobj:  6.2473640e-03 \n",
      "Iter: 32 Ap: 1.00e+00 Pobj: -2.8898571e-03 Ad: 1.00e+00 Dobj:  4.2315320e-03 \n",
      "Iter: 33 Ap: 1.00e+00 Pobj: -1.0062204e-03 Ad: 1.00e+00 Dobj:  2.2970282e-03 \n",
      "Iter: 34 Ap: 9.22e-01 Pobj: -4.2436803e-04 Ad: 8.76e-01 Dobj:  1.5442384e-03 \n",
      "Iter: 35 Ap: 7.82e-01 Pobj: -2.0497189e-04 Ad: 1.00e+00 Dobj:  8.9388532e-04 \n",
      "Iter: 36 Ap: 1.00e+00 Pobj: -5.2313602e-05 Ad: 1.00e+00 Dobj:  4.0332543e-04 \n",
      "Iter: 37 Ap: 6.20e-01 Pobj: -3.4780881e-05 Ad: 1.00e+00 Dobj:  2.2859116e-04 \n",
      "Iter: 38 Ap: 8.66e-01 Pobj: -1.6043842e-05 Ad: 1.00e+00 Dobj:  1.1370213e-04 \n",
      "Iter: 39 Ap: 8.94e-01 Pobj: -8.8139145e-06 Ad: 1.00e+00 Dobj:  6.0020714e-05 \n",
      "Iter: 40 Ap: 8.74e-01 Pobj: -5.0401424e-06 Ad: 1.00e+00 Dobj:  2.3829774e-05 \n",
      "Iter: 41 Ap: 8.09e-01 Pobj: -3.2749733e-06 Ad: 1.00e+00 Dobj:  8.4406223e-06 \n",
      "Iter: 42 Ap: 7.81e-01 Pobj: -2.2333024e-06 Ad: 1.00e+00 Dobj:  5.0242975e-07 \n",
      "Iter: 43 Ap: 8.58e-01 Pobj: -1.4511147e-06 Ad: 1.00e+00 Dobj: -4.9288643e-06 \n",
      "Iter: 44 Ap: 8.61e-01 Pobj: -9.6545243e-07 Ad: 1.00e+00 Dobj: -8.4811036e-06 \n",
      "Iter: 45 Ap: 1.00e+00 Pobj: -6.0738694e-07 Ad: 1.00e+00 Dobj: -1.0772857e-05 \n",
      "Iter: 46 Ap: 1.00e+00 Pobj: -2.8977955e-07 Ad: 1.00e+00 Dobj: -1.3181523e-05 \n",
      "Iter: 47 Ap: 1.00e+00 Pobj: -1.2198548e-07 Ad: 1.00e+00 Dobj: -4.9173150e-06 \n",
      "Iter: 48 Ap: 1.00e+00 Pobj: -4.2773941e-08 Ad: 7.41e-01 Dobj: -1.9974439e-06 \n",
      "Iter: 49 Ap: 1.00e+00 Pobj: -9.7496363e-09 Ad: 1.00e+00 Dobj: -2.9564875e-07 \n",
      "Iter: 50 Ap: 1.00e+00 Pobj: -1.1771666e-09 Ad: 7.50e-01 Dobj: -8.5856139e-08 \n",
      "Iter: 51 Ap: 8.30e-01 Pobj: -2.3394404e-10 Ad: 9.01e-01 Dobj: -9.9126624e-09 \n",
      "Success: SDP solved\n",
      "Primal objective value: -2.3394404e-10 \n",
      "Dual objective value: -9.9126624e-09 \n",
      "Relative primal infeasibility: 2.89e-10 \n",
      "Relative dual infeasibility: 4.72e-10 \n",
      "Real Relative Gap: -9.68e-09 \n",
      "XZ Relative Gap: 4.77e-09 \n",
      "DIMACS error measures: 1.71e-09 0.00e+00 2.32e-09 0.00e+00 -9.68e-09 4.77e-09\n",
      "Starting the rounding of the result\n",
      "Flattening X matrices\n",
      "This took 6.8656463623046875s\n",
      "Correcting flat X matrices\n",
      "Dimensions:  (27, 20993)\n",
      "This took 0.023447513580322266s\n",
      "Unflattening X matrices\n",
      "This took 0.0002944469451904297s\n",
      "Calculating resulting bound\n"
     ]
    },
    {
     "name": "stderr",
     "output_type": "stream",
     "text": [
      "100%|█████████████████████████████████████████████████████████████████████████████████████████████████████████████████████████████████████████████████████████| 20/20 [02:40<00:00,  8.01s/it]\n"
     ]
    },
    {
     "name": "stdout",
     "output_type": "stream",
     "text": [
      "This took 160.30566143989563s\n",
      "Final rounded bound is 0\n"
     ]
    },
    {
     "data": {
      "text/plain": [
       "0"
      ]
     },
     "execution_count": 2,
     "metadata": {},
     "output_type": "execute_result"
    }
   ],
   "source": [
    "### This is the code that performs the calculations on the theory with three partition (Proposition 3.3)\n",
    "\n",
    "# edge with (C)orrect partition\n",
    "C = CTGp(3, edges=[[0, 1, 2]], part=[[0, 1], [0, 2], [1, 2]])\n",
    "# edge with (C)orrect partition (p)ointed\n",
    "Cp = CTGp(3, edges=[[0, 1, 2]], part=[[0, 1], [0, 2], [1, 2]], ftype=[0])\n",
    "\n",
    "# edge with (B)ad partition\n",
    "B = CTGp(3, edges=[[0, 1, 2]], part=[[0, 1], [1, 2]])\n",
    "\n",
    "# edge with (B)ad partition (p)ointed \n",
    "Bp = CTGp(3, edges=[[0, 1, 2]], part=[[0, 1], [1, 2]], ftype=[0])\n",
    "\n",
    "# (M)issing edge with good partition\n",
    "M = CTGp(3, edges=[], part=[[0, 1], [0, 2], [1, 2]])\n",
    "\n",
    "# positivity assumptions:\n",
    "# each point, good edges are more than bad edges \n",
    "# (divided by two due to the symmetry between the parts)\n",
    "# edge density is larger than b33 (which is smaller than a32)\n",
    "b33 = 19/100\n",
    "assums = [Cp - Bp/2, C - b33]\n",
    "\n",
    "# optimal construction and its derivatives\n",
    "symbolic_constr = CTGp.blowup_construction(6, 3, edges=[[0, 1, 2]], \n",
    "                                           part=[[0, 1], [0, 2], [1, 2]], \n",
    "                                           symbolic_parts=True).set_sum()\n",
    "ders = symbolic_constr.derivatives([1/3, 1/3])\n",
    "\n",
    "# bad is less than missing, proven by (B)ad (M)inum (M)issing is at most 0.\n",
    "CTGp.optimize(B - M*(99/100), 6, positives=assums, exact=True, \n",
    "              construction=ders, file=\"certificates/proposition_3_3\", \n",
    "              denom=1024*16\n",
    "             )"
   ]
  },
  {
   "cell_type": "code",
   "execution_count": 3,
   "id": "d8551b3b-27c4-47d8-b877-9a6463e9e5df",
   "metadata": {},
   "outputs": [],
   "source": [
    "### Theory for 3-colored 2-graphs, the colors are not interchangeable here\n",
    "Asymm3ColorTheory = combine(\"Asymm3Colors\", Color0, Color1, Color2, \n",
    "                            symmetries=NoSymmetry)\n",
    "# Again, force the colors to be disjoint\n",
    "Asymm3ColorTheory.exclude([\n",
    "    Asymm3ColorTheory(1), \n",
    "    Asymm3ColorTheory(1, C0=[0], C1=[0]), \n",
    "    Asymm3ColorTheory(1, C0=[0], C2=[0]), \n",
    "    Asymm3ColorTheory(1, C1=[0], C2=[0]),\n",
    "    Asymm3ColorTheory(1, C0=[0], C1=[0], C2=[0])\n",
    "])\n",
    "ColoredLinkGraphTheory = combine(\"ColoredLinkGraph\", GraphTheory, Asymm3ColorTheory)\n",
    "CLGT = ColoredLinkGraphTheory\n",
    "# These non-induced patterns guarantee the theory \n",
    "# represents a 3 colored c5m-free 3-graph's link.\n",
    "CLGT.exclude([\n",
    "    CLGT.pattern(4, edges=[[0, 1], [2, 3]], C0=[0], C1=[1, 2], C2=[3]),\n",
    "    CLGT.pattern(4, edges=[[0, 1], [2, 3]], C0=[1, 2], C1=[0], C2=[3]),\n",
    "    CLGT.pattern(4, edges=[[0, 1], [2, 3]], C0=[0], C1=[3], C2=[1, 2]),\n",
    "    \n",
    "    CLGT.pattern(3, edges=[[0, 1], [1, 2]], C0=[0], C1=[1], C2=[2]),\n",
    "    CLGT.pattern(3, edges=[[0, 1], [1, 2]], C0=[1], C1=[0], C2=[2]),\n",
    "    CLGT.pattern(3, edges=[[0, 1], [1, 2]], C0=[0], C1=[2], C2=[1]),\n",
    "\n",
    "    CLGT.pattern(3, edges=[[0, 1], [1, 2]], C0=[0, 1], C1=[2], C2=[]),\n",
    "    CLGT.pattern(3, edges=[[0, 1], [1, 2]], C0=[0, 1], C1=[], C2=[2]),\n",
    "    CLGT.pattern(3, edges=[[0, 1], [1, 2]], C0=[2], C1=[0, 1], C2=[]),\n",
    "    CLGT.pattern(3, edges=[[0, 1], [1, 2]], C0=[], C1=[0, 1], C2=[2]),\n",
    "    CLGT.pattern(3, edges=[[0, 1], [1, 2]], C0=[2], C1=[], C2=[0, 1]),\n",
    "    CLGT.pattern(3, edges=[[0, 1], [1, 2]], C0=[], C1=[2], C2=[0, 1])\n",
    "])"
   ]
  },
  {
   "cell_type": "code",
   "execution_count": 4,
   "id": "2e66d510-67ed-4ca6-b91c-8924cc4dad1e",
   "metadata": {},
   "outputs": [
    {
     "name": "stdout",
     "output_type": "stream",
     "text": [
      "Base flags generated, their number is 450\n",
      "The relevant ftypes are constructed, their number is 43\n",
      "Block sizes before symmetric/asymmetric change is applied: [28, 28, 28, 24, 15, 15, 24, 15, 12, 15, 15, 15, 24, 12, 8, 9, 9, 8, 12, 8, 9, 6, 6, 6, 8, 9, 9, 8, 9, 8, 12, 10, 7, 7, 10, 7, 7, 7, 7, 10, 10, 10, 10]\n"
     ]
    },
    {
     "name": "stderr",
     "output_type": "stream",
     "text": [
      "Done with mult table for Ftype on 3 points with edges=(01 02 12), C0=(0 1 2), C1=(), C2=(): : 43it [00:12,  3.31it/s]\n"
     ]
    },
    {
     "name": "stdout",
     "output_type": "stream",
     "text": [
      "Tables finished\n"
     ]
    },
    {
     "name": "stderr",
     "output_type": "stream",
     "text": [
      "Done with positivity constraint 5: 100%|████████████████████████████████████████████████████████████████████████████████████████████████████████████████████████| 6/6 [00:00<00:00,  6.66it/s]\n"
     ]
    },
    {
     "name": "stdout",
     "output_type": "stream",
     "text": [
      "Constraints finished\n",
      "Running sdp without construction. Used block sizes are [28, 28, 28, 12, 12, 12, 3, 12, 3, 12, 12, 12, 3, 12, 12, 3, 12, 3, 12, 3, 12, 12, 10, 2, 8, 8, 1, 8, 1, 8, 10, 2, 8, 8, 1, 6, 6, 6, 8, 8, 1, 8, 1, 8, 8, 1, 8, 10, 2, 8, 2, 6, 1, 6, 1, 8, 2, 6, 1, 6, 1, 6, 1, 6, 1, 8, 2, 6, 4, 6, 4, 6, 4, -450, -527]\n",
      "CSDP 6.2.0\n",
      "Iter:  0 Ap: 0.00e+00 Pobj:  0.0000000e+00 Ad: 0.00e+00 Dobj:  0.0000000e+00 \n",
      "Iter:  1 Ap: 1.00e+00 Pobj: -4.9906764e+01 Ad: 7.03e-01 Dobj:  7.4146685e+00 \n",
      "Iter:  2 Ap: 1.00e+00 Pobj: -5.1780504e+01 Ad: 9.53e-01 Dobj: -1.1714095e-01 \n",
      "Iter:  3 Ap: 1.00e+00 Pobj: -5.2767607e+01 Ad: 9.47e-01 Dobj: -7.8374277e-02 \n",
      "Iter:  4 Ap: 8.94e-01 Pobj: -4.5872238e+01 Ad: 8.45e-01 Dobj: -5.1154652e-02 \n",
      "Iter:  5 Ap: 8.95e-01 Pobj: -2.6494749e+01 Ad: 5.30e-01 Dobj: -1.0898197e-02 \n",
      "Iter:  6 Ap: 3.04e-01 Pobj: -2.4536581e+01 Ad: 4.83e-01 Dobj:  2.0338302e-02 \n",
      "Iter:  7 Ap: 9.58e-01 Pobj: -1.3968865e+01 Ad: 5.79e-01 Dobj:  4.4065676e-02 \n",
      "Iter:  8 Ap: 1.00e+00 Pobj: -7.4991889e+00 Ad: 7.92e-01 Dobj:  5.9839758e-02 \n",
      "Iter:  9 Ap: 8.86e-01 Pobj: -3.6396430e+00 Ad: 8.05e-01 Dobj:  6.2965520e-02 \n",
      "Iter: 10 Ap: 9.63e-01 Pobj: -1.4318645e+00 Ad: 8.29e-01 Dobj:  6.3620361e-02 \n",
      "Iter: 11 Ap: 4.13e-01 Pobj: -1.0458785e+00 Ad: 6.43e-01 Dobj:  6.2312655e-02 \n",
      "Iter: 12 Ap: 1.00e+00 Pobj: -2.0352687e-01 Ad: 7.71e-01 Dobj:  5.9443188e-02 \n",
      "Iter: 13 Ap: 1.00e+00 Pobj: -4.4078511e-02 Ad: 9.19e-01 Dobj:  4.2817755e-02 \n",
      "Iter: 14 Ap: 1.00e+00 Pobj: -2.7921811e-02 Ad: 1.00e+00 Dobj:  1.2942932e-02 \n",
      "Iter: 15 Ap: 1.00e+00 Pobj: -4.3000862e-03 Ad: 1.00e+00 Dobj:  4.4816907e-03 \n",
      "Iter: 16 Ap: 1.00e+00 Pobj: -8.7274404e-04 Ad: 9.75e-01 Dobj:  1.3135348e-03 \n",
      "Iter: 17 Ap: 1.00e+00 Pobj: -2.1281859e-04 Ad: 1.00e+00 Dobj:  2.9234586e-04 \n",
      "Iter: 18 Ap: 9.83e-01 Pobj: -1.0027822e-04 Ad: 1.00e+00 Dobj:  1.3206144e-04 \n",
      "Iter: 19 Ap: 1.00e+00 Pobj: -3.3793938e-05 Ad: 1.00e+00 Dobj:  3.2780504e-05 \n",
      "Iter: 20 Ap: 8.95e-01 Pobj: -1.2817354e-05 Ad: 1.00e+00 Dobj:  3.6078346e-06 \n",
      "Iter: 21 Ap: 4.27e-01 Pobj: -1.0019210e-05 Ad: 1.00e+00 Dobj:  9.9816526e-07 \n",
      "Iter: 22 Ap: 9.42e-01 Pobj: -4.8898473e-06 Ad: 1.00e+00 Dobj: -1.5390784e-06 \n",
      "Iter: 23 Ap: 1.00e+00 Pobj: -2.5150285e-06 Ad: 1.00e+00 Dobj: -3.8834100e-06 \n",
      "Iter: 24 Ap: 1.00e+00 Pobj: -9.9749120e-07 Ad: 1.00e+00 Dobj: -5.1513274e-06 \n",
      "Iter: 25 Ap: 1.00e+00 Pobj: -3.3198541e-07 Ad: 1.00e+00 Dobj: -1.3841181e-06 \n",
      "Iter: 26 Ap: 1.00e+00 Pobj: -4.3826318e-08 Ad: 1.00e+00 Dobj: -2.0921713e-07 \n",
      "Iter: 27 Ap: 1.00e+00 Pobj: -3.4015252e-09 Ad: 9.53e-01 Dobj: -1.8418605e-08 \n",
      "Iter: 28 Ap: 9.57e-01 Pobj: -1.4583385e-10 Ad: 9.46e-01 Dobj: -1.3115934e-09 \n",
      "Success: SDP solved\n",
      "Primal objective value: -1.4583385e-10 \n",
      "Dual objective value: -1.3115934e-09 \n",
      "Relative primal infeasibility: 1.76e-13 \n",
      "Relative dual infeasibility: 1.52e-10 \n",
      "Real Relative Gap: -1.17e-09 \n",
      "XZ Relative Gap: 8.75e-10 \n",
      "DIMACS error measures: 6.36e-13 0.00e+00 1.06e-09 0.00e+00 -1.17e-09 8.75e-10\n",
      "The initial run didn't provide an accurate construction\n",
      "Rounding X matrices\n"
     ]
    },
    {
     "name": "stderr",
     "output_type": "stream",
     "text": [
      "100%|████████████████████████████████████████████████████████████████████████████████████████████████████████████████████████████████████████████████████████| 73/73 [00:00<00:00, 894.80it/s]\n"
     ]
    },
    {
     "name": "stdout",
     "output_type": "stream",
     "text": [
      "Calculating resulting bound\n"
     ]
    },
    {
     "name": "stderr",
     "output_type": "stream",
     "text": [
      "100%|█████████████████████████████████████████████████████████████████████████████████████████████████████████████████████████████████████████████████████████| 43/43 [00:02<00:00, 15.56it/s]"
     ]
    },
    {
     "name": "stdout",
     "output_type": "stream",
     "text": [
      "The rounded result is 0\n"
     ]
    },
    {
     "name": "stderr",
     "output_type": "stream",
     "text": [
      "\n"
     ]
    },
    {
     "data": {
      "text/plain": [
       "0"
      ]
     },
     "execution_count": 4,
     "metadata": {},
     "output_type": "execute_result"
    }
   ],
   "source": [
    "### Vertex stability part (Proposition 3.4)\n",
    "\n",
    "edge_00 = CLGT(2, edges=[[0, 1]], C0=[0, 1], C1=[], C2=[])\n",
    "edge_11 = CLGT(2, edges=[[0, 1]], C0=[], C1=[0, 1], C2=[])\n",
    "edge_22 = CLGT(2, edges=[[0, 1]], C0=[], C1=[], C2=[0, 1])\n",
    "edge_01 = CLGT(2, edges=[[0, 1]], C0=[0], C1=[1], C2=[])\n",
    "edge_12 = CLGT(2, edges=[[0, 1]], C0=[], C1=[0], C2=[1])\n",
    "edge_02 = CLGT(2, edges=[[0, 1]], C0=[0], C1=[], C2=[1])\n",
    "\n",
    "point0 = CLGT(1, C0 = [0])\n",
    "point1 = CLGT(1, C1 = [0])\n",
    "point2 = CLGT(1, C2 = [0])\n",
    "\n",
    "positives = [\n",
    "    edge_12 - edge_01, \n",
    "    edge_12 - edge_02,\n",
    "    edge_01 + edge_02 + edge_12 - 1/8,\n",
    "    point0 - 1/4, \n",
    "    point1 - 1/4, \n",
    "    point2 - 1/4\n",
    "]\n",
    "\n",
    "# (M)issing edge with good colors\n",
    "M = CLGT(2, edges=[], C0=[], C1=[0], C2=[1]) \n",
    "\n",
    "# edges with (B)ad colors \n",
    "B = sum([\n",
    "    CLGT(2, edges=[[0, 1]], C0=[0], C1=[1], C2=[]),\n",
    "    CLGT(2, edges=[[0, 1]], C0=[0], C1=[], C2=[1]),\n",
    "    CLGT(2, edges=[[0, 1]], C0=[], C1=[0, 1], C2=[]),\n",
    "    CLGT(2, edges=[[0, 1]], C0=[], C1=[], C2=[0, 1])\n",
    "])\n",
    "\n",
    "CLGT.optimize(B - M*9/10, 5, positives = positives, exact=True, \n",
    "              file=\"certificates/proposition_3_4\")"
   ]
  },
  {
   "cell_type": "markdown",
   "id": "a5f95df4-8392-4a73-aa95-10aff1f634c3",
   "metadata": {},
   "source": [
    "Verify the certificates produced\n",
    "===============================\n",
    "\n",
    "Can be run without running the above cells. Note however that the \n",
    "initial call to these cells might take longer, due to the calculation of\n",
    "the multiplication tables. Once that is complete and stored, these cells \n",
    "verify the results fairly quickly."
   ]
  },
  {
   "cell_type": "code",
   "execution_count": 5,
   "id": "8c7ee2ee-d6c9-4850-a7b6-2d21d37cadc1",
   "metadata": {},
   "outputs": [
    {
     "name": "stdout",
     "output_type": "stream",
     "text": [
      "Checking X matrices\n"
     ]
    },
    {
     "name": "stderr",
     "output_type": "stream",
     "text": [
      "12it [02:25, 12.16s/it]\n"
     ]
    },
    {
     "name": "stdout",
     "output_type": "stream",
     "text": [
      "Solution matrices are all positive semidefinite, linear coefficients are all non-negative\n",
      "Calculating multiplication tables\n"
     ]
    },
    {
     "name": "stderr",
     "output_type": "stream",
     "text": [
      "12it [00:01,  8.01it/s]\n"
     ]
    },
    {
     "name": "stdout",
     "output_type": "stream",
     "text": [
      "Done calculating linear constraints\n",
      "Calculating the bound provided by the certificate\n"
     ]
    },
    {
     "name": "stderr",
     "output_type": "stream",
     "text": [
      "12it [02:56, 14.74s/it]\n"
     ]
    },
    {
     "name": "stdout",
     "output_type": "stream",
     "text": [
      "The solution is valid, it proves the bound 16849789/67200000\n"
     ]
    },
    {
     "data": {
      "text/plain": [
       "16849789/67200000"
      ]
     },
     "execution_count": 5,
     "metadata": {},
     "output_type": "execute_result"
    }
   ],
   "source": [
    "### Verify Proposition 3.1\n",
    "\n",
    "k4m = ThreeGraphTheory.pattern(4, edges=[[0, 1, 2], [0, 1, 3], [0, 2, 3]])\n",
    "c5m = ThreeGraphTheory.pattern(5, edges=[[0, 1, 2], [1, 2, 3], [2, 3, 4], [3, 4, 0]])\n",
    "ThreeGraphTheory.exclude([k4m, c5m])\n",
    "TGp = ThreeGraphTheory\n",
    "TGp.verify(\"certificates/proposition_3_1\", TGp(3, edges=[[0, 1, 2]]), 7)"
   ]
  },
  {
   "cell_type": "code",
   "execution_count": 6,
   "id": "a8f7e074-34b4-4ea5-9b45-9d0c7e99a005",
   "metadata": {},
   "outputs": [
    {
     "name": "stdout",
     "output_type": "stream",
     "text": [
      "Checking X matrices\n"
     ]
    },
    {
     "name": "stderr",
     "output_type": "stream",
     "text": [
      "12it [01:54,  9.52s/it]\n"
     ]
    },
    {
     "name": "stdout",
     "output_type": "stream",
     "text": [
      "Solution matrices are all positive semidefinite, linear coefficients are all non-negative\n",
      "Calculating multiplication tables\n"
     ]
    },
    {
     "name": "stderr",
     "output_type": "stream",
     "text": [
      "12it [00:01,  8.57it/s]\n"
     ]
    },
    {
     "name": "stdout",
     "output_type": "stream",
     "text": [
      "Done with positivity constraint 0\n",
      "Done calculating linear constraints\n",
      "Calculating the bound provided by the certificate\n"
     ]
    },
    {
     "name": "stderr",
     "output_type": "stream",
     "text": [
      "12it [02:58, 14.88s/it]\n"
     ]
    },
    {
     "name": "stdout",
     "output_type": "stream",
     "text": [
      "The solution is valid, it proves the bound 32144312729/660602880000\n"
     ]
    },
    {
     "data": {
      "text/plain": [
       "32144312729/660602880000"
      ]
     },
     "execution_count": 6,
     "metadata": {},
     "output_type": "execute_result"
    }
   ],
   "source": [
    "### Verify Proposition 3.2\n",
    "\n",
    "k4m = ThreeGraphTheory.pattern(4, edges=[[0, 1, 2], [0, 1, 3], [0, 2, 3]])\n",
    "c5m = ThreeGraphTheory.pattern(5, edges=[[0, 1, 2], [1, 2, 3], [2, 3, 4], [3, 4, 0]])\n",
    "ThreeGraphTheory.exclude([k4m, c5m])\n",
    "TGp = ThreeGraphTheory\n",
    "\n",
    "b32 = 1/4 - 1/100000\n",
    "edge = TGp(3, edges=[[0, 1, 2]])\n",
    "f222 = TGp.pattern(6, ftype=[0, 1, 2], edges=[[0, 1, 2], [3, 4, 5], [0, 1, 5], [0, 2, 4], [1, 2, 3]]).afae()\n",
    "k222 = f222.project()\n",
    "\n",
    "TGp.verify(\"certificates/proposition_3_2\", k222, 7, maximize=False, positives=[edge - b32])"
   ]
  },
  {
   "cell_type": "code",
   "execution_count": 7,
   "id": "781a249f-5aa2-4006-b580-3239d94d74d7",
   "metadata": {},
   "outputs": [
    {
     "name": "stdout",
     "output_type": "stream",
     "text": [
      "Checking X matrices\n"
     ]
    },
    {
     "name": "stderr",
     "output_type": "stream",
     "text": [
      "20it [00:03,  5.19it/s]\n"
     ]
    },
    {
     "name": "stdout",
     "output_type": "stream",
     "text": [
      "Solution matrices are all positive semidefinite, linear coefficients are all non-negative\n",
      "Calculating multiplication tables\n"
     ]
    },
    {
     "name": "stderr",
     "output_type": "stream",
     "text": [
      "20it [00:00, 26.23it/s]\n"
     ]
    },
    {
     "name": "stdout",
     "output_type": "stream",
     "text": [
      "Done with positivity constraint 0\n",
      "Done with positivity constraint 1\n",
      "Done calculating linear constraints\n",
      "Calculating the bound provided by the certificate\n"
     ]
    },
    {
     "name": "stderr",
     "output_type": "stream",
     "text": [
      "20it [02:30,  7.53s/it]"
     ]
    },
    {
     "name": "stdout",
     "output_type": "stream",
     "text": [
      "The solution is valid, it proves the bound 0\n"
     ]
    },
    {
     "name": "stderr",
     "output_type": "stream",
     "text": [
      "\n"
     ]
    },
    {
     "data": {
      "text/plain": [
       "0"
      ]
     },
     "execution_count": 7,
     "metadata": {},
     "output_type": "execute_result"
    }
   ],
   "source": [
    "### Verify Proposition 3.3\n",
    "\n",
    "k4m = ThreeGraphTheory.pattern(4, edges=[[0, 1, 2], [0, 1, 3], [0, 2, 3]])\n",
    "c5m = ThreeGraphTheory.pattern(5, edges=[[0, 1, 2], [1, 2, 3], [2, 3, 4], [3, 4, 0]])\n",
    "ThreeGraphTheory.exclude([k4m, c5m])\n",
    "TGp = ThreeGraphTheory\n",
    "P = Theory(\"3Partition\", relation_name=\"part\", arity=2, is_ordered=False)\n",
    "P.exclude([P(3, part=[[0, 1]]), P(4, part=[[0, 1], [0, 2], [0, 3], [1, 2], [1, 3], [2, 3]])])\n",
    "ThreePartitionedThreeGraphTheory = combine(\"3PartitionNoC5m\", TGp, P)\n",
    "CTGp = ThreePartitionedThreeGraphTheory\n",
    "\n",
    "C = CTGp(3, edges=[[0, 1, 2]], part=[[0, 1], [0, 2], [1, 2]])\n",
    "Cp = CTGp(3, edges=[[0, 1, 2]], part=[[0, 1], [0, 2], [1, 2]], ftype=[0])\n",
    "B = CTGp(3, edges=[[0, 1, 2]], part=[[0, 1], [1, 2]])\n",
    "Bp = CTGp(3, edges=[[0, 1, 2]], part=[[0, 1], [1, 2]], ftype=[0])\n",
    "M = CTGp(3, edges=[], part=[[0, 1], [0, 2], [1, 2]])\n",
    "b33 = 19/100\n",
    "assums = [Cp - Bp/2, C - b33]\n",
    "CTGp.verify(\"certificates/proposition_3_3\", B + (-99/100)*M, 6, positives=assums)"
   ]
  },
  {
   "cell_type": "code",
   "execution_count": 8,
   "id": "54db91a3-66a3-4943-a482-0ad6974e388a",
   "metadata": {},
   "outputs": [
    {
     "name": "stdout",
     "output_type": "stream",
     "text": [
      "Checking X matrices\n"
     ]
    },
    {
     "name": "stderr",
     "output_type": "stream",
     "text": [
      "43it [00:00, 1607.70it/s]\n"
     ]
    },
    {
     "name": "stdout",
     "output_type": "stream",
     "text": [
      "Solution matrices are all positive semidefinite, linear coefficients are all non-negative\n",
      "Calculating multiplication tables\n"
     ]
    },
    {
     "name": "stderr",
     "output_type": "stream",
     "text": [
      "43it [00:00, 838.75it/s]\n"
     ]
    },
    {
     "name": "stdout",
     "output_type": "stream",
     "text": [
      "Done with positivity constraint 0\n",
      "Done with positivity constraint 1\n",
      "Done with positivity constraint 2\n",
      "Done with positivity constraint 3\n",
      "Done with positivity constraint 4\n",
      "Done with positivity constraint 5\n",
      "Done calculating linear constraints\n",
      "Calculating the bound provided by the certificate\n"
     ]
    },
    {
     "name": "stderr",
     "output_type": "stream",
     "text": [
      "43it [00:02, 14.91it/s]"
     ]
    },
    {
     "name": "stdout",
     "output_type": "stream",
     "text": [
      "The solution is valid, it proves the bound 0\n"
     ]
    },
    {
     "name": "stderr",
     "output_type": "stream",
     "text": [
      "\n"
     ]
    },
    {
     "data": {
      "text/plain": [
       "0"
      ]
     },
     "execution_count": 8,
     "metadata": {},
     "output_type": "execute_result"
    }
   ],
   "source": [
    "### Verify Proposition 3.4\n",
    "\n",
    "Asymm3ColorTheory = combine(\"Asymm3Colors\", Color0, Color1, Color2, symmetries=NoSymmetry)\n",
    "Asymm3ColorTheory.exclude([\n",
    "    Asymm3ColorTheory(1), \n",
    "    Asymm3ColorTheory(1, C0=[0], C1=[0]), \n",
    "    Asymm3ColorTheory(1, C0=[0], C2=[0]), \n",
    "    Asymm3ColorTheory(1, C1=[0], C2=[0]),\n",
    "    Asymm3ColorTheory(1, C0=[0], C1=[0], C2=[0])\n",
    "])\n",
    "ColoredLinkGraphTheory = combine(\"ColoredLinkGraph\", GraphTheory, Asymm3ColorTheory)\n",
    "CLGT = ColoredLinkGraphTheory\n",
    "CLGT.exclude([\n",
    "    CLGT.pattern(4, edges=[[0, 1], [2, 3]], C0=[0], C1=[1, 2], C2=[3]),\n",
    "    CLGT.pattern(4, edges=[[0, 1], [2, 3]], C0=[1, 2], C1=[0], C2=[3]),\n",
    "    CLGT.pattern(4, edges=[[0, 1], [2, 3]], C0=[0], C1=[3], C2=[1, 2]),\n",
    "    \n",
    "    CLGT.pattern(3, edges=[[0, 1], [1, 2]], C0=[0], C1=[1], C2=[2]),\n",
    "    CLGT.pattern(3, edges=[[0, 1], [1, 2]], C0=[1], C1=[0], C2=[2]),\n",
    "    CLGT.pattern(3, edges=[[0, 1], [1, 2]], C0=[0], C1=[2], C2=[1]),\n",
    "\n",
    "    CLGT.pattern(3, edges=[[0, 1], [1, 2]], C0=[0, 1], C1=[2], C2=[]),\n",
    "    CLGT.pattern(3, edges=[[0, 1], [1, 2]], C0=[0, 1], C1=[], C2=[2]),\n",
    "    CLGT.pattern(3, edges=[[0, 1], [1, 2]], C0=[2], C1=[0, 1], C2=[]),\n",
    "    CLGT.pattern(3, edges=[[0, 1], [1, 2]], C0=[], C1=[0, 1], C2=[2]),\n",
    "    CLGT.pattern(3, edges=[[0, 1], [1, 2]], C0=[2], C1=[], C2=[0, 1]),\n",
    "    CLGT.pattern(3, edges=[[0, 1], [1, 2]], C0=[], C1=[2], C2=[0, 1])\n",
    "])\n",
    "\n",
    "edge_00 = CLGT(2, edges=[[0, 1]], C0=[0, 1], C1=[], C2=[])\n",
    "edge_11 = CLGT(2, edges=[[0, 1]], C0=[], C1=[0, 1], C2=[])\n",
    "edge_22 = CLGT(2, edges=[[0, 1]], C0=[], C1=[], C2=[0, 1])\n",
    "edge_01 = CLGT(2, edges=[[0, 1]], C0=[0], C1=[1], C2=[])\n",
    "edge_12 = CLGT(2, edges=[[0, 1]], C0=[], C1=[0], C2=[1])\n",
    "edge_02 = CLGT(2, edges=[[0, 1]], C0=[0], C1=[], C2=[1])\n",
    "point0 = CLGT(1, C0 = [0])\n",
    "point1 = CLGT(1, C1 = [0])\n",
    "point2 = CLGT(1, C2 = [0])\n",
    "positives = [\n",
    "    edge_12 - edge_01, \n",
    "    edge_12 - edge_02,\n",
    "    edge_01 + edge_02 + edge_12 - 1/8,\n",
    "    point0 - 1/4, \n",
    "    point1 - 1/4, \n",
    "    point2 - 1/4\n",
    "]\n",
    "M = CLGT(2, edges=[], C0=[], C1=[0], C2=[1]) \n",
    "B = sum([\n",
    "    CLGT(2, edges=[[0, 1]], C0=[0], C1=[1], C2=[]),\n",
    "    CLGT(2, edges=[[0, 1]], C0=[0], C1=[], C2=[1]),\n",
    "    CLGT(2, edges=[[0, 1]], C0=[], C1=[0, 1], C2=[]),\n",
    "    CLGT(2, edges=[[0, 1]], C0=[], C1=[], C2=[0, 1])\n",
    "])\n",
    "\n",
    "CLGT.verify(\"certificates/proposition_3_4\", B - M*9/10, 5, positives = positives)"
   ]
  }
 ],
 "metadata": {
  "kernelspec": {
   "display_name": "SageMath 10.5.beta7",
   "language": "sage",
   "name": "sagemath"
  },
  "language_info": {
   "codemirror_mode": {
    "name": "ipython",
    "version": 3
   },
   "file_extension": ".py",
   "mimetype": "text/x-python",
   "name": "python",
   "nbconvert_exporter": "python",
   "pygments_lexer": "ipython3",
   "version": "3.10.12"
  }
 },
 "nbformat": 4,
 "nbformat_minor": 5
}
