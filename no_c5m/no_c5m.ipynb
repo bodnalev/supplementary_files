{
 "cells": [
  {
   "cell_type": "markdown",
   "id": "60fa7a71-547f-4444-ab76-30ad097871db",
   "metadata": {},
   "source": [
    "The Turán number of $C_5^-$\n",
    "==============================\n",
    "\n",
    "This notebook contains calculations for the Turán number of $C_5^-$. To run these calculations, use the modified version of sage from\n",
    "https://github.com/bodnalev/sage\n",
    "\n",
    "As the blowup of $K_4^-$ contains $C_5^-$, we can additionally assume \n",
    "that we work in $K_4^-$-free structures. \n",
    "\n",
    "1. The first cell sets up the combinatorial theory of $C_5^-$ and \n",
    "$K_4^-$-free 3-graphs (called TGp). In addition, it sets up the \n",
    "combinatorial theory on the same 3-graphs with vertices partitioned \n",
    "into 3 parts using an additional 2-ary relation indicating different parts (called CTGp)\n",
    "\n",
    "2. The second cell performs the basic calculation of upper bounding edges \n",
    "in the theory for Proposition 3.1. It gives the $\\alpha_{3, 1}$ = a31 = 126373441/504000000 ~= 0.250740954365079... upper bound.\n",
    "The certificate proving the claim is saved to the file \"proposition_3_1.pickle\".\n",
    "\n",
    "3. The next cell lower bounds the max-cut ration (k222) for Proposition 3.2.\n",
    "Note at the optimal construction this value is exactly 25/121 ~= 0.19834710743801652892...\n",
    "The exact lower bound provided is $\\alpha_{3, 2}$ = a32 = 1607168566087/8282009829376 ~= 0.194055380179148...\n",
    "The certificate proving the claim is saved to the file \"proposition_3_2.pickle\".\n",
    "\n",
    "5. The following cell works in the 3 partitioned theory.\n",
    "It uses the lower bound b33=0.19 on the edges in the correct parts, where $\\beta_{3, 3}$ = b33 < a32 from the previous calculation.\n",
    "The calculations provide the precise density bound that there are less bad\n",
    "edges than missing edges asymptotically on the top\n",
    "level. Here bad and missing is defined compared to the expected construction.\n",
    "The certificate proving this claim is saved to the file \"proposition_3_3.pickle\".\n",
    "\n",
    "6. The next cell establishes the theory for 3 colored graphs appearing as\n",
    "a link of a vertex. The patterns excluded all would result in a $C_5^-$\n",
    "assuming that all the 3-edges between the three parts are present.\n",
    "\n",
    "7. Then the calculation on the link graph is performed.\n",
    "The calculations provide the precise density bound that there are less bad\n",
    "edges than missing edges asymptotically. The\n",
    "certificate proving this claim is saved to the file \"proposition_3_4.pickle\".\n",
    "\n",
    "8. The first 6 cells perform the entire calculation from scratch. If one\n",
    "only wants to verify that any of the certificates are indeed correct, it is enough\n",
    "to run the corresponding cell from the final 4. For each step above, it loads the generated\n",
    "certificates and verifies that the matrices are indeed positive semidefinite\n",
    "and that the bound they prove is exactly as claimed."
   ]
  },
  {
   "cell_type": "code",
   "execution_count": 1,
   "id": "3b851628-87a4-4df0-b0fb-935d3a2e4c65",
   "metadata": {},
   "outputs": [],
   "source": [
    "### Theory for 3-graphs, with k4m and c5m excluded\n",
    "k4m = ThreeGraphTheory.pattern(4, edges=[[0, 1, 2], [0, 1, 3], [0, 2, 3]])\n",
    "c5m = ThreeGraphTheory.pattern(5, edges=[[0, 1, 2], [1, 2, 3], [2, 3, 4], [3, 4, 0]])\n",
    "ThreeGraphTheory.exclude([k4m, c5m])\n",
    "TGp = ThreeGraphTheory\n",
    "\n",
    "\n",
    "# Graphs representing a three-partition\n",
    "P = Theory(\"3Partition\", relation_name=\"part\", arity=2, is_ordered=False)\n",
    "P.exclude([P(3, part=[[0, 1]]), P(4, part=[[0, 1], [0, 2], [0, 3], [1, 2], [1, 3], [2, 3]])])\n",
    "ThreePartitionedThreeGraphTheory = combine(\"3PartitionNoC5m\", TGp, P)\n",
    "CTGp = ThreePartitionedThreeGraphTheory"
   ]
  },
  {
   "cell_type": "code",
   "execution_count": 3,
   "id": "7e338b71-9c2f-423c-8fa9-184eb1d42ac8",
   "metadata": {},
   "outputs": [
    {
     "name": "stdout",
     "output_type": "stream",
     "text": [
      "The initial upper bound on the Turan density from Proposition 3.1 is 401181/1600000 ~= 0.250738125000000\n"
     ]
    }
   ],
   "source": [
    "### This part just gives a standard upper bound on the number of edges without C5- and K4- (Proposition 3.1)\n",
    "\n",
    "a31 = TGp.optimize(TGp(3, edges=[[0, 1, 2]]), 7,  exact=True, \n",
    "                   file=\"certificates/proposition_3_1\", \n",
    "                   denom=1024*3125, printlevel=0\n",
    "                  )\n",
    "print(\"The initial upper bound on the Turan density from Proposition 3.1 is {} ~= {}\".format(a31, a31.n()))"
   ]
  },
  {
   "cell_type": "code",
   "execution_count": 4,
   "id": "d2b75bc6-0c5d-490c-857c-d5770f250743",
   "metadata": {
    "scrolled": true
   },
   "outputs": [
    {
     "name": "stdout",
     "output_type": "stream",
     "text": [
      "The max-cut ratio returned by Proposition 3.2 is at least 1701468433/8763932672 ~= 0.194144398032181\n"
     ]
    }
   ],
   "source": [
    "### This code that minimizes the max-cut ratio K222 (Proposition 3.2)\n",
    "\n",
    "# beta_{3, 2} constant\n",
    "b32 = 1/4 - 1/100000\n",
    "edge = TGp(3, edges=[[0, 1, 2]])\n",
    "\n",
    "# First the typed f222 is constructed\n",
    "f222 = TGp.pattern(6, ftype=[0, 1, 2], \n",
    "                   edges=[[0, 1, 2], [3, 4, 5], [0, 1, 5], [0, 2, 4], [1, 2, 3]])\n",
    "# Then k222 is the projection of f222, this takes care of the automorphisms\n",
    "k222 = f222.project()\n",
    "\n",
    "gamma = TGp.optimize(k222, 7, maximize=False, positives=[edge - b32], exact=True, \n",
    "                     file=\"certificates/proposition_3_2\", \n",
    "                     denom=1024*1024, printlevel=0\n",
    "                    )\n",
    "a32 = gamma / a31\n",
    "\n",
    "print(\"The max-cut ratio returned by Proposition 3.2 is at least {} ~= {}\".format(a32, a32.n()))"
   ]
  },
  {
   "cell_type": "code",
   "execution_count": 7,
   "id": "6a535c13-08a2-4a08-bcd0-ee43c2c4b586",
   "metadata": {
    "scrolled": true
   },
   "outputs": [
    {
     "data": {
      "text/plain": [
       "0"
      ]
     },
     "execution_count": 7,
     "metadata": {},
     "output_type": "execute_result"
    }
   ],
   "source": [
    "### This is the code that performs the calculations on the theory with three partition (Proposition 3.3)\n",
    "\n",
    "# edge with (C)orrect partition\n",
    "C = CTGp(3, edges=[[0, 1, 2]], part=[[0, 1], [0, 2], [1, 2]])\n",
    "# edge with (C)orrect partition (p)ointed\n",
    "Cp = CTGp(3, edges=[[0, 1, 2]], part=[[0, 1], [0, 2], [1, 2]], ftype=[0])\n",
    "\n",
    "# edge with (B)ad partition\n",
    "B = CTGp(3, edges=[[0, 1, 2]], part=[[0, 1], [1, 2]])\n",
    "\n",
    "# edge with (B)ad partition (p)ointed \n",
    "Bp = CTGp(3, edges=[[0, 1, 2]], part=[[0, 1], [1, 2]], ftype=[0])\n",
    "\n",
    "# (M)issing edge with good partition\n",
    "M = CTGp(3, edges=[], part=[[0, 1], [0, 2], [1, 2]])\n",
    "\n",
    "# positivity assumptions:\n",
    "# each point, good edges are more than bad edges \n",
    "# (divided by two due to the symmetry between the parts)\n",
    "# edge density is larger than b33 (which is smaller than a32)\n",
    "b33 = 19/100\n",
    "assums = [Cp - Bp/2, C - b33]\n",
    "\n",
    "# optimal construction and its derivatives\n",
    "symbolic_constr = CTGp.blowup_construction(6, [\"X0\", \"X1\", \"X2\"], edges=[[0, 1, 2]], \n",
    "                                           part=[[0, 1], [0, 2], [1, 2]]).set_sum()\n",
    "ders = symbolic_constr.derivatives([1/3, 1/3])\n",
    "\n",
    "# bad is less than missing, proven by (B)ad (M)inum (M)issing is at most 0.\n",
    "CTGp.optimize(B - M*(99/100), 6, positives=assums, exact=True, \n",
    "              construction=ders, file=\"certificates/proposition_3_3\", \n",
    "              denom=1024*16, slack_threshold=1e-6, kernel_denom=2**20, printlevel=0\n",
    "             )"
   ]
  },
  {
   "cell_type": "code",
   "execution_count": 8,
   "id": "d8551b3b-27c4-47d8-b877-9a6463e9e5df",
   "metadata": {},
   "outputs": [],
   "source": [
    "### Theory for 3-colored 2-graphs, the colors are not interchangeable here\n",
    "Asymm3ColorTheory = combine(\"Asymm3Colors\", Color0, Color1, Color2, \n",
    "                            symmetries=NoSymmetry)\n",
    "# Again, force the colors to be disjoint\n",
    "Asymm3ColorTheory.exclude([\n",
    "    Asymm3ColorTheory(1), \n",
    "    Asymm3ColorTheory(1, C0=[0], C1=[0]), \n",
    "    Asymm3ColorTheory(1, C0=[0], C2=[0]), \n",
    "    Asymm3ColorTheory(1, C1=[0], C2=[0]),\n",
    "    Asymm3ColorTheory(1, C0=[0], C1=[0], C2=[0])\n",
    "])\n",
    "ColoredLinkGraphTheory = combine(\"ColoredLinkGraph\", GraphTheory, Asymm3ColorTheory)\n",
    "CLGT = ColoredLinkGraphTheory\n",
    "# These non-induced patterns guarantee the theory \n",
    "# represents a 3 colored c5m-free 3-graph's link.\n",
    "CLGT.exclude([\n",
    "    CLGT.pattern(4, edges=[[0, 1], [2, 3]], C0=[0], C1=[1, 2], C2=[3]),\n",
    "    CLGT.pattern(4, edges=[[0, 1], [2, 3]], C0=[1, 2], C1=[0], C2=[3]),\n",
    "    CLGT.pattern(4, edges=[[0, 1], [2, 3]], C0=[0], C1=[3], C2=[1, 2]),\n",
    "    \n",
    "    CLGT.pattern(3, edges=[[0, 1], [1, 2]], C0=[0], C1=[1], C2=[2]),\n",
    "    CLGT.pattern(3, edges=[[0, 1], [1, 2]], C0=[1], C1=[0], C2=[2]),\n",
    "    CLGT.pattern(3, edges=[[0, 1], [1, 2]], C0=[0], C1=[2], C2=[1]),\n",
    "\n",
    "    CLGT.pattern(3, edges=[[0, 1], [1, 2]], C0=[0, 1], C1=[2], C2=[]),\n",
    "    CLGT.pattern(3, edges=[[0, 1], [1, 2]], C0=[0, 1], C1=[], C2=[2]),\n",
    "    CLGT.pattern(3, edges=[[0, 1], [1, 2]], C0=[2], C1=[0, 1], C2=[]),\n",
    "    CLGT.pattern(3, edges=[[0, 1], [1, 2]], C0=[], C1=[0, 1], C2=[2]),\n",
    "    CLGT.pattern(3, edges=[[0, 1], [1, 2]], C0=[2], C1=[], C2=[0, 1]),\n",
    "    CLGT.pattern(3, edges=[[0, 1], [1, 2]], C0=[], C1=[2], C2=[0, 1])\n",
    "])"
   ]
  },
  {
   "cell_type": "code",
   "execution_count": 10,
   "id": "2e66d510-67ed-4ca6-b91c-8924cc4dad1e",
   "metadata": {},
   "outputs": [
    {
     "data": {
      "text/plain": [
       "0"
      ]
     },
     "execution_count": 10,
     "metadata": {},
     "output_type": "execute_result"
    }
   ],
   "source": [
    "### Vertex stability part (Proposition 3.4)\n",
    "\n",
    "edge_00 = CLGT(2, edges=[[0, 1]], C0=[0, 1], C1=[], C2=[])\n",
    "edge_11 = CLGT(2, edges=[[0, 1]], C0=[], C1=[0, 1], C2=[])\n",
    "edge_22 = CLGT(2, edges=[[0, 1]], C0=[], C1=[], C2=[0, 1])\n",
    "edge_01 = CLGT(2, edges=[[0, 1]], C0=[0], C1=[1], C2=[])\n",
    "edge_12 = CLGT(2, edges=[[0, 1]], C0=[], C1=[0], C2=[1])\n",
    "edge_02 = CLGT(2, edges=[[0, 1]], C0=[0], C1=[], C2=[1])\n",
    "\n",
    "point0 = CLGT(1, C0 = [0])\n",
    "point1 = CLGT(1, C1 = [0])\n",
    "point2 = CLGT(1, C2 = [0])\n",
    "\n",
    "positives = [\n",
    "    edge_12 - edge_01, \n",
    "    edge_12 - edge_02,\n",
    "    edge_01 + edge_02 + edge_12 - 1/8,\n",
    "    point0 - 1/4, \n",
    "    point1 - 1/4, \n",
    "    point2 - 1/4\n",
    "]\n",
    "\n",
    "# (M)issing edge with good colors\n",
    "M = CLGT(2, edges=[], C0=[], C1=[0], C2=[1]) \n",
    "\n",
    "# edges with (B)ad colors \n",
    "B = sum([\n",
    "    CLGT(2, edges=[[0, 1]], C0=[0], C1=[1], C2=[]),\n",
    "    CLGT(2, edges=[[0, 1]], C0=[0], C1=[], C2=[1]),\n",
    "    CLGT(2, edges=[[0, 1]], C0=[], C1=[0, 1], C2=[]),\n",
    "    CLGT(2, edges=[[0, 1]], C0=[], C1=[], C2=[0, 1])\n",
    "])\n",
    "\n",
    "CLGT.optimize(B - M*9/10, 5, positives = positives, exact=True, \n",
    "              file=\"certificates/proposition_3_4\", kernel_threshold=0, printlevel=0)"
   ]
  },
  {
   "cell_type": "markdown",
   "id": "a5f95df4-8392-4a73-aa95-10aff1f634c3",
   "metadata": {},
   "source": [
    "Verify the certificates produced\n",
    "===============================\n",
    "\n",
    "Can be run without running the above cells. Note however that the \n",
    "initial call to these cells might take longer, due to the calculation of\n",
    "the multiplication tables. Once that is complete and stored, these cells \n",
    "verify the results fairly quickly."
   ]
  },
  {
   "cell_type": "code",
   "execution_count": 7,
   "id": "8c7ee2ee-d6c9-4850-a7b6-2d21d37cadc1",
   "metadata": {},
   "outputs": [
    {
     "name": "stdout",
     "output_type": "stream",
     "text": [
      "Checking X matrices\n"
     ]
    },
    {
     "name": "stderr",
     "output_type": "stream",
     "text": [
      "12it [02:24, 12.03s/it]\n"
     ]
    },
    {
     "name": "stdout",
     "output_type": "stream",
     "text": [
      "Solution matrices are all positive semidefinite, linear coefficients are all non-negative\n",
      "Calculating multiplication tables\n"
     ]
    },
    {
     "name": "stderr",
     "output_type": "stream",
     "text": [
      "12it [00:01,  7.58it/s]\n"
     ]
    },
    {
     "name": "stdout",
     "output_type": "stream",
     "text": [
      "Done calculating linear constraints\n",
      "Calculating the bound provided by the certificate\n"
     ]
    },
    {
     "name": "stderr",
     "output_type": "stream",
     "text": [
      "12it [03:02, 15.23s/it]\n"
     ]
    },
    {
     "name": "stdout",
     "output_type": "stream",
     "text": [
      "The solution is valid, it proves the bound 63186647/252000000\n"
     ]
    },
    {
     "data": {
      "text/plain": [
       "63186647/252000000"
      ]
     },
     "execution_count": 7,
     "metadata": {},
     "output_type": "execute_result"
    }
   ],
   "source": [
    "### Verify Proposition 3.1\n",
    "\n",
    "k4m = ThreeGraphTheory.pattern(4, edges=[[0, 1, 2], [0, 1, 3], [0, 2, 3]])\n",
    "c5m = ThreeGraphTheory.pattern(5, edges=[[0, 1, 2], [1, 2, 3], [2, 3, 4], [3, 4, 0]])\n",
    "ThreeGraphTheory.exclude([k4m, c5m])\n",
    "TGp = ThreeGraphTheory\n",
    "TGp.verify(\"certificates/proposition_3_1\", TGp(3, edges=[[0, 1, 2]]), 7)"
   ]
  },
  {
   "cell_type": "code",
   "execution_count": 8,
   "id": "a8f7e074-34b4-4ea5-9b45-9d0c7e99a005",
   "metadata": {},
   "outputs": [
    {
     "name": "stdout",
     "output_type": "stream",
     "text": [
      "Checking X matrices\n"
     ]
    },
    {
     "name": "stderr",
     "output_type": "stream",
     "text": [
      "12it [02:01, 10.09s/it]\n"
     ]
    },
    {
     "name": "stdout",
     "output_type": "stream",
     "text": [
      "Solution matrices are all positive semidefinite, linear coefficients are all non-negative\n",
      "Calculating multiplication tables\n"
     ]
    },
    {
     "name": "stderr",
     "output_type": "stream",
     "text": [
      "12it [00:01,  7.70it/s]\n"
     ]
    },
    {
     "name": "stdout",
     "output_type": "stream",
     "text": [
      "Done with positivity constraint 0\n",
      "Done calculating linear constraints\n",
      "Calculating the bound provided by the certificate\n"
     ]
    },
    {
     "name": "stderr",
     "output_type": "stream",
     "text": [
      "12it [03:14, 16.19s/it]\n"
     ]
    },
    {
     "name": "stdout",
     "output_type": "stream",
     "text": [
      "The solution is valid, it proves the bound 803712917869/16515072000000\n"
     ]
    },
    {
     "data": {
      "text/plain": [
       "803712917869/16515072000000"
      ]
     },
     "execution_count": 8,
     "metadata": {},
     "output_type": "execute_result"
    }
   ],
   "source": [
    "### Verify Proposition 3.2\n",
    "\n",
    "k4m = ThreeGraphTheory.pattern(4, edges=[[0, 1, 2], [0, 1, 3], [0, 2, 3]])\n",
    "c5m = ThreeGraphTheory.pattern(5, edges=[[0, 1, 2], [1, 2, 3], [2, 3, 4], [3, 4, 0]])\n",
    "ThreeGraphTheory.exclude([k4m, c5m])\n",
    "TGp = ThreeGraphTheory\n",
    "\n",
    "b32 = 1/4 - 1/100000\n",
    "edge = TGp(3, edges=[[0, 1, 2]])\n",
    "f222 = TGp.pattern(6, ftype=[0, 1, 2], edges=[[0, 1, 2], [3, 4, 5], [0, 1, 5], [0, 2, 4], [1, 2, 3]]).afae()\n",
    "k222 = f222.project()\n",
    "\n",
    "TGp.verify(\"certificates/proposition_3_2\", k222, 7, maximize=False, positives=[edge - b32])"
   ]
  },
  {
   "cell_type": "code",
   "execution_count": 9,
   "id": "781a249f-5aa2-4006-b580-3239d94d74d7",
   "metadata": {},
   "outputs": [
    {
     "name": "stdout",
     "output_type": "stream",
     "text": [
      "Checking X matrices\n"
     ]
    },
    {
     "name": "stderr",
     "output_type": "stream",
     "text": [
      "20it [00:04,  4.75it/s]\n"
     ]
    },
    {
     "name": "stdout",
     "output_type": "stream",
     "text": [
      "Solution matrices are all positive semidefinite, linear coefficients are all non-negative\n",
      "Calculating multiplication tables\n"
     ]
    },
    {
     "name": "stderr",
     "output_type": "stream",
     "text": [
      "20it [00:01, 17.51it/s]\n"
     ]
    },
    {
     "name": "stdout",
     "output_type": "stream",
     "text": [
      "Done with positivity constraint 0\n",
      "Done with positivity constraint 1\n",
      "Done calculating linear constraints\n",
      "Calculating the bound provided by the certificate\n"
     ]
    },
    {
     "name": "stderr",
     "output_type": "stream",
     "text": [
      "20it [02:36,  7.82s/it]\n"
     ]
    },
    {
     "name": "stdout",
     "output_type": "stream",
     "text": [
      "The solution is valid, it proves the bound 0\n"
     ]
    },
    {
     "data": {
      "text/plain": [
       "0"
      ]
     },
     "execution_count": 9,
     "metadata": {},
     "output_type": "execute_result"
    }
   ],
   "source": [
    "### Verify Proposition 3.3\n",
    "\n",
    "k4m = ThreeGraphTheory.pattern(4, edges=[[0, 1, 2], [0, 1, 3], [0, 2, 3]])\n",
    "c5m = ThreeGraphTheory.pattern(5, edges=[[0, 1, 2], [1, 2, 3], [2, 3, 4], [3, 4, 0]])\n",
    "ThreeGraphTheory.exclude([k4m, c5m])\n",
    "TGp = ThreeGraphTheory\n",
    "P = Theory(\"3Partition\", relation_name=\"part\", arity=2, is_ordered=False)\n",
    "P.exclude([P(3, part=[[0, 1]]), P(4, part=[[0, 1], [0, 2], [0, 3], [1, 2], [1, 3], [2, 3]])])\n",
    "ThreePartitionedThreeGraphTheory = combine(\"3PartitionNoC5m\", TGp, P)\n",
    "CTGp = ThreePartitionedThreeGraphTheory\n",
    "\n",
    "C = CTGp(3, edges=[[0, 1, 2]], part=[[0, 1], [0, 2], [1, 2]])\n",
    "Cp = CTGp(3, edges=[[0, 1, 2]], part=[[0, 1], [0, 2], [1, 2]], ftype=[0])\n",
    "B = CTGp(3, edges=[[0, 1, 2]], part=[[0, 1], [1, 2]])\n",
    "Bp = CTGp(3, edges=[[0, 1, 2]], part=[[0, 1], [1, 2]], ftype=[0])\n",
    "M = CTGp(3, edges=[], part=[[0, 1], [0, 2], [1, 2]])\n",
    "b33 = 19/100\n",
    "assums = [Cp - Bp/2, C - b33]\n",
    "CTGp.verify(\"certificates/proposition_3_3\", B + (-99/100)*M, 6, positives=assums)"
   ]
  },
  {
   "cell_type": "code",
   "execution_count": 5,
   "id": "54db91a3-66a3-4943-a482-0ad6974e388a",
   "metadata": {},
   "outputs": [
    {
     "name": "stdout",
     "output_type": "stream",
     "text": [
      "Checking X matrices\n"
     ]
    },
    {
     "name": "stderr",
     "output_type": "stream",
     "text": [
      "43it [00:00, 1598.92it/s]\n"
     ]
    },
    {
     "name": "stdout",
     "output_type": "stream",
     "text": [
      "Solution matrices are all positive semidefinite, linear coefficients are all non-negative\n",
      "Calculating multiplication tables\n"
     ]
    },
    {
     "name": "stderr",
     "output_type": "stream",
     "text": [
      "43it [00:00, 455.01it/s]"
     ]
    },
    {
     "name": "stdout",
     "output_type": "stream",
     "text": [
      "Done with positivity constraint 0\n",
      "Done with positivity constraint 1\n",
      "Done with positivity constraint 2\n",
      "Done with positivity constraint 3\n",
      "Done with positivity constraint 4\n",
      "Done with positivity constraint 5\n"
     ]
    },
    {
     "name": "stderr",
     "output_type": "stream",
     "text": [
      "\n"
     ]
    },
    {
     "name": "stdout",
     "output_type": "stream",
     "text": [
      "Done calculating linear constraints\n",
      "Calculating the bound provided by the certificate\n"
     ]
    },
    {
     "name": "stderr",
     "output_type": "stream",
     "text": [
      "43it [00:02, 14.62it/s]"
     ]
    },
    {
     "name": "stdout",
     "output_type": "stream",
     "text": [
      "The solution is valid, it proves the bound 0\n"
     ]
    },
    {
     "name": "stderr",
     "output_type": "stream",
     "text": [
      "\n"
     ]
    },
    {
     "data": {
      "text/plain": [
       "0"
      ]
     },
     "execution_count": 5,
     "metadata": {},
     "output_type": "execute_result"
    }
   ],
   "source": [
    "### Verify Proposition 3.4\n",
    "\n",
    "Asymm3ColorTheory = combine(\"Asymm3Colors\", Color0, Color1, Color2, symmetries=NoSymmetry)\n",
    "Asymm3ColorTheory.exclude([\n",
    "    Asymm3ColorTheory(1), \n",
    "    Asymm3ColorTheory(1, C0=[0], C1=[0]), \n",
    "    Asymm3ColorTheory(1, C0=[0], C2=[0]), \n",
    "    Asymm3ColorTheory(1, C1=[0], C2=[0]),\n",
    "    Asymm3ColorTheory(1, C0=[0], C1=[0], C2=[0])\n",
    "])\n",
    "ColoredLinkGraphTheory = combine(\"ColoredLinkGraph\", GraphTheory, Asymm3ColorTheory)\n",
    "CLGT = ColoredLinkGraphTheory\n",
    "CLGT.exclude([\n",
    "    CLGT.pattern(4, edges=[[0, 1], [2, 3]], C0=[0], C1=[1, 2], C2=[3]),\n",
    "    CLGT.pattern(4, edges=[[0, 1], [2, 3]], C0=[1, 2], C1=[0], C2=[3]),\n",
    "    CLGT.pattern(4, edges=[[0, 1], [2, 3]], C0=[0], C1=[3], C2=[1, 2]),\n",
    "    \n",
    "    CLGT.pattern(3, edges=[[0, 1], [1, 2]], C0=[0], C1=[1], C2=[2]),\n",
    "    CLGT.pattern(3, edges=[[0, 1], [1, 2]], C0=[1], C1=[0], C2=[2]),\n",
    "    CLGT.pattern(3, edges=[[0, 1], [1, 2]], C0=[0], C1=[2], C2=[1]),\n",
    "\n",
    "    CLGT.pattern(3, edges=[[0, 1], [1, 2]], C0=[0, 1], C1=[2], C2=[]),\n",
    "    CLGT.pattern(3, edges=[[0, 1], [1, 2]], C0=[0, 1], C1=[], C2=[2]),\n",
    "    CLGT.pattern(3, edges=[[0, 1], [1, 2]], C0=[2], C1=[0, 1], C2=[]),\n",
    "    CLGT.pattern(3, edges=[[0, 1], [1, 2]], C0=[], C1=[0, 1], C2=[2]),\n",
    "    CLGT.pattern(3, edges=[[0, 1], [1, 2]], C0=[2], C1=[], C2=[0, 1]),\n",
    "    CLGT.pattern(3, edges=[[0, 1], [1, 2]], C0=[], C1=[2], C2=[0, 1])\n",
    "])\n",
    "\n",
    "edge_00 = CLGT(2, edges=[[0, 1]], C0=[0, 1], C1=[], C2=[])\n",
    "edge_11 = CLGT(2, edges=[[0, 1]], C0=[], C1=[0, 1], C2=[])\n",
    "edge_22 = CLGT(2, edges=[[0, 1]], C0=[], C1=[], C2=[0, 1])\n",
    "edge_01 = CLGT(2, edges=[[0, 1]], C0=[0], C1=[1], C2=[])\n",
    "edge_12 = CLGT(2, edges=[[0, 1]], C0=[], C1=[0], C2=[1])\n",
    "edge_02 = CLGT(2, edges=[[0, 1]], C0=[0], C1=[], C2=[1])\n",
    "point0 = CLGT(1, C0 = [0])\n",
    "point1 = CLGT(1, C1 = [0])\n",
    "point2 = CLGT(1, C2 = [0])\n",
    "positives = [\n",
    "    edge_12 - edge_01, \n",
    "    edge_12 - edge_02,\n",
    "    edge_01 + edge_02 + edge_12 - 1/8,\n",
    "    point0 - 1/4, \n",
    "    point1 - 1/4, \n",
    "    point2 - 1/4\n",
    "]\n",
    "M = CLGT(2, edges=[], C0=[], C1=[0], C2=[1]) \n",
    "B = sum([\n",
    "    CLGT(2, edges=[[0, 1]], C0=[0], C1=[1], C2=[]),\n",
    "    CLGT(2, edges=[[0, 1]], C0=[0], C1=[], C2=[1]),\n",
    "    CLGT(2, edges=[[0, 1]], C0=[], C1=[0, 1], C2=[]),\n",
    "    CLGT(2, edges=[[0, 1]], C0=[], C1=[], C2=[0, 1])\n",
    "])\n",
    "\n",
    "CLGT.verify(\"certificates/proposition_3_4\", B - M*9/10, 5, positives = positives)"
   ]
  }
 ],
 "metadata": {
  "kernelspec": {
   "display_name": "SageMath 10.5.beta7",
   "language": "sage",
   "name": "sagemath"
  },
  "language_info": {
   "codemirror_mode": {
    "name": "ipython",
    "version": 3
   },
   "file_extension": ".py",
   "mimetype": "text/x-python",
   "name": "python",
   "nbconvert_exporter": "python",
   "pygments_lexer": "ipython3",
   "version": "3.12.3"
  }
 },
 "nbformat": 4,
 "nbformat_minor": 5
}
