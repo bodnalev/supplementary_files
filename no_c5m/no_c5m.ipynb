{
 "cells": [
  {
   "cell_type": "markdown",
   "id": "60fa7a71-547f-4444-ab76-30ad097871db",
   "metadata": {},
   "source": [
    "The Turán number of $C_5^-$\n",
    "==============================\n",
    "\n",
    "This notebook contains calculations for the Turán number of $C_5^-$. To run these calculations, use the modified version of sage from\n",
    "https://github.com/bodnalev/sage\n",
    "\n",
    "As the blowup of $K_4^-$ contains $C_5^-$, we can additionally assume \n",
    "that we work in $K_4^-$-free structures. \n",
    "\n",
    "1. The first cell sets up the combinatorial theory of $C_5^-$ and \n",
    "$K_4^-$-free 3-graphs (called TGp). In addition, it sets up the \n",
    "combinatorial theory on the same 3-graphs with vertices partitioned \n",
    "into 3 parts using an additional 2-ary relation indicating different parts (called CTGp)\n",
    "\n",
    "2. The second cell performs the basic calculation of upper bounding edges \n",
    "in the theory for Proposition 3.1. It gives the $\\alpha_{3, 1}$ = a31 = 126373441/504000000 ~= 0.250740954365079... upper bound.\n",
    "The certificate proving the claim is saved to the file \"proposition_3_1.pickle\".\n",
    "\n",
    "3. The next cell lower bounds the max-cut ration (k222) for Proposition 3.2.\n",
    "Note at the optimal construction this value is exactly 25/121 ~= 0.19834710743801652892...\n",
    "The exact lower bound provided is $\\alpha_{3, 2}$ = a32 = 1607168566087/8282009829376 ~= 0.194055380179148...\n",
    "The certificate proving the claim is saved to the file \"proposition_3_2.pickle\".\n",
    "\n",
    "5. The following cell works in the 3 partitioned theory.\n",
    "It uses the lower bound b33=0.19 on the edges in the correct parts, where $\\beta_{3, 3}$ = b33 < a32 from the previous calculation.\n",
    "The calculations provide the precise density bound that there are less bad\n",
    "edges than missing edges asymptotically on the top\n",
    "level. Here bad and missing is defined compared to the expected construction.\n",
    "The certificate proving this claim is saved to the file \"proposition_3_3.pickle\".\n",
    "\n",
    "6. The next cell establishes the theory for 3 colored graphs appearing as\n",
    "a link of a vertex. The patterns excluded all would result in a $C_5^-$\n",
    "assuming that all the 3-edges between the three parts are present.\n",
    "\n",
    "7. Then the calculation on the link graph is performed.\n",
    "The calculations provide the precise density bound that there are less bad\n",
    "edges than missing edges asymptotically. The\n",
    "certificate proving this claim is saved to the file \"proposition_3_4.pickle\".\n",
    "\n",
    "8. The first 6 cells perform the entire calculation from scratch. If one\n",
    "only wants to verify that any of the certificates are indeed correct, it is enough\n",
    "to run the corresponding cell from the final 4. For each step above, it loads the generated\n",
    "certificates and verifies that the matrices are indeed positive semidefinite\n",
    "and that the bound they prove is exactly as claimed."
   ]
  },
  {
   "cell_type": "code",
   "execution_count": 3,
   "id": "3b851628-87a4-4df0-b0fb-935d3a2e4c65",
   "metadata": {},
   "outputs": [
    {
     "name": "stdout",
     "output_type": "stream",
     "text": [
      "{'arity': 3, 'ordered': False, 'group': 0} {'arity': 2, 'ordered': False, 'group': 0} edges\n"
     ]
    }
   ],
   "source": [
    "### Theory for 3-graphs, with k4m and c5m excluded\n",
    "k4m = ThreeGraphTheory.pattern(4, edges=[[0, 1, 2], [0, 1, 3], [0, 2, 3]])\n",
    "c5m = ThreeGraphTheory.pattern(5, edges=[[0, 1, 2], [1, 2, 3], [2, 3, 4], [3, 4, 0]])\n",
    "ThreeGraphTheory.exclude([k4m, c5m])\n",
    "TGp = ThreeGraphTheory\n",
    "\n",
    "\n",
    "# Graphs representing a three-partition\n",
    "P = Theory(\"3Partition\", relation_name=\"part\", arity=2, is_ordered=False)\n",
    "P.exclude([P(3, part=[[0, 1]]), P(4, part=[[0, 1], [0, 2], [0, 3], [1, 2], [1, 3], [2, 3]])])\n",
    "ThreePartitionedThreeGraphTheory = combine(\"3PartitionNoC5m\", TGp, P)\n",
    "CTGp = ThreePartitionedThreeGraphTheory"
   ]
  },
  {
   "cell_type": "code",
   "execution_count": 4,
   "id": "7e338b71-9c2f-423c-8fa9-184eb1d42ac8",
   "metadata": {
    "scrolled": true
   },
   "outputs": [
    {
     "name": "stdout",
     "output_type": "stream",
     "text": [
      "Base flags generated, their number is 1127\n",
      "The relevant ftypes are constructed, their number is 12\n",
      "Block sizes before symmetric/asymmetric change is applied: [5, 74, 32, 388, 178, 83, 97, 34, 45, 54, 31, 28]\n"
     ]
    },
    {
     "name": "stderr",
     "output_type": "stream",
     "text": [
      "Done with mult table for Ftype on 5 points with edges=(012 023 024 134): : 12it [00:02,  4.68it/s]\n"
     ]
    },
    {
     "name": "stdout",
     "output_type": "stream",
     "text": [
      "Tables finished\n",
      "Constraints finished\n",
      "Running sdp without construction. Used block sizes are [5, 26, 48, 11, 21, 14, 374, 31, 147, 35, 48, 23, 74, 10, 24, 28, 17, 27, 27, 12, 19, 8, 20, -1127, -2]\n",
      "CSDP 6.2.0\n",
      "Iter:  0 Ap: 0.00e+00 Pobj:  0.0000000e+00 Ad: 0.00e+00 Dobj:  0.0000000e+00 \n",
      "Iter:  1 Ap: 4.75e-01 Pobj: -7.8579696e+01 Ad: 1.33e-01 Dobj:  1.1544783e+00 \n",
      "Iter:  2 Ap: 6.77e-01 Pobj: -2.0704711e+02 Ad: 5.29e-01 Dobj:  4.5238754e+00 \n",
      "Iter:  3 Ap: 8.72e-01 Pobj: -4.1716308e+02 Ad: 6.11e-01 Dobj:  8.5665561e-01 \n",
      "Iter:  4 Ap: 1.00e+00 Pobj: -4.5342396e+02 Ad: 8.79e-01 Dobj:  7.8308318e-03 \n",
      "Iter:  5 Ap: 1.00e+00 Pobj: -4.0202345e+02 Ad: 8.94e-01 Dobj: -1.4867891e-01 \n",
      "Iter:  6 Ap: 7.60e-01 Pobj: -3.7223032e+02 Ad: 8.53e-01 Dobj: -1.7578573e-01 \n",
      "Iter:  7 Ap: 5.16e-01 Pobj: -3.5064919e+02 Ad: 6.62e-01 Dobj: -1.8586373e-01 \n",
      "Iter:  8 Ap: 1.23e-01 Pobj: -3.5446817e+02 Ad: 4.18e-01 Dobj: -1.7747874e-01 \n",
      "Iter:  9 Ap: 6.38e-01 Pobj: -3.2583290e+02 Ad: 4.21e-01 Dobj: -1.7502293e-01 \n",
      "Iter: 10 Ap: 9.35e-01 Pobj: -2.6901000e+02 Ad: 6.37e-01 Dobj: -1.6757017e-01 \n",
      "Iter: 11 Ap: 9.07e-01 Pobj: -2.4237032e+02 Ad: 6.26e-01 Dobj: -1.6478039e-01 \n",
      "Iter: 12 Ap: 9.71e-01 Pobj: -1.8848141e+02 Ad: 6.70e-01 Dobj: -1.6427382e-01 \n",
      "Iter: 13 Ap: 3.02e-01 Pobj: -1.7547688e+02 Ad: 6.53e-01 Dobj: -1.6404954e-01 \n",
      "Iter: 14 Ap: 7.39e-01 Pobj: -1.3496075e+02 Ad: 5.85e-01 Dobj: -1.6415844e-01 \n",
      "Iter: 15 Ap: 7.09e-01 Pobj: -9.1243057e+01 Ad: 7.79e-01 Dobj: -1.6419869e-01 \n",
      "Iter: 16 Ap: 6.29e-01 Pobj: -6.3210901e+01 Ad: 8.19e-01 Dobj: -1.6413192e-01 \n",
      "Iter: 17 Ap: 7.81e-01 Pobj: -3.9110475e+01 Ad: 1.00e+00 Dobj: -1.6399787e-01 \n",
      "Iter: 18 Ap: 9.76e-01 Pobj: -3.4951246e+00 Ad: 1.00e+00 Dobj: -1.6405850e-01 \n",
      "Iter: 19 Ap: 1.00e+00 Pobj: -5.4740484e-01 Ad: 1.00e+00 Dobj: -1.6490606e-01 \n",
      "Iter: 20 Ap: 1.00e+00 Pobj: -3.7381493e-01 Ad: 7.83e-01 Dobj: -1.7080102e-01 \n",
      "Iter: 21 Ap: 2.66e-01 Pobj: -3.6427698e-01 Ad: 1.00e+00 Dobj: -1.7707355e-01 \n",
      "Iter: 22 Ap: 1.00e+00 Pobj: -2.9692001e-01 Ad: 8.96e-01 Dobj: -1.8625486e-01 \n",
      "Iter: 23 Ap: 7.91e-01 Pobj: -2.8550030e-01 Ad: 1.00e+00 Dobj: -2.0525647e-01 \n",
      "Iter: 24 Ap: 3.87e-01 Pobj: -2.8139873e-01 Ad: 9.28e-01 Dobj: -2.1806415e-01 \n",
      "Iter: 25 Ap: 8.42e-01 Pobj: -2.6691967e-01 Ad: 1.00e+00 Dobj: -2.2862693e-01 \n",
      "Iter: 26 Ap: 9.48e-01 Pobj: -2.5575355e-01 Ad: 1.00e+00 Dobj: -2.4011882e-01 \n",
      "Iter: 27 Ap: 5.31e-01 Pobj: -2.5388944e-01 Ad: 1.00e+00 Dobj: -2.4215763e-01 \n",
      "Iter: 28 Ap: 9.33e-01 Pobj: -2.5169093e-01 Ad: 1.00e+00 Dobj: -2.4607509e-01 \n",
      "Iter: 29 Ap: 1.00e+00 Pobj: -2.5113365e-01 Ad: 1.00e+00 Dobj: -2.4816289e-01 \n",
      "Iter: 30 Ap: 1.00e+00 Pobj: -2.5096555e-01 Ad: 1.00e+00 Dobj: -2.4959789e-01 \n",
      "Iter: 31 Ap: 1.00e+00 Pobj: -2.5089117e-01 Ad: 1.00e+00 Dobj: -2.5013781e-01 \n",
      "Iter: 32 Ap: 1.00e+00 Pobj: -2.5083978e-01 Ad: 1.00e+00 Dobj: -2.5043534e-01 \n",
      "Iter: 33 Ap: 9.43e-01 Pobj: -2.5080696e-01 Ad: 1.00e+00 Dobj: -2.5059405e-01 \n",
      "Iter: 34 Ap: 7.33e-01 Pobj: -2.5079529e-01 Ad: 7.40e-01 Dobj: -2.5065659e-01 \n",
      "Iter: 35 Ap: 6.60e-01 Pobj: -2.5078454e-01 Ad: 1.00e+00 Dobj: -2.5071578e-01 \n",
      "Iter: 36 Ap: 9.82e-01 Pobj: -2.5076913e-01 Ad: 1.00e+00 Dobj: -2.5075344e-01 \n",
      "Iter: 37 Ap: 9.52e-01 Pobj: -2.5076540e-01 Ad: 1.00e+00 Dobj: -2.5076512e-01 \n",
      "Iter: 38 Ap: 1.00e+00 Pobj: -2.5076038e-01 Ad: 1.00e+00 Dobj: -2.5077887e-01 \n",
      "Iter: 39 Ap: 9.66e-01 Pobj: -2.5075870e-01 Ad: 1.00e+00 Dobj: -2.5078346e-01 \n",
      "Iter: 40 Ap: 7.40e-01 Pobj: -2.5075648e-01 Ad: 6.66e-01 Dobj: -2.5077973e-01 \n",
      "Iter: 41 Ap: 1.50e-01 Pobj: -2.5075567e-01 Ad: 3.49e-01 Dobj: -2.5077403e-01 \n",
      "Iter: 42 Ap: 3.98e-01 Pobj: -2.5075345e-01 Ad: 3.62e-01 Dobj: -2.5077024e-01 \n",
      "Iter: 43 Ap: 2.97e-01 Pobj: -2.5075198e-01 Ad: 4.24e-01 Dobj: -2.5076512e-01 \n",
      "Iter: 44 Ap: 7.51e-02 Pobj: -2.5075165e-01 Ad: 2.14e-01 Dobj: -2.5076355e-01 \n",
      "Iter: 45 Ap: 1.88e-01 Pobj: -2.5075093e-01 Ad: 5.04e-01 Dobj: -2.5076054e-01 \n",
      "Iter: 46 Ap: 3.24e-01 Pobj: -2.5074939e-01 Ad: 4.35e-01 Dobj: -2.5075812e-01 \n",
      "Iter: 47 Ap: 2.13e-01 Pobj: -2.5074874e-01 Ad: 5.55e-01 Dobj: -2.5075550e-01 \n",
      "Iter: 48 Ap: 7.23e-02 Pobj: -2.5074843e-01 Ad: 3.01e-01 Dobj: -2.5075433e-01 \n",
      "Iter: 49 Ap: 2.60e-01 Pobj: -2.5074756e-01 Ad: 3.45e-01 Dobj: -2.5075344e-01 \n",
      "Iter: 50 Ap: 2.71e-01 Pobj: -2.5074676e-01 Ad: 4.87e-01 Dobj: -2.5075210e-01 \n",
      "Iter: 51 Ap: 2.44e-01 Pobj: -2.5074608e-01 Ad: 4.67e-01 Dobj: -2.5075073e-01 \n",
      "Iter: 52 Ap: 5.04e-01 Pobj: -2.5074506e-01 Ad: 7.50e-01 Dobj: -2.5074986e-01 \n",
      "Iter: 53 Ap: 1.10e-01 Pobj: -2.5074468e-01 Ad: 3.09e-01 Dobj: -2.5074866e-01 \n",
      "Iter: 54 Ap: 8.66e-02 Pobj: -2.5074443e-01 Ad: 3.47e-01 Dobj: -2.5074774e-01 \n",
      "Iter: 55 Ap: 2.12e-01 Pobj: -2.5074388e-01 Ad: 5.68e-01 Dobj: -2.5074678e-01 \n",
      "Iter: 56 Ap: 2.61e-01 Pobj: -2.5074307e-01 Ad: 4.38e-01 Dobj: -2.5074591e-01 \n",
      "Iter: 57 Ap: 3.71e-01 Pobj: -2.5074246e-01 Ad: 4.64e-01 Dobj: -2.5074528e-01 \n",
      "Iter: 58 Ap: 3.95e-01 Pobj: -2.5074198e-01 Ad: 6.05e-01 Dobj: -2.5074455e-01 \n",
      "Iter: 59 Ap: 4.99e-01 Pobj: -2.5074150e-01 Ad: 7.22e-01 Dobj: -2.5074403e-01 \n",
      "Iter: 60 Ap: 3.16e-01 Pobj: -2.5074118e-01 Ad: 6.40e-01 Dobj: -2.5074329e-01 \n",
      "Iter: 61 Ap: 2.11e-01 Pobj: -2.5074095e-01 Ad: 5.01e-01 Dobj: -2.5074271e-01 \n",
      "Iter: 62 Ap: 4.66e-01 Pobj: -2.5074055e-01 Ad: 6.38e-01 Dobj: -2.5074239e-01 \n",
      "Iter: 63 Ap: 2.70e-01 Pobj: -2.5074026e-01 Ad: 4.79e-01 Dobj: -2.5074177e-01 \n",
      "Iter: 64 Ap: 4.30e-01 Pobj: -2.5073994e-01 Ad: 6.23e-01 Dobj: -2.5074140e-01 \n",
      "Iter: 65 Ap: 5.76e-01 Pobj: -2.5073961e-01 Ad: 7.84e-01 Dobj: -2.5074112e-01 \n",
      "Iter: 66 Ap: 9.79e-02 Pobj: -2.5073954e-01 Ad: 2.17e-01 Dobj: -2.5074092e-01 \n",
      "Iter: 67 Ap: 3.24e-01 Pobj: -2.5073932e-01 Ad: 4.65e-01 Dobj: -2.5074046e-01 \n",
      "Iter: 68 Ap: 3.52e-01 Pobj: -2.5073913e-01 Ad: 4.82e-01 Dobj: -2.5074009e-01 \n",
      "Iter: 69 Ap: 9.88e-02 Pobj: -2.5073909e-01 Ad: 3.73e-01 Dobj: -2.5073988e-01 \n",
      "Iter: 70 Ap: 2.19e-01 Pobj: -2.5073900e-01 Ad: 4.29e-01 Dobj: -2.5073969e-01 \n",
      "Iter: 71 Ap: 2.27e-01 Pobj: -2.5073890e-01 Ad: 4.64e-01 Dobj: -2.5073950e-01 \n",
      "Iter: 72 Ap: 2.32e-01 Pobj: -2.5073881e-01 Ad: 4.28e-01 Dobj: -2.5073933e-01 \n",
      "Iter: 73 Ap: 4.59e-01 Pobj: -2.5073871e-01 Ad: 6.67e-01 Dobj: -2.5073918e-01 \n",
      "Iter: 74 Ap: 3.07e-01 Pobj: -2.5073866e-01 Ad: 6.19e-01 Dobj: -2.5073900e-01 \n",
      "Iter: 75 Ap: 5.85e-01 Pobj: -2.5073859e-01 Ad: 6.27e-01 Dobj: -2.5073890e-01 \n",
      "Iter: 76 Ap: 3.92e-01 Pobj: -2.5073855e-01 Ad: 6.34e-01 Dobj: -2.5073874e-01 \n",
      "Iter: 77 Ap: 3.92e-01 Pobj: -2.5073853e-01 Ad: 6.93e-01 Dobj: -2.5073867e-01 \n",
      "Iter: 78 Ap: 3.04e-01 Pobj: -2.5073851e-01 Ad: 6.63e-01 Dobj: -2.5073861e-01 \n",
      "Iter: 79 Ap: 4.18e-01 Pobj: -2.5073850e-01 Ad: 5.42e-01 Dobj: -2.5073858e-01 \n",
      "Iter: 80 Ap: 4.34e-01 Pobj: -2.5073849e-01 Ad: 7.52e-01 Dobj: -2.5073853e-01 \n",
      "Iter: 81 Ap: 5.74e-01 Pobj: -2.5073848e-01 Ad: 8.39e-01 Dobj: -2.5073851e-01 \n",
      "Iter: 82 Ap: 4.53e-01 Pobj: -2.5073847e-01 Ad: 7.35e-01 Dobj: -2.5073848e-01 \n",
      "Iter: 83 Ap: 4.89e-01 Pobj: -2.5073846e-01 Ad: 4.64e-01 Dobj: -2.5073848e-01 \n",
      "Success: SDP solved\n",
      "Primal objective value: -2.5073846e-01 \n",
      "Dual objective value: -2.5073848e-01 \n",
      "Relative primal infeasibility: 3.69e-10 \n",
      "Relative dual infeasibility: 3.37e-11 \n",
      "Real Relative Gap: -1.07e-08 \n",
      "XZ Relative Gap: 6.89e-09 \n",
      "DIMACS error measures: 2.12e-09 0.00e+00 1.46e-10 0.00e+00 -1.07e-08 6.89e-09\n",
      "The initial run didn't provide an accurate construction\n",
      "Rounding X matrices\n"
     ]
    },
    {
     "name": "stderr",
     "output_type": "stream",
     "text": [
      "100%|███████████████████████████████████████████| 23/23 [00:14<00:00,  1.57it/s]\n"
     ]
    },
    {
     "name": "stdout",
     "output_type": "stream",
     "text": [
      "Calculating resulting bound\n"
     ]
    },
    {
     "name": "stderr",
     "output_type": "stream",
     "text": [
      "100%|███████████████████████████████████████████| 12/12 [06:07<00:00, 30.62s/it]\n"
     ]
    },
    {
     "name": "stdout",
     "output_type": "stream",
     "text": [
      "The rounded result is -126373441/504000000\n",
      "The initial upper bound on the Turan density from Proposition 3.1 is 126373441/504000000 ~= 0.250740954365079\n"
     ]
    }
   ],
   "source": [
    "### This part just gives a standard upper bound on the number of edges without C5- and K4- (Proposition 3.1)\n",
    "\n",
    "a31 = TGp.optimize(TGp(3, edges=[[0, 1, 2]]), 7,  exact=True, denom=1024*3125, file=\"certificates/proposition_3_1\")\n",
    "print(\"The initial upper bound on the Turan density from Proposition 3.1 is {} ~= {}\".format(a31, a31.n()))"
   ]
  },
  {
   "cell_type": "code",
   "execution_count": 5,
   "id": "d2b75bc6-0c5d-490c-857c-d5770f250743",
   "metadata": {
    "scrolled": true
   },
   "outputs": [
    {
     "name": "stdout",
     "output_type": "stream",
     "text": [
      "Base flags generated, their number is 1127\n",
      "The relevant ftypes are constructed, their number is 12\n",
      "Block sizes before symmetric/asymmetric change is applied: [5, 74, 32, 388, 178, 83, 97, 34, 45, 54, 31, 28]\n"
     ]
    },
    {
     "name": "stderr",
     "output_type": "stream",
     "text": [
      "Done with mult table for Ftype on 5 points with edges=(012 023 024 134): : 12it [00:02,  5.10it/s]\n"
     ]
    },
    {
     "name": "stdout",
     "output_type": "stream",
     "text": [
      "Tables finished\n"
     ]
    },
    {
     "name": "stderr",
     "output_type": "stream",
     "text": [
      "Done with positivity constraint 0: 100%|██████████| 1/1 [00:01<00:00,  1.03s/it]\n"
     ]
    },
    {
     "name": "stdout",
     "output_type": "stream",
     "text": [
      "Constraints finished\n",
      "Running sdp without construction. Used block sizes are [5, 26, 48, 11, 21, 14, 374, 31, 147, 35, 48, 23, 74, 10, 24, 28, 17, 27, 27, 12, 19, 8, 20, -1127, -5]\n",
      "CSDP 6.2.0\n",
      "Iter:  0 Ap: 0.00e+00 Pobj:  0.0000000e+00 Ad: 0.00e+00 Dobj:  0.0000000e+00 \n",
      "Iter:  1 Ap: 6.09e-01 Pobj: -9.2052112e+01 Ad: 1.47e-01 Dobj:  3.1143968e+00 \n",
      "Iter:  2 Ap: 7.13e-01 Pobj: -2.0415132e+02 Ad: 5.43e-01 Dobj:  3.0456394e+00 \n",
      "Iter:  3 Ap: 1.00e+00 Pobj: -3.7441986e+02 Ad: 7.10e-01 Dobj:  6.9577767e-01 \n",
      "Iter:  4 Ap: 1.00e+00 Pobj: -3.7587362e+02 Ad: 8.98e-01 Dobj:  1.2288131e-01 \n",
      "Iter:  5 Ap: 1.00e+00 Pobj: -3.0805356e+02 Ad: 8.97e-01 Dobj:  3.8922659e-02 \n",
      "Iter:  6 Ap: 7.42e-01 Pobj: -2.7570722e+02 Ad: 7.38e-01 Dobj:  2.5778021e-02 \n",
      "Iter:  7 Ap: 4.99e-01 Pobj: -2.1738401e+02 Ad: 4.00e-01 Dobj:  2.9783858e-02 \n",
      "Iter:  8 Ap: 8.73e-01 Pobj: -1.4405554e+02 Ad: 5.91e-01 Dobj:  3.7240210e-02 \n",
      "Iter:  9 Ap: 1.00e+00 Pobj: -1.1671799e+02 Ad: 5.77e-01 Dobj:  4.1653897e-02 \n",
      "Iter: 10 Ap: 6.03e-01 Pobj: -1.0884617e+02 Ad: 6.26e-01 Dobj:  4.4960067e-02 \n",
      "Iter: 11 Ap: 3.46e-01 Pobj: -9.4546837e+01 Ad: 4.96e-01 Dobj:  4.6394992e-02 \n",
      "Iter: 12 Ap: 1.76e-01 Pobj: -8.7126560e+01 Ad: 4.85e-01 Dobj:  4.7207541e-02 \n",
      "Iter: 13 Ap: 3.18e-01 Pobj: -7.3524396e+01 Ad: 4.71e-01 Dobj:  4.7959388e-02 \n",
      "Iter: 14 Ap: 6.07e-01 Pobj: -5.2243889e+01 Ad: 5.21e-01 Dobj:  4.8420739e-02 \n",
      "Iter: 15 Ap: 5.96e-01 Pobj: -4.2582019e+01 Ad: 5.94e-01 Dobj:  4.8700314e-02 \n",
      "Iter: 16 Ap: 5.52e-01 Pobj: -3.5396985e+01 Ad: 5.34e-01 Dobj:  4.8819010e-02 \n",
      "Iter: 17 Ap: 3.61e-01 Pobj: -3.2185740e+01 Ad: 3.64e-01 Dobj:  4.8862674e-02 \n",
      "Iter: 18 Ap: 1.04e-01 Pobj: -3.1042630e+01 Ad: 1.86e-01 Dobj:  4.8877847e-02 \n",
      "Iter: 19 Ap: 3.00e-01 Pobj: -2.8462882e+01 Ad: 4.78e-01 Dobj:  4.8925567e-02 \n",
      "Iter: 20 Ap: 7.01e-01 Pobj: -2.2617896e+01 Ad: 3.81e-01 Dobj:  4.8955680e-02 \n",
      "Iter: 21 Ap: 5.45e-01 Pobj: -2.0857788e+01 Ad: 4.73e-01 Dobj:  4.9000456e-02 \n",
      "Iter: 22 Ap: 5.58e-01 Pobj: -1.6838057e+01 Ad: 6.18e-01 Dobj:  4.9019274e-02 \n",
      "Iter: 23 Ap: 1.90e-01 Pobj: -1.5881498e+01 Ad: 5.42e-01 Dobj:  4.9046698e-02 \n",
      "Iter: 24 Ap: 4.67e-01 Pobj: -1.1970553e+01 Ad: 7.05e-01 Dobj:  4.9051573e-02 \n",
      "Iter: 25 Ap: 8.48e-01 Pobj: -5.9905613e+00 Ad: 1.00e+00 Dobj:  4.9062566e-02 \n",
      "Iter: 26 Ap: 9.68e-01 Pobj: -4.2899304e-01 Ad: 1.00e+00 Dobj:  4.9063224e-02 \n",
      "Iter: 27 Ap: 9.88e-01 Pobj:  2.0688054e-02 Ad: 1.00e+00 Dobj:  4.9063076e-02 \n",
      "Iter: 28 Ap: 1.00e+00 Pobj:  4.4956396e-02 Ad: 1.00e+00 Dobj:  4.9051217e-02 \n",
      "Iter: 29 Ap: 1.00e+00 Pobj:  4.6639066e-02 Ad: 7.24e-01 Dobj:  4.8988167e-02 \n",
      "Iter: 30 Ap: 7.45e-01 Pobj:  4.7147045e-02 Ad: 9.30e-01 Dobj:  4.8925598e-02 \n",
      "Iter: 31 Ap: 5.12e-01 Pobj:  4.7361059e-02 Ad: 7.34e-01 Dobj:  4.8898003e-02 \n",
      "Iter: 32 Ap: 3.58e-01 Pobj:  4.7465465e-02 Ad: 7.37e-01 Dobj:  4.8877179e-02 \n",
      "Iter: 33 Ap: 5.71e-01 Pobj:  4.7694807e-02 Ad: 1.00e+00 Dobj:  4.8857013e-02 \n",
      "Iter: 34 Ap: 8.82e-01 Pobj:  4.7991478e-02 Ad: 1.00e+00 Dobj:  4.8830723e-02 \n",
      "Iter: 35 Ap: 1.00e+00 Pobj:  4.8308567e-02 Ad: 1.00e+00 Dobj:  4.8776933e-02 \n",
      "Iter: 36 Ap: 8.85e-01 Pobj:  4.8441972e-02 Ad: 1.00e+00 Dobj:  4.8736834e-02 \n",
      "Iter: 37 Ap: 8.31e-01 Pobj:  4.8497131e-02 Ad: 1.00e+00 Dobj:  4.8698094e-02 \n",
      "Iter: 38 Ap: 9.45e-01 Pobj:  4.8561531e-02 Ad: 1.00e+00 Dobj:  4.8666702e-02 \n",
      "Iter: 39 Ap: 8.57e-01 Pobj:  4.8588035e-02 Ad: 1.00e+00 Dobj:  4.8645785e-02 \n",
      "Iter: 40 Ap: 1.00e+00 Pobj:  4.8613591e-02 Ad: 1.00e+00 Dobj:  4.8631790e-02 \n",
      "Iter: 41 Ap: 1.00e+00 Pobj:  4.8629462e-02 Ad: 1.00e+00 Dobj:  4.8616203e-02 \n",
      "Iter: 42 Ap: 1.00e+00 Pobj:  4.8635937e-02 Ad: 1.00e+00 Dobj:  4.8609231e-02 \n",
      "Iter: 43 Ap: 1.00e+00 Pobj:  4.8638817e-02 Ad: 1.00e+00 Dobj:  4.8605307e-02 \n",
      "Iter: 44 Ap: 9.52e-01 Pobj:  4.8640922e-02 Ad: 1.00e+00 Dobj:  4.8605603e-02 \n",
      "Iter: 45 Ap: 2.02e-01 Pobj:  4.8643379e-02 Ad: 3.38e-01 Dobj:  4.8613753e-02 \n",
      "Iter: 46 Ap: 6.49e-03 Pobj:  4.8643518e-02 Ad: 1.16e-01 Dobj:  4.8616352e-02 \n",
      "Iter: 47 Ap: 1.05e-01 Pobj:  4.8644937e-02 Ad: 2.63e-01 Dobj:  4.8621229e-02 \n",
      "Iter: 48 Ap: 1.70e-01 Pobj:  4.8647594e-02 Ad: 2.75e-01 Dobj:  4.8625246e-02 \n",
      "Iter: 49 Ap: 1.86e-01 Pobj:  4.8649844e-02 Ad: 4.76e-01 Dobj:  4.8630464e-02 \n",
      "Iter: 50 Ap: 2.68e-01 Pobj:  4.8652326e-02 Ad: 3.69e-01 Dobj:  4.8633203e-02 \n",
      "Iter: 51 Ap: 4.53e-01 Pobj:  4.8655433e-02 Ad: 5.39e-01 Dobj:  4.8636368e-02 \n",
      "Iter: 52 Ap: 6.78e-01 Pobj:  4.8657960e-02 Ad: 7.44e-01 Dobj:  4.8638308e-02 \n",
      "Iter: 53 Ap: 2.34e-01 Pobj:  4.8659200e-02 Ad: 3.73e-01 Dobj:  4.8641981e-02 \n",
      "Iter: 54 Ap: 3.20e-01 Pobj:  4.8660864e-02 Ad: 4.25e-01 Dobj:  4.8645093e-02 \n",
      "Iter: 55 Ap: 3.96e-01 Pobj:  4.8662777e-02 Ad: 5.63e-01 Dobj:  4.8648519e-02 \n",
      "Iter: 56 Ap: 1.81e-01 Pobj:  4.8663856e-02 Ad: 5.58e-01 Dobj:  4.8651905e-02 \n",
      "Iter: 57 Ap: 3.86e-02 Pobj:  4.8664080e-02 Ad: 1.73e-01 Dobj:  4.8652380e-02 \n",
      "Iter: 58 Ap: 3.01e-01 Pobj:  4.8665449e-02 Ad: 6.49e-01 Dobj:  4.8653764e-02 \n",
      "Iter: 59 Ap: 1.03e-01 Pobj:  4.8666239e-02 Ad: 4.10e-01 Dobj:  4.8655639e-02 \n",
      "Iter: 60 Ap: 1.33e-01 Pobj:  4.8666748e-02 Ad: 3.13e-01 Dobj:  4.8656462e-02 \n",
      "Iter: 61 Ap: 3.64e-01 Pobj:  4.8667884e-02 Ad: 8.21e-01 Dobj:  4.8657799e-02 \n",
      "Iter: 62 Ap: 4.26e-01 Pobj:  4.8668858e-02 Ad: 9.13e-01 Dobj:  4.8658592e-02 \n",
      "Iter: 63 Ap: 1.84e-01 Pobj:  4.8669305e-02 Ad: 4.91e-01 Dobj:  4.8659814e-02 \n",
      "Iter: 64 Ap: 5.80e-01 Pobj:  4.8670366e-02 Ad: 8.65e-01 Dobj:  4.8660665e-02 \n",
      "Iter: 65 Ap: 1.87e-01 Pobj:  4.8670983e-02 Ad: 3.65e-01 Dobj:  4.8662677e-02 \n",
      "Iter: 66 Ap: 3.53e-01 Pobj:  4.8671640e-02 Ad: 6.02e-01 Dobj:  4.8664727e-02 \n",
      "Iter: 67 Ap: 6.42e-01 Pobj:  4.8672493e-02 Ad: 8.31e-01 Dobj:  4.8665832e-02 \n",
      "Iter: 68 Ap: 3.12e-01 Pobj:  4.8672788e-02 Ad: 4.46e-01 Dobj:  4.8666633e-02 \n",
      "Iter: 69 Ap: 4.02e-01 Pobj:  4.8673220e-02 Ad: 5.78e-01 Dobj:  4.8667659e-02 \n",
      "Iter: 70 Ap: 4.05e-01 Pobj:  4.8673597e-02 Ad: 6.78e-01 Dobj:  4.8668741e-02 \n",
      "Iter: 71 Ap: 3.09e-01 Pobj:  4.8674005e-02 Ad: 4.03e-01 Dobj:  4.8669556e-02 \n",
      "Iter: 72 Ap: 3.07e-01 Pobj:  4.8674278e-02 Ad: 5.92e-01 Dobj:  4.8670564e-02 \n",
      "Iter: 73 Ap: 3.49e-01 Pobj:  4.8674549e-02 Ad: 4.75e-01 Dobj:  4.8671022e-02 \n",
      "Iter: 74 Ap: 3.08e-01 Pobj:  4.8674759e-02 Ad: 6.85e-01 Dobj:  4.8671859e-02 \n",
      "Iter: 75 Ap: 4.72e-01 Pobj:  4.8675038e-02 Ad: 5.34e-01 Dobj:  4.8672184e-02 \n",
      "Iter: 76 Ap: 3.41e-01 Pobj:  4.8675259e-02 Ad: 5.34e-01 Dobj:  4.8672937e-02 \n",
      "Iter: 77 Ap: 3.76e-01 Pobj:  4.8675404e-02 Ad: 6.21e-01 Dobj:  4.8673335e-02 \n",
      "Iter: 78 Ap: 2.35e-01 Pobj:  4.8675503e-02 Ad: 4.69e-01 Dobj:  4.8673740e-02 \n",
      "Iter: 79 Ap: 1.56e-01 Pobj:  4.8675570e-02 Ad: 2.34e-01 Dobj:  4.8673954e-02 \n",
      "Iter: 80 Ap: 4.63e-01 Pobj:  4.8675702e-02 Ad: 5.61e-01 Dobj:  4.8674345e-02 \n",
      "Iter: 81 Ap: 5.70e-01 Pobj:  4.8675816e-02 Ad: 8.13e-01 Dobj:  4.8674823e-02 \n",
      "Iter: 82 Ap: 6.56e-03 Pobj:  4.8675818e-02 Ad: 4.61e-02 Dobj:  4.8674851e-02 \n",
      "Iter: 83 Ap: 3.86e-02 Pobj:  4.8675824e-02 Ad: 1.48e-01 Dobj:  4.8674938e-02 \n",
      "Iter: 84 Ap: 1.94e-01 Pobj:  4.8675855e-02 Ad: 4.97e-01 Dobj:  4.8675187e-02 \n",
      "Iter: 85 Ap: 2.74e-01 Pobj:  4.8675889e-02 Ad: 4.65e-01 Dobj:  4.8675330e-02 \n",
      "Iter: 86 Ap: 3.59e-01 Pobj:  4.8675927e-02 Ad: 7.19e-01 Dobj:  4.8675547e-02 \n",
      "Iter: 87 Ap: 4.02e-01 Pobj:  4.8675960e-02 Ad: 6.28e-01 Dobj:  4.8675678e-02 \n",
      "Iter: 88 Ap: 5.35e-01 Pobj:  4.8675986e-02 Ad: 8.30e-01 Dobj:  4.8675801e-02 \n",
      "Iter: 89 Ap: 3.72e-01 Pobj:  4.8675998e-02 Ad: 3.01e-01 Dobj:  4.8675842e-02 \n",
      "Iter: 90 Ap: 3.86e-01 Pobj:  4.8676007e-02 Ad: 3.19e-01 Dobj:  4.8675873e-02 \n",
      "Iter: 91 Ap: 1.98e-01 Pobj:  4.8676010e-02 Ad: 9.87e-01 Dobj:  4.8675952e-02 \n",
      "Iter: 92 Ap: 4.41e-01 Pobj:  4.8676018e-02 Ad: 9.35e-01 Dobj:  4.8675991e-02 \n",
      "Iter: 93 Ap: 6.97e-01 Pobj:  4.8676026e-02 Ad: 7.94e-01 Dobj:  4.8676008e-02 \n",
      "Iter: 94 Ap: 4.98e-01 Pobj:  4.8676032e-02 Ad: 4.71e-01 Dobj:  4.8676013e-02 \n",
      "Success: SDP solved\n",
      "Primal objective value: 4.8676032e-02 \n",
      "Dual objective value: 4.8676013e-02 \n",
      "Relative primal infeasibility: 3.65e-09 \n",
      "Relative dual infeasibility: 4.45e-11 \n",
      "Real Relative Gap: -1.79e-08 \n",
      "XZ Relative Gap: 7.74e-09 \n",
      "DIMACS error measures: 4.38e-09 0.00e+00 1.93e-10 0.00e+00 -1.79e-08 7.74e-09\n",
      "The initial run didn't provide an accurate construction\n",
      "Rounding X matrices\n"
     ]
    },
    {
     "name": "stderr",
     "output_type": "stream",
     "text": [
      "100%|███████████████████████████████████████████| 23/23 [00:11<00:00,  1.96it/s]\n"
     ]
    },
    {
     "name": "stdout",
     "output_type": "stream",
     "text": [
      "Calculating resulting bound\n"
     ]
    },
    {
     "name": "stderr",
     "output_type": "stream",
     "text": [
      "100%|███████████████████████████████████████████| 12/12 [06:02<00:00, 30.21s/it]\n"
     ]
    },
    {
     "name": "stdout",
     "output_type": "stream",
     "text": [
      "The rounded result is 229595509441/4718592000000\n",
      "The max-cut ratio returned by Proposition 3.2 is at least 1607168566087/8282009829376 ~= 0.194055380179148\n"
     ]
    }
   ],
   "source": [
    "### This code that minimizes the max-cut ratio K222 (Proposition 3.2)\n",
    "\n",
    "# beta_{3, 2} constant\n",
    "b32 = 1/4 - 1/100000\n",
    "edge = TGp(3, edges=[[0, 1, 2]])\n",
    "\n",
    "# First the typed f222 is constructed\n",
    "f222 = TGp.pattern(6, ftype=[0, 1, 2], edges=[[0, 1, 2], [3, 4, 5], [0, 1, 5], [0, 2, 4], [1, 2, 3]]).afae()\n",
    "# Then k222 is the projection of f222, this takes care of the automorphisms\n",
    "k222 = f222.project()\n",
    "\n",
    "gamma = TGp.optimize(k222, 7, maximize=False, positives=[edge - b32], exact=True, denom=1024*1024, file=\"certificates/proposition_3_2\")\n",
    "a32 = gamma / a31\n",
    "\n",
    "print(\"The max-cut ratio returned by Proposition 3.2 is at least {} ~= {}\".format(a32, a32.n()))"
   ]
  },
  {
   "cell_type": "code",
   "execution_count": 6,
   "id": "6a535c13-08a2-4a08-bcd0-ee43c2c4b586",
   "metadata": {
    "scrolled": true
   },
   "outputs": [
    {
     "name": "stderr",
     "output_type": "stream",
     "text": [
      "100%|██████████████████████████████████████████| 28/28 [00:00<00:00, 145.18it/s]\n"
     ]
    },
    {
     "name": "stdout",
     "output_type": "stream",
     "text": [
      "Base flags generated, their number is 2840\n",
      "The relevant ftypes are constructed, their number is 20\n",
      "Block sizes before symmetric/asymmetric change is applied: [35, 57, 82, 123, 123, 123, 40, 60, 60, 60, 60, 60, 20, 30, 30, 30, 30, 30, 30, 30]\n"
     ]
    },
    {
     "name": "stderr",
     "output_type": "stream",
     "text": [
      "Done with mult table for Ftype on 4 points with edges=(023 123), part=(01 02 03 12 13): : 20it [00:01, 10.21it/s]\n"
     ]
    },
    {
     "name": "stdout",
     "output_type": "stream",
     "text": [
      "Tables finished\n"
     ]
    },
    {
     "name": "stderr",
     "output_type": "stream",
     "text": [
      "Done with positivity constraint 1: 100%|██████████| 2/2 [00:02<00:00,  1.40s/it]\n"
     ]
    },
    {
     "name": "stdout",
     "output_type": "stream",
     "text": [
      "Constraints finished\n",
      "Adjusting table with kernels from construction\n",
      "Running SDP after kernel correction. Used block sizes are [23, 9, 30, 23, 12, 68, 33, 87, 29, 91, 43, 80, 14, 26, 39, 21, 21, 39, 39, 21, 33, 27, 39, 21, 12, 8, 24, 6, 25, 5, 18, 12, 18, 12, 12, 15, 30, 13, 17, -2840, -50]\n",
      "CSDP 6.2.0\n",
      "Iter:  0 Ap: 0.00e+00 Pobj:  0.0000000e+00 Ad: 0.00e+00 Dobj:  0.0000000e+00 \n",
      "Iter:  1 Ap: 3.71e-01 Pobj: -3.3468669e+01 Ad: 1.55e-01 Dobj:  7.8728718e+01 \n",
      "Iter:  2 Ap: 1.00e+00 Pobj: -9.5892055e+01 Ad: 5.78e-01 Dobj:  5.3611359e+01 \n",
      "Iter:  3 Ap: 1.00e+00 Pobj: -1.0289402e+02 Ad: 8.54e-01 Dobj:  8.8250175e+00 \n",
      "Iter:  4 Ap: 1.00e+00 Pobj: -1.0881544e+02 Ad: 9.25e-01 Dobj:  7.1800267e-01 \n",
      "Iter:  5 Ap: 1.00e+00 Pobj: -1.2001459e+02 Ad: 8.71e-01 Dobj:  9.0959437e-02 \n",
      "Iter:  6 Ap: 1.00e+00 Pobj: -1.4453093e+02 Ad: 6.37e-01 Dobj:  5.3542728e-02 \n",
      "Iter:  7 Ap: 4.75e-01 Pobj: -1.4249146e+02 Ad: 6.28e-01 Dobj:  4.0173256e-02 \n",
      "Iter:  8 Ap: 4.74e-01 Pobj: -1.3607610e+02 Ad: 5.20e-01 Dobj:  2.7025547e-02 \n",
      "Iter:  9 Ap: 7.01e-01 Pobj: -1.3097863e+02 Ad: 5.32e-01 Dobj:  2.4796659e-02 \n",
      "Iter: 10 Ap: 3.89e-01 Pobj: -1.2795845e+02 Ad: 5.48e-01 Dobj:  3.0513364e-02 \n",
      "Iter: 11 Ap: 3.09e-01 Pobj: -1.1961917e+02 Ad: 4.02e-01 Dobj:  3.2726537e-02 \n",
      "Iter: 12 Ap: 3.64e-01 Pobj: -1.1190193e+02 Ad: 3.70e-01 Dobj:  3.6641438e-02 \n",
      "Iter: 13 Ap: 4.20e-01 Pobj: -1.0343442e+02 Ad: 5.14e-01 Dobj:  3.8570324e-02 \n",
      "Iter: 14 Ap: 5.29e-01 Pobj: -9.6010101e+01 Ad: 4.75e-01 Dobj:  4.0552831e-02 \n",
      "Iter: 15 Ap: 6.04e-01 Pobj: -8.7723038e+01 Ad: 5.84e-01 Dobj:  3.9759358e-02 \n",
      "Iter: 16 Ap: 2.66e-01 Pobj: -8.3825241e+01 Ad: 4.76e-01 Dobj:  3.8890848e-02 \n",
      "Iter: 17 Ap: 5.24e-01 Pobj: -7.1465742e+01 Ad: 5.31e-01 Dobj:  3.8110942e-02 \n",
      "Iter: 18 Ap: 3.06e-01 Pobj: -6.5512390e+01 Ad: 5.47e-01 Dobj:  3.7486562e-02 \n",
      "Iter: 19 Ap: 3.27e-01 Pobj: -5.6481637e+01 Ad: 5.85e-01 Dobj:  3.6925735e-02 \n",
      "Iter: 20 Ap: 6.17e-01 Pobj: -3.9876646e+01 Ad: 5.79e-01 Dobj:  3.6717174e-02 \n",
      "Iter: 21 Ap: 9.46e-01 Pobj: -2.0492930e+01 Ad: 1.00e+00 Dobj:  3.6436482e-02 \n",
      "Iter: 22 Ap: 9.86e-01 Pobj: -1.3775165e+00 Ad: 1.00e+00 Dobj:  3.6340382e-02 \n",
      "Iter: 23 Ap: 1.00e+00 Pobj: -2.7630721e-01 Ad: 1.00e+00 Dobj:  3.5005114e-02 \n",
      "Iter: 24 Ap: 1.00e+00 Pobj: -1.3801881e-01 Ad: 8.06e-01 Dobj:  3.1303066e-02 \n",
      "Iter: 25 Ap: 6.05e-01 Pobj: -1.0260608e-01 Ad: 1.00e+00 Dobj:  2.8064447e-02 \n",
      "Iter: 26 Ap: 1.00e+00 Pobj: -5.0592094e-02 Ad: 1.00e+00 Dobj:  2.5123739e-02 \n",
      "Iter: 27 Ap: 1.00e+00 Pobj: -2.0969371e-02 Ad: 1.00e+00 Dobj:  2.0468242e-02 \n",
      "Iter: 28 Ap: 7.69e-01 Pobj: -1.3640228e-02 Ad: 1.00e+00 Dobj:  1.5405997e-02 \n",
      "Iter: 29 Ap: 1.00e+00 Pobj: -7.6377426e-03 Ad: 1.00e+00 Dobj:  1.1225936e-02 \n",
      "Iter: 30 Ap: 1.00e+00 Pobj: -2.8439777e-03 Ad: 1.00e+00 Dobj:  5.4809689e-03 \n",
      "Iter: 31 Ap: 9.50e-01 Pobj: -9.4468446e-04 Ad: 9.92e-01 Dobj:  2.9001874e-03 \n",
      "Iter: 32 Ap: 5.81e-01 Pobj: -5.8682469e-04 Ad: 1.00e+00 Dobj:  2.2760215e-03 \n",
      "Iter: 33 Ap: 9.60e-01 Pobj: -1.5918712e-04 Ad: 1.00e+00 Dobj:  1.1322452e-03 \n",
      "Iter: 34 Ap: 1.00e+00 Pobj: -4.9491165e-05 Ad: 1.00e+00 Dobj:  5.3919813e-04 \n",
      "Iter: 35 Ap: 6.76e-01 Pobj: -3.3678014e-05 Ad: 1.00e+00 Dobj:  3.0468811e-04 \n",
      "Iter: 36 Ap: 9.24e-01 Pobj: -1.6645945e-05 Ad: 1.00e+00 Dobj:  1.6330727e-04 \n",
      "Iter: 37 Ap: 9.00e-01 Pobj: -9.4781557e-06 Ad: 1.00e+00 Dobj:  7.8988209e-05 \n",
      "Iter: 38 Ap: 8.56e-01 Pobj: -5.5236546e-06 Ad: 1.00e+00 Dobj:  3.2526766e-05 \n",
      "Iter: 39 Ap: 8.36e-01 Pobj: -3.5030245e-06 Ad: 1.00e+00 Dobj:  1.3414625e-05 \n",
      "Iter: 40 Ap: 8.09e-01 Pobj: -2.4064990e-06 Ad: 1.00e+00 Dobj:  4.2098132e-06 \n",
      "Iter: 41 Ap: 8.17e-01 Pobj: -1.5358086e-06 Ad: 1.00e+00 Dobj: -3.7521060e-06 \n",
      "Iter: 42 Ap: 9.76e-01 Pobj: -1.0026494e-06 Ad: 1.00e+00 Dobj: -6.9617821e-06 \n",
      "Iter: 43 Ap: 1.00e+00 Pobj: -6.2905878e-07 Ad: 1.00e+00 Dobj: -1.0110228e-05 \n",
      "Iter: 44 Ap: 1.00e+00 Pobj: -3.4709162e-07 Ad: 1.00e+00 Dobj: -1.2475221e-05 \n",
      "Iter: 45 Ap: 1.00e+00 Pobj: -1.3807129e-07 Ad: 1.00e+00 Dobj: -8.0010628e-06 \n",
      "Iter: 46 Ap: 1.00e+00 Pobj: -3.6679709e-08 Ad: 9.64e-01 Dobj: -1.8773393e-06 \n",
      "Iter: 47 Ap: 1.00e+00 Pobj: -7.7207040e-09 Ad: 8.90e-01 Dobj: -3.8830080e-07 \n",
      "Iter: 48 Ap: 1.00e+00 Pobj: -8.8630896e-10 Ad: 9.04e-01 Dobj: -5.9735622e-08 \n",
      "Iter: 49 Ap: 9.37e-01 Pobj: -2.2590582e-11 Ad: 9.52e-01 Dobj: -3.9855864e-09 \n",
      "Success: SDP solved\n",
      "Primal objective value: -2.2590582e-11 \n",
      "Dual objective value: -3.9855864e-09 \n",
      "Relative primal infeasibility: 2.45e-10 \n",
      "Relative dual infeasibility: 1.81e-10 \n",
      "Real Relative Gap: -3.96e-09 \n",
      "XZ Relative Gap: 1.45e-09 \n",
      "DIMACS error measures: 1.45e-09 0.00e+00 8.82e-10 0.00e+00 -3.96e-09 1.45e-09\n",
      "Starting the rounding of the result\n",
      "Rounding X matrices\n",
      "Calculating resulting bound\n"
     ]
    },
    {
     "name": "stderr",
     "output_type": "stream",
     "text": [
      "100%|███████████████████████████████████████████| 20/20 [05:41<00:00, 17.08s/it]\n"
     ]
    },
    {
     "name": "stdout",
     "output_type": "stream",
     "text": [
      "Final rounded bound is 0\n"
     ]
    },
    {
     "data": {
      "text/plain": [
       "0"
      ]
     },
     "execution_count": 6,
     "metadata": {},
     "output_type": "execute_result"
    }
   ],
   "source": [
    "### This is the code that performs the calculations on the theory with three partition (Proposition 3.3)\n",
    "\n",
    "# edge with (C)orrect partition\n",
    "C = CTGp(3, edges=[[0, 1, 2]], part=[[0, 1], [0, 2], [1, 2]])\n",
    "# edge with (C)orrect partition (p)ointed\n",
    "Cp = CTGp(3, edges=[[0, 1, 2]], part=[[0, 1], [0, 2], [1, 2]], ftype=[0])\n",
    "\n",
    "# edge with (B)ad partition\n",
    "B = CTGp(3, edges=[[0, 1, 2]], part=[[0, 1], [1, 2]])\n",
    "\n",
    "# edge with (B)ad partition (p)ointed \n",
    "Bp = CTGp(3, edges=[[0, 1, 2]], part=[[0, 1], [1, 2]], ftype=[0])\n",
    "\n",
    "# (M)issing edge with good partition\n",
    "M = CTGp(3, edges=[], part=[[0, 1], [0, 2], [1, 2]])\n",
    "\n",
    "# positivity assumptions:\n",
    "# each point, good edges are more than bad edges (divided by two due to the symmetry between the parts)\n",
    "# edge density is larger than b33 (which is smaller than a32)\n",
    "b33 = 19/100\n",
    "assums = [Cp - Bp/2, C - b33]\n",
    "\n",
    "# optimal construction and its derivatives\n",
    "symbolic_constr = CTGp.blowup_construction(6, 3, edges=[[0, 1, 2]], part=[[0, 1], [0, 2], [1, 2]], symbolic_parts=True).set_sum()\n",
    "ders = symbolic_constr.derivatives([1/3, 1/3])\n",
    "\n",
    "# bad is less than missing, proven by (B)ad (M)inum (M)issing is at most 0.\n",
    "CTGp.optimize(B - M*(99/100), 6, positives=assums, exact=True, construction=ders, denom=2048, file=\"certificates/proposition_3_3\")"
   ]
  },
  {
   "cell_type": "code",
   "execution_count": 7,
   "id": "d8551b3b-27c4-47d8-b877-9a6463e9e5df",
   "metadata": {},
   "outputs": [],
   "source": [
    "### Theory for 3-colored 2-graphs, the colors are not interchangeable here\n",
    "Asymm3ColorTheory = combine(\"Asymm3Colors\", Color0, Color1, Color2, symmetries=NoSymmetry)\n",
    "# Again, force the colors to be disjoint\n",
    "Asymm3ColorTheory.exclude([\n",
    "    Asymm3ColorTheory(1), \n",
    "    Asymm3ColorTheory(1, C0=[0], C1=[0]), \n",
    "    Asymm3ColorTheory(1, C0=[0], C2=[0]), \n",
    "    Asymm3ColorTheory(1, C1=[0], C2=[0]),\n",
    "    Asymm3ColorTheory(1, C0=[0], C1=[0], C2=[0])\n",
    "])\n",
    "ColoredLinkGraphTheory = combine(\"ColoredLinkGraph\", GraphTheory, Asymm3ColorTheory)\n",
    "CLGT = ColoredLinkGraphTheory\n",
    "# These non-induced patterns guarantee the theory represents a 3 colored c5m-free 3-graph's link.\n",
    "CLGT.exclude([\n",
    "    CLGT.pattern(4, edges=[[0, 1], [2, 3]], C0=[0], C1=[1, 2], C2=[3]),\n",
    "    CLGT.pattern(4, edges=[[0, 1], [2, 3]], C0=[1, 2], C1=[0], C2=[3]),\n",
    "    CLGT.pattern(4, edges=[[0, 1], [2, 3]], C0=[0], C1=[3], C2=[1, 2]),\n",
    "    \n",
    "    CLGT.pattern(3, edges=[[0, 1], [1, 2]], C0=[0], C1=[1], C2=[2]),\n",
    "    CLGT.pattern(3, edges=[[0, 1], [1, 2]], C0=[1], C1=[0], C2=[2]),\n",
    "    CLGT.pattern(3, edges=[[0, 1], [1, 2]], C0=[0], C1=[2], C2=[1]),\n",
    "\n",
    "    CLGT.pattern(3, edges=[[0, 1], [1, 2]], C0=[0, 1], C1=[2], C2=[]),\n",
    "    CLGT.pattern(3, edges=[[0, 1], [1, 2]], C0=[0, 1], C1=[], C2=[2]),\n",
    "    CLGT.pattern(3, edges=[[0, 1], [1, 2]], C0=[2], C1=[0, 1], C2=[]),\n",
    "    CLGT.pattern(3, edges=[[0, 1], [1, 2]], C0=[], C1=[0, 1], C2=[2]),\n",
    "    CLGT.pattern(3, edges=[[0, 1], [1, 2]], C0=[2], C1=[], C2=[0, 1]),\n",
    "    CLGT.pattern(3, edges=[[0, 1], [1, 2]], C0=[], C1=[2], C2=[0, 1])\n",
    "])"
   ]
  },
  {
   "cell_type": "code",
   "execution_count": 8,
   "id": "2e66d510-67ed-4ca6-b91c-8924cc4dad1e",
   "metadata": {
    "scrolled": true
   },
   "outputs": [
    {
     "name": "stdout",
     "output_type": "stream",
     "text": [
      "Base flags generated, their number is 450\n",
      "The relevant ftypes are constructed, their number is 43\n",
      "Block sizes before symmetric/asymmetric change is applied: [28, 28, 28, 24, 15, 15, 24, 15, 12, 15, 15, 15, 24, 12, 8, 9, 9, 8, 12, 8, 9, 6, 6, 6, 8, 9, 9, 8, 9, 8, 12, 10, 7, 7, 10, 7, 7, 7, 7, 10, 10, 10, 10]\n"
     ]
    },
    {
     "name": "stderr",
     "output_type": "stream",
     "text": [
      "Done with mult table for Ftype on 3 points with edges=(01 02 12), C0=(0 1 2), C1=(), C2=(): : 43it [00:17,  2.47it/s]\n"
     ]
    },
    {
     "name": "stdout",
     "output_type": "stream",
     "text": [
      "Tables finished\n"
     ]
    },
    {
     "name": "stderr",
     "output_type": "stream",
     "text": [
      "Done with positivity constraint 5: 100%|██████████| 6/6 [00:00<00:00,  9.50it/s]\n"
     ]
    },
    {
     "name": "stdout",
     "output_type": "stream",
     "text": [
      "Constraints finished\n",
      "Running sdp without construction. Used block sizes are [28, 28, 28, 12, 12, 12, 3, 12, 3, 12, 12, 12, 3, 12, 12, 3, 12, 3, 12, 3, 12, 12, 10, 2, 8, 8, 1, 8, 1, 8, 10, 2, 8, 8, 1, 6, 6, 6, 8, 8, 1, 8, 1, 8, 8, 1, 8, 10, 2, 8, 2, 6, 1, 6, 1, 8, 2, 6, 1, 6, 1, 6, 1, 6, 1, 8, 2, 6, 4, 6, 4, 6, 4, -450, -527]\n",
      "CSDP 6.2.0\n",
      "Iter:  0 Ap: 0.00e+00 Pobj:  0.0000000e+00 Ad: 0.00e+00 Dobj:  0.0000000e+00 \n",
      "Iter:  1 Ap: 1.00e+00 Pobj: -4.9907708e+01 Ad: 7.03e-01 Dobj:  7.4258520e+00 \n",
      "Iter:  2 Ap: 1.00e+00 Pobj: -5.1781514e+01 Ad: 9.53e-01 Dobj: -1.1683632e-01 \n",
      "Iter:  3 Ap: 1.00e+00 Pobj: -5.2769043e+01 Ad: 9.47e-01 Dobj: -7.8346776e-02 \n",
      "Iter:  4 Ap: 8.94e-01 Pobj: -4.5884511e+01 Ad: 8.45e-01 Dobj: -5.1164934e-02 \n",
      "Iter:  5 Ap: 9.01e-01 Pobj: -2.6397013e+01 Ad: 5.30e-01 Dobj: -1.0938337e-02 \n",
      "Iter:  6 Ap: 3.06e-01 Pobj: -2.4483384e+01 Ad: 4.85e-01 Dobj:  2.0486501e-02 \n",
      "Iter:  7 Ap: 9.52e-01 Pobj: -1.4017574e+01 Ad: 5.78e-01 Dobj:  4.4050725e-02 \n",
      "Iter:  8 Ap: 1.00e+00 Pobj: -7.5147141e+00 Ad: 7.92e-01 Dobj:  5.9776511e-02 \n",
      "Iter:  9 Ap: 8.82e-01 Pobj: -3.6681849e+00 Ad: 8.06e-01 Dobj:  6.2913602e-02 \n",
      "Iter: 10 Ap: 8.94e-01 Pobj: -1.6042349e+00 Ad: 8.29e-01 Dobj:  6.3590585e-02 \n",
      "Iter: 11 Ap: 3.77e-01 Pobj: -1.2060582e+00 Ad: 6.18e-01 Dobj:  6.2519881e-02 \n",
      "Iter: 12 Ap: 1.00e+00 Pobj: -2.3062669e-01 Ad: 7.54e-01 Dobj:  6.0122120e-02 \n",
      "Iter: 13 Ap: 1.00e+00 Pobj: -4.5816384e-02 Ad: 9.16e-01 Dobj:  4.4824543e-02 \n",
      "Iter: 14 Ap: 1.00e+00 Pobj: -2.9793745e-02 Ad: 1.00e+00 Dobj:  1.3310400e-02 \n",
      "Iter: 15 Ap: 1.00e+00 Pobj: -4.6121059e-03 Ad: 1.00e+00 Dobj:  4.8008463e-03 \n",
      "Iter: 16 Ap: 1.00e+00 Pobj: -1.0233851e-03 Ad: 9.59e-01 Dobj:  1.5885452e-03 \n",
      "Iter: 17 Ap: 1.00e+00 Pobj: -1.9765905e-04 Ad: 1.00e+00 Dobj:  2.5540528e-04 \n",
      "Iter: 18 Ap: 8.46e-01 Pobj: -1.1120624e-04 Ad: 1.00e+00 Dobj:  1.3066545e-04 \n",
      "Iter: 19 Ap: 1.00e+00 Pobj: -3.7783340e-05 Ad: 1.00e+00 Dobj:  3.9078431e-05 \n",
      "Iter: 20 Ap: 9.18e-01 Pobj: -1.2835599e-05 Ad: 1.00e+00 Dobj:  3.5574270e-06 \n",
      "Iter: 21 Ap: 3.59e-01 Pobj: -1.0445314e-05 Ad: 1.00e+00 Dobj:  1.3150189e-06 \n",
      "Iter: 22 Ap: 8.64e-01 Pobj: -5.8495597e-06 Ad: 1.00e+00 Dobj: -9.2775844e-07 \n",
      "Iter: 23 Ap: 1.00e+00 Pobj: -2.7694021e-06 Ad: 1.00e+00 Dobj: -3.6197232e-06 \n",
      "Iter: 24 Ap: 1.00e+00 Pobj: -1.1157260e-06 Ad: 9.19e-01 Dobj: -4.9450075e-06 \n",
      "Iter: 25 Ap: 1.00e+00 Pobj: -3.4822188e-07 Ad: 1.00e+00 Dobj: -1.6769939e-06 \n",
      "Iter: 26 Ap: 1.00e+00 Pobj: -6.0394195e-08 Ad: 1.00e+00 Dobj: -2.3898405e-07 \n",
      "Iter: 27 Ap: 1.00e+00 Pobj: -4.8927845e-09 Ad: 9.93e-01 Dobj: -1.5108612e-08 \n",
      "Iter: 28 Ap: 9.60e-01 Pobj: -1.9607693e-10 Ad: 9.46e-01 Dobj: -1.1508110e-09 \n",
      "Success: SDP solved\n",
      "Primal objective value: -1.9607693e-10 \n",
      "Dual objective value: -1.1508110e-09 \n",
      "Relative primal infeasibility: 7.52e-14 \n",
      "Relative dual infeasibility: 1.36e-10 \n",
      "Real Relative Gap: -9.55e-10 \n",
      "XZ Relative Gap: 8.78e-10 \n",
      "DIMACS error measures: 2.72e-13 0.00e+00 9.47e-10 0.00e+00 -9.55e-10 8.78e-10\n",
      "The initial run didn't provide an accurate construction\n",
      "Rounding X matrices\n"
     ]
    },
    {
     "name": "stderr",
     "output_type": "stream",
     "text": [
      "100%|██████████████████████████████████████████| 73/73 [00:00<00:00, 362.53it/s]\n"
     ]
    },
    {
     "name": "stdout",
     "output_type": "stream",
     "text": [
      "Calculating resulting bound\n"
     ]
    },
    {
     "name": "stderr",
     "output_type": "stream",
     "text": [
      "100%|███████████████████████████████████████████| 43/43 [00:07<00:00,  5.49it/s]"
     ]
    },
    {
     "name": "stdout",
     "output_type": "stream",
     "text": [
      "The rounded result is 0\n"
     ]
    },
    {
     "name": "stderr",
     "output_type": "stream",
     "text": [
      "\n"
     ]
    },
    {
     "data": {
      "text/plain": [
       "0"
      ]
     },
     "execution_count": 8,
     "metadata": {},
     "output_type": "execute_result"
    }
   ],
   "source": [
    "### Vertex stability part (Proposition 3.4)\n",
    "\n",
    "edge_00 = CLGT(2, edges=[[0, 1]], C0=[0, 1], C1=[], C2=[])\n",
    "edge_11 = CLGT(2, edges=[[0, 1]], C0=[], C1=[0, 1], C2=[])\n",
    "edge_22 = CLGT(2, edges=[[0, 1]], C0=[], C1=[], C2=[0, 1])\n",
    "edge_01 = CLGT(2, edges=[[0, 1]], C0=[0], C1=[1], C2=[])\n",
    "edge_12 = CLGT(2, edges=[[0, 1]], C0=[], C1=[0], C2=[1])\n",
    "edge_02 = CLGT(2, edges=[[0, 1]], C0=[0], C1=[], C2=[1])\n",
    "\n",
    "point0 = CLGT(1, C0 = [0])\n",
    "point1 = CLGT(1, C1 = [0])\n",
    "point2 = CLGT(1, C2 = [0])\n",
    "\n",
    "positives = [\n",
    "    edge_12 - edge_01, \n",
    "    edge_12 - edge_02,\n",
    "    edge_01 + edge_02 + edge_12 - 1/8,\n",
    "    point0 - 1/4, \n",
    "    point1 - 1/4, \n",
    "    point2 - 1/4\n",
    "]\n",
    "\n",
    "# (M)issing edge with good colors\n",
    "M = CLGT(2, edges=[], C0=[], C1=[0], C2=[1]) \n",
    "\n",
    "# edges with (B)ad colors \n",
    "B = sum([\n",
    "    CLGT(2, edges=[[0, 1]], C0=[0], C1=[1], C2=[]),\n",
    "    CLGT(2, edges=[[0, 1]], C0=[0], C1=[], C2=[1]),\n",
    "    CLGT(2, edges=[[0, 1]], C0=[], C1=[0, 1], C2=[]),\n",
    "    CLGT(2, edges=[[0, 1]], C0=[], C1=[], C2=[0, 1])\n",
    "])\n",
    "\n",
    "CLGT.optimize(B - M*9/10, 5, positives = positives, exact=True, file=\"certificates/proposition_3_4\")"
   ]
  },
  {
   "cell_type": "markdown",
   "id": "a5f95df4-8392-4a73-aa95-10aff1f634c3",
   "metadata": {},
   "source": [
    "Verify the certificates produced\n",
    "===============================\n",
    "\n",
    "Can be run without running the above cells. Note however that the \n",
    "initial call to these cells might take longer, due to the calculation of\n",
    "the multiplication tables. Once that is complete and stored, these cells \n",
    "verify the results fairly quickly."
   ]
  },
  {
   "cell_type": "code",
   "execution_count": 9,
   "id": "8c7ee2ee-d6c9-4850-a7b6-2d21d37cadc1",
   "metadata": {},
   "outputs": [
    {
     "name": "stdout",
     "output_type": "stream",
     "text": [
      "Checking X matrices\n"
     ]
    },
    {
     "name": "stderr",
     "output_type": "stream",
     "text": [
      "12it [04:12, 21.04s/it]\n"
     ]
    },
    {
     "name": "stdout",
     "output_type": "stream",
     "text": [
      "Solution matrices are all positive semidefinite, linear coefficients are all non-negative\n",
      "Calculating multiplication tables\n"
     ]
    },
    {
     "name": "stderr",
     "output_type": "stream",
     "text": [
      "12it [00:02,  5.24it/s]\n"
     ]
    },
    {
     "name": "stdout",
     "output_type": "stream",
     "text": [
      "Done calculating linear constraints\n",
      "Calculating the bound provided by the certificate\n"
     ]
    },
    {
     "name": "stderr",
     "output_type": "stream",
     "text": [
      "12it [05:21, 26.76s/it]\n"
     ]
    },
    {
     "name": "stdout",
     "output_type": "stream",
     "text": [
      "The solution is valid, it proves the bound 126373441/504000000\n"
     ]
    },
    {
     "data": {
      "text/plain": [
       "126373441/504000000"
      ]
     },
     "execution_count": 9,
     "metadata": {},
     "output_type": "execute_result"
    }
   ],
   "source": [
    "### Verify Proposition 3.1\n",
    "\n",
    "k4m = ThreeGraphTheory.pattern(4, edges=[[0, 1, 2], [0, 1, 3], [0, 2, 3]])\n",
    "c5m = ThreeGraphTheory.pattern(5, edges=[[0, 1, 2], [1, 2, 3], [2, 3, 4], [3, 4, 0]])\n",
    "ThreeGraphTheory.exclude([k4m, c5m])\n",
    "TGp = ThreeGraphTheory\n",
    "TGp.verify(\"certificates/proposition_3_1\", TGp(3, edges=[[0, 1, 2]]), 7)"
   ]
  },
  {
   "cell_type": "code",
   "execution_count": 10,
   "id": "a8f7e074-34b4-4ea5-9b45-9d0c7e99a005",
   "metadata": {},
   "outputs": [
    {
     "name": "stdout",
     "output_type": "stream",
     "text": [
      "Checking X matrices\n"
     ]
    },
    {
     "name": "stderr",
     "output_type": "stream",
     "text": [
      "12it [03:20, 16.68s/it]\n"
     ]
    },
    {
     "name": "stdout",
     "output_type": "stream",
     "text": [
      "Solution matrices are all positive semidefinite, linear coefficients are all non-negative\n",
      "Calculating multiplication tables\n"
     ]
    },
    {
     "name": "stderr",
     "output_type": "stream",
     "text": [
      "12it [00:02,  5.01it/s]\n"
     ]
    },
    {
     "name": "stdout",
     "output_type": "stream",
     "text": [
      "Done with positivity constraint 0\n",
      "Done calculating linear constraints\n",
      "Calculating the bound provided by the certificate\n"
     ]
    },
    {
     "name": "stderr",
     "output_type": "stream",
     "text": [
      "12it [05:24, 27.07s/it]\n"
     ]
    },
    {
     "name": "stdout",
     "output_type": "stream",
     "text": [
      "The solution is valid, it proves the bound 229595509441/4718592000000\n"
     ]
    },
    {
     "data": {
      "text/plain": [
       "229595509441/4718592000000"
      ]
     },
     "execution_count": 10,
     "metadata": {},
     "output_type": "execute_result"
    }
   ],
   "source": [
    "### Verify Proposition 3.2\n",
    "\n",
    "k4m = ThreeGraphTheory.pattern(4, edges=[[0, 1, 2], [0, 1, 3], [0, 2, 3]])\n",
    "c5m = ThreeGraphTheory.pattern(5, edges=[[0, 1, 2], [1, 2, 3], [2, 3, 4], [3, 4, 0]])\n",
    "ThreeGraphTheory.exclude([k4m, c5m])\n",
    "TGp = ThreeGraphTheory\n",
    "\n",
    "b32 = 1/4 - 1/100000\n",
    "edge = TGp(3, edges=[[0, 1, 2]])\n",
    "f222 = TGp.pattern(6, ftype=[0, 1, 2], edges=[[0, 1, 2], [3, 4, 5], [0, 1, 5], [0, 2, 4], [1, 2, 3]]).afae()\n",
    "k222 = f222.project()\n",
    "\n",
    "TGp.verify(\"certificates/proposition_3_2\", k222, 7, maximize=False, positives=[edge - b32])"
   ]
  },
  {
   "cell_type": "code",
   "execution_count": 11,
   "id": "781a249f-5aa2-4006-b580-3239d94d74d7",
   "metadata": {},
   "outputs": [
    {
     "name": "stdout",
     "output_type": "stream",
     "text": [
      "{'arity': 3, 'ordered': False, 'group': 0} {'arity': 2, 'ordered': False, 'group': 0} edges\n",
      "Checking X matrices\n"
     ]
    },
    {
     "name": "stderr",
     "output_type": "stream",
     "text": [
      "20it [00:05,  3.60it/s]\n"
     ]
    },
    {
     "name": "stdout",
     "output_type": "stream",
     "text": [
      "Solution matrices are all positive semidefinite, linear coefficients are all non-negative\n",
      "Calculating multiplication tables\n"
     ]
    },
    {
     "name": "stderr",
     "output_type": "stream",
     "text": [
      "20it [00:01, 16.06it/s]\n"
     ]
    },
    {
     "name": "stdout",
     "output_type": "stream",
     "text": [
      "Done with positivity constraint 0\n",
      "Done with positivity constraint 1\n",
      "Done calculating linear constraints\n",
      "Calculating the bound provided by the certificate\n"
     ]
    },
    {
     "name": "stderr",
     "output_type": "stream",
     "text": [
      "20it [04:53, 14.67s/it]\n"
     ]
    },
    {
     "name": "stdout",
     "output_type": "stream",
     "text": [
      "The solution is valid, it proves the bound 0\n"
     ]
    },
    {
     "data": {
      "text/plain": [
       "0"
      ]
     },
     "execution_count": 11,
     "metadata": {},
     "output_type": "execute_result"
    }
   ],
   "source": [
    "### Verify Proposition 3.3\n",
    "\n",
    "k4m = ThreeGraphTheory.pattern(4, edges=[[0, 1, 2], [0, 1, 3], [0, 2, 3]])\n",
    "c5m = ThreeGraphTheory.pattern(5, edges=[[0, 1, 2], [1, 2, 3], [2, 3, 4], [3, 4, 0]])\n",
    "ThreeGraphTheory.exclude([k4m, c5m])\n",
    "TGp = ThreeGraphTheory\n",
    "P = Theory(\"3Partition\", relation_name=\"part\", arity=2, is_ordered=False)\n",
    "P.exclude([P(3, part=[[0, 1]]), P(4, part=[[0, 1], [0, 2], [0, 3], [1, 2], [1, 3], [2, 3]])])\n",
    "ThreePartitionedThreeGraphTheory = combine(\"3PartitionNoC5m\", TGp, P)\n",
    "CTGp = ThreePartitionedThreeGraphTheory\n",
    "\n",
    "C = CTGp(3, edges=[[0, 1, 2]], part=[[0, 1], [0, 2], [1, 2]])\n",
    "Cp = CTGp(3, edges=[[0, 1, 2]], part=[[0, 1], [0, 2], [1, 2]], ftype=[0])\n",
    "B = CTGp(3, edges=[[0, 1, 2]], part=[[0, 1], [1, 2]])\n",
    "Bp = CTGp(3, edges=[[0, 1, 2]], part=[[0, 1], [1, 2]], ftype=[0])\n",
    "M = CTGp(3, edges=[], part=[[0, 1], [0, 2], [1, 2]])\n",
    "b33 = 19/100\n",
    "assums = [Cp - Bp/2, C - b33]\n",
    "CTGp.verify(\"certificates/proposition_3_3\", B + (-99/100)*M, 6, positives=assums)"
   ]
  },
  {
   "cell_type": "code",
   "execution_count": 12,
   "id": "54db91a3-66a3-4943-a482-0ad6974e388a",
   "metadata": {},
   "outputs": [
    {
     "name": "stdout",
     "output_type": "stream",
     "text": [
      "Checking X matrices\n"
     ]
    },
    {
     "name": "stderr",
     "output_type": "stream",
     "text": [
      "43it [00:00, 652.57it/s]\n"
     ]
    },
    {
     "name": "stdout",
     "output_type": "stream",
     "text": [
      "Solution matrices are all positive semidefinite, linear coefficients are all non-negative\n",
      "Calculating multiplication tables\n"
     ]
    },
    {
     "name": "stderr",
     "output_type": "stream",
     "text": [
      "43it [00:00, 521.30it/s]"
     ]
    },
    {
     "name": "stdout",
     "output_type": "stream",
     "text": [
      "Done with positivity constraint 0\n",
      "Done with positivity constraint 1\n"
     ]
    },
    {
     "name": "stderr",
     "output_type": "stream",
     "text": [
      "\n"
     ]
    },
    {
     "name": "stdout",
     "output_type": "stream",
     "text": [
      "Done with positivity constraint 2\n",
      "Done with positivity constraint 3\n",
      "Done with positivity constraint 4\n",
      "Done with positivity constraint 5\n",
      "Done calculating linear constraints\n",
      "Calculating the bound provided by the certificate\n"
     ]
    },
    {
     "name": "stderr",
     "output_type": "stream",
     "text": [
      "43it [00:05,  8.41it/s]"
     ]
    },
    {
     "name": "stdout",
     "output_type": "stream",
     "text": [
      "The solution is valid, it proves the bound 0\n"
     ]
    },
    {
     "name": "stderr",
     "output_type": "stream",
     "text": [
      "\n"
     ]
    },
    {
     "data": {
      "text/plain": [
       "0"
      ]
     },
     "execution_count": 12,
     "metadata": {},
     "output_type": "execute_result"
    }
   ],
   "source": [
    "### Verify Proposition 3.4\n",
    "\n",
    "Asymm3ColorTheory = combine(\"Asymm3Colors\", Color0, Color1, Color2, symmetries=NoSymmetry)\n",
    "Asymm3ColorTheory.exclude([\n",
    "    Asymm3ColorTheory(1), \n",
    "    Asymm3ColorTheory(1, C0=[0], C1=[0]), \n",
    "    Asymm3ColorTheory(1, C0=[0], C2=[0]), \n",
    "    Asymm3ColorTheory(1, C1=[0], C2=[0]),\n",
    "    Asymm3ColorTheory(1, C0=[0], C1=[0], C2=[0])\n",
    "])\n",
    "ColoredLinkGraphTheory = combine(\"ColoredLinkGraph\", GraphTheory, Asymm3ColorTheory)\n",
    "CLGT = ColoredLinkGraphTheory\n",
    "CLGT.exclude([\n",
    "    CLGT.pattern(4, edges=[[0, 1], [2, 3]], C0=[0], C1=[1, 2], C2=[3]),\n",
    "    CLGT.pattern(4, edges=[[0, 1], [2, 3]], C0=[1, 2], C1=[0], C2=[3]),\n",
    "    CLGT.pattern(4, edges=[[0, 1], [2, 3]], C0=[0], C1=[3], C2=[1, 2]),\n",
    "    \n",
    "    CLGT.pattern(3, edges=[[0, 1], [1, 2]], C0=[0], C1=[1], C2=[2]),\n",
    "    CLGT.pattern(3, edges=[[0, 1], [1, 2]], C0=[1], C1=[0], C2=[2]),\n",
    "    CLGT.pattern(3, edges=[[0, 1], [1, 2]], C0=[0], C1=[2], C2=[1]),\n",
    "\n",
    "    CLGT.pattern(3, edges=[[0, 1], [1, 2]], C0=[0, 1], C1=[2], C2=[]),\n",
    "    CLGT.pattern(3, edges=[[0, 1], [1, 2]], C0=[0, 1], C1=[], C2=[2]),\n",
    "    CLGT.pattern(3, edges=[[0, 1], [1, 2]], C0=[2], C1=[0, 1], C2=[]),\n",
    "    CLGT.pattern(3, edges=[[0, 1], [1, 2]], C0=[], C1=[0, 1], C2=[2]),\n",
    "    CLGT.pattern(3, edges=[[0, 1], [1, 2]], C0=[2], C1=[], C2=[0, 1]),\n",
    "    CLGT.pattern(3, edges=[[0, 1], [1, 2]], C0=[], C1=[2], C2=[0, 1])\n",
    "])\n",
    "\n",
    "edge_00 = CLGT(2, edges=[[0, 1]], C0=[0, 1], C1=[], C2=[])\n",
    "edge_11 = CLGT(2, edges=[[0, 1]], C0=[], C1=[0, 1], C2=[])\n",
    "edge_22 = CLGT(2, edges=[[0, 1]], C0=[], C1=[], C2=[0, 1])\n",
    "edge_01 = CLGT(2, edges=[[0, 1]], C0=[0], C1=[1], C2=[])\n",
    "edge_12 = CLGT(2, edges=[[0, 1]], C0=[], C1=[0], C2=[1])\n",
    "edge_02 = CLGT(2, edges=[[0, 1]], C0=[0], C1=[], C2=[1])\n",
    "point0 = CLGT(1, C0 = [0])\n",
    "point1 = CLGT(1, C1 = [0])\n",
    "point2 = CLGT(1, C2 = [0])\n",
    "positives = [\n",
    "    edge_12 - edge_01, \n",
    "    edge_12 - edge_02,\n",
    "    edge_01 + edge_02 + edge_12 - 1/8,\n",
    "    point0 - 1/4, \n",
    "    point1 - 1/4, \n",
    "    point2 - 1/4\n",
    "]\n",
    "M = CLGT(2, edges=[], C0=[], C1=[0], C2=[1]) \n",
    "B = sum([\n",
    "    CLGT(2, edges=[[0, 1]], C0=[0], C1=[1], C2=[]),\n",
    "    CLGT(2, edges=[[0, 1]], C0=[0], C1=[], C2=[1]),\n",
    "    CLGT(2, edges=[[0, 1]], C0=[], C1=[0, 1], C2=[]),\n",
    "    CLGT(2, edges=[[0, 1]], C0=[], C1=[], C2=[0, 1])\n",
    "])\n",
    "\n",
    "CLGT.verify(\"certificates/proposition_3_4\", B - M*9/10, 5, positives = positives)"
   ]
  }
 ],
 "metadata": {
  "kernelspec": {
   "display_name": "SageMath 10.5.beta7",
   "language": "sage",
   "name": "sagemath"
  },
  "language_info": {
   "codemirror_mode": {
    "name": "ipython",
    "version": 3
   },
   "file_extension": ".py",
   "mimetype": "text/x-python",
   "name": "python",
   "nbconvert_exporter": "python",
   "pygments_lexer": "ipython3",
   "version": "3.10.12"
  }
 },
 "nbformat": 4,
 "nbformat_minor": 5
}
