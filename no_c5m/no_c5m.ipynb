{
 "cells": [
  {
   "cell_type": "markdown",
   "id": "60fa7a71-547f-4444-ab76-30ad097871db",
   "metadata": {},
   "source": [
    "The Turán number of $C_5^-$\n",
    "==============================\n",
    "\n",
    "This notebook contains calculations for the Turán number of $C_5^-$. To run these calculations, use the modified version of sage from\n",
    "https://github.com/bodnalev/sage\n",
    "\n",
    "As the blowup of $K_4^-$ contains $C_5^-$, we can additionally assume \n",
    "that we work in $K_4^-$-free structures. \n",
    "\n",
    "1. The first cell sets up the combinatorial theory of $C_5^-$ and \n",
    "$K_4^-$-free 3-graphs (called TGp). In addition, it sets up the \n",
    "combinatorial theory on the same 3-graphs with vertices partitioned \n",
    "into 3 parts using an additional 2-ary relation indicating different parts (called CTGp)\n",
    "\n",
    "2. The second cell performs the basic calculation of upper bounding edges \n",
    "in the theory for Proposition 3.1. It gives the $\\alpha_{3, 1}$ = a31 = 126373441/504000000 ~= 0.250740954365079... upper bound.\n",
    "The certificate proving the claim is saved to the file \"proposition_3_1.pickle\".\n",
    "\n",
    "3. The next cell lower bounds the max-cut ration (k222) for Proposition 3.2.\n",
    "Note at the optimal construction this value is exactly 25/121 ~= 0.19834710743801652892...\n",
    "The exact lower bound provided is $\\alpha_{3, 2}$ = a32 = 1607168566087/8282009829376 ~= 0.194055380179148...\n",
    "The certificate proving the claim is saved to the file \"proposition_3_2.pickle\".\n",
    "\n",
    "5. The following cell works in the 3 partitioned theory.\n",
    "It uses the lower bound b33=0.19 on the edges in the correct parts, where $\\beta_{3, 3}$ = b33 < a32 from the previous calculation.\n",
    "The calculations provide the precise density bound that there are less bad\n",
    "edges than missing edges asymptotically on the top\n",
    "level. Here bad and missing is defined compared to the expected construction.\n",
    "The certificate proving this claim is saved to the file \"proposition_3_3.pickle\".\n",
    "\n",
    "6. The next cell establishes the theory for 3 colored graphs appearing as\n",
    "a link of a vertex. The patterns excluded all would result in a $C_5^-$\n",
    "assuming that all the 3-edges between the three parts are present.\n",
    "\n",
    "7. Then the calculation on the link graph is performed.\n",
    "The calculations provide the precise density bound that there are less bad\n",
    "edges than missing edges asymptotically. The\n",
    "certificate proving this claim is saved to the file \"proposition_3_4.pickle\".\n",
    "\n",
    "8. The first 6 cells perform the entire calculation from scratch. If one\n",
    "only wants to verify that any of the certificates are indeed correct, it is enough\n",
    "to run the corresponding cell from the final 4. For each step above, it loads the generated\n",
    "certificates and verifies that the matrices are indeed positive semidefinite\n",
    "and that the bound they prove is exactly as claimed."
   ]
  },
  {
   "cell_type": "code",
   "execution_count": 1,
   "id": "3b851628-87a4-4df0-b0fb-935d3a2e4c65",
   "metadata": {},
   "outputs": [],
   "source": [
    "### Theory for 3-graphs, with k4m and c5m excluded\n",
    "k4m = ThreeGraphTheory.pattern(4, edges=[[0, 1, 2], [0, 1, 3], [0, 2, 3]])\n",
    "c5m = ThreeGraphTheory.pattern(5, edges=[[0, 1, 2], [1, 2, 3], [2, 3, 4], [3, 4, 0]])\n",
    "ThreeGraphTheory.exclude([k4m, c5m])\n",
    "TGp = ThreeGraphTheory\n",
    "\n",
    "\n",
    "# Graphs representing a three-partition\n",
    "P = Theory(\"3Partition\", relation_name=\"part\", arity=2, is_ordered=False)\n",
    "P.exclude([P(3, part=[[0, 1]]), P(4, part=[[0, 1], [0, 2], [0, 3], [1, 2], [1, 3], [2, 3]])])\n",
    "ThreePartitionedThreeGraphTheory = combine(\"3PartitionNoC5m\", TGp, P)\n",
    "CTGp = ThreePartitionedThreeGraphTheory"
   ]
  },
  {
   "cell_type": "code",
   "execution_count": 2,
   "id": "7e338b71-9c2f-423c-8fa9-184eb1d42ac8",
   "metadata": {},
   "outputs": [
    {
     "name": "stdout",
     "output_type": "stream",
     "text": [
      "Base flags generated, their number is 1127\n",
      "The relevant ftypes are constructed, their number is 12\n",
      "Block sizes before symmetric/asymmetric change is applied: [5, 74, 32, 388, 178, 83, 97, 34, 45, 54, 31, 28]\n"
     ]
    },
    {
     "name": "stderr",
     "output_type": "stream",
     "text": [
      "Done with mult table for Ftype on 5 points with edges=(012 023 024 134): : 12it [00:36,  3.02s/it]\n"
     ]
    },
    {
     "name": "stdout",
     "output_type": "stream",
     "text": [
      "Tables finished\n",
      "Constraints finished\n",
      "Running sdp without construction. Used block sizes are [5, 21, 53, 11, 21, 14, 374, 31, 147, 35, 48, 23, 74, 10, 24, 28, 17, 23, 31, 12, 19, 8, 20, -1127, -2]\n",
      "CSDP 6.2.0\n",
      "Iter:  0 Ap: 0.00e+00 Pobj:  0.0000000e+00 Ad: 0.00e+00 Dobj:  0.0000000e+00 \n",
      "Iter:  1 Ap: 5.68e-01 Pobj: -9.5829247e+01 Ad: 1.30e-01 Dobj:  1.0083555e+00 \n",
      "Iter:  2 Ap: 7.05e-01 Pobj: -2.2795940e+02 Ad: 5.29e-01 Dobj:  4.0603895e+00 \n",
      "Iter:  3 Ap: 9.74e-01 Pobj: -4.5275439e+02 Ad: 6.83e-01 Dobj:  4.1153081e-01 \n",
      "Iter:  4 Ap: 1.00e+00 Pobj: -4.6152644e+02 Ad: 9.01e-01 Dobj: -7.8068222e-02 \n",
      "Iter:  5 Ap: 1.00e+00 Pobj: -3.9293894e+02 Ad: 9.04e-01 Dobj: -1.6558969e-01 \n",
      "Iter:  6 Ap: 6.79e-01 Pobj: -3.5553893e+02 Ad: 8.52e-01 Dobj: -1.8000026e-01 \n",
      "Iter:  7 Ap: 4.16e-01 Pobj: -3.4952377e+02 Ad: 5.20e-01 Dobj: -1.8368232e-01 \n",
      "Iter:  8 Ap: 4.32e-01 Pobj: -3.5490863e+02 Ad: 4.87e-01 Dobj: -1.7395062e-01 \n",
      "Iter:  9 Ap: 8.57e-01 Pobj: -2.8860626e+02 Ad: 5.92e-01 Dobj: -1.6939924e-01 \n",
      "Iter: 10 Ap: 9.64e-01 Pobj: -2.5283909e+02 Ad: 7.07e-01 Dobj: -1.6508335e-01 \n",
      "Iter: 11 Ap: 8.10e-01 Pobj: -1.9373217e+02 Ad: 6.50e-01 Dobj: -1.6423601e-01 \n",
      "Iter: 12 Ap: 4.42e-01 Pobj: -1.6527467e+02 Ad: 6.42e-01 Dobj: -1.6388109e-01 \n",
      "Iter: 13 Ap: 6.95e-01 Pobj: -1.1727766e+02 Ad: 6.42e-01 Dobj: -1.6392518e-01 \n",
      "Iter: 14 Ap: 7.00e-01 Pobj: -7.4323664e+01 Ad: 7.23e-01 Dobj: -1.6410214e-01 \n",
      "Iter: 15 Ap: 5.90e-01 Pobj: -5.5532583e+01 Ad: 7.49e-01 Dobj: -1.6406180e-01 \n",
      "Iter: 16 Ap: 7.31e-01 Pobj: -3.2271640e+01 Ad: 1.00e+00 Dobj: -1.6396406e-01 \n",
      "Iter: 17 Ap: 9.81e-01 Pobj: -2.8795780e+00 Ad: 1.00e+00 Dobj: -1.6403696e-01 \n",
      "Iter: 18 Ap: 1.00e+00 Pobj: -5.3290224e-01 Ad: 1.00e+00 Dobj: -1.6506082e-01 \n",
      "Iter: 19 Ap: 1.00e+00 Pobj: -3.7485460e-01 Ad: 7.71e-01 Dobj: -1.7100028e-01 \n",
      "Iter: 20 Ap: 2.35e-01 Pobj: -3.6617446e-01 Ad: 1.00e+00 Dobj: -1.7644798e-01 \n",
      "Iter: 21 Ap: 1.00e+00 Pobj: -2.9275224e-01 Ad: 8.81e-01 Dobj: -1.8589063e-01 \n",
      "Iter: 22 Ap: 6.64e-01 Pobj: -2.8678561e-01 Ad: 9.00e-01 Dobj: -2.0450941e-01 \n",
      "Iter: 23 Ap: 2.75e-01 Pobj: -2.8497327e-01 Ad: 4.74e-01 Dobj: -2.0913994e-01 \n",
      "Iter: 24 Ap: 7.37e-01 Pobj: -2.7392757e-01 Ad: 1.00e+00 Dobj: -2.2409673e-01 \n",
      "Iter: 25 Ap: 9.13e-01 Pobj: -2.5890354e-01 Ad: 1.00e+00 Dobj: -2.3704755e-01 \n",
      "Iter: 26 Ap: 9.31e-01 Pobj: -2.5369508e-01 Ad: 1.00e+00 Dobj: -2.4010687e-01 \n",
      "Iter: 27 Ap: 9.94e-01 Pobj: -2.5153820e-01 Ad: 1.00e+00 Dobj: -2.4616778e-01 \n",
      "Iter: 28 Ap: 1.00e+00 Pobj: -2.5114372e-01 Ad: 1.00e+00 Dobj: -2.4797193e-01 \n",
      "Iter: 29 Ap: 1.00e+00 Pobj: -2.5096948e-01 Ad: 1.00e+00 Dobj: -2.4953027e-01 \n",
      "Iter: 30 Ap: 9.81e-01 Pobj: -2.5089406e-01 Ad: 1.00e+00 Dobj: -2.5011000e-01 \n",
      "Iter: 31 Ap: 1.00e+00 Pobj: -2.5083891e-01 Ad: 1.00e+00 Dobj: -2.5043034e-01 \n",
      "Iter: 32 Ap: 8.73e-01 Pobj: -2.5080720e-01 Ad: 1.00e+00 Dobj: -2.5059543e-01 \n",
      "Iter: 33 Ap: 4.06e-01 Pobj: -2.5080445e-01 Ad: 4.30e-01 Dobj: -2.5062997e-01 \n",
      "Iter: 34 Ap: 8.86e-01 Pobj: -2.5078591e-01 Ad: 1.00e+00 Dobj: -2.5069486e-01 \n",
      "Iter: 35 Ap: 9.60e-01 Pobj: -2.5077258e-01 Ad: 1.00e+00 Dobj: -2.5074075e-01 \n",
      "Iter: 36 Ap: 1.00e+00 Pobj: -2.5076484e-01 Ad: 1.00e+00 Dobj: -2.5076366e-01 \n",
      "Iter: 37 Ap: 9.98e-01 Pobj: -2.5076129e-01 Ad: 1.00e+00 Dobj: -2.5077428e-01 \n",
      "Iter: 38 Ap: 1.00e+00 Pobj: -2.5075850e-01 Ad: 1.00e+00 Dobj: -2.5078221e-01 \n",
      "Iter: 39 Ap: 1.00e+00 Pobj: -2.5075672e-01 Ad: 1.00e+00 Dobj: -2.5078341e-01 \n",
      "Iter: 40 Ap: 1.12e-01 Pobj: -2.5075595e-01 Ad: 2.47e-01 Dobj: -2.5077832e-01 \n",
      "Iter: 41 Ap: 1.53e-01 Pobj: -2.5075471e-01 Ad: 2.78e-01 Dobj: -2.5077320e-01 \n",
      "Iter: 42 Ap: 1.75e-01 Pobj: -2.5075342e-01 Ad: 2.89e-01 Dobj: -2.5076884e-01 \n",
      "Iter: 43 Ap: 2.41e-01 Pobj: -2.5075183e-01 Ad: 3.29e-01 Dobj: -2.5076468e-01 \n",
      "Iter: 44 Ap: 1.57e-01 Pobj: -2.5075099e-01 Ad: 4.62e-01 Dobj: -2.5076054e-01 \n",
      "Iter: 45 Ap: 1.16e-01 Pobj: -2.5075050e-01 Ad: 5.16e-01 Dobj: -2.5075808e-01 \n",
      "Iter: 46 Ap: 4.38e-02 Pobj: -2.5075025e-01 Ad: 3.79e-01 Dobj: -2.5075636e-01 \n",
      "Iter: 47 Ap: 1.62e-01 Pobj: -2.5074943e-01 Ad: 2.31e-01 Dobj: -2.5075569e-01 \n",
      "Iter: 48 Ap: 4.01e-01 Pobj: -2.5074769e-01 Ad: 3.82e-01 Dobj: -2.5075463e-01 \n",
      "Iter: 49 Ap: 3.38e-01 Pobj: -2.5074687e-01 Ad: 5.38e-01 Dobj: -2.5075250e-01 \n",
      "Iter: 50 Ap: 1.69e-01 Pobj: -2.5074650e-01 Ad: 4.97e-01 Dobj: -2.5075154e-01 \n",
      "Iter: 51 Ap: 5.78e-01 Pobj: -2.5074538e-01 Ad: 6.44e-01 Dobj: -2.5075086e-01 \n",
      "Iter: 52 Ap: 2.88e-01 Pobj: -2.5074473e-01 Ad: 4.10e-01 Dobj: -2.5074937e-01 \n",
      "Iter: 53 Ap: 3.04e-01 Pobj: -2.5074421e-01 Ad: 4.39e-01 Dobj: -2.5074829e-01 \n",
      "Iter: 54 Ap: 3.53e-01 Pobj: -2.5074365e-01 Ad: 6.99e-01 Dobj: -2.5074726e-01 \n",
      "Iter: 55 Ap: 3.78e-01 Pobj: -2.5074291e-01 Ad: 4.88e-01 Dobj: -2.5074638e-01 \n",
      "Iter: 56 Ap: 2.23e-01 Pobj: -2.5074259e-01 Ad: 4.79e-01 Dobj: -2.5074541e-01 \n",
      "Iter: 57 Ap: 3.76e-01 Pobj: -2.5074208e-01 Ad: 5.66e-01 Dobj: -2.5074476e-01 \n",
      "Iter: 58 Ap: 2.99e-01 Pobj: -2.5074164e-01 Ad: 5.84e-01 Dobj: -2.5074394e-01 \n",
      "Iter: 59 Ap: 3.12e-01 Pobj: -2.5074123e-01 Ad: 5.64e-01 Dobj: -2.5074323e-01 \n",
      "Iter: 60 Ap: 3.62e-01 Pobj: -2.5074091e-01 Ad: 5.28e-01 Dobj: -2.5074274e-01 \n",
      "Iter: 61 Ap: 4.55e-01 Pobj: -2.5074060e-01 Ad: 8.72e-01 Dobj: -2.5074242e-01 \n",
      "Iter: 62 Ap: 4.19e-01 Pobj: -2.5074028e-01 Ad: 6.70e-01 Dobj: -2.5074200e-01 \n",
      "Iter: 63 Ap: 2.48e-01 Pobj: -2.5074007e-01 Ad: 4.29e-01 Dobj: -2.5074156e-01 \n",
      "Iter: 64 Ap: 3.16e-01 Pobj: -2.5073987e-01 Ad: 6.13e-01 Dobj: -2.5074127e-01 \n",
      "Iter: 65 Ap: 5.15e-01 Pobj: -2.5073953e-01 Ad: 7.28e-01 Dobj: -2.5074093e-01 \n",
      "Iter: 66 Ap: 2.20e-01 Pobj: -2.5073934e-01 Ad: 4.06e-01 Dobj: -2.5074049e-01 \n",
      "Iter: 67 Ap: 3.37e-01 Pobj: -2.5073915e-01 Ad: 5.05e-01 Dobj: -2.5074015e-01 \n",
      "Iter: 68 Ap: 1.74e-01 Pobj: -2.5073906e-01 Ad: 2.22e-01 Dobj: -2.5074001e-01 \n",
      "Iter: 69 Ap: 2.31e-01 Pobj: -2.5073896e-01 Ad: 6.36e-01 Dobj: -2.5073966e-01 \n",
      "Iter: 70 Ap: 2.32e-01 Pobj: -2.5073883e-01 Ad: 3.74e-01 Dobj: -2.5073948e-01 \n",
      "Iter: 71 Ap: 2.76e-01 Pobj: -2.5073874e-01 Ad: 6.64e-01 Dobj: -2.5073928e-01 \n",
      "Iter: 72 Ap: 2.71e-01 Pobj: -2.5073866e-01 Ad: 5.63e-01 Dobj: -2.5073910e-01 \n",
      "Iter: 73 Ap: 4.90e-01 Pobj: -2.5073857e-01 Ad: 6.64e-01 Dobj: -2.5073899e-01 \n",
      "Iter: 74 Ap: 4.10e-01 Pobj: -2.5073851e-01 Ad: 5.63e-01 Dobj: -2.5073884e-01 \n",
      "Iter: 75 Ap: 3.81e-01 Pobj: -2.5073847e-01 Ad: 6.93e-01 Dobj: -2.5073872e-01 \n",
      "Iter: 76 Ap: 2.32e-01 Pobj: -2.5073845e-01 Ad: 5.33e-01 Dobj: -2.5073864e-01 \n",
      "Iter: 77 Ap: 3.87e-01 Pobj: -2.5073842e-01 Ad: 5.47e-01 Dobj: -2.5073857e-01 \n",
      "Iter: 78 Ap: 5.13e-01 Pobj: -2.5073839e-01 Ad: 7.97e-01 Dobj: -2.5073851e-01 \n",
      "Iter: 79 Ap: 3.40e-01 Pobj: -2.5073838e-01 Ad: 5.25e-01 Dobj: -2.5073847e-01 \n",
      "Iter: 80 Ap: 3.50e-01 Pobj: -2.5073837e-01 Ad: 6.22e-01 Dobj: -2.5073843e-01 \n",
      "Iter: 81 Ap: 6.46e-01 Pobj: -2.5073836e-01 Ad: 6.60e-01 Dobj: -2.5073840e-01 \n",
      "Iter: 82 Ap: 6.80e-01 Pobj: -2.5073835e-01 Ad: 7.50e-01 Dobj: -2.5073838e-01 \n",
      "Iter: 83 Ap: 3.38e-01 Pobj: -2.5073835e-01 Ad: 3.46e-01 Dobj: -2.5073837e-01 \n",
      "Success: SDP solved\n",
      "Primal objective value: -2.5073835e-01 \n",
      "Dual objective value: -2.5073837e-01 \n",
      "Relative primal infeasibility: 4.30e-10 \n",
      "Relative dual infeasibility: 4.12e-11 \n",
      "Real Relative Gap: -1.43e-08 \n",
      "XZ Relative Gap: 7.84e-09 \n",
      "DIMACS error measures: 2.48e-09 0.00e+00 1.78e-10 0.00e+00 -1.43e-08 7.84e-09\n",
      "The initial run didn't provide an accurate construction\n",
      "Rounding X matrices\n"
     ]
    },
    {
     "name": "stderr",
     "output_type": "stream",
     "text": [
      "100%|███████████████████████████████████████████| 23/23 [00:06<00:00,  3.61it/s]\n"
     ]
    },
    {
     "name": "stdout",
     "output_type": "stream",
     "text": [
      "Calculating resulting bound\n"
     ]
    },
    {
     "name": "stderr",
     "output_type": "stream",
     "text": [
      "100%|███████████████████████████████████████████| 12/12 [03:01<00:00, 15.09s/it]\n"
     ]
    },
    {
     "name": "stdout",
     "output_type": "stream",
     "text": [
      "The rounded result is -63186647/252000000\n",
      "The initial upper bound on the Turan density from Proposition 3.1 is 63186647/252000000 ~= 0.250740662698413\n"
     ]
    }
   ],
   "source": [
    "### This part just gives a standard upper bound on the number of edges without C5- and K4- (Proposition 3.1)\n",
    "\n",
    "a31 = TGp.optimize(TGp(3, edges=[[0, 1, 2]]), 7,  exact=True, \n",
    "                   file=\"certificates/proposition_3_1\", \n",
    "                   denom=1024*3125\n",
    "                  )\n",
    "print(\"The initial upper bound on the Turan density from Proposition 3.1 is {} ~= {}\".format(a31, a31.n()))"
   ]
  },
  {
   "cell_type": "code",
   "execution_count": 3,
   "id": "d2b75bc6-0c5d-490c-857c-d5770f250743",
   "metadata": {
    "scrolled": true
   },
   "outputs": [
    {
     "name": "stdout",
     "output_type": "stream",
     "text": [
      "Base flags generated, their number is 1127\n",
      "The relevant ftypes are constructed, their number is 12\n",
      "Block sizes before symmetric/asymmetric change is applied: [5, 74, 32, 388, 178, 83, 97, 34, 45, 54, 31, 28]\n"
     ]
    },
    {
     "name": "stderr",
     "output_type": "stream",
     "text": [
      "Done with mult table for Ftype on 5 points with edges=(012 023 024 134): : 12it [00:01,  8.77it/s]\n"
     ]
    },
    {
     "name": "stdout",
     "output_type": "stream",
     "text": [
      "Tables finished\n"
     ]
    },
    {
     "name": "stderr",
     "output_type": "stream",
     "text": [
      "Done with positivity constraint 0: 100%|██████████| 1/1 [00:01<00:00,  1.61s/it]\n"
     ]
    },
    {
     "name": "stdout",
     "output_type": "stream",
     "text": [
      "Constraints finished\n",
      "Running sdp without construction. Used block sizes are [5, 21, 53, 11, 21, 14, 374, 31, 147, 35, 48, 23, 74, 10, 24, 28, 17, 23, 31, 12, 19, 8, 20, -1127, -5]\n",
      "CSDP 6.2.0\n",
      "Iter:  0 Ap: 0.00e+00 Pobj:  0.0000000e+00 Ad: 0.00e+00 Dobj:  0.0000000e+00 \n",
      "Iter:  1 Ap: 6.11e-01 Pobj: -9.3783160e+01 Ad: 1.44e-01 Dobj:  3.1610548e+00 \n",
      "Iter:  2 Ap: 7.16e-01 Pobj: -2.0900352e+02 Ad: 5.43e-01 Dobj:  3.0000278e+00 \n",
      "Iter:  3 Ap: 1.00e+00 Pobj: -3.8876730e+02 Ad: 7.09e-01 Dobj:  6.7089606e-01 \n",
      "Iter:  4 Ap: 1.00e+00 Pobj: -3.9046560e+02 Ad: 8.95e-01 Dobj:  1.2079609e-01 \n",
      "Iter:  5 Ap: 1.00e+00 Pobj: -3.2083013e+02 Ad: 8.92e-01 Dobj:  3.8648259e-02 \n",
      "Iter:  6 Ap: 8.17e-01 Pobj: -2.8339670e+02 Ad: 7.48e-01 Dobj:  2.5833450e-02 \n",
      "Iter:  7 Ap: 4.81e-01 Pobj: -2.1736517e+02 Ad: 4.30e-01 Dobj:  3.1783698e-02 \n",
      "Iter:  8 Ap: 8.91e-01 Pobj: -1.4652153e+02 Ad: 5.65e-01 Dobj:  3.6973077e-02 \n",
      "Iter:  9 Ap: 1.00e+00 Pobj: -1.2063860e+02 Ad: 5.63e-01 Dobj:  4.1497894e-02 \n",
      "Iter: 10 Ap: 6.97e-01 Pobj: -1.1383719e+02 Ad: 6.46e-01 Dobj:  4.4920630e-02 \n",
      "Iter: 11 Ap: 2.41e-01 Pobj: -1.0301169e+02 Ad: 4.72e-01 Dobj:  4.6255664e-02 \n",
      "Iter: 12 Ap: 1.42e-01 Pobj: -9.5232183e+01 Ad: 4.04e-01 Dobj:  4.6849453e-02 \n",
      "Iter: 13 Ap: 2.10e-01 Pobj: -8.4999469e+01 Ad: 4.80e-01 Dobj:  4.7787976e-02 \n",
      "Iter: 14 Ap: 5.92e-01 Pobj: -5.6915817e+01 Ad: 5.33e-01 Dobj:  4.8334683e-02 \n",
      "Iter: 15 Ap: 5.94e-01 Pobj: -4.3717204e+01 Ad: 5.87e-01 Dobj:  4.8662057e-02 \n",
      "Iter: 16 Ap: 5.40e-01 Pobj: -3.6546805e+01 Ad: 5.11e-01 Dobj:  4.8787116e-02 \n",
      "Iter: 17 Ap: 3.65e-01 Pobj: -3.3323693e+01 Ad: 4.48e-01 Dobj:  4.8864584e-02 \n",
      "Iter: 18 Ap: 1.71e-01 Pobj: -3.1202835e+01 Ad: 1.93e-01 Dobj:  4.8880887e-02 \n",
      "Iter: 19 Ap: 6.17e-01 Pobj: -2.5478571e+01 Ad: 4.39e-01 Dobj:  4.8928550e-02 \n",
      "Iter: 20 Ap: 3.26e-01 Pobj: -2.4270673e+01 Ad: 4.41e-01 Dobj:  4.8981130e-02 \n",
      "Iter: 21 Ap: 4.78e-01 Pobj: -2.1537838e+01 Ad: 5.54e-01 Dobj:  4.9001286e-02 \n",
      "Iter: 22 Ap: 2.52e-01 Pobj: -1.9578805e+01 Ad: 3.74e-01 Dobj:  4.9016780e-02 \n",
      "Iter: 23 Ap: 6.44e-01 Pobj: -1.3993665e+01 Ad: 6.42e-01 Dobj:  4.9042389e-02 \n",
      "Iter: 24 Ap: 9.59e-01 Pobj: -8.2721640e+00 Ad: 8.00e-01 Dobj:  4.9070013e-02 \n",
      "Iter: 25 Ap: 9.44e-01 Pobj: -3.8966859e+00 Ad: 1.00e+00 Dobj:  4.9079074e-02 \n",
      "Iter: 26 Ap: 9.82e-01 Pobj: -1.9264384e-01 Ad: 1.00e+00 Dobj:  4.9079446e-02 \n",
      "Iter: 27 Ap: 1.00e+00 Pobj:  3.4868306e-02 Ad: 1.00e+00 Dobj:  4.9078400e-02 \n",
      "Iter: 28 Ap: 1.00e+00 Pobj:  4.4711979e-02 Ad: 1.00e+00 Dobj:  4.9053792e-02 \n",
      "Iter: 29 Ap: 1.00e+00 Pobj:  4.6236278e-02 Ad: 7.69e-01 Dobj:  4.8996075e-02 \n",
      "Iter: 30 Ap: 6.74e-01 Pobj:  4.6881816e-02 Ad: 1.00e+00 Dobj:  4.8944591e-02 \n",
      "Iter: 31 Ap: 1.00e+00 Pobj:  4.7394904e-02 Ad: 9.28e-01 Dobj:  4.8889712e-02 \n",
      "Iter: 32 Ap: 8.83e-01 Pobj:  4.7884955e-02 Ad: 7.32e-01 Dobj:  4.8862634e-02 \n",
      "Iter: 33 Ap: 2.31e-01 Pobj:  4.7917571e-02 Ad: 6.45e-01 Dobj:  4.8845126e-02 \n",
      "Iter: 34 Ap: 1.30e-01 Pobj:  4.7928811e-02 Ad: 5.47e-01 Dobj:  4.8836439e-02 \n",
      "Iter: 35 Ap: 3.40e-01 Pobj:  4.7985385e-02 Ad: 1.00e+00 Dobj:  4.8813113e-02 \n",
      "Iter: 36 Ap: 8.52e-01 Pobj:  4.8291336e-02 Ad: 1.00e+00 Dobj:  4.8774437e-02 \n",
      "Iter: 37 Ap: 7.88e-01 Pobj:  4.8402067e-02 Ad: 1.00e+00 Dobj:  4.8745539e-02 \n",
      "Iter: 38 Ap: 1.00e+00 Pobj:  4.8527385e-02 Ad: 1.00e+00 Dobj:  4.8701635e-02 \n",
      "Iter: 39 Ap: 7.19e-01 Pobj:  4.8556737e-02 Ad: 1.00e+00 Dobj:  4.8660933e-02 \n",
      "Iter: 40 Ap: 5.50e-01 Pobj:  4.8572950e-02 Ad: 1.00e+00 Dobj:  4.8661552e-02 \n",
      "Iter: 41 Ap: 8.03e-01 Pobj:  4.8596280e-02 Ad: 1.00e+00 Dobj:  4.8645249e-02 \n",
      "Iter: 42 Ap: 9.79e-01 Pobj:  4.8620755e-02 Ad: 1.00e+00 Dobj:  4.8629596e-02 \n",
      "Iter: 43 Ap: 9.48e-01 Pobj:  4.8634887e-02 Ad: 9.95e-01 Dobj:  4.8615239e-02 \n",
      "Iter: 44 Ap: 3.60e-01 Pobj:  4.8636456e-02 Ad: 1.00e+00 Dobj:  4.8611779e-02 \n",
      "Iter: 45 Ap: 1.00e+00 Pobj:  4.8641053e-02 Ad: 1.00e+00 Dobj:  4.8609064e-02 \n",
      "Iter: 46 Ap: 1.00e+00 Pobj:  4.8643428e-02 Ad: 1.00e+00 Dobj:  4.8605951e-02 \n",
      "Iter: 47 Ap: 9.60e-02 Pobj:  4.8644647e-02 Ad: 2.45e-01 Dobj:  4.8612185e-02 \n",
      "Iter: 48 Ap: 1.40e-02 Pobj:  4.8644867e-02 Ad: 2.16e-01 Dobj:  4.8617643e-02 \n",
      "Iter: 49 Ap: 2.83e-01 Pobj:  4.8649145e-02 Ad: 3.19e-01 Dobj:  4.8623858e-02 \n",
      "Iter: 50 Ap: 2.14e-01 Pobj:  4.8652159e-02 Ad: 3.08e-01 Dobj:  4.8628908e-02 \n",
      "Iter: 51 Ap: 1.33e-01 Pobj:  4.8653341e-02 Ad: 5.24e-01 Dobj:  4.8635159e-02 \n",
      "Iter: 52 Ap: 1.54e-01 Pobj:  4.8654630e-02 Ad: 5.34e-01 Dobj:  4.8638053e-02 \n",
      "Iter: 53 Ap: 2.96e-01 Pobj:  4.8657325e-02 Ad: 5.22e-01 Dobj:  4.8640161e-02 \n",
      "Iter: 54 Ap: 5.20e-01 Pobj:  4.8660077e-02 Ad: 8.02e-01 Dobj:  4.8641237e-02 \n",
      "Iter: 55 Ap: 1.26e-01 Pobj:  4.8661290e-02 Ad: 2.62e-01 Dobj:  4.8644071e-02 \n",
      "Iter: 56 Ap: 1.87e-01 Pobj:  4.8662678e-02 Ad: 2.24e-01 Dobj:  4.8645802e-02 \n",
      "Iter: 57 Ap: 2.02e-01 Pobj:  4.8663564e-02 Ad: 6.19e-01 Dobj:  4.8649495e-02 \n",
      "Iter: 58 Ap: 6.56e-01 Pobj:  4.8666376e-02 Ad: 7.29e-01 Dobj:  4.8651250e-02 \n",
      "Iter: 59 Ap: 1.89e-01 Pobj:  4.8667283e-02 Ad: 4.00e-01 Dobj:  4.8653757e-02 \n",
      "Iter: 60 Ap: 1.96e-01 Pobj:  4.8668010e-02 Ad: 5.47e-01 Dobj:  4.8655838e-02 \n",
      "Iter: 61 Ap: 2.80e-01 Pobj:  4.8669377e-02 Ad: 4.38e-01 Dobj:  4.8657507e-02 \n",
      "Iter: 62 Ap: 4.51e-01 Pobj:  4.8670699e-02 Ad: 7.11e-01 Dobj:  4.8659513e-02 \n",
      "Iter: 63 Ap: 1.49e-01 Pobj:  4.8671066e-02 Ad: 2.17e-01 Dobj:  4.8660649e-02 \n",
      "Iter: 64 Ap: 3.41e-01 Pobj:  4.8671904e-02 Ad: 6.82e-01 Dobj:  4.8663428e-02 \n",
      "Iter: 65 Ap: 3.78e-01 Pobj:  4.8672607e-02 Ad: 8.02e-01 Dobj:  4.8664743e-02 \n",
      "Iter: 66 Ap: 6.22e-01 Pobj:  4.8673502e-02 Ad: 8.74e-01 Dobj:  4.8665225e-02 \n",
      "Iter: 67 Ap: 2.26e-01 Pobj:  4.8674052e-02 Ad: 2.97e-01 Dobj:  4.8666373e-02 \n",
      "Iter: 68 Ap: 4.50e-01 Pobj:  4.8674642e-02 Ad: 7.06e-01 Dobj:  4.8668379e-02 \n",
      "Iter: 69 Ap: 2.88e-01 Pobj:  4.8675177e-02 Ad: 4.42e-01 Dobj:  4.8669728e-02 \n",
      "Iter: 70 Ap: 4.25e-01 Pobj:  4.8675629e-02 Ad: 6.24e-01 Dobj:  4.8670777e-02 \n",
      "Iter: 71 Ap: 4.16e-01 Pobj:  4.8676018e-02 Ad: 6.41e-01 Dobj:  4.8671568e-02 \n",
      "Iter: 72 Ap: 4.02e-01 Pobj:  4.8676409e-02 Ad: 6.07e-01 Dobj:  4.8672352e-02 \n",
      "Iter: 73 Ap: 1.88e-01 Pobj:  4.8676600e-02 Ad: 4.55e-01 Dobj:  4.8673269e-02 \n",
      "Iter: 74 Ap: 2.73e-01 Pobj:  4.8676800e-02 Ad: 3.59e-01 Dobj:  4.8673654e-02 \n",
      "Iter: 75 Ap: 3.71e-01 Pobj:  4.8677020e-02 Ad: 5.82e-01 Dobj:  4.8674084e-02 \n",
      "Iter: 76 Ap: 1.75e-01 Pobj:  4.8677149e-02 Ad: 5.56e-01 Dobj:  4.8674897e-02 \n",
      "Iter: 77 Ap: 3.95e-01 Pobj:  4.8677392e-02 Ad: 4.85e-01 Dobj:  4.8675174e-02 \n",
      "Iter: 78 Ap: 6.99e-01 Pobj:  4.8677640e-02 Ad: 8.98e-01 Dobj:  4.8675424e-02 \n",
      "Iter: 79 Ap: 6.59e-02 Pobj:  4.8677678e-02 Ad: 3.27e-01 Dobj:  4.8675899e-02 \n",
      "Iter: 80 Ap: 2.79e-01 Pobj:  4.8677786e-02 Ad: 3.79e-01 Dobj:  4.8676265e-02 \n",
      "Iter: 81 Ap: 4.50e-01 Pobj:  4.8677915e-02 Ad: 6.91e-01 Dobj:  4.8676770e-02 \n",
      "Iter: 82 Ap: 1.88e-01 Pobj:  4.8677967e-02 Ad: 5.78e-01 Dobj:  4.8677145e-02 \n",
      "Iter: 83 Ap: 8.57e-02 Pobj:  4.8677985e-02 Ad: 4.31e-01 Dobj:  4.8677320e-02 \n",
      "Iter: 84 Ap: 1.40e-01 Pobj:  4.8678009e-02 Ad: 4.53e-01 Dobj:  4.8677427e-02 \n",
      "Iter: 85 Ap: 3.78e-01 Pobj:  4.8678064e-02 Ad: 6.94e-01 Dobj:  4.8677554e-02 \n",
      "Iter: 86 Ap: 2.62e-01 Pobj:  4.8678095e-02 Ad: 4.58e-01 Dobj:  4.8677674e-02 \n",
      "Iter: 87 Ap: 6.81e-01 Pobj:  4.8678146e-02 Ad: 8.14e-01 Dobj:  4.8677839e-02 \n",
      "Iter: 88 Ap: 5.49e-01 Pobj:  4.8678168e-02 Ad: 8.41e-01 Dobj:  4.8678002e-02 \n",
      "Iter: 89 Ap: 4.55e-01 Pobj:  4.8678182e-02 Ad: 3.49e-01 Dobj:  4.8678032e-02 \n",
      "Iter: 90 Ap: 7.86e-02 Pobj:  4.8678183e-02 Ad: 5.87e-01 Dobj:  4.8678100e-02 \n",
      "Iter: 91 Ap: 3.20e-01 Pobj:  4.8678190e-02 Ad: 7.75e-01 Dobj:  4.8678136e-02 \n",
      "Iter: 92 Ap: 4.57e-01 Pobj:  4.8678198e-02 Ad: 6.57e-01 Dobj:  4.8678158e-02 \n",
      "Iter: 93 Ap: 5.55e-01 Pobj:  4.8678204e-02 Ad: 4.73e-01 Dobj:  4.8678176e-02 \n",
      "Iter: 94 Ap: 2.93e-01 Pobj:  4.8678206e-02 Ad: 6.76e-01 Dobj:  4.8678191e-02 \n",
      "Iter: 95 Ap: 3.81e-01 Pobj:  4.8678210e-02 Ad: 2.40e-01 Dobj:  4.8678194e-02 \n",
      "Success: SDP solved\n",
      "Primal objective value: 4.8678210e-02 \n",
      "Dual objective value: 4.8678194e-02 \n",
      "Relative primal infeasibility: 1.58e-09 \n",
      "Relative dual infeasibility: 4.23e-11 \n",
      "Real Relative Gap: -1.50e-08 \n",
      "XZ Relative Gap: 8.87e-09 \n",
      "DIMACS error measures: 1.90e-09 0.00e+00 1.83e-10 0.00e+00 -1.50e-08 8.87e-09\n",
      "The initial run didn't provide an accurate construction\n",
      "Rounding X matrices\n"
     ]
    },
    {
     "name": "stderr",
     "output_type": "stream",
     "text": [
      "100%|███████████████████████████████████████████| 23/23 [00:05<00:00,  4.08it/s]\n"
     ]
    },
    {
     "name": "stdout",
     "output_type": "stream",
     "text": [
      "Calculating resulting bound\n"
     ]
    },
    {
     "name": "stderr",
     "output_type": "stream",
     "text": [
      "100%|███████████████████████████████████████████| 12/12 [03:02<00:00, 15.20s/it]\n"
     ]
    },
    {
     "name": "stdout",
     "output_type": "stream",
     "text": [
      "The rounded result is 803712917869/16515072000000\n",
      "The max-cut ratio returned by Proposition 3.2 is at least 803712917869/4141000097792 ~= 0.194086669618178\n"
     ]
    }
   ],
   "source": [
    "### This code that minimizes the max-cut ratio K222 (Proposition 3.2)\n",
    "\n",
    "# beta_{3, 2} constant\n",
    "b32 = 1/4 - 1/100000\n",
    "edge = TGp(3, edges=[[0, 1, 2]])\n",
    "\n",
    "# First the typed f222 is constructed\n",
    "f222 = TGp.pattern(6, ftype=[0, 1, 2], \n",
    "                   edges=[[0, 1, 2], [3, 4, 5], [0, 1, 5], [0, 2, 4], [1, 2, 3]])\n",
    "# Then k222 is the projection of f222, this takes care of the automorphisms\n",
    "k222 = f222.project()\n",
    "\n",
    "gamma = TGp.optimize(k222, 7, maximize=False, positives=[edge - b32], exact=True, \n",
    "                     file=\"certificates/proposition_3_2\", \n",
    "                     denom=1024*1024\n",
    "                    )\n",
    "a32 = gamma / a31\n",
    "\n",
    "print(\"The max-cut ratio returned by Proposition 3.2 is at least {} ~= {}\".format(a32, a32.n()))"
   ]
  },
  {
   "cell_type": "code",
   "execution_count": 4,
   "id": "6a535c13-08a2-4a08-bcd0-ee43c2c4b586",
   "metadata": {
    "scrolled": true
   },
   "outputs": [
    {
     "name": "stderr",
     "output_type": "stream",
     "text": [
      "100%|███████████████████████████████████████████| 28/28 [00:05<00:00,  5.32it/s]\n"
     ]
    },
    {
     "name": "stdout",
     "output_type": "stream",
     "text": [
      "Base flags generated, their number is 2840\n",
      "The relevant ftypes are constructed, their number is 20\n",
      "Block sizes before symmetric/asymmetric change is applied: [35, 57, 82, 123, 123, 123, 40, 60, 60, 60, 60, 60, 20, 30, 30, 30, 30, 30, 30, 30]\n"
     ]
    },
    {
     "name": "stderr",
     "output_type": "stream",
     "text": [
      "Done with mult table for Ftype on 4 points with edges=(023 123), part=(01 02 03 12 13): : 20it [00:33,  1.69s/it]\n"
     ]
    },
    {
     "name": "stdout",
     "output_type": "stream",
     "text": [
      "Tables finished\n"
     ]
    },
    {
     "name": "stderr",
     "output_type": "stream",
     "text": [
      "Done with positivity constraint 1: 100%|██████████| 2/2 [00:03<00:00,  1.73s/it]\n"
     ]
    },
    {
     "name": "stdout",
     "output_type": "stream",
     "text": [
      "Constraints finished\n",
      "Adjusting table with kernels from construction\n",
      "Running SDP after kernel correction. Used block sizes are [25, 9, 31, 25, 13, 68, 35, 87, 30, 92, 43, 80, 14, 26, 21, 39, 39, 21, 39, 21, 39, 21, 33, 27, 12, 8, 24, 6, 21, 9, 17, 13, 18, 12, 30, 13, 16, 13, 17, -2840, -50]\n",
      "CSDP 6.2.0\n",
      "Iter:  0 Ap: 0.00e+00 Pobj:  0.0000000e+00 Ad: 0.00e+00 Dobj:  0.0000000e+00 \n",
      "Iter:  1 Ap: 4.41e-01 Pobj: -3.9895789e+01 Ad: 1.16e-01 Dobj:  4.5719742e+01 \n",
      "Iter:  2 Ap: 1.00e+00 Pobj: -1.0719776e+02 Ad: 6.25e-01 Dobj:  1.4679987e+01 \n",
      "Iter:  3 Ap: 1.00e+00 Pobj: -1.1608157e+02 Ad: 8.52e-01 Dobj:  2.7100173e+00 \n",
      "Iter:  4 Ap: 1.00e+00 Pobj: -1.2393501e+02 Ad: 9.21e-01 Dobj:  2.6252576e-01 \n",
      "Iter:  5 Ap: 1.00e+00 Pobj: -1.4098019e+02 Ad: 8.02e-01 Dobj:  3.9129400e-02 \n",
      "Iter:  6 Ap: 1.00e+00 Pobj: -1.3656473e+02 Ad: 5.91e-01 Dobj:  2.9255968e-02 \n",
      "Iter:  7 Ap: 7.95e-01 Pobj: -1.2989554e+02 Ad: 6.74e-01 Dobj:  9.0322879e-03 \n",
      "Iter:  8 Ap: 7.38e-01 Pobj: -1.2819928e+02 Ad: 6.47e-01 Dobj:  7.4126591e-03 \n",
      "Iter:  9 Ap: 6.23e-01 Pobj: -1.2523676e+02 Ad: 5.12e-01 Dobj:  7.6626038e-03 \n",
      "Iter: 10 Ap: 8.23e-01 Pobj: -1.2769266e+02 Ad: 4.91e-01 Dobj:  9.0262627e-03 \n",
      "Iter: 11 Ap: 5.02e-01 Pobj: -1.3334553e+02 Ad: 5.55e-01 Dobj:  9.4572371e-03 \n",
      "Iter: 12 Ap: 6.83e-01 Pobj: -1.2406341e+02 Ad: 4.86e-01 Dobj:  1.1419581e-02 \n",
      "Iter: 13 Ap: 4.74e-01 Pobj: -1.2260542e+02 Ad: 6.06e-01 Dobj:  1.2710316e-02 \n",
      "Iter: 14 Ap: 5.46e-01 Pobj: -1.1097353e+02 Ad: 4.30e-01 Dobj:  1.3651848e-02 \n",
      "Iter: 15 Ap: 4.71e-01 Pobj: -1.0637047e+02 Ad: 5.24e-01 Dobj:  1.4317818e-02 \n",
      "Iter: 16 Ap: 3.99e-01 Pobj: -9.9212903e+01 Ad: 5.08e-01 Dobj:  1.4985127e-02 \n",
      "Iter: 17 Ap: 4.31e-01 Pobj: -8.9388798e+01 Ad: 4.51e-01 Dobj:  1.5262397e-02 \n",
      "Iter: 18 Ap: 4.00e-01 Pobj: -8.0858650e+01 Ad: 5.25e-01 Dobj:  1.5489357e-02 \n",
      "Iter: 19 Ap: 5.45e-01 Pobj: -6.5613990e+01 Ad: 5.14e-01 Dobj:  1.5522167e-02 \n",
      "Iter: 20 Ap: 4.68e-01 Pobj: -5.3176493e+01 Ad: 6.56e-01 Dobj:  1.5505791e-02 \n",
      "Iter: 21 Ap: 8.02e-01 Pobj: -2.9810220e+01 Ad: 6.88e-01 Dobj:  1.5483304e-02 \n",
      "Iter: 22 Ap: 9.12e-01 Pobj: -1.2919551e+01 Ad: 1.00e+00 Dobj:  1.5434481e-02 \n",
      "Iter: 23 Ap: 9.80e-01 Pobj: -8.9846189e-01 Ad: 1.00e+00 Dobj:  1.5420286e-02 \n",
      "Iter: 24 Ap: 1.00e+00 Pobj: -9.8582247e-02 Ad: 1.00e+00 Dobj:  1.5241013e-02 \n",
      "Iter: 25 Ap: 1.00e+00 Pobj: -4.5826806e-02 Ad: 9.00e-01 Dobj:  1.4003049e-02 \n",
      "Iter: 26 Ap: 2.60e-01 Pobj: -4.1902216e-02 Ad: 1.00e+00 Dobj:  1.3043650e-02 \n",
      "Iter: 27 Ap: 1.00e+00 Pobj: -2.0731433e-02 Ad: 9.66e-01 Dobj:  1.1925336e-02 \n",
      "Iter: 28 Ap: 2.20e-01 Pobj: -1.8616898e-02 Ad: 9.68e-01 Dobj:  1.0699923e-02 \n",
      "Iter: 29 Ap: 4.68e-01 Pobj: -1.4736341e-02 Ad: 6.90e-01 Dobj:  9.7530545e-03 \n",
      "Iter: 30 Ap: 6.22e-01 Pobj: -1.0877849e-02 Ad: 3.63e-01 Dobj:  9.4190072e-03 \n",
      "Iter: 31 Ap: 9.03e-01 Pobj: -6.6644549e-03 Ad: 1.00e+00 Dobj:  7.3172725e-03 \n",
      "Iter: 32 Ap: 1.00e+00 Pobj: -2.9765342e-03 Ad: 8.39e-01 Dobj:  5.3309771e-03 \n",
      "Iter: 33 Ap: 6.12e-01 Pobj: -2.2527916e-03 Ad: 1.00e+00 Dobj:  2.8733106e-03 \n",
      "Iter: 34 Ap: 2.69e-01 Pobj: -1.9275906e-03 Ad: 1.00e+00 Dobj:  2.7716048e-03 \n",
      "Iter: 35 Ap: 9.43e-01 Pobj: -6.7113863e-04 Ad: 1.00e+00 Dobj:  1.6879432e-03 \n",
      "Iter: 36 Ap: 8.47e-01 Pobj: -2.5306426e-04 Ad: 1.00e+00 Dobj:  9.0645445e-04 \n",
      "Iter: 37 Ap: 1.00e+00 Pobj: -6.8427441e-05 Ad: 1.00e+00 Dobj:  5.1991065e-04 \n",
      "Iter: 38 Ap: 7.39e-01 Pobj: -3.8637913e-05 Ad: 1.00e+00 Dobj:  2.6008779e-04 \n",
      "Iter: 39 Ap: 9.04e-01 Pobj: -1.7003264e-05 Ad: 1.00e+00 Dobj:  1.2911812e-04 \n",
      "Iter: 40 Ap: 9.03e-01 Pobj: -9.8740378e-06 Ad: 1.00e+00 Dobj:  7.2789434e-05 \n",
      "Iter: 41 Ap: 9.00e-01 Pobj: -5.4308861e-06 Ad: 1.00e+00 Dobj:  2.8055620e-05 \n",
      "Iter: 42 Ap: 8.19e-01 Pobj: -3.5277882e-06 Ad: 1.00e+00 Dobj:  1.0615826e-05 \n",
      "Iter: 43 Ap: 7.83e-01 Pobj: -2.4228181e-06 Ad: 1.00e+00 Dobj:  2.1780312e-06 \n",
      "Iter: 44 Ap: 8.25e-01 Pobj: -1.5704411e-06 Ad: 1.00e+00 Dobj: -4.2829705e-06 \n",
      "Iter: 45 Ap: 9.47e-01 Pobj: -1.0127713e-06 Ad: 1.00e+00 Dobj: -7.6905378e-06 \n",
      "Iter: 46 Ap: 1.00e+00 Pobj: -6.1763561e-07 Ad: 1.00e+00 Dobj: -1.0584292e-05 \n",
      "Iter: 47 Ap: 1.00e+00 Pobj: -3.2616654e-07 Ad: 1.00e+00 Dobj: -1.2828610e-05 \n",
      "Iter: 48 Ap: 1.00e+00 Pobj: -1.3500726e-07 Ad: 1.00e+00 Dobj: -5.9824892e-06 \n",
      "Iter: 49 Ap: 1.00e+00 Pobj: -4.1784896e-08 Ad: 8.90e-01 Dobj: -1.7574947e-06 \n",
      "Iter: 50 Ap: 1.00e+00 Pobj: -1.0281783e-08 Ad: 9.95e-01 Dobj: -2.5696885e-07 \n",
      "Iter: 51 Ap: 1.00e+00 Pobj: -1.1757442e-09 Ad: 7.12e-01 Dobj: -8.4661600e-08 \n",
      "Iter: 52 Ap: 1.00e+00 Pobj: -8.9099168e-10 Ad: 4.15e-01 Dobj: -4.9189431e-08 \n",
      "Iter: 53 Ap: 1.54e-01 Pobj: -8.9610239e-10 Ad: 4.45e-01 Dobj: -2.6283075e-08 \n",
      "Iter: 54 Ap: 6.28e-01 Pobj: -3.4045115e-10 Ad: 7.91e-01 Dobj: -5.9002560e-09 \n",
      "Success: SDP solved\n",
      "Primal objective value: -3.4045115e-10 \n",
      "Dual objective value: -5.9002560e-09 \n",
      "Relative primal infeasibility: 7.50e-10 \n",
      "Relative dual infeasibility: 3.15e-10 \n",
      "Real Relative Gap: -5.56e-09 \n",
      "XZ Relative Gap: 4.77e-09 \n",
      "DIMACS error measures: 4.43e-09 0.00e+00 1.55e-09 0.00e+00 -5.56e-09 4.77e-09\n",
      "Starting the rounding of the result\n",
      "Flattening X matrices\n",
      "This took 8.497759103775024s\n",
      "Correcting flat X matrices\n",
      "Dimensions:  (26, 21062)\n",
      "This took 0.027185678482055664s\n",
      "Unflattening X matrices\n",
      "This took 0.0003731250762939453s\n",
      "Calculating resulting bound\n"
     ]
    },
    {
     "name": "stderr",
     "output_type": "stream",
     "text": [
      "100%|███████████████████████████████████████████| 20/20 [02:58<00:00,  8.91s/it]\n"
     ]
    },
    {
     "name": "stdout",
     "output_type": "stream",
     "text": [
      "This took 178.2396514415741s\n",
      "Final rounded bound is 0\n"
     ]
    },
    {
     "data": {
      "text/plain": [
       "0"
      ]
     },
     "execution_count": 4,
     "metadata": {},
     "output_type": "execute_result"
    }
   ],
   "source": [
    "### This is the code that performs the calculations on the theory with three partition (Proposition 3.3)\n",
    "\n",
    "# edge with (C)orrect partition\n",
    "C = CTGp(3, edges=[[0, 1, 2]], part=[[0, 1], [0, 2], [1, 2]])\n",
    "# edge with (C)orrect partition (p)ointed\n",
    "Cp = CTGp(3, edges=[[0, 1, 2]], part=[[0, 1], [0, 2], [1, 2]], ftype=[0])\n",
    "\n",
    "# edge with (B)ad partition\n",
    "B = CTGp(3, edges=[[0, 1, 2]], part=[[0, 1], [1, 2]])\n",
    "\n",
    "# edge with (B)ad partition (p)ointed \n",
    "Bp = CTGp(3, edges=[[0, 1, 2]], part=[[0, 1], [1, 2]], ftype=[0])\n",
    "\n",
    "# (M)issing edge with good partition\n",
    "M = CTGp(3, edges=[], part=[[0, 1], [0, 2], [1, 2]])\n",
    "\n",
    "# positivity assumptions:\n",
    "# each point, good edges are more than bad edges \n",
    "# (divided by two due to the symmetry between the parts)\n",
    "# edge density is larger than b33 (which is smaller than a32)\n",
    "b33 = 19/100\n",
    "assums = [Cp - Bp/2, C - b33]\n",
    "\n",
    "# optimal construction and its derivatives\n",
    "symbolic_constr = CTGp.blowup_construction(6, 3, edges=[[0, 1, 2]], \n",
    "                                           part=[[0, 1], [0, 2], [1, 2]], \n",
    "                                           symbolic_parts=True).set_sum()\n",
    "ders = symbolic_constr.derivatives([1/3, 1/3])\n",
    "\n",
    "# bad is less than missing, proven by (B)ad (M)inum (M)issing is at most 0.\n",
    "CTGp.optimize(B - M*(99/100), 6, positives=assums, exact=True, \n",
    "              construction=ders, file=\"certificates/proposition_3_3\", \n",
    "              denom=1024*16\n",
    "             )"
   ]
  },
  {
   "cell_type": "code",
   "execution_count": 2,
   "id": "d8551b3b-27c4-47d8-b877-9a6463e9e5df",
   "metadata": {},
   "outputs": [],
   "source": [
    "### Theory for 3-colored 2-graphs, the colors are not interchangeable here\n",
    "Asymm3ColorTheory = combine(\"Asymm3Colors\", Color0, Color1, Color2, \n",
    "                            symmetries=NoSymmetry)\n",
    "# Again, force the colors to be disjoint\n",
    "Asymm3ColorTheory.exclude([\n",
    "    Asymm3ColorTheory(1), \n",
    "    Asymm3ColorTheory(1, C0=[0], C1=[0]), \n",
    "    Asymm3ColorTheory(1, C0=[0], C2=[0]), \n",
    "    Asymm3ColorTheory(1, C1=[0], C2=[0]),\n",
    "    Asymm3ColorTheory(1, C0=[0], C1=[0], C2=[0])\n",
    "])\n",
    "ColoredLinkGraphTheory = combine(\"ColoredLinkGraph\", GraphTheory, Asymm3ColorTheory)\n",
    "CLGT = ColoredLinkGraphTheory\n",
    "# These non-induced patterns guarantee the theory \n",
    "# represents a 3 colored c5m-free 3-graph's link.\n",
    "CLGT.exclude([\n",
    "    CLGT.pattern(4, edges=[[0, 1], [2, 3]], C0=[0], C1=[1, 2], C2=[3]),\n",
    "    CLGT.pattern(4, edges=[[0, 1], [2, 3]], C0=[1, 2], C1=[0], C2=[3]),\n",
    "    CLGT.pattern(4, edges=[[0, 1], [2, 3]], C0=[0], C1=[3], C2=[1, 2]),\n",
    "    \n",
    "    CLGT.pattern(3, edges=[[0, 1], [1, 2]], C0=[0], C1=[1], C2=[2]),\n",
    "    CLGT.pattern(3, edges=[[0, 1], [1, 2]], C0=[1], C1=[0], C2=[2]),\n",
    "    CLGT.pattern(3, edges=[[0, 1], [1, 2]], C0=[0], C1=[2], C2=[1]),\n",
    "\n",
    "    CLGT.pattern(3, edges=[[0, 1], [1, 2]], C0=[0, 1], C1=[2], C2=[]),\n",
    "    CLGT.pattern(3, edges=[[0, 1], [1, 2]], C0=[0, 1], C1=[], C2=[2]),\n",
    "    CLGT.pattern(3, edges=[[0, 1], [1, 2]], C0=[2], C1=[0, 1], C2=[]),\n",
    "    CLGT.pattern(3, edges=[[0, 1], [1, 2]], C0=[], C1=[0, 1], C2=[2]),\n",
    "    CLGT.pattern(3, edges=[[0, 1], [1, 2]], C0=[2], C1=[], C2=[0, 1]),\n",
    "    CLGT.pattern(3, edges=[[0, 1], [1, 2]], C0=[], C1=[2], C2=[0, 1])\n",
    "])"
   ]
  },
  {
   "cell_type": "code",
   "execution_count": 4,
   "id": "2e66d510-67ed-4ca6-b91c-8924cc4dad1e",
   "metadata": {},
   "outputs": [
    {
     "name": "stdout",
     "output_type": "stream",
     "text": [
      "Base flags generated, their number is 450\n",
      "The relevant ftypes are constructed, their number is 43\n",
      "Block sizes before symmetric/asymmetric change is applied: [28, 28, 28, 24, 15, 15, 24, 15, 12, 15, 15, 15, 24, 12, 8, 9, 9, 8, 12, 8, 9, 6, 6, 6, 8, 9, 9, 8, 9, 8, 12, 10, 7, 7, 10, 7, 7, 7, 7, 10, 10, 10, 10]\n"
     ]
    },
    {
     "name": "stderr",
     "output_type": "stream",
     "text": [
      "Done with mult table for Ftype on 3 points with edges=(01 02 12), C0=(0 1 2), C1=(), C2=(): : 43it [00:00, 611.16it/s]\n"
     ]
    },
    {
     "name": "stdout",
     "output_type": "stream",
     "text": [
      "Tables finished\n"
     ]
    },
    {
     "name": "stderr",
     "output_type": "stream",
     "text": [
      "Done with positivity constraint 5: 100%|██████████| 6/6 [00:00<00:00, 52.70it/s]\n"
     ]
    },
    {
     "name": "stdout",
     "output_type": "stream",
     "text": [
      "Constraints finished\n",
      "Running sdp without construction. Used block sizes are [28, 28, 28, 12, 12, 12, 3, 12, 3, 12, 12, 12, 3, 12, 12, 3, 12, 3, 12, 3, 12, 12, 10, 2, 8, 8, 1, 8, 1, 8, 10, 2, 8, 8, 1, 6, 6, 6, 8, 8, 1, 8, 1, 8, 8, 1, 8, 10, 2, 8, 2, 6, 1, 6, 1, 8, 2, 6, 1, 6, 1, 6, 1, 6, 1, 8, 2, 6, 4, 6, 4, 6, 4, -450, -527]\n",
      "CSDP 6.2.0\n",
      "Iter:  0 Ap: 0.00e+00 Pobj:  0.0000000e+00 Ad: 0.00e+00 Dobj:  0.0000000e+00 \n",
      "Iter:  1 Ap: 1.00e+00 Pobj: -4.9906764e+01 Ad: 7.03e-01 Dobj:  7.4146685e+00 \n",
      "Iter:  2 Ap: 1.00e+00 Pobj: -5.1780504e+01 Ad: 9.53e-01 Dobj: -1.1714095e-01 \n",
      "Iter:  3 Ap: 1.00e+00 Pobj: -5.2767607e+01 Ad: 9.47e-01 Dobj: -7.8374277e-02 \n",
      "Iter:  4 Ap: 8.94e-01 Pobj: -4.5872238e+01 Ad: 8.45e-01 Dobj: -5.1154652e-02 \n",
      "Iter:  5 Ap: 8.95e-01 Pobj: -2.6494749e+01 Ad: 5.30e-01 Dobj: -1.0898197e-02 \n",
      "Iter:  6 Ap: 3.04e-01 Pobj: -2.4536581e+01 Ad: 4.83e-01 Dobj:  2.0338302e-02 \n",
      "Iter:  7 Ap: 9.58e-01 Pobj: -1.3968865e+01 Ad: 5.79e-01 Dobj:  4.4065676e-02 \n",
      "Iter:  8 Ap: 1.00e+00 Pobj: -7.4991889e+00 Ad: 7.92e-01 Dobj:  5.9839758e-02 \n",
      "Iter:  9 Ap: 8.86e-01 Pobj: -3.6396430e+00 Ad: 8.05e-01 Dobj:  6.2965520e-02 \n",
      "Iter: 10 Ap: 9.63e-01 Pobj: -1.4318645e+00 Ad: 8.29e-01 Dobj:  6.3620361e-02 \n",
      "Iter: 11 Ap: 4.13e-01 Pobj: -1.0458785e+00 Ad: 6.43e-01 Dobj:  6.2312655e-02 \n",
      "Iter: 12 Ap: 1.00e+00 Pobj: -2.0352687e-01 Ad: 7.71e-01 Dobj:  5.9443188e-02 \n",
      "Iter: 13 Ap: 1.00e+00 Pobj: -4.4078511e-02 Ad: 9.19e-01 Dobj:  4.2817755e-02 \n",
      "Iter: 14 Ap: 1.00e+00 Pobj: -2.7921811e-02 Ad: 1.00e+00 Dobj:  1.2942932e-02 \n",
      "Iter: 15 Ap: 1.00e+00 Pobj: -4.3000862e-03 Ad: 1.00e+00 Dobj:  4.4816907e-03 \n",
      "Iter: 16 Ap: 1.00e+00 Pobj: -8.7274404e-04 Ad: 9.75e-01 Dobj:  1.3135348e-03 \n",
      "Iter: 17 Ap: 1.00e+00 Pobj: -2.1281859e-04 Ad: 1.00e+00 Dobj:  2.9234586e-04 \n",
      "Iter: 18 Ap: 9.83e-01 Pobj: -1.0027822e-04 Ad: 1.00e+00 Dobj:  1.3206144e-04 \n",
      "Iter: 19 Ap: 1.00e+00 Pobj: -3.3793938e-05 Ad: 1.00e+00 Dobj:  3.2780504e-05 \n",
      "Iter: 20 Ap: 8.95e-01 Pobj: -1.2817354e-05 Ad: 1.00e+00 Dobj:  3.6078346e-06 \n",
      "Iter: 21 Ap: 4.27e-01 Pobj: -1.0019210e-05 Ad: 1.00e+00 Dobj:  9.9816526e-07 \n",
      "Iter: 22 Ap: 9.42e-01 Pobj: -4.8898473e-06 Ad: 1.00e+00 Dobj: -1.5390784e-06 \n",
      "Iter: 23 Ap: 1.00e+00 Pobj: -2.5150285e-06 Ad: 1.00e+00 Dobj: -3.8834100e-06 \n",
      "Iter: 24 Ap: 1.00e+00 Pobj: -9.9749120e-07 Ad: 1.00e+00 Dobj: -5.1513274e-06 \n",
      "Iter: 25 Ap: 1.00e+00 Pobj: -3.3198541e-07 Ad: 1.00e+00 Dobj: -1.3841181e-06 \n",
      "Iter: 26 Ap: 1.00e+00 Pobj: -4.3826318e-08 Ad: 1.00e+00 Dobj: -2.0921713e-07 \n",
      "Iter: 27 Ap: 1.00e+00 Pobj: -3.4015252e-09 Ad: 9.53e-01 Dobj: -1.8418605e-08 \n",
      "Iter: 28 Ap: 9.57e-01 Pobj: -1.4583385e-10 Ad: 9.46e-01 Dobj: -1.3115934e-09 \n",
      "Success: SDP solved\n",
      "Primal objective value: -1.4583385e-10 \n",
      "Dual objective value: -1.3115934e-09 \n",
      "Relative primal infeasibility: 1.76e-13 \n",
      "Relative dual infeasibility: 1.52e-10 \n",
      "Real Relative Gap: -1.17e-09 \n",
      "XZ Relative Gap: 8.75e-10 \n",
      "DIMACS error measures: 6.36e-13 0.00e+00 1.06e-09 0.00e+00 -1.17e-09 8.75e-10\n",
      "The initial run didn't provide an accurate construction\n",
      "Rounding X matrices\n"
     ]
    },
    {
     "name": "stderr",
     "output_type": "stream",
     "text": [
      "100%|██████████████████████████████████████████| 73/73 [00:00<00:00, 982.08it/s]\n"
     ]
    },
    {
     "name": "stdout",
     "output_type": "stream",
     "text": [
      "Calculating resulting bound\n"
     ]
    },
    {
     "name": "stderr",
     "output_type": "stream",
     "text": [
      "100%|███████████████████████████████████████████| 43/43 [00:02<00:00, 15.81it/s]"
     ]
    },
    {
     "name": "stdout",
     "output_type": "stream",
     "text": [
      "The rounded result is 0\n"
     ]
    },
    {
     "name": "stderr",
     "output_type": "stream",
     "text": [
      "\n"
     ]
    },
    {
     "data": {
      "text/plain": [
       "0"
      ]
     },
     "execution_count": 4,
     "metadata": {},
     "output_type": "execute_result"
    }
   ],
   "source": [
    "### Vertex stability part (Proposition 3.4)\n",
    "\n",
    "edge_00 = CLGT(2, edges=[[0, 1]], C0=[0, 1], C1=[], C2=[])\n",
    "edge_11 = CLGT(2, edges=[[0, 1]], C0=[], C1=[0, 1], C2=[])\n",
    "edge_22 = CLGT(2, edges=[[0, 1]], C0=[], C1=[], C2=[0, 1])\n",
    "edge_01 = CLGT(2, edges=[[0, 1]], C0=[0], C1=[1], C2=[])\n",
    "edge_12 = CLGT(2, edges=[[0, 1]], C0=[], C1=[0], C2=[1])\n",
    "edge_02 = CLGT(2, edges=[[0, 1]], C0=[0], C1=[], C2=[1])\n",
    "\n",
    "point0 = CLGT(1, C0 = [0])\n",
    "point1 = CLGT(1, C1 = [0])\n",
    "point2 = CLGT(1, C2 = [0])\n",
    "\n",
    "positives = [\n",
    "    edge_12 - edge_01, \n",
    "    edge_12 - edge_02,\n",
    "    edge_01 + edge_02 + edge_12 - 1/8,\n",
    "    point0 - 1/4, \n",
    "    point1 - 1/4, \n",
    "    point2 - 1/4\n",
    "]\n",
    "\n",
    "# (M)issing edge with good colors\n",
    "M = CLGT(2, edges=[], C0=[], C1=[0], C2=[1]) \n",
    "\n",
    "# edges with (B)ad colors \n",
    "B = sum([\n",
    "    CLGT(2, edges=[[0, 1]], C0=[0], C1=[1], C2=[]),\n",
    "    CLGT(2, edges=[[0, 1]], C0=[0], C1=[], C2=[1]),\n",
    "    CLGT(2, edges=[[0, 1]], C0=[], C1=[0, 1], C2=[]),\n",
    "    CLGT(2, edges=[[0, 1]], C0=[], C1=[], C2=[0, 1])\n",
    "])\n",
    "\n",
    "CLGT.optimize(B - M*9/10, 5, positives = positives, exact=True, \n",
    "              file=\"certificates/proposition_3_4\", kernel_threshold=0)"
   ]
  },
  {
   "cell_type": "markdown",
   "id": "a5f95df4-8392-4a73-aa95-10aff1f634c3",
   "metadata": {},
   "source": [
    "Verify the certificates produced\n",
    "===============================\n",
    "\n",
    "Can be run without running the above cells. Note however that the \n",
    "initial call to these cells might take longer, due to the calculation of\n",
    "the multiplication tables. Once that is complete and stored, these cells \n",
    "verify the results fairly quickly."
   ]
  },
  {
   "cell_type": "code",
   "execution_count": 7,
   "id": "8c7ee2ee-d6c9-4850-a7b6-2d21d37cadc1",
   "metadata": {},
   "outputs": [
    {
     "name": "stdout",
     "output_type": "stream",
     "text": [
      "Checking X matrices\n"
     ]
    },
    {
     "name": "stderr",
     "output_type": "stream",
     "text": [
      "12it [02:24, 12.03s/it]\n"
     ]
    },
    {
     "name": "stdout",
     "output_type": "stream",
     "text": [
      "Solution matrices are all positive semidefinite, linear coefficients are all non-negative\n",
      "Calculating multiplication tables\n"
     ]
    },
    {
     "name": "stderr",
     "output_type": "stream",
     "text": [
      "12it [00:01,  7.58it/s]\n"
     ]
    },
    {
     "name": "stdout",
     "output_type": "stream",
     "text": [
      "Done calculating linear constraints\n",
      "Calculating the bound provided by the certificate\n"
     ]
    },
    {
     "name": "stderr",
     "output_type": "stream",
     "text": [
      "12it [03:02, 15.23s/it]\n"
     ]
    },
    {
     "name": "stdout",
     "output_type": "stream",
     "text": [
      "The solution is valid, it proves the bound 63186647/252000000\n"
     ]
    },
    {
     "data": {
      "text/plain": [
       "63186647/252000000"
      ]
     },
     "execution_count": 7,
     "metadata": {},
     "output_type": "execute_result"
    }
   ],
   "source": [
    "### Verify Proposition 3.1\n",
    "\n",
    "k4m = ThreeGraphTheory.pattern(4, edges=[[0, 1, 2], [0, 1, 3], [0, 2, 3]])\n",
    "c5m = ThreeGraphTheory.pattern(5, edges=[[0, 1, 2], [1, 2, 3], [2, 3, 4], [3, 4, 0]])\n",
    "ThreeGraphTheory.exclude([k4m, c5m])\n",
    "TGp = ThreeGraphTheory\n",
    "TGp.verify(\"certificates/proposition_3_1\", TGp(3, edges=[[0, 1, 2]]), 7)"
   ]
  },
  {
   "cell_type": "code",
   "execution_count": 8,
   "id": "a8f7e074-34b4-4ea5-9b45-9d0c7e99a005",
   "metadata": {},
   "outputs": [
    {
     "name": "stdout",
     "output_type": "stream",
     "text": [
      "Checking X matrices\n"
     ]
    },
    {
     "name": "stderr",
     "output_type": "stream",
     "text": [
      "12it [02:01, 10.09s/it]\n"
     ]
    },
    {
     "name": "stdout",
     "output_type": "stream",
     "text": [
      "Solution matrices are all positive semidefinite, linear coefficients are all non-negative\n",
      "Calculating multiplication tables\n"
     ]
    },
    {
     "name": "stderr",
     "output_type": "stream",
     "text": [
      "12it [00:01,  7.70it/s]\n"
     ]
    },
    {
     "name": "stdout",
     "output_type": "stream",
     "text": [
      "Done with positivity constraint 0\n",
      "Done calculating linear constraints\n",
      "Calculating the bound provided by the certificate\n"
     ]
    },
    {
     "name": "stderr",
     "output_type": "stream",
     "text": [
      "12it [03:14, 16.19s/it]\n"
     ]
    },
    {
     "name": "stdout",
     "output_type": "stream",
     "text": [
      "The solution is valid, it proves the bound 803712917869/16515072000000\n"
     ]
    },
    {
     "data": {
      "text/plain": [
       "803712917869/16515072000000"
      ]
     },
     "execution_count": 8,
     "metadata": {},
     "output_type": "execute_result"
    }
   ],
   "source": [
    "### Verify Proposition 3.2\n",
    "\n",
    "k4m = ThreeGraphTheory.pattern(4, edges=[[0, 1, 2], [0, 1, 3], [0, 2, 3]])\n",
    "c5m = ThreeGraphTheory.pattern(5, edges=[[0, 1, 2], [1, 2, 3], [2, 3, 4], [3, 4, 0]])\n",
    "ThreeGraphTheory.exclude([k4m, c5m])\n",
    "TGp = ThreeGraphTheory\n",
    "\n",
    "b32 = 1/4 - 1/100000\n",
    "edge = TGp(3, edges=[[0, 1, 2]])\n",
    "f222 = TGp.pattern(6, ftype=[0, 1, 2], edges=[[0, 1, 2], [3, 4, 5], [0, 1, 5], [0, 2, 4], [1, 2, 3]]).afae()\n",
    "k222 = f222.project()\n",
    "\n",
    "TGp.verify(\"certificates/proposition_3_2\", k222, 7, maximize=False, positives=[edge - b32])"
   ]
  },
  {
   "cell_type": "code",
   "execution_count": 9,
   "id": "781a249f-5aa2-4006-b580-3239d94d74d7",
   "metadata": {},
   "outputs": [
    {
     "name": "stdout",
     "output_type": "stream",
     "text": [
      "Checking X matrices\n"
     ]
    },
    {
     "name": "stderr",
     "output_type": "stream",
     "text": [
      "20it [00:04,  4.75it/s]\n"
     ]
    },
    {
     "name": "stdout",
     "output_type": "stream",
     "text": [
      "Solution matrices are all positive semidefinite, linear coefficients are all non-negative\n",
      "Calculating multiplication tables\n"
     ]
    },
    {
     "name": "stderr",
     "output_type": "stream",
     "text": [
      "20it [00:01, 17.51it/s]\n"
     ]
    },
    {
     "name": "stdout",
     "output_type": "stream",
     "text": [
      "Done with positivity constraint 0\n",
      "Done with positivity constraint 1\n",
      "Done calculating linear constraints\n",
      "Calculating the bound provided by the certificate\n"
     ]
    },
    {
     "name": "stderr",
     "output_type": "stream",
     "text": [
      "20it [02:36,  7.82s/it]\n"
     ]
    },
    {
     "name": "stdout",
     "output_type": "stream",
     "text": [
      "The solution is valid, it proves the bound 0\n"
     ]
    },
    {
     "data": {
      "text/plain": [
       "0"
      ]
     },
     "execution_count": 9,
     "metadata": {},
     "output_type": "execute_result"
    }
   ],
   "source": [
    "### Verify Proposition 3.3\n",
    "\n",
    "k4m = ThreeGraphTheory.pattern(4, edges=[[0, 1, 2], [0, 1, 3], [0, 2, 3]])\n",
    "c5m = ThreeGraphTheory.pattern(5, edges=[[0, 1, 2], [1, 2, 3], [2, 3, 4], [3, 4, 0]])\n",
    "ThreeGraphTheory.exclude([k4m, c5m])\n",
    "TGp = ThreeGraphTheory\n",
    "P = Theory(\"3Partition\", relation_name=\"part\", arity=2, is_ordered=False)\n",
    "P.exclude([P(3, part=[[0, 1]]), P(4, part=[[0, 1], [0, 2], [0, 3], [1, 2], [1, 3], [2, 3]])])\n",
    "ThreePartitionedThreeGraphTheory = combine(\"3PartitionNoC5m\", TGp, P)\n",
    "CTGp = ThreePartitionedThreeGraphTheory\n",
    "\n",
    "C = CTGp(3, edges=[[0, 1, 2]], part=[[0, 1], [0, 2], [1, 2]])\n",
    "Cp = CTGp(3, edges=[[0, 1, 2]], part=[[0, 1], [0, 2], [1, 2]], ftype=[0])\n",
    "B = CTGp(3, edges=[[0, 1, 2]], part=[[0, 1], [1, 2]])\n",
    "Bp = CTGp(3, edges=[[0, 1, 2]], part=[[0, 1], [1, 2]], ftype=[0])\n",
    "M = CTGp(3, edges=[], part=[[0, 1], [0, 2], [1, 2]])\n",
    "b33 = 19/100\n",
    "assums = [Cp - Bp/2, C - b33]\n",
    "CTGp.verify(\"certificates/proposition_3_3\", B + (-99/100)*M, 6, positives=assums)"
   ]
  },
  {
   "cell_type": "code",
   "execution_count": 5,
   "id": "54db91a3-66a3-4943-a482-0ad6974e388a",
   "metadata": {},
   "outputs": [
    {
     "name": "stdout",
     "output_type": "stream",
     "text": [
      "Checking X matrices\n"
     ]
    },
    {
     "name": "stderr",
     "output_type": "stream",
     "text": [
      "43it [00:00, 1598.92it/s]\n"
     ]
    },
    {
     "name": "stdout",
     "output_type": "stream",
     "text": [
      "Solution matrices are all positive semidefinite, linear coefficients are all non-negative\n",
      "Calculating multiplication tables\n"
     ]
    },
    {
     "name": "stderr",
     "output_type": "stream",
     "text": [
      "43it [00:00, 455.01it/s]"
     ]
    },
    {
     "name": "stdout",
     "output_type": "stream",
     "text": [
      "Done with positivity constraint 0\n",
      "Done with positivity constraint 1\n",
      "Done with positivity constraint 2\n",
      "Done with positivity constraint 3\n",
      "Done with positivity constraint 4\n",
      "Done with positivity constraint 5\n"
     ]
    },
    {
     "name": "stderr",
     "output_type": "stream",
     "text": [
      "\n"
     ]
    },
    {
     "name": "stdout",
     "output_type": "stream",
     "text": [
      "Done calculating linear constraints\n",
      "Calculating the bound provided by the certificate\n"
     ]
    },
    {
     "name": "stderr",
     "output_type": "stream",
     "text": [
      "43it [00:02, 14.62it/s]"
     ]
    },
    {
     "name": "stdout",
     "output_type": "stream",
     "text": [
      "The solution is valid, it proves the bound 0\n"
     ]
    },
    {
     "name": "stderr",
     "output_type": "stream",
     "text": [
      "\n"
     ]
    },
    {
     "data": {
      "text/plain": [
       "0"
      ]
     },
     "execution_count": 5,
     "metadata": {},
     "output_type": "execute_result"
    }
   ],
   "source": [
    "### Verify Proposition 3.4\n",
    "\n",
    "Asymm3ColorTheory = combine(\"Asymm3Colors\", Color0, Color1, Color2, symmetries=NoSymmetry)\n",
    "Asymm3ColorTheory.exclude([\n",
    "    Asymm3ColorTheory(1), \n",
    "    Asymm3ColorTheory(1, C0=[0], C1=[0]), \n",
    "    Asymm3ColorTheory(1, C0=[0], C2=[0]), \n",
    "    Asymm3ColorTheory(1, C1=[0], C2=[0]),\n",
    "    Asymm3ColorTheory(1, C0=[0], C1=[0], C2=[0])\n",
    "])\n",
    "ColoredLinkGraphTheory = combine(\"ColoredLinkGraph\", GraphTheory, Asymm3ColorTheory)\n",
    "CLGT = ColoredLinkGraphTheory\n",
    "CLGT.exclude([\n",
    "    CLGT.pattern(4, edges=[[0, 1], [2, 3]], C0=[0], C1=[1, 2], C2=[3]),\n",
    "    CLGT.pattern(4, edges=[[0, 1], [2, 3]], C0=[1, 2], C1=[0], C2=[3]),\n",
    "    CLGT.pattern(4, edges=[[0, 1], [2, 3]], C0=[0], C1=[3], C2=[1, 2]),\n",
    "    \n",
    "    CLGT.pattern(3, edges=[[0, 1], [1, 2]], C0=[0], C1=[1], C2=[2]),\n",
    "    CLGT.pattern(3, edges=[[0, 1], [1, 2]], C0=[1], C1=[0], C2=[2]),\n",
    "    CLGT.pattern(3, edges=[[0, 1], [1, 2]], C0=[0], C1=[2], C2=[1]),\n",
    "\n",
    "    CLGT.pattern(3, edges=[[0, 1], [1, 2]], C0=[0, 1], C1=[2], C2=[]),\n",
    "    CLGT.pattern(3, edges=[[0, 1], [1, 2]], C0=[0, 1], C1=[], C2=[2]),\n",
    "    CLGT.pattern(3, edges=[[0, 1], [1, 2]], C0=[2], C1=[0, 1], C2=[]),\n",
    "    CLGT.pattern(3, edges=[[0, 1], [1, 2]], C0=[], C1=[0, 1], C2=[2]),\n",
    "    CLGT.pattern(3, edges=[[0, 1], [1, 2]], C0=[2], C1=[], C2=[0, 1]),\n",
    "    CLGT.pattern(3, edges=[[0, 1], [1, 2]], C0=[], C1=[2], C2=[0, 1])\n",
    "])\n",
    "\n",
    "edge_00 = CLGT(2, edges=[[0, 1]], C0=[0, 1], C1=[], C2=[])\n",
    "edge_11 = CLGT(2, edges=[[0, 1]], C0=[], C1=[0, 1], C2=[])\n",
    "edge_22 = CLGT(2, edges=[[0, 1]], C0=[], C1=[], C2=[0, 1])\n",
    "edge_01 = CLGT(2, edges=[[0, 1]], C0=[0], C1=[1], C2=[])\n",
    "edge_12 = CLGT(2, edges=[[0, 1]], C0=[], C1=[0], C2=[1])\n",
    "edge_02 = CLGT(2, edges=[[0, 1]], C0=[0], C1=[], C2=[1])\n",
    "point0 = CLGT(1, C0 = [0])\n",
    "point1 = CLGT(1, C1 = [0])\n",
    "point2 = CLGT(1, C2 = [0])\n",
    "positives = [\n",
    "    edge_12 - edge_01, \n",
    "    edge_12 - edge_02,\n",
    "    edge_01 + edge_02 + edge_12 - 1/8,\n",
    "    point0 - 1/4, \n",
    "    point1 - 1/4, \n",
    "    point2 - 1/4\n",
    "]\n",
    "M = CLGT(2, edges=[], C0=[], C1=[0], C2=[1]) \n",
    "B = sum([\n",
    "    CLGT(2, edges=[[0, 1]], C0=[0], C1=[1], C2=[]),\n",
    "    CLGT(2, edges=[[0, 1]], C0=[0], C1=[], C2=[1]),\n",
    "    CLGT(2, edges=[[0, 1]], C0=[], C1=[0, 1], C2=[]),\n",
    "    CLGT(2, edges=[[0, 1]], C0=[], C1=[], C2=[0, 1])\n",
    "])\n",
    "\n",
    "CLGT.verify(\"certificates/proposition_3_4\", B - M*9/10, 5, positives = positives)"
   ]
  }
 ],
 "metadata": {
  "kernelspec": {
   "display_name": "SageMath 10.5.beta7",
   "language": "sage",
   "name": "sagemath"
  },
  "language_info": {
   "codemirror_mode": {
    "name": "ipython",
    "version": 3
   },
   "file_extension": ".py",
   "mimetype": "text/x-python",
   "name": "python",
   "nbconvert_exporter": "python",
   "pygments_lexer": "ipython3",
   "version": "3.12.3"
  }
 },
 "nbformat": 4,
 "nbformat_minor": 5
}
