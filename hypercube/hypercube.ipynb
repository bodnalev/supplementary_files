{
 "cells": [
  {
   "cell_type": "markdown",
   "id": "f352e111-9f69-4229-a5cc-1aea72a5c506",
   "metadata": {},
   "source": [
    "Hypercube inducibility and statistics problems\n",
    "==============================\n",
    "\n",
    "This notebook contains calculations for inducibility and statistics problems and for hypercubes. To run these calculations, use the modified version of sage from\n",
    "https://github.com/bodnalev/sage\n",
    "\n",
    "1. The first cell displays the representations of $W_7, W_8, W_9, W_10, W_12$ as flags in the HypercubeVertex theory.\n",
    "\n",
    "2. The second cell gives an upper bound for the maximum induced density of the displayed $W$ structures.\n",
    "\n",
    "3. The third cell defines a `targ_ds` function which creates a flag algebra element representing hypercubes with dimension $d$ and $s$ elements. Then calculates the induced upper bound for various $d, s$ pairs.\n",
    "\n",
    "4. If one only wants to verify that any of the certificates are indeed correct, it is enough\n",
    "to run the last cell. For each step above, it loads the generated\n",
    "certificates and verifies that the matrices are indeed positive semidefinite\n",
    "and that the bound they prove is exactly as claimed. Note however that the majority of the time is spent at calculating the problem data, once that is complete all the cells run quickly and it is not much slower to re-calculate the certificates instead of verifying them."
   ]
  },
  {
   "cell_type": "code",
   "execution_count": 1,
   "id": "966c1bc3-293d-4573-bb4b-3694cef4d763",
   "metadata": {},
   "outputs": [
    {
     "name": "stdout",
     "output_type": "stream",
     "text": [
      "The structures are:\n",
      "W7 is Flag on 8 points, ftype from () with edges=(01 02 04 13 15 23 26 37 45 46 57 67), points=(0 7)\n",
      "W8 is Flag on 8 points, ftype from () with edges=(01 02 04 13 15 23 26 37 45 46 57 67), points=(0 3 5)\n",
      "W9 is Flag on 8 points, ftype from () with edges=(01 02 04 13 15 23 26 37 45 46 57 67), points=(0 1 2 7)\n",
      "W10 is Flag on 8 points, ftype from () with edges=(01 02 04 13 15 23 26 37 45 46 57 67), points=(0 1 6)\n",
      "W12 is Flag on 8 points, ftype from () with edges=(01 02 04 13 15 23 26 37 45 46 57 67), points=(0 1 2 4)\n"
     ]
    }
   ],
   "source": [
    "HV = Theory(\"HypercubeVertex\")\n",
    "all8s = HV.generate(8)\n",
    "orinds = [4, 7, 11, 6, 9]\n",
    "winds = [7, 8, 9, 10, 12]\n",
    "\n",
    "# Confirm the structures are the same as claimed\n",
    "print(\"The structures are:\")\n",
    "for ii in range(len(winds)):\n",
    "    print(\"W{} is {}\".format(winds[ii], all8s[orinds[ii]]))"
   ]
  },
  {
   "cell_type": "code",
   "execution_count": 21,
   "id": "a08fefd8-d0fb-4ca7-baf6-33e8b976de12",
   "metadata": {},
   "outputs": [
    {
     "name": "stdout",
     "output_type": "stream",
     "text": [
      "For W7 the found upper bound is 1/3\n",
      "For W8 the found upper bound is 2/3\n",
      "For W9 the found upper bound is 4/9\n",
      "For W10 the found upper bound is 5/12\n",
      "For W12 the found upper bound is 1/2\n"
     ]
    }
   ],
   "source": [
    "# Calculate the bound for each\n",
    "target_sizes = [8, 16, 8, 16, 8]\n",
    "for ii in range(len(winds)):\n",
    "    lam_w_ii = HV.optimize(all8s[orinds[ii]], target_sizes[ii], exact=True, \n",
    "                           file=\"certificates/w{}_cert\".format(winds[ii]), \n",
    "                           printlevel=0\n",
    "                          )\n",
    "    print(\"For W{} the found upper bound is {}\".format(winds[ii], lam_w_ii))"
   ]
  },
  {
   "cell_type": "code",
   "execution_count": 27,
   "id": "aead0d00-5425-437c-baa5-d2181194cb20",
   "metadata": {},
   "outputs": [
    {
     "name": "stdout",
     "output_type": "stream",
     "text": [
      "For d=3 and s=2 the found upper bound is 8/9\n",
      "For d=4 and s=2 the found upper bound is 264/343\n",
      "For d=4 and s=4 the found upper bound is 26/27\n"
     ]
    }
   ],
   "source": [
    "# Define the structures for the statistics\n",
    "def targ_ds(d, s):\n",
    "    return sum([xx for xx in HV.generate(2**d) if len(xx.blocks(\"points\"))==s])\n",
    "\n",
    "for d, s in [(3, 2), (4, 2), (4, 4)]:\n",
    "    lam_ds = HV.optimize(targ_ds(d, s), 16, exact=True, \n",
    "                         file=\"certificates/d{}s{}_cert\".format(d, s), \n",
    "                         printlevel=0\n",
    "                        )\n",
    "    print(\"For d={} and s={} the found upper bound is {}\".format(d, s, lam_ds))"
   ]
  },
  {
   "cell_type": "code",
   "execution_count": 2,
   "id": "64ae1352-12e1-40fd-abb5-e3c75b7b63cb",
   "metadata": {},
   "outputs": [
    {
     "name": "stdout",
     "output_type": "stream",
     "text": [
      "Verifying for W7\n",
      "Checking X matrices\n"
     ]
    },
    {
     "name": "stderr",
     "output_type": "stream",
     "text": [
      "5it [00:00, 337.12it/s]\n"
     ]
    },
    {
     "name": "stdout",
     "output_type": "stream",
     "text": [
      "Solution matrices are all positive semidefinite, linear coefficients are all non-negative\n",
      "Calculating multiplication tables\n"
     ]
    },
    {
     "name": "stderr",
     "output_type": "stream",
     "text": [
      "5it [00:00, 1470.65it/s]\n"
     ]
    },
    {
     "name": "stdout",
     "output_type": "stream",
     "text": [
      "Done calculating linear constraints\n",
      "Calculating the bound provided by the certificate\n"
     ]
    },
    {
     "name": "stderr",
     "output_type": "stream",
     "text": [
      "5it [00:00, 373.32it/s]"
     ]
    },
    {
     "name": "stdout",
     "output_type": "stream",
     "text": [
      "The solution is valid, it proves the bound 1/3\n",
      "Verifying for W8\n"
     ]
    },
    {
     "name": "stderr",
     "output_type": "stream",
     "text": [
      "\n"
     ]
    },
    {
     "name": "stdout",
     "output_type": "stream",
     "text": [
      "Checking X matrices\n"
     ]
    },
    {
     "name": "stderr",
     "output_type": "stream",
     "text": [
      "13it [00:00, 494.46it/s]\n"
     ]
    },
    {
     "name": "stdout",
     "output_type": "stream",
     "text": [
      "Solution matrices are all positive semidefinite, linear coefficients are all non-negative\n",
      "Calculating multiplication tables\n"
     ]
    },
    {
     "name": "stderr",
     "output_type": "stream",
     "text": [
      "13it [00:00, 94.84it/s]\n"
     ]
    },
    {
     "name": "stdout",
     "output_type": "stream",
     "text": [
      "Done calculating linear constraints\n",
      "Calculating the bound provided by the certificate\n"
     ]
    },
    {
     "name": "stderr",
     "output_type": "stream",
     "text": [
      "13it [00:01,  9.42it/s]\n"
     ]
    },
    {
     "name": "stdout",
     "output_type": "stream",
     "text": [
      "The solution is valid, it proves the bound 2/3\n",
      "Verifying for W9\n",
      "Checking X matrices\n"
     ]
    },
    {
     "name": "stderr",
     "output_type": "stream",
     "text": [
      "5it [00:00, 2133.20it/s]\n"
     ]
    },
    {
     "name": "stdout",
     "output_type": "stream",
     "text": [
      "Solution matrices are all positive semidefinite, linear coefficients are all non-negative\n",
      "Calculating multiplication tables\n"
     ]
    },
    {
     "name": "stderr",
     "output_type": "stream",
     "text": [
      "5it [00:00, 1498.18it/s]\n"
     ]
    },
    {
     "name": "stdout",
     "output_type": "stream",
     "text": [
      "Done calculating linear constraints\n",
      "Calculating the bound provided by the certificate\n"
     ]
    },
    {
     "name": "stderr",
     "output_type": "stream",
     "text": [
      "5it [00:00, 353.10it/s]\n"
     ]
    },
    {
     "name": "stdout",
     "output_type": "stream",
     "text": [
      "The solution is valid, it proves the bound 4/9\n",
      "Verifying for W10\n",
      "Checking X matrices\n"
     ]
    },
    {
     "name": "stderr",
     "output_type": "stream",
     "text": [
      "13it [00:00, 444.74it/s]\n"
     ]
    },
    {
     "name": "stdout",
     "output_type": "stream",
     "text": [
      "Solution matrices are all positive semidefinite, linear coefficients are all non-negative\n",
      "Calculating multiplication tables\n"
     ]
    },
    {
     "name": "stderr",
     "output_type": "stream",
     "text": [
      "13it [00:00, 104.17it/s]\n"
     ]
    },
    {
     "name": "stdout",
     "output_type": "stream",
     "text": [
      "Done calculating linear constraints\n",
      "Calculating the bound provided by the certificate\n"
     ]
    },
    {
     "name": "stderr",
     "output_type": "stream",
     "text": [
      "13it [00:01, 10.14it/s]\n"
     ]
    },
    {
     "name": "stdout",
     "output_type": "stream",
     "text": [
      "The solution is valid, it proves the bound 5/12\n",
      "Verifying for W12\n",
      "Checking X matrices\n"
     ]
    },
    {
     "name": "stderr",
     "output_type": "stream",
     "text": [
      "5it [00:00, 2940.07it/s]\n"
     ]
    },
    {
     "name": "stdout",
     "output_type": "stream",
     "text": [
      "Solution matrices are all positive semidefinite, linear coefficients are all non-negative\n",
      "Calculating multiplication tables\n"
     ]
    },
    {
     "name": "stderr",
     "output_type": "stream",
     "text": [
      "5it [00:00, 2005.12it/s]\n"
     ]
    },
    {
     "name": "stdout",
     "output_type": "stream",
     "text": [
      "Done calculating linear constraints\n",
      "Calculating the bound provided by the certificate\n"
     ]
    },
    {
     "name": "stderr",
     "output_type": "stream",
     "text": [
      "5it [00:00, 403.13it/s]\n"
     ]
    },
    {
     "name": "stdout",
     "output_type": "stream",
     "text": [
      "The solution is valid, it proves the bound 1/2\n",
      "Verifying for d=3, s=2\n",
      "Checking X matrices\n"
     ]
    },
    {
     "name": "stderr",
     "output_type": "stream",
     "text": [
      "13it [00:00, 512.81it/s]\n"
     ]
    },
    {
     "name": "stdout",
     "output_type": "stream",
     "text": [
      "Solution matrices are all positive semidefinite, linear coefficients are all non-negative\n",
      "Calculating multiplication tables\n"
     ]
    },
    {
     "name": "stderr",
     "output_type": "stream",
     "text": [
      "13it [00:00, 97.41it/s]\n"
     ]
    },
    {
     "name": "stdout",
     "output_type": "stream",
     "text": [
      "Done calculating linear constraints\n",
      "Calculating the bound provided by the certificate\n"
     ]
    },
    {
     "name": "stderr",
     "output_type": "stream",
     "text": [
      "13it [00:01,  9.38it/s]\n"
     ]
    },
    {
     "name": "stdout",
     "output_type": "stream",
     "text": [
      "The solution is valid, it proves the bound 8/9\n",
      "Verifying for d=4, s=2\n",
      "Checking X matrices\n"
     ]
    },
    {
     "name": "stderr",
     "output_type": "stream",
     "text": [
      "13it [00:00, 489.31it/s]\n"
     ]
    },
    {
     "name": "stdout",
     "output_type": "stream",
     "text": [
      "Solution matrices are all positive semidefinite, linear coefficients are all non-negative\n",
      "Calculating multiplication tables\n"
     ]
    },
    {
     "name": "stderr",
     "output_type": "stream",
     "text": [
      "13it [00:00, 167.25it/s]\n"
     ]
    },
    {
     "name": "stdout",
     "output_type": "stream",
     "text": [
      "Done calculating linear constraints\n",
      "Calculating the bound provided by the certificate\n"
     ]
    },
    {
     "name": "stderr",
     "output_type": "stream",
     "text": [
      "13it [00:01,  8.46it/s]\n"
     ]
    },
    {
     "name": "stdout",
     "output_type": "stream",
     "text": [
      "The solution is valid, it proves the bound 264/343\n",
      "Verifying for d=4, s=4\n",
      "Checking X matrices\n"
     ]
    },
    {
     "name": "stderr",
     "output_type": "stream",
     "text": [
      "13it [00:00, 576.32it/s]\n"
     ]
    },
    {
     "name": "stdout",
     "output_type": "stream",
     "text": [
      "Solution matrices are all positive semidefinite, linear coefficients are all non-negative\n",
      "Calculating multiplication tables\n"
     ]
    },
    {
     "name": "stderr",
     "output_type": "stream",
     "text": [
      "13it [00:00, 91.86it/s]\n"
     ]
    },
    {
     "name": "stdout",
     "output_type": "stream",
     "text": [
      "Done calculating linear constraints\n",
      "Calculating the bound provided by the certificate\n"
     ]
    },
    {
     "name": "stderr",
     "output_type": "stream",
     "text": [
      "13it [00:01,  8.40it/s]"
     ]
    },
    {
     "name": "stdout",
     "output_type": "stream",
     "text": [
      "The solution is valid, it proves the bound 26/27\n"
     ]
    },
    {
     "name": "stderr",
     "output_type": "stream",
     "text": [
      "\n"
     ]
    }
   ],
   "source": [
    "HV = Theory(\"HypercubeVertex\")\n",
    "all8s = HV.generate(8)\n",
    "orinds = [4, 7, 11, 6, 9]\n",
    "winds = [7, 8, 9, 10, 12]\n",
    "target_sizes = [8, 16, 8, 16, 8]\n",
    "for ii in range(len(winds)):\n",
    "    print(\"Verifying for W{}\".format(winds[ii]))\n",
    "    HV.verify(\"certificates/w{}_cert\".format(winds[ii]), \n",
    "              all8s[orinds[ii]], target_sizes[ii], printlevel=1\n",
    "             )\n",
    "def targ_ds(d, s):\n",
    "    return sum([xx for xx in HV.generate(2**d) if len(xx.blocks(\"points\"))==s])\n",
    "for d, s in [(3, 2), (4, 2), (4, 4)]:\n",
    "    print(\"Verifying for d={}, s={}\".format(d, s))\n",
    "    HV.verify(\"certificates/d{}s{}_cert\".format(d, s), \n",
    "              targ_ds(d, s), 16, printlevel=1\n",
    "             )"
   ]
  }
 ],
 "metadata": {
  "kernelspec": {
   "display_name": "SageMath 10.5.beta7",
   "language": "sage",
   "name": "sagemath"
  },
  "language_info": {
   "codemirror_mode": {
    "name": "ipython",
    "version": 3
   },
   "file_extension": ".py",
   "mimetype": "text/x-python",
   "name": "python",
   "nbconvert_exporter": "python",
   "pygments_lexer": "ipython3",
   "version": "3.10.12"
  }
 },
 "nbformat": 4,
 "nbformat_minor": 5
}
