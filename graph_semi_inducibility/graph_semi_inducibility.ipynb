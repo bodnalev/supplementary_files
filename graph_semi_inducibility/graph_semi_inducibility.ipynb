{
 "cells": [
  {
   "cell_type": "markdown",
   "id": "f7a32346-b798-4524-89ab-dbdb36f7fb44",
   "metadata": {},
   "source": [
    "# Semi-inducibility Problem on 4 Vertices\n",
    "\n",
    "This notebook contains calculations for the semi-inducibility problem on all 4 vertex red-blue colored graphs. To run these calculations, use the modified version of sage from\n",
    "https://github.com/bodnalev/sage\n",
    "\n",
    "The following cell sets up a theory to calculate with blue-red colored graphs and transform the semi-inducibility questions to graph theory. The rest of the notebook is organized as follows: \n",
    "\n",
    " - Section 1 contains the main optimization, including the constructions and the corresponding upper bounds.\n",
    "\n",
    " - Section 2 contains methods to test stability of the obtained results.\n",
    "\n",
    " - Section 3 contains a single cell verifying all the certificates. It can be run independently from the rest of the notebook.\n",
    "\n",
    " - Section 4 contains code that exports pickled certificates to human readable text files. Additionally there is an interactive code to inspect the certificate data."
   ]
  },
  {
   "cell_type": "code",
   "execution_count": 1,
   "id": "342f3020-8c01-4798-b7f1-c01c7779cf22",
   "metadata": {},
   "outputs": [
    {
     "name": "stdout",
     "output_type": "stream",
     "text": [
      "The unique semi-inducibility graphs on 4 vertices are\n",
      "\n",
      "Flag on 4 points, ftype from () with edges=(02), blue_edges=(13)\n",
      "\n",
      "Flag on 4 points, ftype from () with edges=(01), blue_edges=(02 03)\n",
      "\n",
      "Flag on 4 points, ftype from () with edges=(01), blue_edges=(02 13)\n",
      "\n",
      "Flag on 4 points, ftype from () with edges=(02), blue_edges=(01 13)\n",
      "\n",
      "Flag on 4 points, ftype from () with edges=(02 03 13), blue_edges=(01)\n",
      "\n",
      "Flag on 4 points, ftype from () with edges=(01 02 03), blue_edges=(13)\n",
      "\n",
      "Flag on 4 points, ftype from () with edges=(02), blue_edges=(01 03 13)\n",
      "\n",
      "Flag on 4 points, ftype from () with edges=(03), blue_edges=(02 12 13)\n",
      "\n",
      "Flag on 4 points, ftype from () with edges=(02 03 12 13), blue_edges=(01)\n",
      "\n",
      "Flag on 4 points, ftype from () with edges=(01 02 12 13), blue_edges=(03)\n",
      "\n",
      "Flag on 4 points, ftype from () with edges=(01 13), blue_edges=(02 03)\n",
      "\n",
      "Flag on 4 points, ftype from () with edges=(01 03), blue_edges=(02 13)\n",
      "\n",
      "Flag on 4 points, ftype from () with edges=(02 03), blue_edges=(12 13)\n",
      "\n",
      "Flag on 4 points, ftype from () with edges=(02 13), blue_edges=(03 12)\n",
      "\n",
      "Flag on 4 points, ftype from () with edges=(01 12 13), blue_edges=(02 03)\n",
      "\n",
      "Flag on 4 points, ftype from () with edges=(01 03), blue_edges=(02 12 13)\n",
      "\n",
      "Flag on 4 points, ftype from () with edges=(03 13), blue_edges=(01 02 12)\n",
      "\n",
      "Flag on 4 points, ftype from () with edges=(01 03 12), blue_edges=(02 13)\n"
     ]
    }
   ],
   "source": [
    "G = GraphTheory\n",
    "G.printlevel(0)\n",
    "BG = Theory(\"BlueGraph\", \"blue_edges\")\n",
    "CG = combine(\"RedBlueGraph\", G, BG, symmetries=FullSymmetry)\n",
    "CG.exclude(CG(2, edges=[[0, 1]], blue_edges=[[0, 1]]))\n",
    "\n",
    "def check_blocks(flg, do, dont):\n",
    "    eds = flg.blocks(\"edges\")\n",
    "    for ee in do:\n",
    "        if ee not in eds:\n",
    "            return False\n",
    "    for ee in dont:\n",
    "        if ee in eds:\n",
    "            return False\n",
    "    return True\n",
    "\n",
    "def get_targ(ff):\n",
    "    vn = ff.size()\n",
    "    eddo = ff.blocks(\"edges\")\n",
    "    eddont = ff.blocks(\"blue_edges\")\n",
    "    pats = G.p(vn, edges=eddo, edges_m=eddont)\n",
    "    targ = 0\n",
    "    for xx in pats.compatible_flags():\n",
    "        coef = 0\n",
    "        for eperm in itertools.permutations(range(vn)):\n",
    "            xxpermed = xx.subflag(eperm)\n",
    "            if check_blocks(xxpermed, eddo, eddont):\n",
    "                coef += 1\n",
    "        targ += coef*xx\n",
    "    return targ*QQ(1/(factorial(vn)))\n",
    "\n",
    "def gen_nont(n):\n",
    "    ret = []\n",
    "    for ff in CG.generate(n):\n",
    "        eds = ff.blocks(\"edges\")\n",
    "        oeds = ff.blocks(\"blue_edges\")\n",
    "        if len(eds)!=0 and len(oeds)!=0:\n",
    "            if len(eds) + len(oeds) != binomial(n, 2):\n",
    "                if len(set(itertools.chain(*(list(eds) + list(oeds)))))==n:\n",
    "                    ret.append(ff)\n",
    "    return ret\n",
    "\n",
    "def flip_colors(fl):\n",
    "    return CG(fl.size(), edges=fl.blocks(\"blue_edges\"), blue_edges=fl.blocks(\"edges\"))\n",
    "\n",
    "# For easier presentation, these flips guarantee no loops in blowup patterns\n",
    "gen4 = [(xx if ii not in [4, 8, 9, 10, 14, 17] else flip_colors(xx)) for ii,xx in enumerate(gen_nont(4))]\n",
    "targ4 = [get_targ(xx) for xx in gen4]\n",
    "\n",
    "print(\"The unique semi-inducibility graphs on 4 vertices are\")\n",
    "for xx in gen4:\n",
    "    print(f\"\\n{xx}\")"
   ]
  },
  {
   "cell_type": "markdown",
   "id": "610440d3-1e02-4a9a-af7d-c0843ff3a459",
   "metadata": {},
   "source": [
    "## Section 1 - Constructions and upper bounds\n",
    "\n",
    "This section contains a list of constructions used to help the rounding. The standard rounding method works for all cases except $H_3$ and $H_5$. \n",
    "\n",
    "Since the semi-inducibility problem for $H_5$ is symmetrizable, Subsection 1.1 calculates in the multi-partite theory, establishing a matching construction and upper bound. \n",
    "\n",
    "Subsection 1.2 discusses the remaining case $H_3$, by providing a strong construction and a numerically close upper bound."
   ]
  },
  {
   "cell_type": "code",
   "execution_count": 2,
   "id": "538897ed-a683-4590-8525-c24c7954a56e",
   "metadata": {},
   "outputs": [],
   "source": [
    "def kn_edges(n):\n",
    "    return list(itertools.combinations(range(n), 2))\n",
    "\n",
    "constructions = [\n",
    "    G.blowup_construction(5, 1, edges={(0, 0): 1/2}), \n",
    "    G.blowup_construction(4, 1, edges={(0, 0): 1/3}), \n",
    "    G.blowup_construction(4, 1, edges={(0, 0): 1/3}), \n",
    "    None, \n",
    "    G.blowup_construction(4, 3, edges=kn_edges(3)), \n",
    "    None, \n",
    "    G.blowup_construction(6, 2, edges=[[0, 1]]), \n",
    "    G.blowup_construction(4, 1, edges={(0, 0): 1/4}), \n",
    "    G.blowup_construction(4, 3, edges=kn_edges(3)), \n",
    "    G.blowup_construction(7, 5, edges=kn_edges(5)), \n",
    "    G.blowup_construction(5, 2, edges=[[0, 1]]),    \n",
    "    G.blowup_construction(4, 2, edges=[[0, 1]]), \n",
    "    G.blowup_construction(5, 2, edges=[[0, 1]]), \n",
    "    G.blowup_construction(5, 2, edges=[[0, 1]]),\n",
    "    G.blowup_construction(5, 2, edges=[[0, 1]]),\n",
    "    G.blowup_construction(4, 2, edges={(0, 1): 2/3}),\n",
    "    G.blowup_construction(5, 2, edges=[[0, 1]]),\n",
    "    G.blowup_construction(5, 2, edges=[[0, 1]])\n",
    "]"
   ]
  },
  {
   "cell_type": "code",
   "execution_count": 3,
   "id": "cf3f1a9a-f241-4aef-8d5b-518dd5e2e7ae",
   "metadata": {},
   "outputs": [
    {
     "name": "stdout",
     "output_type": "stream",
     "text": [
      "\n",
      "Index 0 is Flag on 4 points, ftype from () with edges=(02), blue_edges=(13) the constr gives 1/4, upper bound is 1/4\n",
      "\n",
      "Index 1 is Flag on 4 points, ftype from () with edges=(01), blue_edges=(02 03) the constr gives 4/27, upper bound is 4/27\n",
      "\n",
      "Index 2 is Flag on 4 points, ftype from () with edges=(01), blue_edges=(02 13) the constr gives 4/27, upper bound is 4/27\n",
      "\n",
      "Index 3 is Flag on 4 points, ftype from () with edges=(02), blue_edges=(01 13) the upper bound is 0.15008340915196144\n",
      "\n",
      "Index 4 is Flag on 4 points, ftype from () with edges=(02 03 13), blue_edges=(01) the constr gives 4/27, upper bound is 4/27\n",
      "\n",
      "Index 5 is Flag on 4 points, ftype from () with edges=(01 02 03), blue_edges=(13) the upper bound is 0.1500644984603527\n",
      "\n",
      "Index 6 is Flag on 4 points, ftype from () with edges=(02), blue_edges=(01 03 13) the constr gives 1/8, upper bound is 1/8\n",
      "\n",
      "Index 7 is Flag on 4 points, ftype from () with edges=(03), blue_edges=(02 12 13) the constr gives 27/256, upper bound is 27/256\n",
      "\n",
      "Index 8 is Flag on 4 points, ftype from () with edges=(02 03 12 13), blue_edges=(01) the constr gives 4/27, upper bound is 4/27\n",
      "\n",
      "Index 9 is Flag on 4 points, ftype from () with edges=(01 02 12 13), blue_edges=(03) the constr gives 12/125, upper bound is 12/125\n",
      "\n",
      "Index 10 is Flag on 4 points, ftype from () with edges=(01 13), blue_edges=(02 03) the constr gives 1/8, upper bound is 1/8\n",
      "\n",
      "Index 11 is Flag on 4 points, ftype from () with edges=(01 03), blue_edges=(02 13) the constr gives 1/8, upper bound is 1/8\n",
      "\n",
      "Index 12 is Flag on 4 points, ftype from () with edges=(02 03), blue_edges=(12 13) the constr gives 1/8, upper bound is 1/8\n",
      "\n",
      "Index 13 is Flag on 4 points, ftype from () with edges=(02 13), blue_edges=(03 12) the constr gives 1/8, upper bound is 1/8\n",
      "\n",
      "Index 14 is Flag on 4 points, ftype from () with edges=(01 12 13), blue_edges=(02 03) the constr gives 1/8, upper bound is 1/8\n",
      "\n",
      "Index 15 is Flag on 4 points, ftype from () with edges=(01 03), blue_edges=(02 12 13) the constr gives 1/27, upper bound is 1/27\n",
      "\n",
      "Index 16 is Flag on 4 points, ftype from () with edges=(03 13), blue_edges=(01 02 12) the constr gives 1/8, upper bound is 1/8\n",
      "\n",
      "Index 17 is Flag on 4 points, ftype from () with edges=(01 03 12), blue_edges=(02 13) the constr gives 1/8, upper bound is 1/8\n"
     ]
    }
   ],
   "source": [
    "for index in range(len(gen4)):\n",
    "    constr = constructions[index]\n",
    "    targ = get_targ(gen4[index])\n",
    "    if constr!=None:\n",
    "        size = constr.size()\n",
    "        dens = constr.density(targ)\n",
    "        bound = G.optimize(targ, size, denom=2**20, exact=True, construction=constr, file=\"certificates/semiind\"+str(index))\n",
    "        print(\"\\nIndex {} is {} the constr gives {}, upper bound is {}\".format(index, gen4[index], dens, bound))\n",
    "    else:\n",
    "        bound = G.optimize(targ, 7, exact=False, file=\"certificates/fp_semiind\"+str(index))\n",
    "        print(\"\\nIndex {} is {} the upper bound is {}\".format(index, gen4[index], bound))"
   ]
  },
  {
   "cell_type": "markdown",
   "id": "4ebd2fa1-d8f7-49f2-a221-e227234fc524",
   "metadata": {},
   "source": [
    "### Subsection 1.1 - Multipartite construction and upper bound for $H_5$\n",
    "\n",
    "This calculation is done over graphs with `G(3, edges=[[0, 1]])` excluded, due to the problem being symmetrizable."
   ]
  },
  {
   "cell_type": "code",
   "execution_count": 2,
   "id": "898eb71b-8d4a-487a-a50f-e52b50b81252",
   "metadata": {},
   "outputs": [
    {
     "name": "stdout",
     "output_type": "stream",
     "text": [
      "For index 5, construction provides density 171/3136*alpha + 101/784\n",
      "Here, alpha is the root of x^2 - 13/7*x + 4/7 around 0.389297540337804\n"
     ]
    }
   ],
   "source": [
    "MPG = Theory(\"MultiPartiteGraph\")\n",
    "MPG.exclude(MPG(3, edges=[[0, 1]]))\n",
    "MPG.printlevel(0)\n",
    "var(\"x\")\n",
    "RF = RealField(prec=100)\n",
    "alpha_real = RF(solve(x^2 - 13/7*x + 4/7==0, x)[0].rhs())\n",
    "R.<alpha> = NumberField(x^2 - 13/7*x + 4/7, embedding=alpha_real)\n",
    "cons = MPG.blowup_construction(8, [alpha/4, alpha/4, alpha/4, alpha/4, 1-alpha], edges=list(itertools.combinations(range(5), 2)))\n",
    "mp_targ = (1/4)*MPG(4, edges=[[0, 1], [0, 2], [0, 3]]) + (1/6)*MPG(4, edges=[[0, 1], [0, 2], [0, 3], [1, 2], [1, 3]])\n",
    "dens = cons.density(mp_targ)\n",
    "print(\"For index 5, construction provides density {}\".format(dens))\n",
    "print(\"Here, alpha is the root of {} around {}\".format(alpha.minpoly(), alpha.n()))"
   ]
  },
  {
   "cell_type": "code",
   "execution_count": 18,
   "id": "7a4ffc52-7804-4917-8070-561c62749120",
   "metadata": {},
   "outputs": [
    {
     "name": "stdout",
     "output_type": "stream",
     "text": [
      "For index 5, the multi-partite upper bound is 171/3136*alpha + 101/784\n",
      "Here, alpha is the same root of x^2 - 13/7*x + 4/7 around 0.389297540337804\n"
     ]
    }
   ],
   "source": [
    "bound = MPG.optimize(mp_targ, 8, construction=cons, exact=True, denom=2**20, kernel_denom=2**20, file=\"certificates/semiind5\")\n",
    "print(\"For index 5, the multi-partite upper bound is {}\".format(bound))\n",
    "print(\"Here, alpha is the same root of {} around {}\".format(alpha.minpoly(), alpha.n()))"
   ]
  },
  {
   "cell_type": "code",
   "execution_count": 3,
   "id": "62834740-afb0-4a15-b2b5-2ce6959afa87",
   "metadata": {},
   "outputs": [
    {
     "name": "stdout",
     "output_type": "stream",
     "text": [
      "The final bound and construction equals to -171/43904*sqrt(57) + 7879/43904 around 0.150054170726328\n"
     ]
    }
   ],
   "source": [
    "val = 171/3136 * solve(x^2-13/7*x+4/7==0, x)[0].rhs() + 101/784\n",
    "print(\"The final bound and construction equals to {} around {}\".format(val, val.n()))"
   ]
  },
  {
   "cell_type": "markdown",
   "id": "5c3ef34d-8bf9-449f-ae7f-120f70af7d1e",
   "metadata": {},
   "source": [
    "### Subsection 1.2 - Construction and numeric upper bound for $H_3$\n",
    "\n",
    "First, the polynomial $p(\\beta, \\gamma)$ is calculated, with the relations $\\beta, \\gamma$ must satisfy at any local optimum.\n",
    "Then the solutions of these relations are compared."
   ]
  },
  {
   "cell_type": "code",
   "execution_count": 4,
   "id": "7a5a6209-7083-4f17-8f6d-e8331f9a6ebc",
   "metadata": {},
   "outputs": [
    {
     "name": "stdout",
     "output_type": "stream",
     "text": [
      "The optimal parameters in ??? must satisfy the following\n",
      "beta^5 - 10/3*beta^4 + 2521/576*beta^3 - 407/144*beta^2 + 43/48*beta - 1/9 = 0\n",
      "gamma^4 - 37/16*gamma^3 + 57/32*gamma^2 - 9/16*gamma + 1/16 = 0\n"
     ]
    }
   ],
   "source": [
    "print(\"The optimal parameters in ??? must satisfy the following\")\n",
    "R.<gamma, beta> = PolynomialRing(QQ, 2, order=\"lex\")\n",
    "cons = G.blowup_construction(4, [beta, 1-beta], edges={(0, 0): gamma, (1, 1): 1})\n",
    "expr = cons.density(targ4[3])\n",
    "ders = [expr.derivative(beta), expr.derivative(gamma)]\n",
    "I = R.ideal(ders)\n",
    "Gb = I.groebner_basis()\n",
    "print(Gb[-1], \"= 0\")\n",
    "\n",
    "R.<beta, gamma> = PolynomialRing(QQ, 2, order=\"lex\")\n",
    "cons = G.blowup_construction(4, [beta, 1-beta], edges={(0, 0): gamma, (1, 1): 1})\n",
    "expr = cons.density(targ4[3])\n",
    "ders = [expr.derivative(beta), expr.derivative(gamma)]\n",
    "I = R.ideal(ders)\n",
    "Gb = I.groebner_basis()\n",
    "print(Gb[-1], \"= 0\")"
   ]
  },
  {
   "cell_type": "code",
   "execution_count": 5,
   "id": "3b1e077f-ea92-45f4-a445-5bce8c8a2e59",
   "metadata": {},
   "outputs": [
    {
     "name": "stdout",
     "output_type": "stream",
     "text": [
      "The roots provide:\n",
      "\n",
      "When beta=0.415467947986187 and gamma=0.388623778132756 we have p=0.149614975606356\n",
      "\n",
      "When beta=0.917865385347146 and gamma=0.388623778132756 we have p=0.146857291142747\n",
      "\n",
      "When beta=0.398299187168959 and gamma=0.281580084709900 we have p=0.150083407311578\n",
      "\n",
      "When beta=0.935034146164375 and gamma=0.281580084709900 we have p=0.139693668001026\n",
      "\n",
      "When beta=0.649497905849455 and gamma=1.14229613715734 we have p=0.118798030775334\n",
      "\n",
      "When beta=0.683835427483879 and gamma=1.14229613715734 we have p=0.119074926545675\n",
      "\n",
      "When beta=0.666666666666667 and gamma=0.500000000000000 we have p=0.148148148148148\n",
      "\n",
      "When beta=0.666666666666667 and gamma=0.500000000000000 we have p=0.148148148148148\n"
     ]
    }
   ],
   "source": [
    "var(\"x y\")\n",
    "print(\"The roots provide:\")\n",
    "for ssg in solve(Gb[-1].subs(gamma=x)==0, x):\n",
    "    ngamma = real_part(ssg.rhs().n())\n",
    "    for ss in solve(Gb[0].subs(beta=y)==0, y):\n",
    "        nbeta = ss.rhs().subs(gamma=ngamma).n()\n",
    "        print(f\"\\nWhen beta={nbeta} and gamma={ngamma} we have p={expr.subs(beta=nbeta, gamma=ngamma)}\")"
   ]
  },
  {
   "cell_type": "markdown",
   "id": "be5d7907-a61d-4ee4-a3e1-2741f746b383",
   "metadata": {},
   "source": [
    "## Section 2 - Testing stability\n",
    "\n",
    "A general script following Theorem 7.1 of Pikhurko–Sliačan–Tyros (2019) is used in subsection 2.1 to verify stability for cases 9-11, and another script tests almost regularity for cases 2 and 15. \n",
    "\n",
    "Then, the conditions for flip averse and strictness are tested for cases 4-6 in Subsection 2.2."
   ]
  },
  {
   "cell_type": "markdown",
   "id": "0cb6459c-b5c1-4954-a90f-a201253a3b15",
   "metadata": {},
   "source": [
    "### Subsection 2.1 - Perfect stability and almost regularity"
   ]
  },
  {
   "cell_type": "code",
   "execution_count": 6,
   "id": "2b637366-663f-4c45-90bc-58b0fe550845",
   "metadata": {},
   "outputs": [],
   "source": [
    "from fractions import Fraction\n",
    "from sage.algebras.combinatorial_theory import _unflatten_matrix\n",
    "import pickle\n",
    "\n",
    "# general helper function to have data in sage compatible format\n",
    "def to_sage(dim, data):\n",
    "    if dim==0:\n",
    "        if isinstance(data, Fraction):\n",
    "            return QQ(data)\n",
    "        if isinstance(data, float):\n",
    "            return RR(data)\n",
    "        return data\n",
    "    return [to_sage(dim-1, xx) for xx in data]\n",
    "\n",
    "def check_stability(index, construction_size, construction_edges, ftype):\n",
    "    violated = False\n",
    "    file = \"certificates/semiind\"+str(index)\n",
    "    print(\"\\n\\nchecking stability for \" + file)\n",
    "    G.reset()\n",
    "    G.printlevel(0)\n",
    "    if not file.endswith(\".pickle\"):\n",
    "        file += \".pickle\"\n",
    "    with open(file, \"rb\") as f:\n",
    "        certificate = pickle.load(f)\n",
    "    target_size = certificate[\"target size\"]\n",
    "    original_bound = to_sage(0, certificate[\"result\"])\n",
    "    \n",
    "    # Checking condition 2.a\n",
    "    ftype_untyped = ftype.subflag(ftype_points=[])\n",
    "    if ftype_untyped != G(1):\n",
    "        G.exclude(ftype_untyped)\n",
    "        target_2a = get_targ(gen4[index])\n",
    "        if target_2a==0: \n",
    "            bound = 0\n",
    "        else:\n",
    "            bound = G.optimize(target_2a, target_size, exact=True, denom=2**20, construction=[])\n",
    "        G.reset()\n",
    "    else:\n",
    "        bound = 0\n",
    "    if bound < original_bound:\n",
    "        print(\" - condition 2.a is satisfied\")\n",
    "    else:\n",
    "        print(\" - condition 2.a is not satisfied\")\n",
    "        violated = True\n",
    "\n",
    "    # Checking condition 3\n",
    "    construction = G.blowup_construction(target_size, construction_size, edges=construction_edges)\n",
    "    cvals = construction.values()\n",
    "    svals = to_sage(1, certificate[\"slack vector\"])\n",
    "    correct_slacks = True\n",
    "    for ii in range(len(svals)):\n",
    "        if svals[ii]==0 and cvals[ii]==0:\n",
    "            correct_slacks = False\n",
    "    if not correct_slacks:\n",
    "        print(\" - condition 3 is not satisfied. The following flags violate it:\")\n",
    "        for ii,ff in enumerate(G.generate(target_size)):\n",
    "            if svals[ii]==0 and cvals[ii]==0:\n",
    "                print(ff)\n",
    "        violated = True\n",
    "    else:\n",
    "        print(\" - condition 3 is satisfied\")\n",
    "\n",
    "    # Checking condition i\n",
    "    index = -1\n",
    "    for ii,xx in enumerate(certificate[\"typed flags\"]):\n",
    "        if xx[1] == ftype._pythonize():\n",
    "            index = ii\n",
    "            break\n",
    "    if index==-1:\n",
    "        print(\" - type not found\")\n",
    "        return\n",
    "    mat = matrix(to_sage(2, _unflatten_matrix(certificate[\"X matrices\"][index])[0]))\n",
    "    if mat.nullity()==1:\n",
    "        print(\" - condition i is satisfied\")\n",
    "        if not violated:\n",
    "            print(\"problem is stable\")\n",
    "        return\n",
    "    else:\n",
    "        print(\" - condition i is not satisfied, the matrix has nullity\", mat.nullity())\n",
    "\n",
    "    # Checking condition ii\n",
    "    B_edges = [xx for xx in construction_edges if xx[0]!=xx[1]]\n",
    "    B = G(construction_size, edges=B_edges)\n",
    "    G.exclude(B)\n",
    "    target_ii = get_targ(gen4[index])\n",
    "    \n",
    "    if target_ii==0: \n",
    "        bound = 0\n",
    "    else:\n",
    "        bound = G.optimize(target_ii, target_size, exact=True, denom=2**20, construction=[])\n",
    "    G.reset()\n",
    "    if bound < original_bound:\n",
    "        print(\" - condition ii is satisfied\")\n",
    "        if not violated:\n",
    "            print(\"problem is stable\")\n",
    "    else:\n",
    "        print(\" - condition ii is not satisfied\")\n",
    "\n",
    "def check_almost_regularity(index):\n",
    "    file = \"certificates/semiind\"+str(index)\n",
    "    print(\"\\n\\nchecking almost regularity for \" + file)\n",
    "    G.reset()\n",
    "    G.printlevel(0)\n",
    "    if not file.endswith(\".pickle\"):\n",
    "        file += \".pickle\"\n",
    "    with open(file, \"rb\") as f:\n",
    "        certificate = pickle.load(f)\n",
    "    target_size = certificate[\"target size\"]\n",
    "    edge_type = G(2, edges=[[0, 1]], ftype=[0, 1])\n",
    "    edge_regularity = G(3, edges=[[0, 1], [0, 2]], ftype=[0, 1]) - G(3, edges=[[0, 1], [1, 2]], ftype=[0, 1])\n",
    "    nonedge_type = G(2, edges=[], ftype=[0, 1])\n",
    "    nonedge_regularity = G(3, edges=[[0, 2]], ftype=[0, 1]) - G(3, edges=[[1, 2]], ftype=[0, 1])\n",
    "    \n",
    "    for ii,xx in enumerate(certificate[\"typed flags\"]):\n",
    "        fsz = xx[0]\n",
    "        ftp = xx[1]\n",
    "        if ftp == edge_type._pythonize():\n",
    "            X = matrix(to_sage(2, _unflatten_matrix(certificate[\"X matrices\"][ii])[0]))\n",
    "            reg_vec = (edge_regularity<<(fsz - 3)).values()\n",
    "            if reg_vec in X.image():\n",
    "                print(\" - almost degree regularity holds between edges\")\n",
    "            else:\n",
    "                print(\" - almost degree regularity fails between edges\")\n",
    "        elif ftp == nonedge_type._pythonize():\n",
    "            X = matrix(to_sage(2, _unflatten_matrix(certificate[\"X matrices\"][ii])[0]))\n",
    "            reg_vec = (nonedge_regularity<<(fsz - 3)).values()\n",
    "            if reg_vec in X.image():\n",
    "                print(\" - almost degree regularity holds between nonedges\")\n",
    "            else:\n",
    "                print(\" - almost degree regularity fails between nonedges\")"
   ]
  },
  {
   "cell_type": "code",
   "execution_count": 7,
   "id": "f4ed7211-2381-4f56-8741-924a3b1a3977",
   "metadata": {},
   "outputs": [
    {
     "name": "stdout",
     "output_type": "stream",
     "text": [
      "\n",
      "\n",
      "checking stability for certificates/semiind9\n",
      " - condition 2.a is satisfied\n",
      " - condition 3 is satisfied\n",
      " - condition i is satisfied\n",
      "problem is stable\n",
      "\n",
      "\n",
      "checking stability for certificates/semiind10\n",
      " - condition 2.a is satisfied\n",
      " - condition 3 is satisfied\n",
      " - condition i is not satisfied, the matrix has nullity 2\n",
      " - condition ii is satisfied\n",
      "problem is stable\n",
      "\n",
      "\n",
      "checking stability for certificates/semiind11\n",
      " - condition 2.a is satisfied\n",
      " - condition 3 is satisfied\n",
      " - condition i is satisfied\n",
      "problem is stable\n"
     ]
    }
   ],
   "source": [
    "# Stability checks based on Theorem 2.3\n",
    "G.reset()\n",
    "def kn_edges(n):\n",
    "    return list(itertools.combinations(range(n), 2))\n",
    "no4b_type = G(5, edges=[xx for xx in kn_edges(5) if xx!=(2, 3)], ftype=[0, 1, 2, 3, 4])\n",
    "no1_type = G(1, ftype=[0])\n",
    "ne_type = G(2, edges=[], ftype=[0, 1])\n",
    "\n",
    "check_stability(9, 5, kn_edges(5), no4b_type)\n",
    "check_stability(10, 2, [[0, 1]], no1_type)\n",
    "check_stability(11, 2, [[0, 1]], ne_type)"
   ]
  },
  {
   "cell_type": "code",
   "execution_count": 8,
   "id": "4a99abe5-6892-4c50-b789-e450d6031736",
   "metadata": {},
   "outputs": [
    {
     "name": "stdout",
     "output_type": "stream",
     "text": [
      "\n",
      "\n",
      "checking almost regularity for certificates/semiind2\n",
      " - almost degree regularity holds between nonedges\n",
      " - almost degree regularity holds between edges\n",
      "\n",
      "\n",
      "checking almost regularity for certificates/semiind15\n",
      " - almost degree regularity holds between nonedges\n",
      " - almost degree regularity holds between edges\n"
     ]
    }
   ],
   "source": [
    "# Almost regularity checks based on Corollary 2.2\n",
    "check_almost_regularity(2)\n",
    "check_almost_regularity(15)"
   ]
  },
  {
   "cell_type": "code",
   "execution_count": 9,
   "id": "24c7f623-f93e-4e06-8166-505f2a52f8bd",
   "metadata": {},
   "outputs": [
    {
     "name": "stdout",
     "output_type": "stream",
     "text": [
      "\n",
      "\n",
      "checking stability for certificates/semiind4\n",
      " - condition 2.a is satisfied\n",
      " - condition 3 is not satisfied. The following flags violate it:\n",
      "Flag on 4 points, ftype from () with edges=(01 02 03 12 13 23)\n",
      " - condition i is satisfied\n",
      "\n",
      "\n",
      "checking stability for certificates/semiind6\n",
      " - condition 2.a is satisfied\n",
      " - condition 3 is not satisfied. The following flags violate it:\n",
      "Flag on 6 points, ftype from () with edges=(01 02 04 05)\n",
      "Flag on 6 points, ftype from () with edges=(02 03 05 12 13 15)\n",
      " - condition i is not satisfied, the matrix has nullity 4\n",
      " - condition ii is satisfied\n"
     ]
    }
   ],
   "source": [
    "no2_type = G(2, ftype=[0, 1])\n",
    "check_stability(4, 3, kn_edges(3), no2_type)\n",
    "check_stability(6, 2, [[0, 1]], no2_type)"
   ]
  },
  {
   "cell_type": "markdown",
   "id": "d83e6447-eb79-4834-86f9-5e2e7a7bca49",
   "metadata": {},
   "source": [
    "### Subsection 2.2 - Flip averseness and strictness"
   ]
  },
  {
   "cell_type": "code",
   "execution_count": 10,
   "id": "6819e853-876c-4b9f-bcc2-6f2ef37f5206",
   "metadata": {},
   "outputs": [],
   "source": [
    "import itertools\n",
    "\n",
    "def check_flip_averse(parts, edges, target):\n",
    "    n = len(parts) if isinstance(parts, list) else parts\n",
    "    weights = parts if isinstance(parts, list) else [1/n]*n\n",
    "    tsize = target.size()\n",
    "    RB = vector(weights).base_ring()\n",
    "    R.<eps> = RB[]\n",
    "    v_new1, v_new2 = n, n + 1\n",
    "    correct = True\n",
    "    for pp in itertools.combinations_with_replacement(range(n), 2):\n",
    "        f1, f2 = pp\n",
    "        new_weights = list(weights)\n",
    "        new_weights[f1] -= eps\n",
    "        new_weights[f2] -= eps\n",
    "        new_weights.extend([eps, eps])\n",
    "        original_edges_set = {tuple(sorted(edge)) for edge in edges}\n",
    "        def get_parent(v):\n",
    "            if v == v_new1:\n",
    "                return f1\n",
    "            if v == v_new2:\n",
    "                return f2\n",
    "            return v\n",
    "        added_edges = set()\n",
    "        for i in range(n + 2):\n",
    "            parent_i = get_parent(i)\n",
    "            parent_new1 = get_parent(v_new1)\n",
    "            if tuple(sorted([parent_i, parent_new1])) in original_edges_set:\n",
    "                added_edges.add(tuple(sorted([i, v_new1])))\n",
    "            parent_new2 = get_parent(v_new2)\n",
    "            if tuple(sorted([parent_i, parent_new2])) in original_edges_set:\n",
    "                added_edges.add(tuple(sorted([i, v_new2])))\n",
    "        edge_to_flip = tuple(sorted([v_new1, v_new2]))\n",
    "        if edge_to_flip in added_edges:\n",
    "            added_edges.remove(edge_to_flip)\n",
    "        else:\n",
    "            added_edges.add(edge_to_flip)\n",
    "        new_edges = edges + [list(edge) for edge in added_edges]\n",
    "        \n",
    "        expr = G.blowup_construction(tsize, new_weights, edges=new_edges).density(target)\n",
    "        diff0 = expr.differentiate(eps, 2).subs(eps=0)\n",
    "        if diff0>=0:\n",
    "            print(\"flip averse fails at pair {}, poly is {}\".format(pp, expr))\n",
    "            correct = False\n",
    "    if correct:\n",
    "        print(\"flip averse check successful\")\n",
    "        \n",
    "\n",
    "def check_strictness(parts, edges, target, optat):\n",
    "    n = len(parts) if isinstance(parts, list) else parts\n",
    "    weights = parts if isinstance(parts, list) else [1/n]*n\n",
    "    tsize = target.size()\n",
    "    target = target.afae()\n",
    "    RB = vector(weights + optat).base_ring()\n",
    "    R = PolynomialRing(RB, n+1, order=\"lex\", names = [\"x\" + str(ii) for ii in range(n)] + [\"z\"])\n",
    "    vars = R.gens()\n",
    "    Z = vars[-1]\n",
    "    new_weights = []\n",
    "    for ii in range(n):\n",
    "        new_weights += [weights[ii]*vars[ii], weights[ii]*(1-vars[ii])]\n",
    "    new_edges = []\n",
    "    for e0, e1 in edges:\n",
    "        d0, d1 = e0*2, e1*2\n",
    "        new_edges += [[d0, d1], [d0, d1+1], [d0+1, d1+1]]\n",
    "        if e0!=e1:\n",
    "            new_edges.append([d0+1, d1])\n",
    "    marked = [[2*ii] for ii in range(n)]\n",
    "    CG = combine(\"ColoredGraph\", G, Color0)\n",
    "    param_cons = CG.blowup_construction(tsize-1, new_weights, edges=new_edges, C0=marked)\n",
    "    expr = R(0)\n",
    "\n",
    "    def attach(cgflag):\n",
    "        nn = cgflag.size() + 1\n",
    "        neds = list(cgflag.blocks(\"edges\"))\n",
    "        neds += [[xx[0], nn-1] for xx in cgflag.blocks(\"C0\")]\n",
    "        return G(nn, edges=neds)\n",
    "\n",
    "    for vv, cfl in param_cons:\n",
    "        expr += target[attach(cfl)] * vv\n",
    "\n",
    "    optimum = expr.subs({vars[ii]:optat[ii] for ii in range(n)})\n",
    "    ders = [expr.derivative(xx) for xx in vars[:-1]]\n",
    "    zexpr = Z - expr\n",
    "    sat_expr = \"\".join(sorted([str(xx) if xx in [0, 1] else \"*\" for xx in optat]))\n",
    "    correct = True\n",
    "    for ppos in itertools.product([\"*\", \"0\", \"1\"], repeat=n):\n",
    "        subs = {vars[ii]: QQ(ppos[ii]) for ii in range(n) if ppos[ii]!=\"*\"}\n",
    "        ids = [ders[ii].subs(subs) for ii in range(n) if ppos[ii]==\"*\"] + [zexpr.subs(subs)]\n",
    "        I = R.ideal(ids)\n",
    "        Gb = I.groebner_basis()\n",
    "        if Gb[-1].subs({Z: optimum})==0:\n",
    "            osat_expr = \"\".join(sorted(ppos))\n",
    "            if osat_expr != sat_expr:\n",
    "                print(\"strictness fails at attachments {}\".format(str(ppos)))\n",
    "                correct = False\n",
    "    if correct:\n",
    "        print(\"strictness check successful\")"
   ]
  },
  {
   "cell_type": "code",
   "execution_count": 11,
   "id": "9d1e976a-f89e-468d-8314-f998d18fbfa3",
   "metadata": {},
   "outputs": [
    {
     "name": "stdout",
     "output_type": "stream",
     "text": [
      "strictness check successful\n",
      "flip averse check successful\n"
     ]
    }
   ],
   "source": [
    "check_strictness(3, kn_edges(3), get_targ(gen4[4]), [1, 0, 0])\n",
    "check_flip_averse(3, kn_edges(3), get_targ(gen4[4]))"
   ]
  },
  {
   "cell_type": "code",
   "execution_count": 12,
   "id": "5b0bc1ff-21ef-4e2b-9228-9cdb11fd0ebd",
   "metadata": {},
   "outputs": [
    {
     "name": "stdout",
     "output_type": "stream",
     "text": [
      "strictness fails at attachments ('0', '0')\n",
      "flip averse check successful\n"
     ]
    }
   ],
   "source": [
    "check_strictness(2, [[0, 1]], get_targ(gen4[6]), [1, 0])\n",
    "check_flip_averse(2, [[0, 1]], get_targ(gen4[6]))"
   ]
  },
  {
   "cell_type": "code",
   "execution_count": 13,
   "id": "4fe7fc50-9ca6-48f5-a972-3623bd618d30",
   "metadata": {},
   "outputs": [
    {
     "name": "stdout",
     "output_type": "stream",
     "text": [
      "strictness check successful\n",
      "flip averse check successful\n"
     ]
    }
   ],
   "source": [
    "var(\"x\")\n",
    "RF = RealField(prec=100)\n",
    "alpha_real = RF(solve(x^2 - 13/7*x + 4/7==0, x)[0].rhs())\n",
    "R.<alpha> = NumberField(x^2 - 13/7*x + 4/7, embedding=alpha_real)\n",
    "targ = get_targ(gen4[5])\n",
    "check_strictness([alpha/4, alpha/4, alpha/4, alpha/4, 1-alpha], list(itertools.combinations(range(5), 2)), targ, [0, 1, 1, 1, 1])\n",
    "check_flip_averse([alpha/4, alpha/4, alpha/4, alpha/4, 1-alpha], list(itertools.combinations(range(5), 2)), targ)"
   ]
  },
  {
   "cell_type": "markdown",
   "id": "c9aa5f8e-83c6-4527-a185-3c067fb8dd80",
   "metadata": {},
   "source": [
    "## Section 3 - Verify certificates\n",
    "\n",
    "If one only wants to verify that any of the exact certificates are indeed correct, it is enough\n",
    "to run this cell. For each step above, it loads the generated certificates and verifies that the matrices are indeed positive semidefinite\n",
    "and that the bound they prove is exactly as claimed. Note however that the majority of the time is spent at calculating the problem data, once that is complete all the cells run quickly and it is not much slower to re-calculate the certificates instead of verifying them."
   ]
  },
  {
   "cell_type": "code",
   "execution_count": 6,
   "id": "ef620c19-8c88-471f-84e0-2d2efa49bee3",
   "metadata": {},
   "outputs": [
    {
     "name": "stdout",
     "output_type": "stream",
     "text": [
      "\n",
      "Testing case 0 with Flag on 4 points, ftype from () with edges=(02), blue_edges=(13)\n",
      "Checking X matrices\n"
     ]
    },
    {
     "name": "stderr",
     "output_type": "stream",
     "text": [
      "5it [00:00, 6837.80it/s]\n"
     ]
    },
    {
     "name": "stdout",
     "output_type": "stream",
     "text": [
      "Solution matrices are all positive semidefinite, linear coefficients are all non-negative\n",
      "Calculating multiplication tables\n"
     ]
    },
    {
     "name": "stderr",
     "output_type": "stream",
     "text": [
      "5it [00:00, 3084.05it/s]\n"
     ]
    },
    {
     "name": "stdout",
     "output_type": "stream",
     "text": [
      "Done calculating linear constraints\n",
      "Calculating the bound provided by the certificate\n"
     ]
    },
    {
     "name": "stderr",
     "output_type": "stream",
     "text": [
      "5it [00:00, 386.37it/s]\n"
     ]
    },
    {
     "name": "stdout",
     "output_type": "stream",
     "text": [
      "The solution is valid, it proves the bound 1/4\n",
      "\n",
      "Testing case 1 with Flag on 4 points, ftype from () with edges=(01), blue_edges=(02 03)\n",
      "Checking X matrices\n"
     ]
    },
    {
     "name": "stderr",
     "output_type": "stream",
     "text": [
      "2it [00:00, 3159.55it/s]\n"
     ]
    },
    {
     "name": "stdout",
     "output_type": "stream",
     "text": [
      "Solution matrices are all positive semidefinite, linear coefficients are all non-negative\n",
      "Calculating multiplication tables\n"
     ]
    },
    {
     "name": "stderr",
     "output_type": "stream",
     "text": [
      "2it [00:00, 2507.81it/s]\n"
     ]
    },
    {
     "name": "stdout",
     "output_type": "stream",
     "text": [
      "Done calculating linear constraints\n",
      "Calculating the bound provided by the certificate\n"
     ]
    },
    {
     "name": "stderr",
     "output_type": "stream",
     "text": [
      "2it [00:00, 903.17it/s]\n"
     ]
    },
    {
     "name": "stdout",
     "output_type": "stream",
     "text": [
      "The solution is valid, it proves the bound 4/27\n",
      "\n",
      "Testing case 2 with Flag on 4 points, ftype from () with edges=(01), blue_edges=(02 13)\n",
      "Checking X matrices\n"
     ]
    },
    {
     "name": "stderr",
     "output_type": "stream",
     "text": [
      "2it [00:00, 5962.05it/s]\n"
     ]
    },
    {
     "name": "stdout",
     "output_type": "stream",
     "text": [
      "Solution matrices are all positive semidefinite, linear coefficients are all non-negative\n",
      "Calculating multiplication tables\n"
     ]
    },
    {
     "name": "stderr",
     "output_type": "stream",
     "text": [
      "2it [00:00, 4264.67it/s]\n"
     ]
    },
    {
     "name": "stdout",
     "output_type": "stream",
     "text": [
      "Done calculating linear constraints\n",
      "Calculating the bound provided by the certificate\n"
     ]
    },
    {
     "name": "stderr",
     "output_type": "stream",
     "text": [
      "2it [00:00, 1771.99it/s]\n"
     ]
    },
    {
     "name": "stdout",
     "output_type": "stream",
     "text": [
      "The solution is valid, it proves the bound 4/27\n",
      "\n",
      "Testing case 4 with Flag on 4 points, ftype from () with edges=(02 03 13), blue_edges=(01)\n",
      "Checking X matrices\n"
     ]
    },
    {
     "name": "stderr",
     "output_type": "stream",
     "text": [
      "2it [00:00, 6009.03it/s]\n"
     ]
    },
    {
     "name": "stdout",
     "output_type": "stream",
     "text": [
      "Solution matrices are all positive semidefinite, linear coefficients are all non-negative\n",
      "Calculating multiplication tables\n"
     ]
    },
    {
     "name": "stderr",
     "output_type": "stream",
     "text": [
      "2it [00:00, 6150.01it/s]\n"
     ]
    },
    {
     "name": "stdout",
     "output_type": "stream",
     "text": [
      "Done calculating linear constraints\n",
      "Calculating the bound provided by the certificate\n"
     ]
    },
    {
     "name": "stderr",
     "output_type": "stream",
     "text": [
      "2it [00:00, 1984.53it/s]\n"
     ]
    },
    {
     "name": "stdout",
     "output_type": "stream",
     "text": [
      "The solution is valid, it proves the bound 4/27\n",
      "\n",
      "Testing case 6 with Flag on 4 points, ftype from () with edges=(02), blue_edges=(01 03 13)\n",
      "Checking X matrices\n"
     ]
    },
    {
     "name": "stderr",
     "output_type": "stream",
     "text": [
      "13it [00:00, 497.63it/s]\n"
     ]
    },
    {
     "name": "stdout",
     "output_type": "stream",
     "text": [
      "Solution matrices are all positive semidefinite, linear coefficients are all non-negative\n",
      "Calculating multiplication tables\n"
     ]
    },
    {
     "name": "stderr",
     "output_type": "stream",
     "text": [
      "13it [00:00, 932.94it/s]\n"
     ]
    },
    {
     "name": "stdout",
     "output_type": "stream",
     "text": [
      "Done calculating linear constraints\n",
      "Calculating the bound provided by the certificate\n"
     ]
    },
    {
     "name": "stderr",
     "output_type": "stream",
     "text": [
      "13it [00:00, 28.79it/s]\n"
     ]
    },
    {
     "name": "stdout",
     "output_type": "stream",
     "text": [
      "The solution is valid, it proves the bound 1/8\n",
      "\n",
      "Testing case 7 with Flag on 4 points, ftype from () with edges=(03), blue_edges=(02 12 13)\n",
      "Checking X matrices\n"
     ]
    },
    {
     "name": "stderr",
     "output_type": "stream",
     "text": [
      "2it [00:00, 5749.56it/s]\n"
     ]
    },
    {
     "name": "stdout",
     "output_type": "stream",
     "text": [
      "Solution matrices are all positive semidefinite, linear coefficients are all non-negative\n",
      "Calculating multiplication tables\n"
     ]
    },
    {
     "name": "stderr",
     "output_type": "stream",
     "text": [
      "2it [00:00, 3675.99it/s]\n"
     ]
    },
    {
     "name": "stdout",
     "output_type": "stream",
     "text": [
      "Done calculating linear constraints\n",
      "Calculating the bound provided by the certificate\n"
     ]
    },
    {
     "name": "stderr",
     "output_type": "stream",
     "text": [
      "2it [00:00, 1673.37it/s]\n"
     ]
    },
    {
     "name": "stdout",
     "output_type": "stream",
     "text": [
      "The solution is valid, it proves the bound 27/256\n",
      "\n",
      "Testing case 8 with Flag on 4 points, ftype from () with edges=(02 03 12 13), blue_edges=(01)\n",
      "Checking X matrices\n"
     ]
    },
    {
     "name": "stderr",
     "output_type": "stream",
     "text": [
      "2it [00:00, 9279.43it/s]\n"
     ]
    },
    {
     "name": "stdout",
     "output_type": "stream",
     "text": [
      "Solution matrices are all positive semidefinite, linear coefficients are all non-negative\n",
      "Calculating multiplication tables\n"
     ]
    },
    {
     "name": "stderr",
     "output_type": "stream",
     "text": [
      "2it [00:00, 3577.23it/s]\n"
     ]
    },
    {
     "name": "stdout",
     "output_type": "stream",
     "text": [
      "Done calculating linear constraints\n",
      "Calculating the bound provided by the certificate\n"
     ]
    },
    {
     "name": "stderr",
     "output_type": "stream",
     "text": [
      "2it [00:00, 1938.67it/s]\n"
     ]
    },
    {
     "name": "stdout",
     "output_type": "stream",
     "text": [
      "The solution is valid, it proves the bound 4/27\n",
      "\n",
      "Testing case 9 with Flag on 4 points, ftype from () with edges=(01 02 12 13), blue_edges=(03)\n",
      "Checking X matrices\n"
     ]
    },
    {
     "name": "stderr",
     "output_type": "stream",
     "text": [
      "39it [00:01, 22.52it/s]\n"
     ]
    },
    {
     "name": "stdout",
     "output_type": "stream",
     "text": [
      "Solution matrices are all positive semidefinite, linear coefficients are all non-negative\n",
      "Calculating multiplication tables\n"
     ]
    },
    {
     "name": "stderr",
     "output_type": "stream",
     "text": [
      "39it [00:00, 127.91it/s]\n"
     ]
    },
    {
     "name": "stdout",
     "output_type": "stream",
     "text": [
      "Done calculating linear constraints\n",
      "Calculating the bound provided by the certificate\n"
     ]
    },
    {
     "name": "stderr",
     "output_type": "stream",
     "text": [
      "39it [00:41,  1.07s/it]\n"
     ]
    },
    {
     "name": "stdout",
     "output_type": "stream",
     "text": [
      "The solution is valid, it proves the bound 12/125\n",
      "\n",
      "Testing case 10 with Flag on 4 points, ftype from () with edges=(01 13), blue_edges=(02 03)\n",
      "Checking X matrices\n"
     ]
    },
    {
     "name": "stderr",
     "output_type": "stream",
     "text": [
      "5it [00:00, 4459.18it/s]\n"
     ]
    },
    {
     "name": "stdout",
     "output_type": "stream",
     "text": [
      "Solution matrices are all positive semidefinite, linear coefficients are all non-negative\n",
      "Calculating multiplication tables\n"
     ]
    },
    {
     "name": "stderr",
     "output_type": "stream",
     "text": [
      "5it [00:00, 2840.13it/s]\n"
     ]
    },
    {
     "name": "stdout",
     "output_type": "stream",
     "text": [
      "Done calculating linear constraints\n",
      "Calculating the bound provided by the certificate\n"
     ]
    },
    {
     "name": "stderr",
     "output_type": "stream",
     "text": [
      "5it [00:00, 398.64it/s]\n"
     ]
    },
    {
     "name": "stdout",
     "output_type": "stream",
     "text": [
      "The solution is valid, it proves the bound 1/8\n",
      "\n",
      "Testing case 11 with Flag on 4 points, ftype from () with edges=(01 03), blue_edges=(02 13)\n",
      "Checking X matrices\n"
     ]
    },
    {
     "name": "stderr",
     "output_type": "stream",
     "text": [
      "2it [00:00, 5979.05it/s]\n"
     ]
    },
    {
     "name": "stdout",
     "output_type": "stream",
     "text": [
      "Solution matrices are all positive semidefinite, linear coefficients are all non-negative\n",
      "Calculating multiplication tables\n"
     ]
    },
    {
     "name": "stderr",
     "output_type": "stream",
     "text": [
      "2it [00:00, 3723.31it/s]\n"
     ]
    },
    {
     "name": "stdout",
     "output_type": "stream",
     "text": [
      "Done calculating linear constraints\n",
      "Calculating the bound provided by the certificate\n"
     ]
    },
    {
     "name": "stderr",
     "output_type": "stream",
     "text": [
      "2it [00:00, 1731.04it/s]\n"
     ]
    },
    {
     "name": "stdout",
     "output_type": "stream",
     "text": [
      "The solution is valid, it proves the bound 1/8\n",
      "\n",
      "Testing case 12 with Flag on 4 points, ftype from () with edges=(02 03), blue_edges=(12 13)\n",
      "Checking X matrices\n"
     ]
    },
    {
     "name": "stderr",
     "output_type": "stream",
     "text": [
      "5it [00:00, 4955.46it/s]\n"
     ]
    },
    {
     "name": "stdout",
     "output_type": "stream",
     "text": [
      "Solution matrices are all positive semidefinite, linear coefficients are all non-negative\n",
      "Calculating multiplication tables\n"
     ]
    },
    {
     "name": "stderr",
     "output_type": "stream",
     "text": [
      "5it [00:00, 3261.00it/s]\n"
     ]
    },
    {
     "name": "stdout",
     "output_type": "stream",
     "text": [
      "Done calculating linear constraints\n",
      "Calculating the bound provided by the certificate\n"
     ]
    },
    {
     "name": "stderr",
     "output_type": "stream",
     "text": [
      "5it [00:00, 395.47it/s]\n"
     ]
    },
    {
     "name": "stdout",
     "output_type": "stream",
     "text": [
      "The solution is valid, it proves the bound 1/8\n",
      "\n",
      "Testing case 13 with Flag on 4 points, ftype from () with edges=(02 13), blue_edges=(03 12)\n",
      "Checking X matrices\n"
     ]
    },
    {
     "name": "stderr",
     "output_type": "stream",
     "text": [
      "5it [00:00, 4351.84it/s]\n"
     ]
    },
    {
     "name": "stdout",
     "output_type": "stream",
     "text": [
      "Solution matrices are all positive semidefinite, linear coefficients are all non-negative\n",
      "Calculating multiplication tables\n"
     ]
    },
    {
     "name": "stderr",
     "output_type": "stream",
     "text": [
      "5it [00:00, 3543.08it/s]\n"
     ]
    },
    {
     "name": "stdout",
     "output_type": "stream",
     "text": [
      "Done calculating linear constraints\n",
      "Calculating the bound provided by the certificate\n"
     ]
    },
    {
     "name": "stderr",
     "output_type": "stream",
     "text": [
      "5it [00:00, 425.14it/s]\n"
     ]
    },
    {
     "name": "stdout",
     "output_type": "stream",
     "text": [
      "The solution is valid, it proves the bound 1/8\n",
      "\n",
      "Testing case 14 with Flag on 4 points, ftype from () with edges=(01 12 13), blue_edges=(02 03)\n",
      "Checking X matrices\n"
     ]
    },
    {
     "name": "stderr",
     "output_type": "stream",
     "text": [
      "5it [00:00, 4432.79it/s]\n"
     ]
    },
    {
     "name": "stdout",
     "output_type": "stream",
     "text": [
      "Solution matrices are all positive semidefinite, linear coefficients are all non-negative\n",
      "Calculating multiplication tables\n"
     ]
    },
    {
     "name": "stderr",
     "output_type": "stream",
     "text": [
      "5it [00:00, 3686.33it/s]\n"
     ]
    },
    {
     "name": "stdout",
     "output_type": "stream",
     "text": [
      "Done calculating linear constraints\n",
      "Calculating the bound provided by the certificate\n"
     ]
    },
    {
     "name": "stderr",
     "output_type": "stream",
     "text": [
      "5it [00:00, 420.61it/s]\n"
     ]
    },
    {
     "name": "stdout",
     "output_type": "stream",
     "text": [
      "The solution is valid, it proves the bound 1/8\n",
      "\n",
      "Testing case 15 with Flag on 4 points, ftype from () with edges=(01 03), blue_edges=(02 12 13)\n",
      "Checking X matrices\n"
     ]
    },
    {
     "name": "stderr",
     "output_type": "stream",
     "text": [
      "2it [00:00, 6004.73it/s]\n"
     ]
    },
    {
     "name": "stdout",
     "output_type": "stream",
     "text": [
      "Solution matrices are all positive semidefinite, linear coefficients are all non-negative\n",
      "Calculating multiplication tables\n"
     ]
    },
    {
     "name": "stderr",
     "output_type": "stream",
     "text": [
      "2it [00:00, 3387.97it/s]\n"
     ]
    },
    {
     "name": "stdout",
     "output_type": "stream",
     "text": [
      "Done calculating linear constraints\n",
      "Calculating the bound provided by the certificate\n"
     ]
    },
    {
     "name": "stderr",
     "output_type": "stream",
     "text": [
      "2it [00:00, 1754.94it/s]\n"
     ]
    },
    {
     "name": "stdout",
     "output_type": "stream",
     "text": [
      "The solution is valid, it proves the bound 1/27\n",
      "\n",
      "Testing case 16 with Flag on 4 points, ftype from () with edges=(03 13), blue_edges=(01 02 12)\n",
      "Checking X matrices\n"
     ]
    },
    {
     "name": "stderr",
     "output_type": "stream",
     "text": [
      "5it [00:00, 4789.11it/s]\n"
     ]
    },
    {
     "name": "stdout",
     "output_type": "stream",
     "text": [
      "Solution matrices are all positive semidefinite, linear coefficients are all non-negative\n",
      "Calculating multiplication tables\n"
     ]
    },
    {
     "name": "stderr",
     "output_type": "stream",
     "text": [
      "5it [00:00, 3453.24it/s]\n"
     ]
    },
    {
     "name": "stdout",
     "output_type": "stream",
     "text": [
      "Done calculating linear constraints\n",
      "Calculating the bound provided by the certificate\n"
     ]
    },
    {
     "name": "stderr",
     "output_type": "stream",
     "text": [
      "5it [00:00, 408.32it/s]\n"
     ]
    },
    {
     "name": "stdout",
     "output_type": "stream",
     "text": [
      "The solution is valid, it proves the bound 1/8\n",
      "\n",
      "Testing case 17 with Flag on 4 points, ftype from () with edges=(01 03 12), blue_edges=(02 13)\n",
      "Checking X matrices\n"
     ]
    },
    {
     "name": "stderr",
     "output_type": "stream",
     "text": [
      "5it [00:00, 4601.04it/s]\n"
     ]
    },
    {
     "name": "stdout",
     "output_type": "stream",
     "text": [
      "Solution matrices are all positive semidefinite, linear coefficients are all non-negative\n",
      "Calculating multiplication tables\n"
     ]
    },
    {
     "name": "stderr",
     "output_type": "stream",
     "text": [
      "5it [00:00, 4206.92it/s]\n"
     ]
    },
    {
     "name": "stdout",
     "output_type": "stream",
     "text": [
      "Done calculating linear constraints\n",
      "Calculating the bound provided by the certificate\n"
     ]
    },
    {
     "name": "stderr",
     "output_type": "stream",
     "text": [
      "5it [00:00, 416.39it/s]"
     ]
    },
    {
     "name": "stdout",
     "output_type": "stream",
     "text": [
      "The solution is valid, it proves the bound 1/8\n"
     ]
    },
    {
     "name": "stderr",
     "output_type": "stream",
     "text": [
      "\n"
     ]
    }
   ],
   "source": [
    "G = GraphTheory\n",
    "G.printlevel(1)\n",
    "BG = Theory(\"BlueGraph\", \"blue_edges\")\n",
    "CG = combine(\"RedBlueGraph\", G, BG, symmetries=FullSymmetry)\n",
    "CG.exclude(CG(2, edges=[[0, 1]], blue_edges=[[0, 1]]))\n",
    "def check_blocks(flg, do, dont):\n",
    "    eds = flg.blocks(\"edges\")\n",
    "    for ee in do:\n",
    "        if ee not in eds:\n",
    "            return False\n",
    "    for ee in dont:\n",
    "        if ee in eds:\n",
    "            return False\n",
    "    return True\n",
    "def get_targ(ff):\n",
    "    vn = ff.size()\n",
    "    eddo = ff.blocks(\"edges\")\n",
    "    eddont = ff.blocks(\"blue_edges\")\n",
    "    pats = G.p(vn, edges=eddo, edges_m=eddont)\n",
    "    targ = 0\n",
    "    for xx in pats.compatible_flags():\n",
    "        coef = 0\n",
    "        for eperm in itertools.permutations(range(vn)):\n",
    "            xxpermed = xx.subflag(eperm)\n",
    "            if check_blocks(xxpermed, eddo, eddont):\n",
    "                coef += 1\n",
    "        targ += coef*xx\n",
    "    return targ*QQ(1/(factorial(vn)))\n",
    "def gen_nont(n):\n",
    "    ret = []\n",
    "    for ff in CG.generate(n):\n",
    "        eds = ff.blocks(\"edges\")\n",
    "        oeds = ff.blocks(\"blue_edges\")\n",
    "        if len(eds)!=0 and len(oeds)!=0:\n",
    "            if len(eds) + len(oeds) != binomial(n, 2):\n",
    "                if len(set(itertools.chain(*(list(eds) + list(oeds)))))==n:\n",
    "                    ret.append(ff)\n",
    "    return ret\n",
    "def flip_colors(fl):\n",
    "    return CG(fl.size(), edges=fl.blocks(\"blue_edges\"), blue_edges=fl.blocks(\"edges\"))\n",
    "gen4 = [(xx if ii not in [4, 8, 9, 10, 14, 17] else flip_colors(xx)) for ii,xx in enumerate(gen_nont(4))]\n",
    "for ii,xx in enumerate(gen4):\n",
    "    if ii in [3, 5]:\n",
    "        continue\n",
    "    print(f\"\\nTesting case {ii} with {gen4[ii]}\")\n",
    "    G.verify(\"certificates/semiind\"+str(ii))"
   ]
  },
  {
   "cell_type": "markdown",
   "id": "b45d627a-8481-43fd-a04b-da9579210acf",
   "metadata": {},
   "source": [
    "## Section 4 - Inspect certificates interactively\n",
    "\n",
    "While largest semi-definite block has dimension 72, most of the obtained results use smaller calculations. This last part allows the interactive inspection of the certificate. An easy to read text file is also exported to the certificates folder, for each exact result.\n",
    "\n",
    "First, an easy to read data is exported. They are simple text files, showing the linear combination of typed configurations, whose (scaled) square provides the final proof in each case.\n",
    "\n",
    "These terms can be inspected afterwards, in an interactive way as well, by running the final cell."
   ]
  },
  {
   "cell_type": "code",
   "execution_count": 14,
   "id": "5d0a7e6a-b04f-4455-ad51-adf4ad73d8b1",
   "metadata": {},
   "outputs": [],
   "source": [
    "import pickle\n",
    "from sage.algebras.combinatorial_theory import _unflatten_matrix\n",
    "G = GraphTheory\n",
    "G.printlevel(0)\n",
    "\n",
    "def hprint(hflag):\n",
    "    vnum = hflag.size()\n",
    "    eds = hflag.blocks(\"edges\")\n",
    "    seds = \"(\" + \" \".join([str(uu)+str(vv) for uu,vv in eds]) + \")\"\n",
    "    type = hflag.ftype_points()\n",
    "    return f\"({vnum} vertex graph with {seds} edges and {type} type)\"\n",
    "def vecprint(vec, tdata, hide=True):\n",
    "    flags = G.generate(tdata[0], tdata[1])\n",
    "    return \"\\n\".join([f\"{ww} \\t {hprint(flags[ii])}\" for ii,ww in enumerate(vec) if ww!=0 or (not hide)])\n",
    "\n",
    "interactive_data = {}\n",
    "\n",
    "for nind in range(18):\n",
    "    name = \"semiind\" + str(nind)\n",
    "    fp = False\n",
    "    try:\n",
    "        cert = pickle.load(open(f\"certificates/{name}.pickle\", \"rb\"))\n",
    "        try:\n",
    "            bound = QQ(cert[\"result\"])\n",
    "        except:\n",
    "            bound = cert[\"result\"]\n",
    "    except:\n",
    "        cert = pickle.load(open(f\"certificates/fp_{name}.pickle\", \"rb\"))\n",
    "        fp = True\n",
    "        bound = RR(cert[\"result\"])\n",
    "    tsize = cert[\"target size\"]\n",
    "    base_strs = G.generate(tsize)\n",
    "    base_hprint = \"\\n\".join(map(hprint, base_strs))\n",
    "    slacks_hprint = vecprint(vector(cert[\"slack vector\"]), [tsize, None], False)\n",
    "    slacks = cert[\"slack vector\"]\n",
    "    int_data = {\n",
    "        \"0 - the final bound\": bound,\n",
    "        \"1 - the vertices of the graphs used\": tsize, \n",
    "        \"2 - the list of maximum sized graphs used\": base_hprint, \n",
    "        \"3 - the list of slack values\": slacks_hprint\n",
    "    }\n",
    "    squares = {}\n",
    "    with open(f\"certificates/{name}.txt\", \"w\") as file:\n",
    "        file.write(f\"Text certificate for {name} proving the bound {bound}\\n{\"=\"*50}\\n\\n\")\n",
    "        file.write(f\"Base structures\\n{base_hprint}\\n{\"=\"*50}\\n\\n\")\n",
    "        file.write(f\"Slack values\\n{slacks_hprint}\\n{\"=\"*50}\\n\\n\")\n",
    "        file.write(f\"Semi-definite blocks\\n\")\n",
    "        for ii,tdata in enumerate(cert[\"typed flags\"].keys()):\n",
    "            tdata = [tdata[0], G(tdata[1][0], ftype=tdata[1][1], **dict(tdata[1][2]))]\n",
    "            mat = _unflatten_matrix(cert[\"X matrices\"][ii])[0]\n",
    "            P, L, D = mat.block_ldlt()\n",
    "            type_hprint = hprint(tdata[1])\n",
    "            type_interactive = {}\n",
    "            file.write(f\"\\n{\"-\"*50}\\n\\n\\nType {type_hprint} contributes the following\")\n",
    "            all_squares = \"\"\n",
    "            for jj,col in enumerate((P*L).columns()):\n",
    "                text = f\"\\n{D[jj,jj]} scaled square of \\n{vecprint(col, tdata)}\\n\\n\"\n",
    "                all_squares += text\n",
    "                type_interactive[f\"{jj} - the square with this index and it's scale\"] = text\n",
    "                if D[jj,jj]!=0:\n",
    "                    file.write(text)\n",
    "            type_interactive[f\"{P.nrows()} - all the squares and their scale\"] = all_squares\n",
    "            squares[f\"{ii} - squares coming from type {type_hprint}\"] = type_interactive\n",
    "    int_data[\"4 - the squares used in the proof\"] = squares\n",
    "    interactive_data[f\"{nind} - certificate for {name}\"] = int_data"
   ]
  },
  {
   "cell_type": "code",
   "execution_count": 15,
   "id": "5fdb7421-179b-414d-b955-3801094b1b9b",
   "metadata": {},
   "outputs": [
    {
     "name": "stdout",
     "output_type": "stream",
     "text": [
      "0 - certificate for semiind0\n",
      "1 - certificate for semiind1\n",
      "2 - certificate for semiind2\n",
      "3 - certificate for semiind3\n",
      "4 - certificate for semiind4\n",
      "5 - certificate for semiind5\n",
      "6 - certificate for semiind6\n",
      "7 - certificate for semiind7\n",
      "8 - certificate for semiind8\n",
      "9 - certificate for semiind9\n",
      "10 - certificate for semiind10\n",
      "11 - certificate for semiind11\n",
      "12 - certificate for semiind12\n",
      "13 - certificate for semiind13\n",
      "14 - certificate for semiind14\n",
      "15 - certificate for semiind15\n",
      "16 - certificate for semiind16\n",
      "17 - certificate for semiind17\n",
      "\n",
      "\n"
     ]
    },
    {
     "name": "stdin",
     "output_type": "stream",
     "text": [
      "Inspect:  4\n"
     ]
    },
    {
     "name": "stdout",
     "output_type": "stream",
     "text": [
      "\n",
      "\n",
      "0 - the final bound\n",
      "1 - the vertices of the graphs used\n",
      "2 - the list of maximum sized graphs used\n",
      "3 - the list of slack values\n",
      "4 - the squares used in the proof\n",
      "\n",
      "\n"
     ]
    },
    {
     "name": "stdin",
     "output_type": "stream",
     "text": [
      "Inspect:  4\n"
     ]
    },
    {
     "name": "stdout",
     "output_type": "stream",
     "text": [
      "\n",
      "\n",
      "0 - squares coming from type (2 vertex graph with () edges and (0, 1) type)\n",
      "1 - squares coming from type (2 vertex graph with (01) edges and (0, 1) type)\n",
      "\n",
      "\n"
     ]
    },
    {
     "name": "stdin",
     "output_type": "stream",
     "text": [
      "Inspect:  0\n"
     ]
    },
    {
     "name": "stdout",
     "output_type": "stream",
     "text": [
      "\n",
      "\n",
      "0 - the square with this index and it's scale\n",
      "1 - the square with this index and it's scale\n",
      "2 - the square with this index and it's scale\n",
      "3 - the square with this index and it's scale\n",
      "4 - all the squares and their scale\n",
      "\n",
      "\n"
     ]
    },
    {
     "name": "stdin",
     "output_type": "stream",
     "text": [
      "Inspect:  4\n"
     ]
    },
    {
     "name": "stdout",
     "output_type": "stream",
     "text": [
      "\n",
      "\n",
      "\n",
      "4/27 scaled square of \n",
      "1 \t (3 vertex graph with () edges and (0, 1) type)\n",
      "-173799/1048576 \t (3 vertex graph with (01) edges and (0, 2) type)\n",
      "-173799/1048576 \t (3 vertex graph with (01) edges and (2, 0) type)\n",
      "-1/2 \t (3 vertex graph with (01 02) edges and (1, 2) type)\n",
      "\n",
      "\n",
      "80519713181/274877906944 scaled square of \n",
      "1 \t (3 vertex graph with (01) edges and (0, 2) type)\n",
      "-43858177635/80519713181 \t (3 vertex graph with (01) edges and (2, 0) type)\n",
      "\n",
      "\n",
      "271790293770271/1319234980757504 scaled square of \n",
      "1 \t (3 vertex graph with (01) edges and (2, 0) type)\n",
      "\n",
      "\n",
      "0 scaled square of \n",
      "1 \t (3 vertex graph with (01 02) edges and (1, 2) type)\n",
      "\n",
      "\n"
     ]
    }
   ],
   "source": [
    "def inspect(dd):\n",
    "    keys = list(dd.keys())\n",
    "    for kk in keys:\n",
    "        print(kk)\n",
    "    print(\"\\n\")\n",
    "    val = input(\"Inspect: \")\n",
    "    res = dd[keys[int(val)]]\n",
    "    print(\"\\n\")\n",
    "    if isinstance(res, dict):\n",
    "        inspect(res)\n",
    "    else:\n",
    "        print(res)\n",
    "\n",
    "inspect(interactive_data)"
   ]
  },
  {
   "cell_type": "code",
   "execution_count": null,
   "id": "b22f8faf-1671-4b33-ac2d-350d6930601f",
   "metadata": {},
   "outputs": [],
   "source": []
  }
 ],
 "metadata": {
  "kernelspec": {
   "display_name": "SageMath 10.5.beta7",
   "language": "sage",
   "name": "sagemath"
  },
  "language_info": {
   "codemirror_mode": {
    "name": "ipython",
    "version": 3
   },
   "file_extension": ".py",
   "mimetype": "text/x-python",
   "name": "python",
   "nbconvert_exporter": "python",
   "pygments_lexer": "ipython3",
   "version": "3.12.3"
  }
 },
 "nbformat": 4,
 "nbformat_minor": 5
}
