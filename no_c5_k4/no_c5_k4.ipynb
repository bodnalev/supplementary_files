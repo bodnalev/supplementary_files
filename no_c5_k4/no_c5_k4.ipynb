{
 "cells": [
  {
   "cell_type": "code",
   "execution_count": 2,
   "id": "760f38e8-b61f-45f4-8c26-95eec3f2dbc7",
   "metadata": {},
   "outputs": [
    {
     "name": "stdout",
     "output_type": "stream",
     "text": [
      "Number of structures without C5, K4\n",
      "and size 5:  20  (should be 20)\n",
      "and size 6:  572  (should be 572)\n",
      "\n",
      "Number of 2 colored structures without C5, K4\n",
      "and size 5:  338  (should be 338)\n",
      "and size 6:  28080  (should be 28080)\n"
     ]
    },
    {
     "name": "stderr",
     "output_type": "stream",
     "text": [
      "100%|███████████████████████████████████████████████████████████████████████████████████████████████████████████████████████████████████████████████████████████| 7/7 [00:00<00:00, 12.61it/s]\n"
     ]
    }
   ],
   "source": [
    "# Setting up three graph theory\n",
    "K4 = ThreeGraphTheory(4, edges=[[0, 1, 2], [1, 2, 3], [0, 2, 3], [0, 1, 3]])\n",
    "C5 = ThreeGraphTheory.p(5, edges=[[0, 1, 2], [1, 2, 3], [2, 3, 4], [3, 4, 0], [4, 0, 1]])\n",
    "ThreeGraphTheory.exclude([K4, C5])\n",
    "TGp = ThreeGraphTheory\n",
    "\n",
    "# Setting up colored theory\n",
    "TwoColorTheory = combine(\"2Colors\", Color0, Color1, symmetries=NoSymmetry)\n",
    "TwoColorTheory.exclude([TwoColorTheory(1), TwoColorTheory(1, C0=[0], C1=[0])])\n",
    "CTG = combine(\"2ColorThreeGraphs\", TGp, TwoColorTheory)\n",
    "\n",
    "# Testing the generation of structures\n",
    "print(\"Number of structures without C5, K4\")\n",
    "print(\"and size 5: \", len(TGp.generate(5)), \" (should be 20)\")\n",
    "print(\"and size 6: \", len(TGp.generate(6)), \" (should be 572)\")\n",
    "\n",
    "print(\"\\nNumber of 2 colored structures without C5, K4\")\n",
    "print(\"and size 5: \", len(CTG.generate(5)), \" (should be 338)\")\n",
    "print(\"and size 6: \", len(CTG.generate(6)), \" (should be 28080)\")\n",
    "\n",
    "\n",
    "target_size = 6\n",
    "\n",
    "# Edge with correct colors\n",
    "C = CTG(3, edges=[[0, 1, 2]], C0=[0, 1], C1=[2])\n",
    "# Missing edge with good colors\n",
    "M = CTG(3, edges=[], C0=[0, 1], C1=[2])\n",
    "# Pointed edge with correct colors, point from color 0\n",
    "Cp0 = CTG(3, edges=[[0, 1, 2]], C0=[0, 1], C1=[2], ftype=[0])\n",
    "# Pointed edge with correct colors, point from color 1\n",
    "Cp1 = CTG(3, edges=[[0, 1, 2]], C0=[0, 1], C1=[2], ftype=[2])\n",
    "\n",
    "\n",
    "# Edge with bad colors all in color 0\n",
    "B000 = CTG(3, edges=[[0, 1, 2]], C0=[0, 1, 2], C1=[])\n",
    "# Edge with bad colors, looking the wrong way\n",
    "B011 = CTG(3, edges=[[0, 1, 2]], C0=[0], C1=[1, 2])\n",
    "# Pointed edge with bad colors, point from moving 1 -> 0\n",
    "Bp0 = CTG(3, edges=[[0, 1, 2]], C0=[0, 1, 2], C1=[], ftype=[0])\n",
    "# Pointed edge with bad colors, point from moving 0 -> 1\n",
    "Bp1 = CTG(3, edges=[[0, 1, 2]], C0=[0], C1=[1, 2], ftype=[2])\n",
    "\n",
    "# Degree equality conditions for various type pairs\n",
    "degeq_00 = CTG.p(4, ftype=[0, 1], edges=[[0, 2, 3]], edges_m=[[1, 2, 3]], C0=[0, 1]) - \\\n",
    "           CTG.p(4, ftype=[1, 0], edges=[[0, 2, 3]], edges_m=[[1, 2, 3]], C0=[0, 1])\n",
    "degeq_01 = CTG.p(4, ftype=[0, 1], edges=[[0, 2, 3]], edges_m=[[1, 2, 3]], C0=[0], C1=[1]) - \\\n",
    "           CTG.p(4, ftype=[0, 1], edges=[[1, 2, 3]], edges_m=[[0, 2, 3]], C0=[0], C1=[1])\n",
    "degeq_11 = CTG.p(4, ftype=[0, 1], edges=[[0, 2, 3]], edges_m=[[1, 2, 3]], C1=[0, 1]) - \\\n",
    "           CTG.p(4, ftype=[1, 0], edges=[[0, 2, 3]], edges_m=[[1, 2, 3]], C1=[0, 1])\n",
    "\n",
    "# Assumptions used in the proof\n",
    "assums = [Cp0 - Bp0, Cp1 - Bp1, degeq_00, -degeq_00, degeq_01, -degeq_01, degeq_11, -degeq_11, C - 34/100]\n",
    "\n",
    "# Close rational approximation for gamma: 2521/5432\n",
    "gamma = continued_fraction(2*sqrt(3) - 3).convergent(7)\n",
    "# Optimal construction and its derivatives\n",
    "symbolic_constr = CTG.blowup_construction(target_size, 2, edges=[[0, 0, 1]], C0=[[0]], C1=[[1]], symbolic_parts=True).set_sum()\n",
    "ders = symbolic_constr.derivatives([gamma])\n",
    "\n",
    "# Only use a subset of the types\n",
    "all_types = CTG._get_relevant_ftypes(target_size)\n",
    "idx_good_types = [7, 6, 5, 4, 3, 15, 14, 13, 12, 11, 10, 9, 8, 24, 23, 22, 21, 20, 19]\n",
    "ftype_subset = [all_types[ii] for ii in idx_good_types]"
   ]
  },
  {
   "cell_type": "code",
   "execution_count": 3,
   "id": "1818358a-590f-4de7-9301-d129f096e2e3",
   "metadata": {},
   "outputs": [
    {
     "name": "stdout",
     "output_type": "stream",
     "text": [
      "Base flags generated, their number is 28080\n",
      "The relevant ftypes are constructed, their number is 19\n",
      "Block sizes before symmetric/asymmetric change is applied: [128, 128, 128, 128, 128, 112, 112, 112, 112, 112, 112, 112, 112, 82, 82, 82, 82, 82, 82]\n"
     ]
    },
    {
     "name": "stderr",
     "output_type": "stream",
     "text": [
      "Done with mult table for Ftype on 4 points with edges=(012 023), C0=(2 3), C1=(0 1): : 19it [00:09,  2.08it/s] \n"
     ]
    },
    {
     "name": "stdout",
     "output_type": "stream",
     "text": [
      "Adjusting table with kernels from construction\n",
      "Tables finished\n"
     ]
    },
    {
     "name": "stderr",
     "output_type": "stream",
     "text": [
      "Done with positivity constraint 8: 100%|████████████████████████████████████████████████████████████████████████████████████████████████████████████████████████| 9/9 [08:19<00:00, 55.45s/it]\n"
     ]
    },
    {
     "name": "stdout",
     "output_type": "stream",
     "text": [
      "Constraints finished\n",
      "Running SDP. Used block sizes are [21, 106, 40, 88, 56, 72, 39, 88, 21, 106, 32, 80, 70, 42, 32, 80, 68, 44, 68, 44, 32, 80, 68, 44, 32, 80, 39, 43, 50, 32, 55, 27, 35, 46, 36, 46, 82, -28080, -304]\n",
      "CSDP 6.2.0\n",
      "Iter:  0 Ap: 0.00e+00 Pobj:  0.0000000e+00 Ad: 0.00e+00 Dobj:  0.0000000e+00 \n",
      "Iter:  1 Ap: 1.03e-02 Pobj: -2.2765741e+00 Ad: 6.93e-02 Dobj:  1.9133058e+03 \n",
      "Iter:  2 Ap: 1.29e-01 Pobj: -2.3879035e+01 Ad: 5.41e-02 Dobj:  2.6166194e+03 \n",
      "Iter:  3 Ap: 2.70e-01 Pobj: -6.0302109e+01 Ad: 2.65e-01 Dobj:  3.0370900e+03 \n",
      "Iter:  4 Ap: 9.55e-01 Pobj: -1.7239710e+02 Ad: 3.73e-01 Dobj:  2.3268937e+03 \n",
      "Iter:  5 Ap: 1.00e+00 Pobj: -1.9459670e+02 Ad: 7.91e-01 Dobj:  5.4840156e+02 \n",
      "Iter:  6 Ap: 1.00e+00 Pobj: -2.0574913e+02 Ad: 8.91e-01 Dobj:  6.4421769e+01 \n",
      "Iter:  7 Ap: 1.00e+00 Pobj: -2.1691278e+02 Ad: 9.44e-01 Dobj:  3.7870583e+00 \n",
      "Iter:  8 Ap: 1.00e+00 Pobj: -2.4222538e+02 Ad: 8.83e-01 Dobj:  4.9067938e-01 \n",
      "Iter:  9 Ap: 1.00e+00 Pobj: -3.2556196e+02 Ad: 6.10e-01 Dobj:  2.1670814e-01 \n",
      "Iter: 10 Ap: 6.93e-01 Pobj: -4.0432890e+02 Ad: 5.11e-01 Dobj:  1.1426551e-01 \n",
      "Iter: 11 Ap: 3.54e-01 Pobj: -4.3384749e+02 Ad: 4.77e-01 Dobj:  8.6871739e-02 \n",
      "Iter: 12 Ap: 5.48e-01 Pobj: -5.1281421e+02 Ad: 4.78e-01 Dobj:  8.2381895e-02 \n",
      "Iter: 13 Ap: 2.67e-01 Pobj: -5.3373642e+02 Ad: 3.90e-01 Dobj:  6.9109053e-02 \n",
      "Iter: 14 Ap: 3.43e-01 Pobj: -5.2998349e+02 Ad: 4.48e-01 Dobj:  6.0025739e-02 \n",
      "Iter: 15 Ap: 2.55e-01 Pobj: -5.1355571e+02 Ad: 3.93e-01 Dobj:  5.2219561e-02 \n",
      "Iter: 16 Ap: 2.70e-01 Pobj: -5.1337791e+02 Ad: 3.64e-01 Dobj:  4.9702522e-02 \n",
      "Iter: 17 Ap: 5.27e-01 Pobj: -4.8864313e+02 Ad: 4.47e-01 Dobj:  4.8338062e-02 \n",
      "Iter: 18 Ap: 2.91e-01 Pobj: -5.0598664e+02 Ad: 4.71e-01 Dobj:  4.8860533e-02 \n",
      "Iter: 19 Ap: 2.13e-01 Pobj: -5.0649086e+02 Ad: 5.05e-01 Dobj:  4.9213448e-02 \n",
      "Iter: 20 Ap: 2.76e-01 Pobj: -4.8996458e+02 Ad: 3.78e-01 Dobj:  4.9508833e-02 \n",
      "Iter: 21 Ap: 3.84e-01 Pobj: -4.6356641e+02 Ad: 4.56e-01 Dobj:  4.9158813e-02 \n",
      "Iter: 22 Ap: 4.36e-01 Pobj: -4.3812173e+02 Ad: 4.73e-01 Dobj:  4.8732299e-02 \n",
      "Iter: 23 Ap: 5.68e-01 Pobj: -3.8772287e+02 Ad: 5.35e-01 Dobj:  4.8145919e-02 \n",
      "Iter: 24 Ap: 6.93e-01 Pobj: -3.2062050e+02 Ad: 7.37e-01 Dobj:  4.7516245e-02 \n",
      "Iter: 25 Ap: 8.46e-01 Pobj: -1.6868885e+02 Ad: 1.00e+00 Dobj:  4.7185175e-02 \n",
      "Iter: 26 Ap: 9.63e-01 Pobj: -1.5315589e+01 Ad: 1.00e+00 Dobj:  4.7160173e-02 \n",
      "Iter: 27 Ap: 9.72e-01 Pobj: -1.8331649e+00 Ad: 1.00e+00 Dobj:  4.7011785e-02 \n",
      "Iter: 28 Ap: 1.00e+00 Pobj: -7.5061973e-01 Ad: 1.00e+00 Dobj:  4.5855367e-02 \n",
      "Iter: 29 Ap: 1.00e+00 Pobj: -4.0397812e-01 Ad: 9.33e-01 Dobj:  4.4035827e-02 \n",
      "Iter: 30 Ap: 1.00e+00 Pobj: -3.2067987e-01 Ad: 1.00e+00 Dobj:  4.2531974e-02 \n",
      "Iter: 31 Ap: 1.00e+00 Pobj: -2.1686376e-01 Ad: 7.67e-01 Dobj:  4.0777060e-02 \n",
      "Iter: 32 Ap: 2.61e-01 Pobj: -2.0667085e-01 Ad: 1.00e+00 Dobj:  3.9151622e-02 \n",
      "Iter: 33 Ap: 9.39e-01 Pobj: -1.6775449e-01 Ad: 1.00e+00 Dobj:  3.7979474e-02 \n",
      "Iter: 34 Ap: 9.11e-01 Pobj: -1.0353926e-01 Ad: 8.81e-01 Dobj:  3.4634919e-02 \n",
      "Iter: 35 Ap: 6.06e-01 Pobj: -8.7471703e-02 Ad: 8.71e-01 Dobj:  3.1766297e-02 \n",
      "Iter: 36 Ap: 2.41e-01 Pobj: -8.4809310e-02 Ad: 3.97e-01 Dobj:  3.1421788e-02 \n",
      "Iter: 37 Ap: 1.00e-01 Pobj: -8.3640153e-02 Ad: 2.86e-01 Dobj:  3.1441507e-02 \n",
      "Iter: 38 Ap: 2.62e-01 Pobj: -7.8845061e-02 Ad: 5.45e-01 Dobj:  3.0480120e-02 \n",
      "Iter: 39 Ap: 2.76e-01 Pobj: -7.4064020e-02 Ad: 7.91e-01 Dobj:  2.8777312e-02 \n",
      "Iter: 40 Ap: 2.47e-01 Pobj: -7.0867887e-02 Ad: 7.29e-01 Dobj:  2.8172196e-02 \n",
      "Iter: 41 Ap: 3.12e-01 Pobj: -6.6684810e-02 Ad: 8.43e-01 Dobj:  2.7187660e-02 \n",
      "Iter: 42 Ap: 3.95e-01 Pobj: -6.0666916e-02 Ad: 8.27e-01 Dobj:  2.6081388e-02 \n",
      "Iter: 43 Ap: 5.56e-01 Pobj: -5.0876063e-02 Ad: 1.00e+00 Dobj:  2.4054700e-02 \n",
      "Iter: 44 Ap: 6.62e-01 Pobj: -3.8741824e-02 Ad: 1.00e+00 Dobj:  2.1859486e-02 \n",
      "Iter: 45 Ap: 9.17e-01 Pobj: -2.4394959e-02 Ad: 1.00e+00 Dobj:  1.9311829e-02 \n",
      "Iter: 46 Ap: 6.70e-01 Pobj: -1.8975396e-02 Ad: 1.00e+00 Dobj:  1.7092314e-02 \n",
      "Iter: 47 Ap: 6.68e-01 Pobj: -1.4286510e-02 Ad: 1.00e+00 Dobj:  1.4736221e-02 \n",
      "Iter: 48 Ap: 6.85e-01 Pobj: -9.7633806e-03 Ad: 1.00e+00 Dobj:  1.2059180e-02 \n",
      "Iter: 49 Ap: 7.61e-01 Pobj: -5.9059851e-03 Ad: 1.00e+00 Dobj:  9.5704518e-03 \n",
      "Iter: 50 Ap: 6.84e-01 Pobj: -3.8526819e-03 Ad: 1.00e+00 Dobj:  7.0059508e-03 \n",
      "Iter: 51 Ap: 5.78e-01 Pobj: -2.9094255e-03 Ad: 8.57e-01 Dobj:  6.0818902e-03 \n",
      "Iter: 52 Ap: 6.41e-01 Pobj: -2.0292219e-03 Ad: 1.00e+00 Dobj:  4.6528637e-03 \n",
      "Iter: 53 Ap: 8.16e-01 Pobj: -1.0879877e-03 Ad: 1.00e+00 Dobj:  3.3101000e-03 \n",
      "Iter: 54 Ap: 4.56e-01 Pobj: -8.3186281e-04 Ad: 1.00e+00 Dobj:  2.6941500e-03 \n",
      "Iter: 55 Ap: 5.89e-01 Pobj: -5.4710550e-04 Ad: 1.00e+00 Dobj:  2.0286464e-03 \n",
      "Iter: 56 Ap: 5.19e-01 Pobj: -3.6467697e-04 Ad: 8.87e-01 Dobj:  1.5728297e-03 \n",
      "Iter: 57 Ap: 3.44e-01 Pobj: -2.9877181e-04 Ad: 5.62e-01 Dobj:  1.4975820e-03 \n",
      "Iter: 58 Ap: 3.55e-01 Pobj: -2.3950587e-04 Ad: 6.23e-01 Dobj:  1.2544183e-03 \n",
      "Iter: 59 Ap: 2.49e-01 Pobj: -2.0651868e-04 Ad: 4.86e-01 Dobj:  1.2015855e-03 \n",
      "Iter: 60 Ap: 3.29e-01 Pobj: -1.6771124e-04 Ad: 6.69e-01 Dobj:  9.7094461e-04 \n",
      "Iter: 61 Ap: 5.24e-01 Pobj: -1.0921403e-04 Ad: 8.59e-01 Dobj:  6.3924899e-04 \n",
      "Iter: 62 Ap: 7.10e-01 Pobj: -5.7535389e-05 Ad: 1.00e+00 Dobj:  4.1835054e-04 \n",
      "Iter: 63 Ap: 7.63e-01 Pobj: -2.7266187e-05 Ad: 1.00e+00 Dobj:  2.0255319e-04 \n",
      "Iter: 64 Ap: 6.37e-01 Pobj: -1.6278039e-05 Ad: 1.00e+00 Dobj:  1.0774096e-04 \n",
      "Iter: 65 Ap: 4.10e-01 Pobj: -1.2403505e-05 Ad: 5.73e-01 Dobj:  8.1293752e-05 \n",
      "Iter: 66 Ap: 4.17e-01 Pobj: -9.6645010e-06 Ad: 7.43e-01 Dobj:  5.7731527e-05 \n",
      "Iter: 67 Ap: 6.02e-01 Pobj: -6.3559757e-06 Ad: 8.33e-01 Dobj:  2.4552920e-05 \n",
      "Iter: 68 Ap: 6.62e-01 Pobj: -4.1690524e-06 Ad: 8.52e-01 Dobj:  7.7161647e-07 \n",
      "Iter: 69 Ap: 6.64e-01 Pobj: -3.0923204e-06 Ad: 1.00e+00 Dobj: -1.0716150e-05 \n",
      "Iter: 70 Ap: 7.37e-01 Pobj: -2.1813711e-06 Ad: 1.00e+00 Dobj: -2.7707727e-05 \n",
      "Iter: 71 Ap: 6.15e-01 Pobj: -1.7267510e-06 Ad: 8.85e-01 Dobj: -3.5407899e-05 \n",
      "Iter: 72 Ap: 2.73e-01 Pobj: -1.6231963e-06 Ad: 9.86e-01 Dobj: -3.8189737e-05 \n",
      "Iter: 73 Ap: 7.23e-01 Pobj: -1.2218805e-06 Ad: 8.23e-01 Dobj: -4.4827365e-05 \n",
      "Iter: 74 Ap: 3.71e-01 Pobj: -1.1121193e-06 Ad: 1.00e+00 Dobj: -4.9039183e-05 \n",
      "Iter: 75 Ap: 8.89e-01 Pobj: -8.7999210e-07 Ad: 1.00e+00 Dobj: -5.0629538e-05 \n",
      "Iter: 76 Ap: 7.55e-01 Pobj: -7.3973666e-07 Ad: 8.84e-01 Dobj: -5.4341383e-05 \n",
      "Iter: 77 Ap: 5.02e-01 Pobj: -6.9466121e-07 Ad: 1.00e+00 Dobj: -5.5760491e-05 \n",
      "Iter: 78 Ap: 7.86e-01 Pobj: -6.0174762e-07 Ad: 1.00e+00 Dobj: -5.7662606e-05 \n",
      "Iter: 79 Ap: 8.45e-01 Pobj: -5.3716296e-07 Ad: 1.00e+00 Dobj: -5.8791618e-05 \n",
      "Iter: 80 Ap: 7.63e-01 Pobj: -4.9845583e-07 Ad: 1.00e+00 Dobj: -5.9689207e-05 \n",
      "Iter: 81 Ap: 6.85e-01 Pobj: -4.7331327e-07 Ad: 9.15e-01 Dobj: -6.0186611e-05 \n",
      "Iter: 82 Ap: 1.00e+00 Pobj: -4.4440146e-07 Ad: 1.00e+00 Dobj: -6.0615691e-05 \n",
      "Iter: 83 Ap: 1.38e-01 Pobj: -4.0303341e-07 Ad: 4.58e-01 Dobj: -4.8153684e-05 \n",
      "Iter: 84 Ap: 1.97e-01 Pobj: -3.1797771e-07 Ad: 4.06e-01 Dobj: -4.0785721e-05 \n",
      "Iter: 85 Ap: 1.05e-01 Pobj: -2.6689592e-07 Ad: 2.68e-01 Dobj: -3.6044149e-05 \n",
      "Iter: 86 Ap: 3.77e-01 Pobj: -1.6388735e-07 Ad: 7.78e-01 Dobj: -2.5558384e-05 \n",
      "Iter: 87 Ap: 3.74e-01 Pobj: -1.0501738e-07 Ad: 5.39e-01 Dobj: -2.1834897e-05 \n",
      "Iter: 88 Ap: 5.53e-01 Pobj: -5.7668342e-08 Ad: 7.55e-01 Dobj: -1.7932817e-05 \n",
      "Iter: 89 Ap: 3.28e-01 Pobj: -4.2138597e-08 Ad: 3.78e-01 Dobj: -1.3568181e-05 \n",
      "Iter: 90 Ap: 5.12e-01 Pobj: -2.4717109e-08 Ad: 6.77e-01 Dobj: -7.7285836e-06 \n",
      "Iter: 91 Ap: 6.30e-01 Pobj: -1.1222761e-08 Ad: 1.00e+00 Dobj: -3.7380599e-06 \n",
      "Iter: 92 Ap: 3.33e-01 Pobj: -7.0547231e-09 Ad: 3.73e-01 Dobj: -2.8093745e-06 \n",
      "Iter: 93 Ap: 3.92e-01 Pobj: -4.8256004e-09 Ad: 3.71e-01 Dobj: -1.9778397e-06 \n",
      "Iter: 94 Ap: 8.77e-01 Pobj: -1.2043762e-09 Ad: 9.44e-01 Dobj: -6.6992744e-07 \n",
      "Iter: 95 Ap: 8.33e-01 Pobj: -4.2523445e-10 Ad: 1.00e+00 Dobj: -1.9988739e-07 \n",
      "Iter: 96 Ap: 9.62e-01 Pobj:  3.1721574e-10 Ad: 6.71e-01 Dobj: -8.3007306e-08 \n",
      "Iter: 97 Ap: 6.93e-01 Pobj:  1.0239653e-10 Ad: 8.88e-01 Dobj: -1.4422017e-08 \n",
      "Success: SDP solved\n",
      "Primal objective value: 1.0239653e-10 \n",
      "Dual objective value: -1.4422017e-08 \n",
      "Relative primal infeasibility: 1.74e-09 \n",
      "Relative dual infeasibility: 1.40e-10 \n",
      "Real Relative Gap: -1.45e-08 \n",
      "XZ Relative Gap: 3.90e-10 \n",
      "DIMACS error measures: 3.27e-08 0.00e+00 4.40e-10 0.00e+00 -1.45e-08 3.90e-10\n"
     ]
    },
    {
     "data": {
      "text/plain": [
       "-1.0239652788873732e-10"
      ]
     },
     "execution_count": 3,
     "metadata": {},
     "output_type": "execute_result"
    }
   ],
   "source": [
    "CTG.solve_sdp(B000 + B011 - M, target_size, maximize=True,\n",
    "              specific_ftype=ftype_subset, positives=assums,\n",
    "              construction=ders, file=\"certificates/c5_k4_sdp\", \n",
    "              sdp_params={\n",
    "                  \"objtol\":\"1.0e-9\", \n",
    "                  \"maxiter\":\"300\"\n",
    "              })"
   ]
  },
  {
   "cell_type": "code",
   "execution_count": 4,
   "id": "25417dc8-d2f5-43c4-b8a0-e9f01009aee2",
   "metadata": {},
   "outputs": [
    {
     "name": "stdout",
     "output_type": "stream",
     "text": [
      "Starting the rounding of the result\n",
      "Flattening X matrices\n",
      "This took 64.44038009643555s\n",
      "Correcting flat X matrices\n",
      "Dimensions:  (612, 58245)\n",
      "This took 40.80783653259277s\n",
      "Unflattening X matrices\n",
      "This took 0.0006084442138671875s\n",
      "Calculating resulting bound\n"
     ]
    },
    {
     "name": "stderr",
     "output_type": "stream",
     "text": [
      "100%|██████████████████████████████████████████████████████████████████████████████████████████████████████████████████████████████████████████████████████| 19/19 [1:08:28<00:00, 216.24s/it]\n"
     ]
    },
    {
     "name": "stdout",
     "output_type": "stream",
     "text": [
      "This took 4111.464602947235s\n",
      "Final rounded bound is 0\n"
     ]
    },
    {
     "data": {
      "text/plain": [
       "0"
      ]
     },
     "execution_count": 4,
     "metadata": {},
     "output_type": "execute_result"
    }
   ],
   "source": [
    "CTG.round_solution(\"certificates/c5_k4_sdp\", certificate_file=\"certificates/c5_k4_cert\", \n",
    "                   round_params={\n",
    "                       \"denom\": 1024 * 16 * 3 * 5, \n",
    "                       \"slack_threshold\": 1e-6\n",
    "                   })"
   ]
  },
  {
   "cell_type": "code",
   "execution_count": null,
   "id": "acb263ee-3e2d-4fe9-8010-74fc57583600",
   "metadata": {},
   "outputs": [
    {
     "name": "stdout",
     "output_type": "stream",
     "text": [
      "Checking X matrices\n"
     ]
    },
    {
     "name": "stderr",
     "output_type": "stream",
     "text": [
      "19it [00:17,  1.07it/s]\n"
     ]
    },
    {
     "name": "stdout",
     "output_type": "stream",
     "text": [
      "Solution matrices are all positive semidefinite, linear coefficients are all non-negative\n",
      "Calculating multiplication tables\n"
     ]
    },
    {
     "name": "stderr",
     "output_type": "stream",
     "text": [
      "19it [00:07,  2.66it/s]\n"
     ]
    }
   ],
   "source": [
    "K4 = ThreeGraphTheory(4, edges=[[0, 1, 2], [1, 2, 3], [0, 2, 3], [0, 1, 3]])\n",
    "C5 = ThreeGraphTheory.pattern(5, edges=[[0, 1, 2], [1, 2, 3], [2, 3, 4], [3, 4, 0], [4, 0, 1]])\n",
    "ThreeGraphTheory.exclude([K4, C5])\n",
    "TGp = ThreeGraphTheory\n",
    "TwoColorTheory = combine(\"2Colors\", Color0, Color1, symmetries=NoSymmetry)\n",
    "TwoColorTheory.exclude([TwoColorTheory(1), TwoColorTheory(1, C0=[0], C1=[0])])\n",
    "CTG = combine(\"2ColorThreeGraphs\", TGp, TwoColorTheory)\n",
    "\n",
    "C = CTG(3, edges=[[0, 1, 2]], C0=[0, 1], C1=[2])\n",
    "M = CTG(3, edges=[], C0=[0, 1], C1=[2])\n",
    "Cp0 = CTG(3, edges=[[0, 1, 2]], C0=[0, 1], C1=[2], ftype=[0])\n",
    "Cp1 = CTG(3, edges=[[0, 1, 2]], C0=[0, 1], C1=[2], ftype=[2])\n",
    "B000 = CTG(3, edges=[[0, 1, 2]], C0=[0, 1, 2], C1=[])\n",
    "B011 = CTG(3, edges=[[0, 1, 2]], C0=[0], C1=[1, 2])\n",
    "Bp0 = CTG(3, edges=[[0, 1, 2]], C0=[0, 1, 2], C1=[], ftype=[0])\n",
    "Bp1 = CTG(3, edges=[[0, 1, 2]], C0=[0], C1=[1, 2], ftype=[2])\n",
    "degeq_00 = CTG.p(4, ftype=[0, 1], edges=[[0, 2, 3]], edges_m=[[1, 2, 3]], C0=[0, 1]) - \\\n",
    "           CTG.p(4, ftype=[1, 0], edges=[[0, 2, 3]], edges_m=[[1, 2, 3]], C0=[0, 1])\n",
    "degeq_01 = CTG.p(4, ftype=[0, 1], edges=[[0, 2, 3]], edges_m=[[1, 2, 3]], C0=[0], C1=[1]) - \\\n",
    "           CTG.p(4, ftype=[0, 1], edges=[[1, 2, 3]], edges_m=[[0, 2, 3]], C0=[0], C1=[1])\n",
    "degeq_11 = CTG.p(4, ftype=[0, 1], edges=[[0, 2, 3]], edges_m=[[1, 2, 3]], C1=[0, 1]) - \\\n",
    "           CTG.p(4, ftype=[1, 0], edges=[[0, 2, 3]], edges_m=[[1, 2, 3]], C1=[0, 1])\n",
    "\n",
    "assums = [Cp0 - Bp0, Cp1 - Bp1, degeq_00, -degeq_00, degeq_01, -degeq_01, degeq_11, -degeq_11, C - 34/100]\n",
    "\n",
    "CTG.verify(\"certificates/c5_k4_cert\", B000 + B011 - M, 6, positives=assums)"
   ]
  }
 ],
 "metadata": {
  "kernelspec": {
   "display_name": "SageMath 10.5.beta7",
   "language": "sage",
   "name": "sagemath"
  },
  "language_info": {
   "codemirror_mode": {
    "name": "ipython",
    "version": 3
   },
   "file_extension": ".py",
   "mimetype": "text/x-python",
   "name": "python",
   "nbconvert_exporter": "python",
   "pygments_lexer": "ipython3",
   "version": "3.12.3"
  }
 },
 "nbformat": 4,
 "nbformat_minor": 5
}
