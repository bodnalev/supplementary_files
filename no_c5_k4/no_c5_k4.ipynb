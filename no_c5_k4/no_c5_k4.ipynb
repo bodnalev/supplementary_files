{
 "cells": [
  {
   "cell_type": "code",
   "execution_count": 2,
   "id": "760f38e8-b61f-45f4-8c26-95eec3f2dbc7",
   "metadata": {},
   "outputs": [
    {
     "name": "stdout",
     "output_type": "stream",
     "text": [
      "Number of structures without C5, K4\n",
      "and size 5:  20  (should be 20)\n",
      "and size 6:  572  (should be 572)\n",
      "\n",
      "Number of 2 colored structures without C5, K4\n",
      "and size 5:  338  (should be 338)\n",
      "and size 6:  28080  (should be 28080)\n"
     ]
    },
    {
     "name": "stderr",
     "output_type": "stream",
     "text": [
      "100%|███████████████████████████████████████████████████████████████████████████████████████████████████████████████████████████████████████████████████████████| 7/7 [00:00<00:00, 12.61it/s]\n"
     ]
    }
   ],
   "source": [
    "# Setting up three graph theory\n",
    "K4 = ThreeGraphTheory(4, edges=[[0, 1, 2], [1, 2, 3], [0, 2, 3], [0, 1, 3]])\n",
    "C5 = ThreeGraphTheory.p(5, edges=[[0, 1, 2], [1, 2, 3], [2, 3, 4], [3, 4, 0], [4, 0, 1]])\n",
    "ThreeGraphTheory.exclude([K4, C5])\n",
    "TGp = ThreeGraphTheory\n",
    "\n",
    "# Setting up colored theory\n",
    "TwoColorTheory = combine(\"2Colors\", Color0, Color1, symmetries=NoSymmetry)\n",
    "TwoColorTheory.exclude([TwoColorTheory(1), TwoColorTheory(1, C0=[0], C1=[0])])\n",
    "CTG = combine(\"2ColorThreeGraphs\", TGp, TwoColorTheory)\n",
    "\n",
    "# Testing the generation of structures\n",
    "print(\"Number of structures without C5, K4\")\n",
    "print(\"and size 5: \", len(TGp.generate(5)), \" (should be 20)\")\n",
    "print(\"and size 6: \", len(TGp.generate(6)), \" (should be 572)\")\n",
    "\n",
    "print(\"\\nNumber of 2 colored structures without C5, K4\")\n",
    "print(\"and size 5: \", len(CTG.generate(5)), \" (should be 338)\")\n",
    "print(\"and size 6: \", len(CTG.generate(6)), \" (should be 28080)\")\n",
    "\n",
    "\n",
    "target_size = 6\n",
    "\n",
    "# Edge with correct colors\n",
    "C = CTG(3, edges=[[0, 1, 2]], C0=[0, 1], C1=[2])\n",
    "# Missing edge with good colors\n",
    "M = CTG(3, edges=[], C0=[0, 1], C1=[2])\n",
    "# Pointed edge with correct colors, point from color 0\n",
    "Cp0 = CTG(3, edges=[[0, 1, 2]], C0=[0, 1], C1=[2], ftype=[0])\n",
    "# Pointed edge with correct colors, point from color 1\n",
    "Cp1 = CTG(3, edges=[[0, 1, 2]], C0=[0, 1], C1=[2], ftype=[2])\n",
    "\n",
    "\n",
    "# Edge with bad colors all in color 0\n",
    "B000 = CTG(3, edges=[[0, 1, 2]], C0=[0, 1, 2], C1=[])\n",
    "# Edge with bad colors, looking the wrong way\n",
    "B011 = CTG(3, edges=[[0, 1, 2]], C0=[0], C1=[1, 2])\n",
    "# Pointed edge with bad colors, point from moving 1 -> 0\n",
    "Bp0 = CTG(3, edges=[[0, 1, 2]], C0=[0, 1, 2], C1=[], ftype=[0])\n",
    "# Pointed edge with bad colors, point from moving 0 -> 1\n",
    "Bp1 = CTG(3, edges=[[0, 1, 2]], C0=[0], C1=[1, 2], ftype=[2])\n",
    "\n",
    "# Degree equality conditions for various type pairs\n",
    "degeq_00 = CTG.p(4, ftype=[0, 1], edges=[[0, 2, 3]], edges_m=[[1, 2, 3]], C0=[0, 1]) - \\\n",
    "           CTG.p(4, ftype=[1, 0], edges=[[0, 2, 3]], edges_m=[[1, 2, 3]], C0=[0, 1])\n",
    "degeq_01 = CTG.p(4, ftype=[0, 1], edges=[[0, 2, 3]], edges_m=[[1, 2, 3]], C0=[0], C1=[1]) - \\\n",
    "           CTG.p(4, ftype=[0, 1], edges=[[1, 2, 3]], edges_m=[[0, 2, 3]], C0=[0], C1=[1])\n",
    "degeq_11 = CTG.p(4, ftype=[0, 1], edges=[[0, 2, 3]], edges_m=[[1, 2, 3]], C1=[0, 1]) - \\\n",
    "           CTG.p(4, ftype=[1, 0], edges=[[0, 2, 3]], edges_m=[[1, 2, 3]], C1=[0, 1])\n",
    "\n",
    "# Assumptions used in the proof\n",
    "assums = [Cp0 - Bp0, Cp1 - Bp1, degeq_00, -degeq_00, degeq_01, -degeq_01, degeq_11, -degeq_11, C - 34/100]\n",
    "\n",
    "# Close rational approximation for gamma: 2521/5432\n",
    "gamma = continued_fraction(2*sqrt(3) - 3).convergent(7)\n",
    "# Optimal construction and its derivatives\n",
    "symbolic_constr = CTG.blowup_construction(target_size, 2, edges=[[0, 0, 1]], C0=[[0]], C1=[[1]], symbolic_parts=True).set_sum()\n",
    "ders = symbolic_constr.derivatives([gamma])\n",
    "\n",
    "# Only use a subset of the types\n",
    "all_types = CTG._get_relevant_ftypes(target_size)\n",
    "idx_good_types = [7, 6, 5, 4, 3, 15, 14, 13, 12, 11, 10, 9, 8, 24, 23, 22, 21, 20, 19]\n",
    "ftype_subset = [all_types[ii] for ii in idx_good_types]"
   ]
  },
  {
   "cell_type": "code",
   "execution_count": null,
   "id": "1818358a-590f-4de7-9301-d129f096e2e3",
   "metadata": {},
   "outputs": [
    {
     "name": "stdout",
     "output_type": "stream",
     "text": [
      "Base flags generated, their number is 28080\n",
      "The relevant ftypes are constructed, their number is 19\n",
      "Block sizes before symmetric/asymmetric change is applied: [128, 128, 128, 128, 128, 112, 112, 112, 112, 112, 112, 112, 112, 82, 82, 82, 82, 82, 82]\n"
     ]
    },
    {
     "name": "stderr",
     "output_type": "stream",
     "text": [
      "Done with mult table for Ftype on 4 points with edges=(012 023), C0=(2 3), C1=(0 1): : 19it [00:09,  2.08it/s] \n"
     ]
    },
    {
     "name": "stdout",
     "output_type": "stream",
     "text": [
      "Adjusting table with kernels from construction\n",
      "Tables finished\n"
     ]
    },
    {
     "name": "stderr",
     "output_type": "stream",
     "text": [
      "Done with positivity constraint 8: 100%|████████████████████████████████████████████████████████████████████████████████████████████████████████████████████████| 9/9 [08:19<00:00, 55.45s/it]\n"
     ]
    }
   ],
   "source": [
    "CTG.solve_sdp(B000 + B011 - M, target_size, maximize=True,\n",
    "              specific_ftype=ftype_subset, positives=assums,\n",
    "              construction=ders, file=\"certificates/c5_k4_sdp\", \n",
    "              sdp_params={\n",
    "                  \"objtol\":\"1.0e-9\", \n",
    "                  \"maxiter\":\"300\"\n",
    "              })"
   ]
  },
  {
   "cell_type": "code",
   "execution_count": null,
   "id": "25417dc8-d2f5-43c4-b8a0-e9f01009aee2",
   "metadata": {},
   "outputs": [],
   "source": [
    "CTG.round_solution(\"certificates/c5_k4_sdp\", certificate_file=\"certificates/c5_k4_cert\", \n",
    "                   round_params={\n",
    "                       \"denom\": 1024 * 16 * 3 * 5, \n",
    "                       \"slack_threshold\": 1e-6\n",
    "                   })"
   ]
  },
  {
   "cell_type": "code",
   "execution_count": null,
   "id": "acb263ee-3e2d-4fe9-8010-74fc57583600",
   "metadata": {},
   "outputs": [],
   "source": [
    "K4 = ThreeGraphTheory(4, edges=[[0, 1, 2], [1, 2, 3], [0, 2, 3], [0, 1, 3]])\n",
    "C5 = ThreeGraphTheory.pattern(5, edges=[[0, 1, 2], [1, 2, 3], [2, 3, 4], [3, 4, 0], [4, 0, 1]])\n",
    "ThreeGraphTheory.exclude([K4, C5])\n",
    "TGp = ThreeGraphTheory\n",
    "TwoColorTheory = combine(\"2Colors\", Color0, Color1, symmetries=NoSymmetry)\n",
    "TwoColorTheory.exclude([TwoColorTheory(1), TwoColorTheory(1, C0=[0], C1=[0])])\n",
    "CTG = combine(\"2ColorThreeGraphs\", TGp, TwoColorTheory)\n",
    "\n",
    "C = CTG(3, edges=[[0, 1, 2]], C0=[0, 1], C1=[2])\n",
    "M = CTG(3, edges=[], C0=[0, 1], C1=[2])\n",
    "Cp0 = CTG(3, edges=[[0, 1, 2]], C0=[0, 1], C1=[2], ftype=[0])\n",
    "Cp1 = CTG(3, edges=[[0, 1, 2]], C0=[0, 1], C1=[2], ftype=[2])\n",
    "B000 = CTG(3, edges=[[0, 1, 2]], C0=[0, 1, 2], C1=[])\n",
    "B011 = CTG(3, edges=[[0, 1, 2]], C0=[0], C1=[1, 2])\n",
    "Bp0 = CTG(3, edges=[[0, 1, 2]], C0=[0, 1, 2], C1=[], ftype=[0])\n",
    "Bp1 = CTG(3, edges=[[0, 1, 2]], C0=[0], C1=[1, 2], ftype=[2])\n",
    "degeq_00 = CTG.p(4, ftype=[0, 1], edges=[[0, 2, 3]], edges_m=[[1, 2, 3]], C0=[0, 1]) - \\\n",
    "           CTG.p(4, ftype=[1, 0], edges=[[0, 2, 3]], edges_m=[[1, 2, 3]], C0=[0, 1])\n",
    "degeq_01 = CTG.p(4, ftype=[0, 1], edges=[[0, 2, 3]], edges_m=[[1, 2, 3]], C0=[0], C1=[1]) - \\\n",
    "           CTG.p(4, ftype=[0, 1], edges=[[1, 2, 3]], edges_m=[[0, 2, 3]], C0=[0], C1=[1])\n",
    "degeq_11 = CTG.p(4, ftype=[0, 1], edges=[[0, 2, 3]], edges_m=[[1, 2, 3]], C1=[0, 1]) - \\\n",
    "           CTG.p(4, ftype=[1, 0], edges=[[0, 2, 3]], edges_m=[[1, 2, 3]], C1=[0, 1])\n",
    "\n",
    "assums = [Cp0 - Bp0, Cp1 - Bp1, degeq_00, -degeq_00, degeq_01, -degeq_01, degeq_11, -degeq_11, C - 34/100]\n",
    "\n",
    "CTG.verify(\"certificates/c5_k4_sdp\", B000 + B011 - M, 6, positives=assums)"
   ]
  }
 ],
 "metadata": {
  "kernelspec": {
   "display_name": "SageMath 10.5.beta7",
   "language": "sage",
   "name": "sagemath"
  },
  "language_info": {
   "codemirror_mode": {
    "name": "ipython",
    "version": 3
   },
   "file_extension": ".py",
   "mimetype": "text/x-python",
   "name": "python",
   "nbconvert_exporter": "python",
   "pygments_lexer": "ipython3",
   "version": "3.12.3"
  }
 },
 "nbformat": 4,
 "nbformat_minor": 5
}
