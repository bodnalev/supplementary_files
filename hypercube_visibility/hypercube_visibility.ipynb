{
 "cells": [
  {
   "cell_type": "markdown",
   "id": "f954b2d3-33af-4de1-bc51-938a32a2e961",
   "metadata": {},
   "source": [
    "Hypercube visibility bound\n",
    "==============\n",
    "by excluding structures with size up to 4"
   ]
  },
  {
   "cell_type": "code",
   "execution_count": 1,
   "id": "d27bee90-c93c-4e34-9645-6bb4c778ba1a",
   "metadata": {},
   "outputs": [],
   "source": [
    "HV = HypercubeVertexTheory\n",
    "from collections import deque\n",
    "def _bits_set_positions(mask, d):\n",
    "    return [i for i in range(d) if (mask >> i) & 1]\n",
    "def geodesic_path_exists(d, x, y, S):\n",
    "    if x == y:\n",
    "        return True, [x]\n",
    "    diff_mask = x ^^ y\n",
    "    diff_positions = _bits_set_positions(diff_mask, d)\n",
    "    h = len(diff_positions) \n",
    "    pos_to_bit = {pos: (1 << idx) for idx, pos in enumerate(diff_positions)}\n",
    "    local_to_vertex = [None] * (1 << h)\n",
    "    for local in range(1 << h):\n",
    "        real_mask = 0\n",
    "        for idx, pos in enumerate(diff_positions):\n",
    "            if (local >> idx) & 1:\n",
    "                real_mask |= (1 << pos)\n",
    "        local_to_vertex[local] = x ^^ real_mask\n",
    "    forbidden = set()\n",
    "    for local, v in enumerate(local_to_vertex):\n",
    "        if local != 0 and local != (1 << h) - 1 and v in S:\n",
    "            forbidden.add(local)\n",
    "    start = 0\n",
    "    goal = (1 << h) - 1\n",
    "    if start in forbidden or goal in forbidden:\n",
    "        forbidden.discard(start)\n",
    "        forbidden.discard(goal)\n",
    "    prev = {start: None}\n",
    "    q = deque([start])\n",
    "    while q:\n",
    "        cur = q.popleft()\n",
    "        if cur == goal:\n",
    "            break\n",
    "        for idx in range(h):\n",
    "            if not ((cur >> idx) & 1):\n",
    "                nxt = cur | (1 << idx)\n",
    "                if nxt in forbidden or nxt in prev:\n",
    "                    continue\n",
    "                prev[nxt] = (cur, idx)\n",
    "                q.append(nxt)\n",
    "    if goal not in prev and goal != start:\n",
    "        return False, []\n",
    "    path_local = []\n",
    "    cur = goal\n",
    "    while cur is not None:\n",
    "        path_local.append(cur)\n",
    "        cur = prev[cur][0] if prev[cur] is not None else None\n",
    "    path_local.reverse()\n",
    "    path_vertices = [local_to_vertex[local] for local in path_local]\n",
    "    return True, path_vertices\n",
    "def test_hv(hv):\n",
    "    d = int(log(hv.size(), 2))\n",
    "    S = [xx[0] for xx in hv.blocks(\"points\")]\n",
    "    for xx,yy in itertools.combinations(S, 2):\n",
    "        res, path = geodesic_path_exists(d, xx, yy, S)\n",
    "        if not res:\n",
    "            return False, (xx, yy)\n",
    "    return True, None"
   ]
  },
  {
   "cell_type": "code",
   "execution_count": 2,
   "id": "4d8e0351-5dce-463f-90c9-56688cb1072d",
   "metadata": {},
   "outputs": [
    {
     "name": "stdout",
     "output_type": "stream",
     "text": [
      "dimension 2\n",
      " - excluding [0, 1, 2, 3]\n",
      "dimension 3\n",
      " - excluding [0, 1, 2, 4, 7]\n",
      " - excluding [0, 1, 2, 5, 6, 7]\n",
      "dimension 4\n",
      " - excluding [0, 1, 2, 4, 8, 15]\n",
      " - excluding [0, 1, 2, 4, 9, 10, 12, 15]\n",
      " - excluding [0, 1, 2, 4, 11, 13, 14, 15]\n",
      " - excluding [0, 3, 5, 6, 9, 10, 12, 15]\n",
      " - excluding [0, 1, 2, 4, 9, 10, 13, 14, 15]\n"
     ]
    }
   ],
   "source": [
    "HV.reset()\n",
    "excls = {}\n",
    "for dd in range(2, 5):\n",
    "    print(\"dimension\", dd)\n",
    "    excldd = []\n",
    "    for hv in HV.generate(2**dd):\n",
    "        S = [xx[0] for xx in hv.blocks(\"points\")]\n",
    "        res, pair = test_hv(hv)\n",
    "        if not res:\n",
    "            excldd.append(hv)\n",
    "            print(\" - excluding\", [yy[0] for yy in hv.blocks(\"points\")])\n",
    "    HV.exclude(excldd)\n",
    "    excls[dd] = excldd"
   ]
  },
  {
   "cell_type": "code",
   "execution_count": 6,
   "id": "95116556-856a-4f85-bfec-bbc9908137df",
   "metadata": {},
   "outputs": [
    {
     "name": "stdout",
     "output_type": "stream",
     "text": [
      "Found bound is 1916879/4718592 ~ 0.406239615546332\n"
     ]
    }
   ],
   "source": [
    "HV.printlevel(0)\n",
    "bound = HV.optimize(HV.generate(1)[1], 16, exact=True, denom=2**20, file=\"certificate\")\n",
    "print(\"Found bound is {} ~ {}\".format(bound, bound.n()))"
   ]
  }
 ],
 "metadata": {
  "kernelspec": {
   "display_name": "SageMath 10.5.beta7",
   "language": "sage",
   "name": "sagemath"
  },
  "language_info": {
   "codemirror_mode": {
    "name": "ipython",
    "version": 3
   },
   "file_extension": ".py",
   "mimetype": "text/x-python",
   "name": "python",
   "nbconvert_exporter": "python",
   "pygments_lexer": "ipython3",
   "version": "3.12.3"
  }
 },
 "nbformat": 4,
 "nbformat_minor": 5
}
