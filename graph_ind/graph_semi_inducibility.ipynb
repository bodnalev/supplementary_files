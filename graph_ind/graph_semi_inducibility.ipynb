{
 "cells": [
  {
   "cell_type": "markdown",
   "id": "f7a32346-b798-4524-89ab-dbdb36f7fb44",
   "metadata": {},
   "source": [
    "Semi-inducibility\n",
    "=================\n",
    "\n",
    "All the 4 vertex semi-inducibility problems and the alternating $C_6$"
   ]
  },
  {
   "cell_type": "code",
   "execution_count": 2,
   "id": "538897ed-a683-4590-8525-c24c7954a56e",
   "metadata": {},
   "outputs": [],
   "source": [
    "G = GraphTheory\n",
    "\n",
    "G.printlevel(0)\n",
    "\n",
    "def check_blocks(flg, do, dont):\n",
    "    eds = flg.blocks(\"edges\")\n",
    "    for ee in do:\n",
    "        if ee not in eds:\n",
    "            return False\n",
    "    for ee in dont:\n",
    "        if ee in eds:\n",
    "            return False\n",
    "    return True\n",
    "\n",
    "AG = Theory(\"BlueGraph\", \"blue_edges\")\n",
    "CG = combine(\"RedBlueGraph\", G, AG, symmetries=FullSymmetry)\n",
    "CG.exclude(CG(2, edges=[[0, 1]], blue_edges=[[0, 1]]))\n",
    "\n",
    "def get_targ(ff):\n",
    "    vn = ff.size()\n",
    "    eddo = ff.blocks(\"edges\")\n",
    "    eddont = ff.blocks(\"blue_edges\")\n",
    "    pats = G.p(vn, edges=eddo, edges_m=eddont)\n",
    "    targ = 0\n",
    "    for xx in pats.compatible_flags():\n",
    "        coef = 0\n",
    "        for eperm in itertools.permutations(range(vn)):\n",
    "            xxpermed = xx.subflag(eperm)\n",
    "            if check_blocks(xxpermed, eddo, eddont):\n",
    "                coef += 1\n",
    "        targ += coef*xx\n",
    "    return targ*QQ(1/(factorial(vn)))\n",
    "\n",
    "def gen_nont(n):\n",
    "    ret = []\n",
    "    for ff in CG.generate(n):\n",
    "        eds = ff.blocks(\"edges\")\n",
    "        oeds = ff.blocks(\"blue_edges\")\n",
    "        if len(eds)!=0 and len(oeds)!=0:\n",
    "            if len(eds) + len(oeds) != binomial(n, 2):\n",
    "                if len(set(itertools.chain(*(list(eds) + list(oeds)))))==n:\n",
    "                    ret.append(ff)\n",
    "    return ret"
   ]
  },
  {
   "cell_type": "markdown",
   "id": "72bb5fdc-ac8b-42cd-86ec-939a6b4b6945",
   "metadata": {},
   "source": [
    "All the 4 vertex cases\n",
    "===================="
   ]
  },
  {
   "cell_type": "code",
   "execution_count": 3,
   "id": "0a8367e7-9a30-4dfb-b8c9-9074869c94c2",
   "metadata": {},
   "outputs": [
    {
     "data": {
      "text/plain": [
       "[Flag on 4 points, ftype from () with edges=(02), blue_edges=(13),\n",
       " Flag on 4 points, ftype from () with edges=(01), blue_edges=(02 03),\n",
       " Flag on 4 points, ftype from () with edges=(01), blue_edges=(02 13),\n",
       " Flag on 4 points, ftype from () with edges=(02), blue_edges=(01 13),\n",
       " Flag on 4 points, ftype from () with edges=(01), blue_edges=(02 03 13),\n",
       " Flag on 4 points, ftype from () with edges=(01 02 03), blue_edges=(13),\n",
       " Flag on 4 points, ftype from () with edges=(02), blue_edges=(01 03 13),\n",
       " Flag on 4 points, ftype from () with edges=(03), blue_edges=(02 12 13),\n",
       " Flag on 4 points, ftype from () with edges=(01), blue_edges=(02 03 12 13),\n",
       " Flag on 4 points, ftype from () with edges=(03), blue_edges=(01 02 12 13),\n",
       " Flag on 4 points, ftype from () with edges=(02 03), blue_edges=(01 13),\n",
       " Flag on 4 points, ftype from () with edges=(01 03), blue_edges=(02 13),\n",
       " Flag on 4 points, ftype from () with edges=(02 03), blue_edges=(12 13),\n",
       " Flag on 4 points, ftype from () with edges=(02 13), blue_edges=(03 12),\n",
       " Flag on 4 points, ftype from () with edges=(02 03), blue_edges=(01 12 13),\n",
       " Flag on 4 points, ftype from () with edges=(01 03), blue_edges=(02 12 13),\n",
       " Flag on 4 points, ftype from () with edges=(03 13), blue_edges=(01 02 12),\n",
       " Flag on 4 points, ftype from () with edges=(02 13), blue_edges=(01 03 12)]"
      ]
     },
     "execution_count": 3,
     "metadata": {},
     "output_type": "execute_result"
    }
   ],
   "source": [
    "gen4 = gen_nont(4)\n",
    "gen4"
   ]
  },
  {
   "cell_type": "code",
   "execution_count": 59,
   "id": "d1c3c855-a1ff-4f7c-b324-6c38904e6d57",
   "metadata": {},
   "outputs": [],
   "source": [
    "constructions = [\n",
    "    G.blowup_construction(5, 1, edges={(0, 0): 1/2}), \n",
    "    G.blowup_construction(4, 1, edges={(0, 0): 1/3}), \n",
    "    G.blowup_construction(4, 1, edges={(0, 0): 1/3}), \n",
    "    None, \n",
    "    G.blowup_construction(4, 3, edges=[[0, 0], [1, 1], [2, 2]]), \n",
    "    None, \n",
    "    G.blowup_construction(6, 2, edges=[[0, 1]]), \n",
    "    G.blowup_construction(4, 1, edges={(0, 0): 1/4}), \n",
    "    G.blowup_construction(4, 3, edges=[[0, 0], [1, 1], [2, 2]]), \n",
    "    G.blowup_construction(7, 5, edges=[[0, 0], [1, 1], [2, 2], [3, 3], [4, 4]]), \n",
    "    G.blowup_construction(5, 2, edges=[[0, 0], [1, 1]]),    \n",
    "    G.blowup_construction(4, 2, edges=[[0, 1]]), \n",
    "    G.blowup_construction(5, 2, edges=[[0, 1]]), \n",
    "    G.blowup_construction(5, 2, edges=[[0, 1]]),\n",
    "    G.blowup_construction(5, 2, edges=[[0, 0], [1, 1]]),\n",
    "    G.blowup_construction(4, 2, edges={(0, 1): 2/3}),\n",
    "    G.blowup_construction(5, 2, edges=[[0, 1]]),\n",
    "    G.blowup_construction(5, 2, edges=[[0, 0], [1, 1]])\n",
    "]"
   ]
  },
  {
   "cell_type": "code",
   "execution_count": 60,
   "id": "e3df7e87-f126-420c-859f-f2e148329346",
   "metadata": {},
   "outputs": [
    {
     "name": "stdout",
     "output_type": "stream",
     "text": [
      "Index 0 is Flag on 4 points, ftype from () with edges=(02), blue_edges=(13) the constr gives 1/4, upper bound is 1/4\n",
      "Index 1 is Flag on 4 points, ftype from () with edges=(01), blue_edges=(02 03) the constr gives 4/27, upper bound is 4/27\n",
      "Index 2 is Flag on 4 points, ftype from () with edges=(01), blue_edges=(02 13) the constr gives 4/27, upper bound is 4/27\n",
      "Index 3 is Flag on 4 points, ftype from () with edges=(02), blue_edges=(01 13) the upper bound is 0.15008340915196144\n",
      "Index 4 is Flag on 4 points, ftype from () with edges=(01), blue_edges=(02 03 13) the constr gives 4/27, upper bound is 4/27\n",
      "Index 5 is Flag on 4 points, ftype from () with edges=(01 02 03), blue_edges=(13) the upper bound is 0.1500644984603527\n",
      "Index 6 is Flag on 4 points, ftype from () with edges=(02), blue_edges=(01 03 13) the constr gives 1/8, upper bound is 1/8\n",
      "Index 7 is Flag on 4 points, ftype from () with edges=(03), blue_edges=(02 12 13) the constr gives 27/256, upper bound is 27/256\n",
      "Index 8 is Flag on 4 points, ftype from () with edges=(01), blue_edges=(02 03 12 13) the constr gives 4/27, upper bound is 4/27\n",
      "Index 9 is Flag on 4 points, ftype from () with edges=(03), blue_edges=(01 02 12 13) the constr gives 12/125, upper bound is 12/125\n",
      "Index 10 is Flag on 4 points, ftype from () with edges=(02 03), blue_edges=(01 13) the constr gives 1/8, upper bound is 1/8\n",
      "Index 11 is Flag on 4 points, ftype from () with edges=(01 03), blue_edges=(02 13) the constr gives 1/8, upper bound is 1/8\n",
      "Index 12 is Flag on 4 points, ftype from () with edges=(02 03), blue_edges=(12 13) the constr gives 1/8, upper bound is 1/8\n",
      "Index 13 is Flag on 4 points, ftype from () with edges=(02 13), blue_edges=(03 12) the constr gives 1/8, upper bound is 1/8\n",
      "Index 14 is Flag on 4 points, ftype from () with edges=(02 03), blue_edges=(01 12 13) the constr gives 1/8, upper bound is 1/8\n",
      "Index 15 is Flag on 4 points, ftype from () with edges=(01 03), blue_edges=(02 12 13) the constr gives 1/27, upper bound is 1/27\n",
      "Index 16 is Flag on 4 points, ftype from () with edges=(03 13), blue_edges=(01 02 12) the constr gives 1/8, upper bound is 1/8\n",
      "Index 17 is Flag on 4 points, ftype from () with edges=(02 13), blue_edges=(01 03 12) the constr gives 1/8, upper bound is 1/8\n"
     ]
    }
   ],
   "source": [
    "for index in range(len(gen4)):\n",
    "    constr = constructions[index]\n",
    "    targ = get_targ(gen4[index])\n",
    "    if constr!=None:\n",
    "        size = constr.size()\n",
    "        dens = constr.density(targ)\n",
    "        bound = G.optimize(targ, size, denom=2**20, exact=True, construction=constr, file=\"certificates/semiind\"+str(index))\n",
    "        print(\"Index {} is {} the constr gives {}, upper bound is {}\".format(index, gen4[index], dens, bound))\n",
    "    else:\n",
    "        bound = G.optimize(targ, 7, exact=False, file=\"certificates/fp_semiind\"+str(index))\n",
    "        print(\"Index {} is {} the upper bound is {}\".format(index, gen4[index], bound))"
   ]
  },
  {
   "cell_type": "markdown",
   "id": "4ebd2fa1-d8f7-49f2-a221-e227234fc524",
   "metadata": {},
   "source": [
    "Multipartite calculation for case 5\n",
    "==========================="
   ]
  },
  {
   "cell_type": "code",
   "execution_count": 21,
   "id": "35668a90-2a82-4d61-b5c4-4f7ea38a9e0a",
   "metadata": {},
   "outputs": [],
   "source": [
    "MPG = Theory(\"MultiPartiteGraph\")\n",
    "MPG.exclude(MPG(3, edges=[[0, 1]]))\n",
    "MPG.printlevel(0)"
   ]
  },
  {
   "cell_type": "code",
   "execution_count": 22,
   "id": "898eb71b-8d4a-487a-a50f-e52b50b81252",
   "metadata": {},
   "outputs": [],
   "source": [
    "var(\"x\")\n",
    "RF = RealField(prec=100)\n",
    "alpha_real = RF(solve(x^2 - 13/7*x + 4/7==0, x)[0].rhs())\n",
    "R.<alpha> = NumberField(x^2 - 13/7*x + 4/7, embedding=alpha_real)\n",
    "cons = MPG.blowup_construction(8, [alpha/4, alpha/4, alpha/4, alpha/4, 1-alpha], edges=list(itertools.combinations(range(5), 2)))\n",
    "targ = 3*MPG(4, edges=[[0, 1], [0, 2], [0, 3]]) + 2*MPG(4, edges=[[0, 1], [0, 2], [0, 3], [1, 2], [1, 3]])"
   ]
  },
  {
   "cell_type": "code",
   "execution_count": 51,
   "id": "7a4ffc52-7804-4917-8070-561c62749120",
   "metadata": {},
   "outputs": [
    {
     "name": "stdout",
     "output_type": "stream",
     "text": [
      "For Flag on 4 points, ftype from () with edges=(01 02 03), blue_edges=(13) \n",
      "the constr gives 513/784*alpha + 303/196, upper bound is 513/784*alpha + 303/196\n",
      "this is approximately 1.80065004871594\n"
     ]
    }
   ],
   "source": [
    "dens = cons.density(targ)\n",
    "bound = MPG.optimize(targ, 8, construction=cons, exact=True, denom=2**20, kernel_denom=2**20, file=\"certificates/semiind5\")\n",
    "print(\"For {} \\nthe constr gives {}, upper bound is {}\".format(gen4[5], dens, bound))\n",
    "print(\"this is approximately {}\".format(dens.n()))"
   ]
  },
  {
   "cell_type": "markdown",
   "id": "5c3ef34d-8bf9-449f-ae7f-120f70af7d1e",
   "metadata": {},
   "source": [
    "Construction for case 3\n",
    "=======================\n",
    "\n",
    "The best we could find, probably not the correct one."
   ]
  },
  {
   "cell_type": "code",
   "execution_count": 52,
   "id": "1098aac7-3e24-48f4-a05c-867d91460f8a",
   "metadata": {},
   "outputs": [
    {
     "name": "stdout",
     "output_type": "stream",
     "text": [
      "For Flag on 4 points, ftype from () with edges=(02), blue_edges=(01 13)\n",
      "the best construction we could find gives -5075/7077888*sqrt(145) + 1123381/7077888~0.150082893020154, upper bound is 0.15008340915196144\n"
     ]
    }
   ],
   "source": [
    "a = 1/13920*sqrt(145)*(23*sqrt(145) - 145)\n",
    "b = 1/27840*sqrt(145)*(23*sqrt(145) - 145)\n",
    "c = -1/48*sqrt(145) + 23/48\n",
    "d = 1-(a+b+c)\n",
    "dens = G.blowup_construction(4, \n",
    "                                [a/2, b, a/2, c/2, c/2, (1-a-b-c)], \n",
    "                                edges=[[0, 0], [0, 1], [1, 2], [2, 2], [3, 4], [5, 5]]\n",
    "                               ).density(\n",
    "    get_targ(gen4[3])\n",
    ")\n",
    "dens = expand(dens)\n",
    "bound = G.optimize(get_targ(gen4[3]), 7)\n",
    "print(\"For {}\\nthe best construction we could find gives {}~{}, upper bound is {}\".format(gen4[3], dens, dens.n(), bound))"
   ]
  },
  {
   "cell_type": "markdown",
   "id": "d0babb9f-078a-4ebd-b1c9-d4757c9ce06c",
   "metadata": {},
   "source": [
    "The alternating C_6\n",
    "==================="
   ]
  },
  {
   "cell_type": "code",
   "execution_count": 46,
   "id": "f9a047cf-8158-4f93-aa10-7f5feb99b595",
   "metadata": {},
   "outputs": [
    {
     "name": "stdout",
     "output_type": "stream",
     "text": [
      "For the alternating C6 the constr gives 1/64, upper bound is 1/64\n"
     ]
    }
   ],
   "source": [
    "targ = get_targ(CG(6, edges=[[0, 1], [2, 3], [4, 5]], blue_edges=[[1, 2], [3, 4], [5, 0]]))\n",
    "constr = G.blowup_construction(6, 1, edges={(0, 0): 1/2})\n",
    "dens = constr.density(targ)\n",
    "bound = G.optimize(targ, 6, construction=constr, exact=True, file=\"certificates/semiind_c6\")\n",
    "print(\"For the alternating C6 the constr gives {}, upper bound is {}\".format(dens, bound))"
   ]
  },
  {
   "cell_type": "markdown",
   "id": "be5d7907-a61d-4ee4-a3e1-2741f746b383",
   "metadata": {},
   "source": [
    "Tools to test stability\n",
    "====================\n",
    "\n",
    "First a general script following Theorem 2.3 is used to verify stability for cases 9-11, and another script following Corollary 2.2 tests almost regularity for cases 2 and 15 and the alternating C6.\n",
    "\n",
    "For cases 4, 5, 6 we use a custom argument."
   ]
  },
  {
   "cell_type": "code",
   "execution_count": 43,
   "id": "2b637366-663f-4c45-90bc-58b0fe550845",
   "metadata": {},
   "outputs": [],
   "source": [
    "from fractions import Fraction\n",
    "from sage.algebras.combinatorial_theory import _unflatten_matrix\n",
    "import pickle\n",
    "\n",
    "# general helper function to have data in sage compatible format\n",
    "def to_sage(dim, data):\n",
    "    if dim==0:\n",
    "        if isinstance(data, Fraction):\n",
    "            return QQ(data)\n",
    "        if isinstance(data, float):\n",
    "            return RR(data)\n",
    "        return data\n",
    "    return [to_sage(dim-1, xx) for xx in data]\n",
    "\n",
    "def check_stability(index, construction_size, construction_edges, ftype):\n",
    "    file = \"certificates/semiind\"+str(index)\n",
    "    print(\"\\n\\nchecking stability for \" + file)\n",
    "    G.reset()\n",
    "    G.printlevel(0)\n",
    "    if not file.endswith(\".pickle\"):\n",
    "        file += \".pickle\"\n",
    "    with open(file, \"rb\") as f:\n",
    "        certificate = pickle.load(f)\n",
    "    target_size = certificate[\"target size\"]\n",
    "    original_bound = to_sage(0, certificate[\"result\"])\n",
    "    \n",
    "    # Checking condition 2.a\n",
    "    ftype_untyped = ftype.subflag(ftype_points=[])\n",
    "    if ftype_untyped != G(1):\n",
    "        G.exclude(ftype_untyped)\n",
    "        target_2a = get_targ(gen4[index])\n",
    "        if target_2a==0: \n",
    "            bound = 0\n",
    "        else:\n",
    "            bound = G.optimize(target_2a, target_size, exact=True, denom=2**20, construction=[])\n",
    "        G.reset()\n",
    "    else:\n",
    "        bound = 0\n",
    "    if bound < original_bound:\n",
    "        print(\" - condition 2.a is satisfied\")\n",
    "    else:\n",
    "        print(\" - condition 2.a is not satisfied\")\n",
    "        return\n",
    "\n",
    "    # Checking condition 3\n",
    "    construction = G.blowup_construction(target_size, construction_size, edges=construction_edges)\n",
    "    cvals = construction.values()\n",
    "    svals = to_sage(1, certificate[\"slack vector\"])\n",
    "    correct_slacks = True\n",
    "    for ii in range(len(svals)):\n",
    "        if svals[ii]==0 and cvals[ii]==0:\n",
    "            correct_slacks = False\n",
    "    if not correct_slacks:\n",
    "        print(\" - condition 3 is not satisfied. The following flags violate it:\")\n",
    "        for ii,ff in enumerate(G.generate(target_size)):\n",
    "            if svals[ii]==0 and cvals[ii]==0:\n",
    "                print(ff)\n",
    "        return\n",
    "    else:\n",
    "        print(\" - condition 3 is satisfied\")\n",
    "\n",
    "    # Checking condition i\n",
    "    index = -1\n",
    "    for ii,xx in enumerate(certificate[\"typed flags\"]):\n",
    "        if xx[1] == ftype._pythonize():\n",
    "            index = ii\n",
    "            break\n",
    "    if index==-1:\n",
    "        print(\" - type not found\")\n",
    "        return\n",
    "    mat = matrix(to_sage(2, _unflatten_matrix(certificate[\"X matrices\"][index])[0]))\n",
    "    if mat.nullity()==1:\n",
    "        print(\" - condition i is satisfied\")\n",
    "        print(\"problem is stable\")\n",
    "        return\n",
    "    else:\n",
    "        print(\" - condition i is not satisfied, the matrix has nullity\", mat.nullity())\n",
    "\n",
    "    # Checking condition ii\n",
    "    B_edges = [xx for xx in construction_edges if xx[0]!=xx[1]]\n",
    "    B = G(construction_size, edges=B_edges)\n",
    "    G.exclude(B)\n",
    "    target_ii = get_targ(gen4[index])\n",
    "\n",
    "    if target_ii==0: \n",
    "        bound = 0\n",
    "    else:\n",
    "        bound = G.optimize(target_ii, target_size, exact=True, denom=2**20, construction=[])\n",
    "    G.reset()\n",
    "    if bound < original_bound:\n",
    "        print(\" - condition ii is satisfied\")\n",
    "        print(\"problem is stable\")\n",
    "    else:\n",
    "        print(\" - condition ii is not satisfied\")\n",
    "\n",
    "def check_almost_regularity(index):\n",
    "    file = \"certificates/semiind\"+str(index)\n",
    "    print(\"\\n\\nchecking almost regularity for \" + file)\n",
    "    G.reset()\n",
    "    G.printlevel(0)\n",
    "    if not file.endswith(\".pickle\"):\n",
    "        file += \".pickle\"\n",
    "    with open(file, \"rb\") as f:\n",
    "        certificate = pickle.load(f)\n",
    "    target_size = certificate[\"target size\"]\n",
    "    edge_type = G(2, edges=[[0, 1]], ftype=[0, 1])\n",
    "    edge_regularity = G(3, edges=[[0, 1], [0, 2]], ftype=[0, 1]) - G(3, edges=[[0, 1], [1, 2]], ftype=[0, 1])\n",
    "    nonedge_type = G(2, edges=[], ftype=[0, 1])\n",
    "    nonedge_regularity = G(3, edges=[[0, 2]], ftype=[0, 1]) - G(3, edges=[[1, 2]], ftype=[0, 1])\n",
    "    \n",
    "    for ii,xx in enumerate(certificate[\"typed flags\"]):\n",
    "        fsz = xx[0]\n",
    "        ftp = xx[1]\n",
    "        if ftp == edge_type._pythonize():\n",
    "            X = matrix(to_sage(2, _unflatten_matrix(certificate[\"X matrices\"][ii])[0]))\n",
    "            reg_vec = (edge_regularity<<(fsz - 3)).values()\n",
    "            if reg_vec in X.image():\n",
    "                print(\" - almost degree regularity holds between edges\")\n",
    "            else:\n",
    "                print(\" - almost degree regularity fails between edges\")\n",
    "        elif ftp == nonedge_type._pythonize():\n",
    "            X = matrix(to_sage(2, _unflatten_matrix(certificate[\"X matrices\"][ii])[0]))\n",
    "            reg_vec = (nonedge_regularity<<(fsz - 3)).values()\n",
    "            if reg_vec in X.image():\n",
    "                print(\" - almost degree regularity holds between nonedges\")\n",
    "            else:\n",
    "                print(\" - almost degree regularity fails between nonedges\")"
   ]
  },
  {
   "cell_type": "code",
   "execution_count": 6,
   "id": "f4ed7211-2381-4f56-8741-924a3b1a3977",
   "metadata": {},
   "outputs": [
    {
     "name": "stdout",
     "output_type": "stream",
     "text": [
      "\n",
      "\n",
      "checking stability for certificates/semiind9\n",
      " - condition 2.a is satisfied\n",
      " - condition 3 is satisfied\n",
      " - condition i is satisfied\n",
      "problem is stable\n",
      "\n",
      "\n",
      "checking stability for certificates/semiind10\n",
      " - condition 2.a is satisfied\n",
      " - condition 3 is satisfied\n",
      " - condition i is not satisfied, the matrix has nullity 2\n",
      " - condition ii is satisfied\n",
      "problem is stable\n",
      "\n",
      "\n",
      "checking stability for certificates/semiind11\n",
      " - condition 2.a is satisfied\n",
      " - condition 3 is satisfied\n",
      " - condition i is satisfied\n",
      "problem is stable\n"
     ]
    }
   ],
   "source": [
    "# Stability checks based on Theorem 2.3\n",
    "G.reset()\n",
    "no4b_type = G(5, edges=[[0, 1]], ftype=[0, 1, 2, 3, 4])\n",
    "no1_type = G(1, ftype=[0])\n",
    "e_type = G(2, edges=[[0, 1]], ftype=[0, 1])\n",
    "\n",
    "check_stability(9, 5, [[0, 0], [1, 1], [2, 2], [3, 3], [4, 4]], no4b_type)\n",
    "check_stability(10, 2, [[0, 0], [1, 1]], no1_type)\n",
    "check_stability(11, 2, [[0, 1]], e_type)"
   ]
  },
  {
   "cell_type": "code",
   "execution_count": 19,
   "id": "4a99abe5-6892-4c50-b789-e450d6031736",
   "metadata": {},
   "outputs": [
    {
     "name": "stdout",
     "output_type": "stream",
     "text": [
      "\n",
      "\n",
      "checking almost regularity for certificates/semiind2\n",
      " - almost degree regularity holds between nonedges\n",
      " - almost degree regularity holds between edges\n",
      "\n",
      "\n",
      "checking almost regularity for certificates/semiind15\n",
      " - almost degree regularity holds between nonedges\n",
      " - almost degree regularity holds between edges\n",
      "\n",
      "\n",
      "checking almost regularity for certificates/semiind_c6\n",
      " - almost degree regularity holds between nonedges\n",
      " - almost degree regularity holds between edges\n"
     ]
    }
   ],
   "source": [
    "# Almost regularity checks based on Corollary 2.2\n",
    "check_almost_regularity(2)\n",
    "check_almost_regularity(15)\n",
    "check_almost_regularity(\"_c6\")"
   ]
  },
  {
   "cell_type": "code",
   "execution_count": 56,
   "id": "b78b40d1-2c0d-4641-a622-f6d6d145ac20",
   "metadata": {},
   "outputs": [
    {
     "name": "stdout",
     "output_type": "stream",
     "text": [
      "Almost optimal construction could contain the following\n",
      "Flag on 4 points, ftype from () with edges=()\n",
      "Flag on 4 points, ftype from () with edges=(01)\n",
      "Flag on 4 points, ftype from () with edges=(02 13)\n",
      "Flag on 4 points, ftype from () with edges=(01 03 13)\n",
      "Flag on 4 points, ftype from () with edges=(01 02 03 12 13 23)\n",
      "\n",
      "The order of flags with tau type is \n",
      "Flag on 3 points, ftype from (0, 1) with edges=()\n",
      "Flag on 3 points, ftype from (0, 2) with edges=(01)\n",
      "Flag on 3 points, ftype from (2, 0) with edges=(01)\n",
      "Flag on 3 points, ftype from (1, 2) with edges=(01 02)\n",
      "\n",
      "A base for the kernel of Xtau is \n",
      "[1]\n",
      "[1]\n",
      "[1]\n",
      "[0]\n"
     ]
    }
   ],
   "source": [
    "# For case 4:\n",
    "\n",
    "G.reset()\n",
    "G.printlevel(0)\n",
    "certificate = pickle.load(open(\"certificates/semiind4.pickle\", \"rb\"))\n",
    "svals = to_sage(1, certificate[\"slack vector\"])\n",
    "target_size = certificate[\"target size\"]\n",
    "gls = G.generate(target_size)\n",
    "print(\"Almost optimal construction could contain the following\")\n",
    "for ii in range(len(svals)):\n",
    "    if svals[ii]==0:\n",
    "        print(gls[ii])\n",
    "\n",
    "tau = G(2, ftype=[0, 1])\n",
    "Xtau = None\n",
    "Xkern = None\n",
    "for ii,xx in enumerate(certificate[\"typed flags\"]):\n",
    "    if xx[1] == tau._pythonize():\n",
    "        Xtau = matrix(QQ, to_sage(2, _unflatten_matrix(certificate[\"X matrices\"][ii])[0]))\n",
    "        Xkern = matrix(list(Xtau.kernel().basis()))\n",
    "        break\n",
    "\n",
    "print(\"\\nThe order of flags with tau type is \")\n",
    "print(\"\\n\".join(map(str, G.generate(3, tau))))\n",
    "\n",
    "print(\"\\nA base for the kernel of Xtau is \")\n",
    "print(Xkern.T)"
   ]
  },
  {
   "cell_type": "code",
   "execution_count": 39,
   "id": "9cf23da8-4aa7-4886-b7c1-7567a2c66451",
   "metadata": {},
   "outputs": [
    {
     "name": "stdout",
     "output_type": "stream",
     "text": [
      "The FA bound proves the optimum is at most 5 partite\n",
      "\n",
      "The order of flags with tau type is \n",
      "Flag on 5 points, ftype from (0, 1) with edges=()\n",
      "Flag on 5 points, ftype from (1, 2) with edges=(01 02 03 04)\n",
      "Flag on 5 points, ftype from (0, 1) with edges=(02 03 04 12 13 14)\n",
      "Flag on 5 points, ftype from (2, 3) with edges=(02 03 04 12 13 14)\n",
      "Flag on 5 points, ftype from (2, 3) with edges=(01 02 03 04 12 13 14)\n",
      "Flag on 5 points, ftype from (1, 4) with edges=(01 02 03 04 12 13 24 34)\n",
      "Flag on 5 points, ftype from (2, 3) with edges=(01 02 03 04 12 13 14 24 34)\n",
      "\n",
      "A base for the kernel of Xtau is \n",
      "[                     1                      0]\n",
      "[                     0                      1]\n",
      "[1089/64*alpha - 401/16 -561/64*alpha + 209/16]\n",
      "[    153/8*alpha - 33/2     -33/8*alpha + 13/2]\n",
      "[     99/8*alpha - 27/2     -51/8*alpha + 15/2]\n",
      "[2313/64*alpha - 729/16 -825/64*alpha + 345/16]\n",
      "[  -189/32*alpha - 51/8   -147/32*alpha + 51/8]\n",
      "\n",
      "The possible part sizes that can appear: \n",
      "1/14*sqrt(57) + 1/14\n",
      "-1/56*sqrt(57) + 13/56\n"
     ]
    }
   ],
   "source": [
    "# For case 5:\n",
    "import pickle\n",
    "from sage.algebras.combinatorial_theory import _unflatten_matrix\n",
    "certificate = pickle.load(open(\"certificates/semiind5.pickle\", \"rb\"))\n",
    "construction = MPG.blowup_construction(8, 5, edges=list(itertools.combinations(range(5), 2)))\n",
    "cvals = construction.values()\n",
    "svals = certificate[\"slack vector\"]\n",
    "correct_slacks = True\n",
    "for ii in range(len(svals)):\n",
    "    if svals[ii]==0 and cvals[ii]==0:\n",
    "        correct_slacks = False\n",
    "        break\n",
    "if correct_slacks:\n",
    "    print(\"The FA bound proves the optimum is at most 5 partite\")\n",
    "\n",
    "alpha_real = RF(solve(x^2 - 13/7*x + 4/7==0, x)[0].rhs())\n",
    "R.<alpha> = NumberField(x^2 - 13/7*x + 4/7, embedding=alpha_real)\n",
    "tau = MPG(2, ftype=[0, 1])\n",
    "Xtau = None\n",
    "Xkern = None\n",
    "for ii,xx in enumerate(certificate[\"typed flags\"]):\n",
    "    if xx[1] == tau._pythonize():\n",
    "        Xtau = matrix(R, to_sage(2, _unflatten_matrix(certificate[\"X matrices\"][ii])[0]))\n",
    "        Xkern = matrix(list(Xtau.kernel().basis()))\n",
    "        break\n",
    "\n",
    "print(\"\\nThe order of flags with tau type is \")\n",
    "print(\"\\n\".join(map(str, MPG.generate(5, tau))))\n",
    "\n",
    "print(\"\\nA base for the kernel of Xtau is \")\n",
    "print(Xkern.T)\n",
    "\n",
    "var(\"p\")\n",
    "clique_projection = matrix([\n",
    "    [1, 0, 0, 0, 0, 0, 0],  # parts (5)\n",
    "    [0, 1, 0, 0, 0, 0, 0],  # parts (4,1)\n",
    "    [0, 0, 0, 1, 1, 0, 0],  # parts (3,2) + (3,1,1)\n",
    "    [0, 0, 1, 0, 0, 1, 1]   # parts (2,3) + (2,2,1) + (2,1,1,1)\n",
    "])\n",
    "W = clique_projection*Xkern.T\n",
    "Ns = list(W.kernel().basis())\n",
    "Vp = vector([p^3, 3*p^2*(1-p), 3*p*(1-p)^2, (1-p)^3])\n",
    "print(\"\\nThe possible part sizes that can appear: \")\n",
    "for xx in solve([Vp*Ns[0]==0, Vp*Ns[1]==0], p):\n",
    "    print(xx[0].rhs())"
   ]
  },
  {
   "cell_type": "code",
   "execution_count": 58,
   "id": "df0f5899-c67c-47a1-a7f3-42906098da5d",
   "metadata": {},
   "outputs": [
    {
     "name": "stdout",
     "output_type": "stream",
     "text": [
      "Almost optimal construction could contain the following\n",
      "Flag on 5 points, ftype from () with edges=()\n",
      "Flag on 5 points, ftype from () with edges=(01 03 04)\n",
      "Flag on 5 points, ftype from () with edges=(01 02 03 04)\n",
      "Flag on 5 points, ftype from () with edges=(02 04 12 14)\n",
      "Flag on 5 points, ftype from () with edges=(02 03 04 12 13 14)\n",
      "\n",
      "tau: (1, (0,), (('edges', ()),))\n",
      "3\n",
      "(6, 6)\n",
      "\n",
      "tau: (3, (0, 1, 2), (('edges', ()),))\n",
      "5\n",
      "(8, 8)\n",
      "\n",
      "tau: (3, (0, 1, 2), (('edges', ((0, 1),)),))\n",
      "1\n",
      "(8, 8)\n",
      "\n",
      "tau: (3, (0, 1, 2), (('edges', ((0, 1), (0, 2))),))\n",
      "2\n",
      "(8, 8)\n",
      "\n",
      "tau: (3, (0, 1, 2), (('edges', ((0, 1), (0, 2), (1, 2))),))\n",
      "0\n",
      "(8, 8)\n"
     ]
    }
   ],
   "source": [
    "# For case 6:\n",
    "\n",
    "G.reset()\n",
    "G.printlevel(0)\n",
    "certificate = pickle.load(open(\"certificates/semiind6.pickle\", \"rb\"))\n",
    "svals = to_sage(1, certificate[\"slack vector\"])\n",
    "target_size = certificate[\"target size\"]\n",
    "gls = G.generate(target_size)\n",
    "print(\"Almost optimal construction could contain the following\")\n",
    "for ii in range(len(svals)):\n",
    "    if svals[ii]==0:\n",
    "        print(gls[ii])\n",
    "\n",
    "tau = G(3, edges=[[0, 1], [0, 2]], ftype=[0, 1, 2])\n",
    "Xtau = None\n",
    "Xkern = None\n",
    "for ii,xx in enumerate(certificate[\"typed flags\"]):\n",
    "    Xtau = matrix(QQ, to_sage(2, _unflatten_matrix(certificate[\"X matrices\"][ii])[0]))\n",
    "    Xkern = matrix(list(Xtau.kernel().basis()))\n",
    "    print(\"\\ntau:\", xx[1])\n",
    "    print(Xtau.nullity())\n",
    "    print(Xtau.dimensions())"
   ]
  }
 ],
 "metadata": {
  "kernelspec": {
   "display_name": "SageMath 10.5.beta7",
   "language": "sage",
   "name": "sagemath"
  },
  "language_info": {
   "codemirror_mode": {
    "name": "ipython",
    "version": 3
   },
   "file_extension": ".py",
   "mimetype": "text/x-python",
   "name": "python",
   "nbconvert_exporter": "python",
   "pygments_lexer": "ipython3",
   "version": "3.12.3"
  }
 },
 "nbformat": 4,
 "nbformat_minor": 5
}
