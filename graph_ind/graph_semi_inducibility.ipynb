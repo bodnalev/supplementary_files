{
 "cells": [
  {
   "cell_type": "markdown",
   "id": "f7a32346-b798-4524-89ab-dbdb36f7fb44",
   "metadata": {},
   "source": [
    "Semi-inducibility\n",
    "=================\n",
    "\n",
    "First cell sets up the theory of colored graphs and provides a script to translate semi-inducibility problems to an optimization over regular graphs. \n",
    "Then this is used to maximize the semi-inducibility of the alternating $P_4$ and the alternating $C_6$."
   ]
  },
  {
   "cell_type": "code",
   "execution_count": 9,
   "id": "538897ed-a683-4590-8525-c24c7954a56e",
   "metadata": {},
   "outputs": [],
   "source": [
    "G = GraphTheory\n",
    "\n",
    "G.printlevel(0)\n",
    "\n",
    "def check_blocks(flg, do, dont):\n",
    "    eds = flg.blocks(\"edges\")\n",
    "    for ee in do:\n",
    "        if ee not in eds:\n",
    "            return False\n",
    "    for ee in dont:\n",
    "        if ee in eds:\n",
    "            return False\n",
    "    return True\n",
    "\n",
    "AG = Theory(\"BlueGraph\", \"blue_edges\")\n",
    "CG = combine(\"RedBlueGraph\", G, AG, symmetries=FullSymmetry)\n",
    "CG.exclude(CG(2, edges=[[0, 1]], blue_edges=[[0, 1]]))\n",
    "\n",
    "def get_targ(ff):\n",
    "    vn = ff.size()\n",
    "    eddo = ff.blocks(\"edges\")\n",
    "    eddont = ff.blocks(\"blue_edges\")\n",
    "    pats = G.p(vn, edges=eddo, edges_m=eddont)\n",
    "    targ = 0\n",
    "    for xx in pats.compatible_flags():\n",
    "        coef = 0\n",
    "        for eperm in itertools.permutations(range(vn)):\n",
    "            xxpermed = xx.subflag(eperm)\n",
    "            if check_blocks(xxpermed, eddo, eddont):\n",
    "                coef += 1\n",
    "        targ += coef*xx\n",
    "    return targ*QQ(1/(factorial(vn)))"
   ]
  },
  {
   "cell_type": "code",
   "execution_count": 10,
   "id": "9483d4b9-41f4-4e03-9138-ce07946436fb",
   "metadata": {},
   "outputs": [
    {
     "name": "stdout",
     "output_type": "stream",
     "text": [
      "For the alternating P4 the constr gives 4/27, upper bound is 4/27\n",
      "For the alternating C6 the constr gives 1/64, upper bound is 1/64\n"
     ]
    }
   ],
   "source": [
    "#\n",
    "# Calculation for alternating P4\n",
    "#\n",
    "\n",
    "targ = get_targ(CG(4, edges=[[1, 2]], blue_edges=[[0, 1], [2, 3]]))\n",
    "constr = G.blowup_construction(4, 1, edges={(0, 0): 1/3})\n",
    "dens = constr.density(targ)\n",
    "bound = G.optimize(targ, 4, construction=constr, exact=True, file=\"certificates/semiind_p4\")\n",
    "print(\"For the alternating P4 the constr gives {}, upper bound is {}\".format(dens, bound))\n",
    "\n",
    "\n",
    "#\n",
    "# Calculation for alternating C6\n",
    "#\n",
    "\n",
    "targ = get_targ(CG(6, edges=[[0, 1], [2, 3], [4, 5]], blue_edges=[[1, 2], [3, 4], [5, 0]]))\n",
    "constr = G.blowup_construction(6, 1, edges={(0, 0): 1/2})\n",
    "dens = constr.density(targ)\n",
    "bound = G.optimize(targ, 6, construction=constr, exact=True, file=\"certificates/semiind_c6\")\n",
    "print(\"For the alternating C6 the constr gives {}, upper bound is {}\".format(dens, bound))"
   ]
  },
  {
   "cell_type": "markdown",
   "id": "be5d7907-a61d-4ee4-a3e1-2741f746b383",
   "metadata": {},
   "source": [
    "Tools to test stability\n",
    "====================\n",
    "\n",
    "First a script following Corollary 2.2 is included, which will test regularity for P4 and C6 in the following cell."
   ]
  },
  {
   "cell_type": "code",
   "execution_count": 11,
   "id": "2b637366-663f-4c45-90bc-58b0fe550845",
   "metadata": {},
   "outputs": [],
   "source": [
    "from fractions import Fraction\n",
    "from sage.algebras.combinatorial_theory import _unflatten_matrix\n",
    "import pickle\n",
    "\n",
    "# general helper function to have data in sage compatible format\n",
    "def to_sage(dim, data):\n",
    "    if dim==0:\n",
    "        if isinstance(data, Fraction):\n",
    "            return QQ(data)\n",
    "        if isinstance(data, float):\n",
    "            return RR(data)\n",
    "        return data\n",
    "    return [to_sage(dim-1, xx) for xx in data]\n",
    "\n",
    "def check_almost_regularity(name):\n",
    "    file = \"certificates/semiind_\"+str(name)\n",
    "    print(\"\\n\\nchecking almost regularity for \" + file)\n",
    "    G.reset()\n",
    "    G.printlevel(0)\n",
    "    if not file.endswith(\".pickle\"):\n",
    "        file += \".pickle\"\n",
    "    with open(file, \"rb\") as f:\n",
    "        certificate = pickle.load(f)\n",
    "    target_size = certificate[\"target size\"]\n",
    "    edge_type = G(2, edges=[[0, 1]], ftype=[0, 1])\n",
    "    edge_regularity = G(3, edges=[[0, 1], [0, 2]], ftype=[0, 1]) - G(3, edges=[[0, 1], [1, 2]], ftype=[0, 1])\n",
    "    nonedge_type = G(2, edges=[], ftype=[0, 1])\n",
    "    nonedge_regularity = G(3, edges=[[0, 2]], ftype=[0, 1]) - G(3, edges=[[1, 2]], ftype=[0, 1])\n",
    "    \n",
    "    for ii,xx in enumerate(certificate[\"typed flags\"]):\n",
    "        fsz = xx[0]\n",
    "        ftp = xx[1]\n",
    "        if ftp == edge_type._pythonize():\n",
    "            X = matrix(to_sage(2, _unflatten_matrix(certificate[\"X matrices\"][ii])[0]))\n",
    "            reg_vec = (edge_regularity<<(fsz - 3)).values()\n",
    "            if reg_vec in X.image():\n",
    "                print(\" - almost degree regularity holds between edges\")\n",
    "            else:\n",
    "                print(\" - almost degree regularity fails between edges\")\n",
    "        elif ftp == nonedge_type._pythonize():\n",
    "            X = matrix(to_sage(2, _unflatten_matrix(certificate[\"X matrices\"][ii])[0]))\n",
    "            reg_vec = (nonedge_regularity<<(fsz - 3)).values()\n",
    "            if reg_vec in X.image():\n",
    "                print(\" - almost degree regularity holds between nonedges\")\n",
    "            else:\n",
    "                print(\" - almost degree regularity fails between nonedges\")"
   ]
  },
  {
   "cell_type": "code",
   "execution_count": 12,
   "id": "4a99abe5-6892-4c50-b789-e450d6031736",
   "metadata": {},
   "outputs": [
    {
     "name": "stdout",
     "output_type": "stream",
     "text": [
      "\n",
      "\n",
      "checking almost regularity for certificates/semiind_p4\n",
      " - almost degree regularity holds between nonedges\n",
      " - almost degree regularity holds between edges\n",
      "\n",
      "\n",
      "checking almost regularity for certificates/semiind_c6\n",
      " - almost degree regularity holds between nonedges\n",
      " - almost degree regularity holds between edges\n"
     ]
    }
   ],
   "source": [
    "# Almost regularity checks based on Corollary 2.2\n",
    "check_almost_regularity(\"p4\")\n",
    "check_almost_regularity(\"c6\")"
   ]
  }
 ],
 "metadata": {
  "kernelspec": {
   "display_name": "SageMath 10.5.beta7",
   "language": "sage",
   "name": "sagemath"
  },
  "language_info": {
   "codemirror_mode": {
    "name": "ipython",
    "version": 3
   },
   "file_extension": ".py",
   "mimetype": "text/x-python",
   "name": "python",
   "nbconvert_exporter": "python",
   "pygments_lexer": "ipython3",
   "version": "3.10.12"
  }
 },
 "nbformat": 4,
 "nbformat_minor": 5
}
