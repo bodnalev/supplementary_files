{
 "cells": [
  {
   "cell_type": "markdown",
   "id": "49e62ec4-ee58-4c7b-b521-7475999bee2f",
   "metadata": {},
   "source": [
    "Inducibility\n",
    "=============\n",
    "\n",
    "The followsing cells maximize the induced density of the claimed graphs as they appear in the table, in a few cases with the help of a consturction. The proved bound and the density of the target on the optimal construction (or one of them, if there are multiple) is printed, to verify that the lower and upper bounds match."
   ]
  },
  {
   "cell_type": "code",
   "execution_count": 1,
   "id": "49cc4565-385a-495b-a673-4ddf3538dc92",
   "metadata": {},
   "outputs": [],
   "source": [
    "G = GraphTheory\n",
    "G.printlevel(0)"
   ]
  },
  {
   "cell_type": "code",
   "execution_count": 2,
   "id": "00dc7ede-9a41-458b-ad8b-5c4af2e3f1db",
   "metadata": {},
   "outputs": [
    {
     "name": "stdout",
     "output_type": "stream",
     "text": [
      "Value on construction is 5/24, flag algebra bound is 5/24\n"
     ]
    }
   ],
   "source": [
    "#3-star plus isolated vertex\n",
    "target = G(5,edges=[[0,1],[0,2],[0,3]])\n",
    "R = QQ[sqrt(3)]; sq3 = R(sqrt(3))\n",
    "r1=1/4+sq3/12\n",
    "r2=1/4-sq3/12\n",
    "constr = G.blowup_construction(7, [r1, r1, r2, r2], edges=[[0, 1], [2, 3]])\n",
    "bound = G.optimize(target, 7, exact=True, construction=constr, file=\"certificates/ind0\")\n",
    "value = constr.density(target)\n",
    "print(\"Value on construction is {}, flag algebra bound is {}\".format(value, bound))"
   ]
  },
  {
   "cell_type": "code",
   "execution_count": 3,
   "id": "93e7a5e0-c272-42e6-84d7-659aeeb8e560",
   "metadata": {},
   "outputs": [
    {
     "name": "stdout",
     "output_type": "stream",
     "text": [
      "Value on construction is 5/32, flag algebra bound is 5/32\n"
     ]
    }
   ],
   "source": [
    "#4-cycle plus isolated vertex\n",
    "target = G(5,edges=[[0,1],[1,2],[2,3],[3,0]])\n",
    "R = QQ[sqrt(3)]; sq3 = R(sqrt(3))\n",
    "r1=1/4+sq3/12\n",
    "r2=1/4-sq3/12\n",
    "constr = G.blowup_construction(7, [r1, r1, r2, r2], edges=[[0, 1], [2, 3]])\n",
    "bound = G.optimize(target, 7, exact=True, file=\"certificates/ind1\")\n",
    "value = constr.density(target)\n",
    "print(\"Value on construction is {}, flag algebra bound is {}\".format(value, bound))"
   ]
  },
  {
   "cell_type": "code",
   "execution_count": 5,
   "id": "67d94431-6579-4470-b824-36714381a360",
   "metadata": {
    "scrolled": true
   },
   "outputs": [
    {
     "name": "stdout",
     "output_type": "stream",
     "text": [
      "Value on construction is 15625/62208, flag algebra bound is 15625/62208\n"
     ]
    }
   ],
   "source": [
    "#4-cycle plus joint edge\n",
    "target = G(5, edges=[[0, 1], [1, 2], [2, 3], [3, 0], [0, 4]])\n",
    "constr = G.blowup_construction(5, 2, edges={(0, 1): 5/6})\n",
    "bound = G.optimize(target, 5, exact=True, construction=constr, file=\"certificates/ind2\")\n",
    "value = constr.density(target)\n",
    "print(\"Value on construction is {}, flag algebra bound is {}\".format(value, bound))"
   ]
  },
  {
   "cell_type": "markdown",
   "id": "e130919d-efe3-495f-b55f-dd686c0aa532",
   "metadata": {},
   "source": [
    "Stability check\n",
    "================\n",
    "\n",
    "First cells includes a short script that checks condition 3 and condition i from Theorem ...\n",
    "\n",
    "Then each certificate is checked for these conditions using a provided type $\\tau$.\n",
    "\n",
    "Finally, the certificate for the 4-cycle with a joined edge is inspected separately, to verify the\n",
    "stability of the probabilistic construction."
   ]
  },
  {
   "cell_type": "code",
   "execution_count": 6,
   "id": "cbed1301-1ef7-4430-973b-0f38b0872709",
   "metadata": {},
   "outputs": [],
   "source": [
    "from fractions import Fraction\n",
    "from sage.algebras.combinatorial_theory import _unflatten_matrix\n",
    "import pickle\n",
    "\n",
    "def to_sage(dim, data):\n",
    "    if dim==0:\n",
    "        if isinstance(data, Fraction):\n",
    "            return QQ(data)\n",
    "        if isinstance(data, float):\n",
    "            return RR(data)\n",
    "        return data\n",
    "    return [to_sage(dim-1, xx) for xx in data]\n",
    "\n",
    "def check_stability(file, H, construction_size, construction_edges, ftype):\n",
    "    print(\"\\n\\nchecking stability for \" + file)\n",
    "    G.reset()\n",
    "    G.printlevel(0)\n",
    "    if not file.endswith(\".pickle\"):\n",
    "        file += \".pickle\"\n",
    "    with open(file, \"rb\") as f:\n",
    "        certificate = pickle.load(f)\n",
    "    target_size = certificate[\"target size\"]\n",
    "    original_bound = to_sage(0, certificate[\"result\"])\n",
    "    \n",
    "    # Checking condition 2.a\n",
    "    ftype_untyped = ftype.subflag(ftype_points=[])\n",
    "    G.exclude(ftype_untyped)\n",
    "    try:\n",
    "        target = H.afae()\n",
    "    except:\n",
    "        target = 0\n",
    "    if target==0: \n",
    "        bound = 0\n",
    "    else:\n",
    "        try:\n",
    "            bound = G.optimize(target, target_size-1, exact=True, denom=2**20, construction=[])\n",
    "        except:\n",
    "            bound = 1\n",
    "        if bound > original_bound:\n",
    "            bound = G.optimize(target, target_size, exact=True, denom=2**20, construction=[])\n",
    "    G.reset()\n",
    "    \n",
    "    if bound < original_bound:\n",
    "        print(\" - condition 2.a is satisfied\")\n",
    "    else:\n",
    "        print(\" - condition 2.a is not satisfied\")\n",
    "        return\n",
    "\n",
    "    # Checking condition 3\n",
    "    construction = G.blowup_construction(target_size, construction_size, edges=construction_edges)\n",
    "    cvals = construction.values()\n",
    "    svals = to_sage(1, certificate[\"slack vector\"])\n",
    "    correct_slacks = True\n",
    "    for ii in range(len(svals)):\n",
    "        if svals[ii]==0 and cvals[ii]==0:\n",
    "            correct_slacks = False\n",
    "    if not correct_slacks:\n",
    "        print(\" - condition 3 is not satisfied\")\n",
    "        return\n",
    "    else:\n",
    "        print(\" - condition 3 is satisfied\")\n",
    "\n",
    "    # Checking condition i\n",
    "    index = -1\n",
    "    for ii,xx in enumerate(certificate[\"typed flags\"]):\n",
    "        if xx[1] == ftype._pythonize():\n",
    "            index = ii\n",
    "            break\n",
    "    if index==-1:\n",
    "        print(\" - type not found\")\n",
    "        return\n",
    "    mat = matrix(to_sage(2, _unflatten_matrix(certificate[\"X matrices\"][index])[0]))\n",
    "    if mat.nullity()==1:\n",
    "        print(\" - condition i is satisfied\")\n",
    "        print(\"problem is stable\")\n",
    "        return\n",
    "    else:\n",
    "        print(\" - condition i is not satisfied, the matrix has nullity\", mat.nullity())\n",
    "\n",
    "    # Checking condition ii\n",
    "    B_edges = [xx for xx in construction_edges if xx[0]!=xx[1]]\n",
    "    B = G(construction_size, edges=B_edges)\n",
    "    G.exclude(B)\n",
    "    try:\n",
    "        target = H.afae()\n",
    "    except:\n",
    "        target = 0\n",
    "\n",
    "    if target==0: \n",
    "        bound = 0\n",
    "    else:\n",
    "        try:\n",
    "            bound = G.optimize(target, target_size-1, exact=True, denom=2**20, construction=[])\n",
    "        except:\n",
    "            bound = 1\n",
    "        if bound > original_bound:\n",
    "            bound = G.optimize(target, target_size, exact=True, denom=2**20, construction=[])\n",
    "    G.reset()\n",
    "    if bound < original_bound:\n",
    "        print(\" - condition ii is satisfied\")\n",
    "        print(\"problem is stable\")\n",
    "    else:\n",
    "        print(\" - condition ii is not satisfied\")"
   ]
  },
  {
   "cell_type": "code",
   "execution_count": 7,
   "id": "90ac32da-8a45-403b-935e-6eff5977d642",
   "metadata": {},
   "outputs": [
    {
     "name": "stdout",
     "output_type": "stream",
     "text": [
      "\n",
      "\n",
      "checking stability for certificates/ind0\n",
      " - condition 2.a is satisfied\n",
      " - condition 3 is satisfied\n",
      " - condition i is not satisfied, the matrix has nullity 4\n",
      " - condition ii is satisfied\n",
      "problem is stable\n",
      "\n",
      "\n",
      "checking stability for certificates/ind1\n",
      " - condition 2.a is satisfied\n",
      " - condition 3 is satisfied\n",
      " - condition i is not satisfied, the matrix has nullity 2\n",
      " - condition ii is satisfied\n",
      "problem is stable\n"
     ]
    }
   ],
   "source": [
    "cherry_edge_type = G(5, edges=[[0, 2], [0, 3], [1, 4]], ftype=[0, 1, 2, 3, 4])\n",
    "\n",
    "check_stability(\"certificates/ind0\", \n",
    "                G(5,edges=[[0,1],[0,2],[0,3]]), \n",
    "                4, [[0, 1], [2, 3]], \n",
    "                cherry_edge_type)\n",
    "\n",
    "check_stability(\"certificates/ind1\", \n",
    "                G(5,edges=[[0,1],[1,2],[2,3],[3,0]]),\n",
    "                4, [[0, 1], [2, 3]], \n",
    "                cherry_edge_type)"
   ]
  },
  {
   "cell_type": "code",
   "execution_count": 9,
   "id": "a86cb45a-e1b0-4e1e-9c27-60b9c411799d",
   "metadata": {},
   "outputs": [
    {
     "name": "stdout",
     "output_type": "stream",
     "text": [
      "\n",
      "For condition A: nullity(Xtau) = 1  where tau=(Ftype on 1 points with edges=())\n",
      "\n",
      "For condition B: nullity(Xtau) = 1  where tau=(Ftype on 3 points with edges=(01 02))\n",
      "\n",
      "For condition C: list of tau flags with <=1 connection: \n",
      "Flag on 4 points, ftype from (0, 1, 2) with edges=()\n",
      "Flag on 4 points, ftype from (0, 2, 3) with edges=(01)\n",
      "Flag on 4 points, ftype from (2, 0, 3) with edges=(01)\n",
      "Flag on 4 points, ftype from (2, 3, 0) with edges=(01)\n",
      "\n",
      "Intersection of this space with Xtau is \n",
      "Vector space of degree 8 and dimension 0 over Rational Field\n",
      "Basis matrix:\n",
      "[]\n",
      "\n",
      "For condition D: list of tau flags with <=1 connection: \n",
      "Flag on 4 points, ftype from (0, 1, 2) with edges=(01)\n",
      "Flag on 4 points, ftype from (0, 1, 2) with edges=(01 03)\n",
      "Flag on 4 points, ftype from (1, 0, 2) with edges=(01 03)\n",
      "Flag on 4 points, ftype from (0, 2, 1) with edges=(02 13)\n",
      "\n",
      "Intersection of this space with Xtau is \n",
      "Vector space of degree 8 and dimension 0 over Rational Field\n",
      "Basis matrix:\n",
      "[]\n"
     ]
    }
   ],
   "source": [
    "#\n",
    "# The data for the \"4-cycle plus joint edge\" argument\n",
    "#\n",
    "with open(\"certificates/ind2.pickle\", \"rb\") as f:\n",
    "    cert = pickle.load(f)\n",
    "\n",
    "ftypes = G._get_relevant_ftypes(5)\n",
    "\n",
    "_, ft0, _ = ftypes[0]\n",
    "X0 = matrix(to_sage(2, _unflatten_matrix(cert[\"X matrices\"][0])[0]))\n",
    "print(\"\\nFor condition A: nullity(Xtau) = {}  where tau=({})\".format(X0.nullity(), ft0))\n",
    "\n",
    "_, ft3, _ = ftypes[3]\n",
    "X3 = matrix(to_sage(2, _unflatten_matrix(cert[\"X matrices\"][3])[0]))\n",
    "print(\"\\nFor condition B: nullity(Xtau) = {}  where tau=({})\".format(X3.nullity(), ft3))\n",
    "\n",
    "ts1, ft1, _ = ftypes[1]\n",
    "X1 = matrix(to_sage(2, _unflatten_matrix(cert[\"X matrices\"][1])[0]))\n",
    "base1 = [xx for xx in G.generate(ts1, ft1) if len(xx.blocks(\"edges\"))<=1]\n",
    "print(\"\\nFor condition C: list of tau flags with <=1 connection: \")\n",
    "print(\"\\n\".join(map(str, base1)))\n",
    "space1 = matrix([xx.afae().values() for xx in base1])\n",
    "print(\"\\nIntersection of this space with Xtau is \\n{}\".format(X1.kernel().intersection(space1.image())))\n",
    "\n",
    "\n",
    "ts2, ft2, _ = ftypes[2]\n",
    "X2 = matrix(to_sage(2, _unflatten_matrix(cert[\"X matrices\"][2])[0]))\n",
    "base2 = [xx for xx in G.generate(ts2, ft2) if len(xx.blocks(\"edges\"))<=2]\n",
    "print(\"\\nFor condition D: list of tau flags with <=1 connection: \")\n",
    "print(\"\\n\".join(map(str, base2)))\n",
    "space2 = matrix([xx.afae().values() for xx in base2])\n",
    "print(\"\\nIntersection of this space with Xtau is \\n{}\".format(X2.kernel().intersection(space2.image())))"
   ]
  },
  {
   "cell_type": "code",
   "execution_count": 28,
   "id": "eb5ae954-4df0-43de-9c78-52f9fd1dce9d",
   "metadata": {},
   "outputs": [
    {
     "name": "stdout",
     "output_type": "stream",
     "text": [
      "q(0, 5/12) = 15625/746496 and 5*gamma = 15625/746496\n",
      "\n",
      "\n",
      "\n",
      "Testing the interior\n",
      "\n",
      "Ideal generators:\n",
      "\n",
      " 125/432*(2*x - 1)*x*(2*y - 1) + 25/216*x^2*(2*y - 1) - 625/10368*(2*x - 1)*(2*y - 1)^2 - 125/5184*x*(2*y - 1)^2 - 625/2592*(2*x - 1)*(2*y - 1)*y - 25/1296*x*(2*y - 1)*y + 475/2592*(2*x - 1)*y^2 - 25/1296*x*y^2 + 125/432*(2*y - 1)*y^2 - 25/216*y^3\n",
      "\n",
      " 125/432*(2*x - 1)*x^2 - 25/216*x^3 - 625/10368*(2*x - 1)^2*(2*y - 1) - 625/2592*(2*x - 1)*x*(2*y - 1) + 475/2592*x^2*(2*y - 1) - 125/5184*(2*x - 1)^2*y - 25/1296*(2*x - 1)*x*y - 25/1296*x^2*y + 125/432*(2*x - 1)*(2*y - 1)*y + 25/216*(2*x - 1)*y^2\n",
      "\n",
      " -125/864*(2*x - 1)*x^2*(2*y - 1) + 25/432*x^3*(2*y - 1) + 625/10368*(2*x - 1)*x*(2*y - 1)^2 - 125/2592*x^2*(2*y - 1)^2 + 625/10368*(2*x - 1)^2*(2*y - 1)*y + 25/2592*x^2*(2*y - 1)*y - 125/2592*(2*x - 1)^2*y^2 + 25/2592*(2*x - 1)*x*y^2 - 125/864*(2*x - 1)*(2*y - 1)*y^2 + 25/432*(2*x - 1)*y^3 + z\n",
      "\n",
      "Gröbner Basis:\n",
      "\n",
      "\n",
      " x + y - 5187891984106164236712945182528392771109995899625841179383300096/2757962189876589739610646851316707901420560026019287109375*z^5 - 120848197882515650074460379690138350125333560070708939714461696/551592437975317947922129370263341580284112005203857421875*z^4 + 128466006018248195401104982442971107222741799156505961824256/4412739503802543583377034962106732642272896041630859375*z^3 - 1010350915557344151685947808723753046576498214149977276416/882547900760508716675406992421346528454579208326171875*z^2 + 18799891414497039508600143148748553529569287749364352/282415328243362789336130237574830889105465346664375*z - 948855825870266533014675188723970016028129061155/903729050378760925875616760239458845137489109326\n",
      "\n",
      " y^2 - 38010326888742912/112868157140125*y*z^2 + 644658010357248/22573631428025*y*z - 1959417763085/1805890514242*y - 6570036207593821990355011003144067683865847824873540027726954496/551592437975317947922129370263341580284112005203857421875*z^5 - 241388811479435266483417190335730427588155678727297871795716096/110318487595063589584425874052668316056822401040771484375*z^4 + 42599556582694006269590676721524144492629450497985668448256/882547900760508716675406992421346528454579208326171875*z^3 - 614638151641706482261004397841852867442788521514029858816/176509580152101743335081398484269305690915841665234375*z^2 + 993115568828542601335899251533836314623827337756416/56483065648672557867226047514966177821093069332875*z + 1233238752371757801131379231747556917945659820775/3614916201515043703502467040957835380549956437304\n",
      "\n",
      " y*z^3 - 12688805/764411904*y*z^2 + 1057655348875/760840571584512*y*z + 30976953125/24346898290704384*y + 27543289724928/169247546875*z^5 + 834492761728/33849509375*z^4 - 820759570905031/1078123662950400*z^3 + 3368611103694999031/71539111279806382080*z^2 - 7766001340254359375/10988407492578260287488*z - 238654036228515625/351629039762504329199616\n",
      "\n",
      " z^6 + 69672635/382205952*z^5 - 789423007698125/194775186325635072*z^4 + 20055643492606990625/64621732218373901647872*z^3 - 28005317558330078125/10468720619376572066955264*z^2 - 21065181302459716796875/3087351335301583621409910816768*z - 370573902130126953125/98795242729650675885117146136576\n",
      "\n",
      "Single variable generator, Q(z) is 98795242729650675885117146136576*z^6 + 18009465447674020572152337530880*z^5 - 400416701599337361136680960000*z^4 + 30661545256257839254732800000*z^3 - 264291334776391680000000000*z^2 - 674085801678710937500000*z - 370573902130126953125\n",
      "\n",
      "Is 5*gamma a root?  False\n",
      "\n",
      "\n",
      "\n",
      "Testing y=1/2 edge\n",
      "\n",
      "Optimums are\n",
      "x=25/36, gives same as 5*gamma? False\n",
      "\n",
      "\n",
      "\n",
      "Testing y=0 edge\n",
      "\n",
      "Optimums are\n",
      "x=5/12, gives same as 5*gamma? True\n",
      "x=-5/24, gives same as 5*gamma? False\n",
      "\n",
      "\n",
      "\n",
      "Testing corners\n",
      "\n",
      "Values are\n",
      "x=0, y=0 gives same as 5*gamma? False\n",
      "x=1/2, y=0 gives same as 5*gamma? False\n",
      "x=1/2, y=1/2 gives same as 5*gamma? False\n"
     ]
    }
   ],
   "source": [
    "p = 5/6\n",
    "gamma = p^5 * (1-p) / 2^4\n",
    "var(\"x0 x1 y0 y1\")\n",
    "uf_emb_half = x0 * x1^2 * y0 * p^2 * (1-p)^2 + x0^3 * y1 * p^2 * (1-p) + \\\n",
    "2*(x0^2 * y1^2 * p^3 * (1-p)) + x0^2 * y0 * y1 * p^3 + x0 * y0 * y1^2 * p^4\n",
    "uf_emb = uf_emb_half + uf_emb_half.subs(x0=x1, x1=x0, y0=y1, y1=y0)\n",
    "\n",
    "q = uf_emb.subs(y0 = 1/2 - x0, y1 = 1/2 - x1)\n",
    "print(\"q(0, 5/12) = {} and 5*gamma = {}\".format(q.subs(x0 = 0, x1 = 5/12), 5*gamma))\n",
    "\n",
    "print(\"\\n\\n\\nTesting the interior\")\n",
    "\n",
    "R.<x, y, z> = PolynomialRing(QQ, 3, order='lex')\n",
    "qab = q.subs(x0=x, x1=y)\n",
    "gens = [qab.derivative(x), qab.derivative(y), z-qab]\n",
    "print(\"\\nIdeal generators:\")\n",
    "I = R.ideal(gens)\n",
    "for p in gens:\n",
    "    print(\"\\n\", p)\n",
    "\n",
    "Gb = I.groebner_basis()\n",
    "\n",
    "print(\"\\nGröbner Basis:\\n\")\n",
    "for p in Gb:\n",
    "    print(\"\\n\", p)\n",
    "\n",
    "print(\"\\nSingle variable generator, Q(z) is\", Gb[-1]/(factor(Gb[-1]).unit()))\n",
    "\n",
    "print(\"\\nIs 5*gamma a root? \", Gb[-1].subs(z=5*gamma)==0)\n",
    "\n",
    "\n",
    "print(\"\\n\\n\\nTesting y=1/2 edge\")\n",
    "print(\"\\nOptimums are\")\n",
    "for xx in solve(q.subs(x0=1/2).derivative(x1)==0, x1):\n",
    "    opt = xx.rhs()\n",
    "    val = q.subs({x0:1/2, x1:opt})\n",
    "    print(\"x={}, gives same as 5*gamma? {}\".format(opt, bool(val==5*gamma)))\n",
    "\n",
    "print(\"\\n\\n\\nTesting y=0 edge\")\n",
    "print(\"\\nOptimums are\")\n",
    "for xx in solve(q.subs(x0=0).derivative(x1)==0, x1):\n",
    "    opt = xx.rhs()\n",
    "    val = q.subs({x0:0, x1:opt})\n",
    "    print(\"x={}, gives same as 5*gamma? {}\".format(opt, bool(val==5*gamma)))\n",
    "\n",
    "print(\"\\n\\n\\nTesting corners\")\n",
    "print(\"\\nValues are\")\n",
    "for xx, yy in [(0, 0), (1/2, 0), (1/2, 1/2)]:\n",
    "    val = q.subs({x0:xx, x1:yy})\n",
    "    print(\"x={}, y={} gives same as 5*gamma? {}\".format(xx, yy, bool(val==5*gamma)))"
   ]
  },
  {
   "cell_type": "markdown",
   "id": "2d112c8e-5d98-4a3e-b914-1cd4653f4983",
   "metadata": {},
   "source": [
    "Verify the certificates\n",
    "====================\n",
    "The following cell verifies that the provided certificates are correct.\n",
    "The cell can be run independently of the rest of the notebook."
   ]
  },
  {
   "cell_type": "code",
   "execution_count": 1,
   "id": "13844b19-8961-4268-a379-36f59450e550",
   "metadata": {},
   "outputs": [
    {
     "name": "stdout",
     "output_type": "stream",
     "text": [
      "\n",
      "For the 3-star plus isolated vertex\n",
      "The solution is valid, it proves the bound 5/24\n",
      "\n",
      "For the 4-cycle plus isolated vertex\n",
      "The solution is valid, it proves the bound 5/32\n",
      "\n",
      "For the 4-cycle plus joint edge\n",
      "The solution is valid, it proves the bound 15625/62208\n"
     ]
    },
    {
     "data": {
      "text/plain": [
       "15625/62208"
      ]
     },
     "execution_count": 1,
     "metadata": {},
     "output_type": "execute_result"
    }
   ],
   "source": [
    "G = GraphTheory\n",
    "G.printlevel(0)\n",
    "print(\"\\nFor the 3-star plus isolated vertex\")\n",
    "G.verify(\"certificates/ind0\")\n",
    "print(\"\\nFor the 4-cycle plus isolated vertex\")\n",
    "G.verify(\"certificates/ind1\")\n",
    "print(\"\\nFor the 4-cycle plus joint edge\")\n",
    "G.verify(\"certificates/ind2\")"
   ]
  }
 ],
 "metadata": {
  "kernelspec": {
   "display_name": "SageMath 10.5.beta7",
   "language": "sage",
   "name": "sagemath"
  },
  "language_info": {
   "codemirror_mode": {
    "name": "ipython",
    "version": 3
   },
   "file_extension": ".py",
   "mimetype": "text/x-python",
   "name": "python",
   "nbconvert_exporter": "python",
   "pygments_lexer": "ipython3",
   "version": "3.12.3"
  }
 },
 "nbformat": 4,
 "nbformat_minor": 5
}
