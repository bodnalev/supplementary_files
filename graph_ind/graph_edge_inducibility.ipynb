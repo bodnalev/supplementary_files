{
 "cells": [
  {
   "cell_type": "markdown",
   "id": "f5524156-86c4-4bb0-b102-ba0042a65bf0",
   "metadata": {},
   "source": [
    "Calculations for the statistics problems\n",
    "======================================\n",
    "\n",
    "First cell sets up a function that can generate various target values for each $(\\kappa, \\ell)$ parameter. \n",
    "\n",
    "The followsing cells optimize the values as they appear in the table, in a few cases with the help of a construction. The proved bound and the density of the target on the optimal construction (or one of them, if there are multiple) is printed, to verify that the lower and upper bounds match."
   ]
  },
  {
   "cell_type": "code",
   "execution_count": 10,
   "id": "4c3e4bf4-4676-402a-ae61-13286fcd73e7",
   "metadata": {},
   "outputs": [],
   "source": [
    "G = GraphTheory\n",
    "G.printlevel(0)\n",
    "def strs(k, l):\n",
    "    return sum([xx for xx in G.generate(k) if len(xx.blocks()[\"edges\"])==l])"
   ]
  },
  {
   "cell_type": "markdown",
   "id": "bbadbb63-71a9-4667-bfa4-738bdef28f3c",
   "metadata": {},
   "source": [
    "$\\kappa=3$\n",
    "==================="
   ]
  },
  {
   "cell_type": "code",
   "execution_count": 42,
   "id": "e574e22c-e22b-4315-a3ed-2f6c8e7a10f7",
   "metadata": {},
   "outputs": [
    {
     "name": "stdout",
     "output_type": "stream",
     "text": [
      "lambda(3, 1), construction provides 3/4, flag algebra bound is 3/4\n"
     ]
    }
   ],
   "source": [
    "#lambda(3, 1)\n",
    "constr = G.blowup_construction(5, 2, edges=[[0, 0], [1, 1]])\n",
    "bound = G.optimize(strs(3, 1), 5, exact=True, file=\"certificates/stats31\", construction=constr)\n",
    "value = constr.density(strs(3, 1))\n",
    "print(\"lambda({}, {}), construction provides {}, flag algebra bound is {}\".format(3, 1, value, bound))"
   ]
  },
  {
   "cell_type": "markdown",
   "id": "3ef32bfc-0a2a-4799-892b-c314b327fea0",
   "metadata": {},
   "source": [
    "$\\kappa=4$\n",
    "==================="
   ]
  },
  {
   "cell_type": "code",
   "execution_count": 43,
   "id": "0eced910-8e10-44fb-9df2-abb79cdeb4a7",
   "metadata": {},
   "outputs": [
    {
     "name": "stdout",
     "output_type": "stream",
     "text": [
      "lambda(4, 1), construction provides 72/125, flag algebra bound is 72/125\n"
     ]
    }
   ],
   "source": [
    "#lambda(4, 1)\n",
    "constr = G.blowup_construction(7, 5, edges=[[0, 0], [1, 1], [2, 2], [3, 3], [4, 4]])\n",
    "bound = G.optimize(strs(4, 1), 7, exact=True, denom=2**20, file=\"certificates/stats41\", construction=constr)\n",
    "value = constr.density(strs(4, 1))\n",
    "print(\"lambda({}, {}), construction provides {}, flag algebra bound is {}\".format(4, 1, value, bound))"
   ]
  },
  {
   "cell_type": "code",
   "execution_count": 44,
   "id": "a0de6b52-566d-4231-b7e7-fb56d73e5cd9",
   "metadata": {},
   "outputs": [
    {
     "name": "stdout",
     "output_type": "stream",
     "text": [
      "lambda(4, 2), construction provides 1/2, flag algebra bound is 1/2\n"
     ]
    }
   ],
   "source": [
    "#lambda(4, 2)\n",
    "constr = G.blowup_construction(7, 6, edges=[[0, 1], [1, 2], [2, 0], [3, 4], [4, 5], [5, 3]])\n",
    "bound = G.optimize(strs(4, 2), 7, exact=True, denom=2**20, file=\"certificates/stats42\", construction=constr)\n",
    "value = constr.density(strs(4, 2))\n",
    "print(\"lambda({}, {}), construction provides {}, flag algebra bound is {}\".format(4, 2, value, bound))"
   ]
  },
  {
   "cell_type": "code",
   "execution_count": 45,
   "id": "1818d67f-4144-4e34-93df-1c629bbc16de",
   "metadata": {},
   "outputs": [
    {
     "name": "stdout",
     "output_type": "stream",
     "text": [
      "lambda(4, 3), construction provides 1/2, flag algebra bound is 1/2\n"
     ]
    }
   ],
   "source": [
    "#lambda(4, 3)\n",
    "constr = G.blowup_construction(4, 2, edges=[[0, 1]])\n",
    "bound = G.optimize(strs(4, 3), 6, exact=True, \n",
    "           slack_threshold=1e-5, denom=2**20, kernel_denom=2**20, \n",
    "           file = \"certificates/stats43\")\n",
    "value = constr.density(strs(4, 3))\n",
    "print(\"lambda({}, {}), construction provides {}, flag algebra bound is {}\".format(4, 3, value, bound))"
   ]
  },
  {
   "cell_type": "markdown",
   "id": "5a31c1b3-ce7d-48d2-986a-845710899b87",
   "metadata": {},
   "source": [
    "$\\kappa=5$\n",
    "==================="
   ]
  },
  {
   "cell_type": "code",
   "execution_count": 60,
   "id": "f0b496c4-63a7-489f-b526-d30b7473f1a5",
   "metadata": {},
   "outputs": [
    {
     "name": "stdout",
     "output_type": "stream",
     "text": [
      "lambda(5, 2), construction provides 280/729, flag algebra bound is 280/729\n"
     ]
    }
   ],
   "source": [
    "#lambda(5, 2)\n",
    "constr = G.blowup_construction(8, 9, edges=[[0, 1], [1, 2], [2, 0], [3, 4], [4, 5], [5, 3], [6, 7], [7, 8], [8, 6]])\n",
    "bound = G.optimize(strs(5, 2), 8, exact=True, denom=2**20, file=\"certificates/stats52\", construction=constr)\n",
    "value = constr.density(strs(5, 2))\n",
    "print(\"lambda({}, {}), construction provides {}, flag algebra bound is {}\".format(5, 2, value, bound))"
   ]
  },
  {
   "cell_type": "code",
   "execution_count": 46,
   "id": "96d558aa-269a-4dc5-8892-c2568430eddb",
   "metadata": {},
   "outputs": [
    {
     "name": "stdout",
     "output_type": "stream",
     "text": [
      "lambda(5, 3), construction provides 255/1024*sqrt17 - 535/1024, flag algebra bound is 255/1024*sqrt17 - 535/1024\n"
     ]
    }
   ],
   "source": [
    "#lambda(5, 3)\n",
    "R = QQ[sqrt(17)]; s17 = R(sqrt(17))\n",
    "constr = G.blowup_construction(7, [(9-s17)/16, (9-s17)/16, (s17 - 1)/8], edges=[[0, 1], [2, 2]])\n",
    "bound = G.optimize(strs(5, 3), 7, file=\"certificates/stats53\", construction=constr, exact=True, denom=2**20)\n",
    "value = constr.density(strs(5, 3))\n",
    "print(\"lambda({}, {}), construction provides {}, flag algebra bound is {}\".format(5, 3, value, bound))"
   ]
  },
  {
   "cell_type": "code",
   "execution_count": 48,
   "id": "c1717c53-4ae0-4cd8-9647-b106bfa19da7",
   "metadata": {},
   "outputs": [
    {
     "name": "stdout",
     "output_type": "stream",
     "text": [
      "lambda(5, 4), construction provides 5/8, flag algebra bound is 5/8\n"
     ]
    }
   ],
   "source": [
    "#lambda(5, 4)\n",
    "constr = G.blowup_construction(5, 2, edges=[[0, 0], [1, 1]])\n",
    "bound = G.optimize(strs(5, 4), 5, file=\"certificates/stats54\", exact=True, denom=2**20)\n",
    "value = constr.density(strs(5, 4))\n",
    "print(\"lambda({}, {}), construction provides {}, flag algebra bound is {}\".format(5, 4, value, bound))"
   ]
  },
  {
   "cell_type": "markdown",
   "id": "85d09b28-77f9-4692-bc84-b92e5b51b81e",
   "metadata": {},
   "source": [
    "$\\kappa=6$\n",
    "==================="
   ]
  },
  {
   "cell_type": "code",
   "execution_count": 49,
   "id": "f3724555-d375-4cb9-8c7f-767336bc8425",
   "metadata": {},
   "outputs": [
    {
     "name": "stdout",
     "output_type": "stream",
     "text": [
      "lambda(6, 4), construction provides 40/81, flag algebra bound is 40/81\n"
     ]
    }
   ],
   "source": [
    "#lambda(6, 4)\n",
    "constr = G.blowup_construction(6, 3, edges=[[0, 0], [1, 1], [2, 2]])\n",
    "bound = G.optimize(strs(6, 4), 6, file=\"certificates/stats64\", exact=True, denom=2**20)\n",
    "value = constr.density(strs(6, 4))\n",
    "print(\"lambda({}, {}), construction provides {}, flag algebra bound is {}\".format(6, 4, value, bound))"
   ]
  },
  {
   "cell_type": "code",
   "execution_count": 50,
   "id": "f1fa9ee1-6138-4915-bfb0-bde7ef8d45cf",
   "metadata": {},
   "outputs": [
    {
     "name": "stdout",
     "output_type": "stream",
     "text": [
      "lambda(6, 5), construction provides 20/3*alpha^2 - 20/3*alpha + 4/3, flag algebra bound is 20/3*alpha^2 - 20/3*alpha + 4/3\n"
     ]
    }
   ],
   "source": [
    "#lambda(6, 5)\n",
    "var(\"x\")\n",
    "RF = RealField(prec=100)\n",
    "alpha_real = RF(solve(x^4 - 2*x^3 + 7/3*x^2 - 4/3*x + 1/6==0, x)[2].rhs())\n",
    "R.<alpha> = NumberField(x^4 - 2*x^3 + 7/3*x^2 - 4/3*x + 1/6, embedding=alpha_real)\n",
    "constr = G.blowup_construction(7, [alpha, 1-alpha], edges=[[0, 1]])\n",
    "bound = G.optimize(strs(6, 5), 7, file=\"certificates/stats65\", construction=constr, exact=True, denom=2**20)\n",
    "value = constr.density(strs(6, 5))\n",
    "print(\"lambda({}, {}), construction provides {}, flag algebra bound is {}\".format(6, 5, value, bound))"
   ]
  },
  {
   "cell_type": "code",
   "execution_count": 51,
   "id": "94114d7d-c3f5-48ff-b0d4-ce90ec3cdee1",
   "metadata": {},
   "outputs": [
    {
     "name": "stdout",
     "output_type": "stream",
     "text": [
      "lambda(6, 7), construction provides 15/32, flag algebra bound is 15/32\n"
     ]
    }
   ],
   "source": [
    "#lambda(6, 7)\n",
    "constr = G.blowup_construction(7, 2, edges=[[0, 0], [1, 1]])\n",
    "bound = G.optimize(strs(6, 7), 6, file=\"certificates/stats67\", exact=True, denom=2**20)\n",
    "value = constr.density(strs(6, 7))\n",
    "print(\"lambda({}, {}), construction provides {}, flag algebra bound is {}\".format(6, 7, value, bound))"
   ]
  },
  {
   "cell_type": "markdown",
   "id": "fb6628cb-41ee-4560-bb57-5db14ae87405",
   "metadata": {},
   "source": [
    "$\\kappa=7$\n",
    "==================="
   ]
  },
  {
   "cell_type": "code",
   "execution_count": 52,
   "id": "6d282f55-46b9-4ec2-abe2-e5585190335a",
   "metadata": {},
   "outputs": [
    {
     "name": "stdout",
     "output_type": "stream",
     "text": [
      "lambda(7, 6), construction provides 28/9*alpha^2 - 28/9*alpha + 7/9, flag algebra bound is 28/9*alpha^2 - 28/9*alpha + 7/9\n"
     ]
    }
   ],
   "source": [
    "#lambda(7, 6)\n",
    "var(\"x\")\n",
    "RF = RealField(prec=100)\n",
    "alpha_real = RF(solve(x^4 - 2*x^3 + 5/3*x^2 - 2/3*x + 1/15==0, x)[2].rhs())\n",
    "R.<alpha> = NumberField(x^4 - 2*x^3 + 5/3*x^2 - 2/3*x + 1/15, embedding=alpha_real)\n",
    "constr = G.blowup_construction(7, [alpha, 1-alpha], edges=[[0, 1]])\n",
    "bound = G.optimize(strs(7, 6), 7, file=\"certificates/stats76\", construction=constr, exact=True, denom=2**20)\n",
    "value = constr.density(strs(7, 6))\n",
    "print(\"lambda({}, {}), construction provides {}, flag algebra bound is {}\".format(7, 6, value, bound))"
   ]
  },
  {
   "cell_type": "code",
   "execution_count": 54,
   "id": "eac6ed59-30fb-4276-8a6b-da28e72a9b19",
   "metadata": {},
   "outputs": [
    {
     "name": "stdout",
     "output_type": "stream",
     "text": [
      "lambda(7, 9), construction provides 35/64, flag algebra bound is 35/64\n"
     ]
    }
   ],
   "source": [
    "#lambda(7, 9)\n",
    "constr = G.blowup_construction(7, 2, edges=[[0, 0], [1, 1]])\n",
    "bound = G.optimize(strs(7, 9), 7, file=\"certificates/stats79\", exact=True, denom=2**20)\n",
    "value = constr.density(strs(7, 9))\n",
    "print(\"lambda({}, {}), construction provides {}, flag algebra bound is {}\".format(7, 9, value, bound))"
   ]
  },
  {
   "cell_type": "code",
   "execution_count": 55,
   "id": "79e2e62b-c9f1-481d-bab0-378b7be39136",
   "metadata": {},
   "outputs": [
    {
     "name": "stdout",
     "output_type": "stream",
     "text": [
      "lambda(7, 10), construction provides 28/81, flag algebra bound is 28/81\n"
     ]
    }
   ],
   "source": [
    "#lambda(7, 10)\n",
    "constr = G.blowup_construction(7, [1/3, 2/3], edges=[[0, 1]])\n",
    "bound = G.optimize(strs(7, 10), 7, file=\"certificates/stats710\", exact=True, denom=2**25, construction=constr)\n",
    "value = constr.density(strs(7, 10))\n",
    "print(\"lambda({}, {}), construction provides {}, flag algebra bound is {}\".format(7, 10, value, bound))"
   ]
  },
  {
   "cell_type": "markdown",
   "id": "e130919d-efe3-495f-b55f-dd686c0aa532",
   "metadata": {},
   "source": [
    "Stability check\n",
    "================\n",
    "\n",
    "First cells includes a short script that checks condition 2.a, 3 and i or ii from Theorem 2.3.\n",
    "\n",
    "Then each certificate is checked for these conditions using a provided type $\\tau$.\n",
    "\n",
    "Finally, the certificate for $\\lambda(4, 3)$ is inspected, showing that $(4,1)$ and $(4,5)$ has density $o(1)$, with additional calculations performed in the paper."
   ]
  },
  {
   "cell_type": "code",
   "execution_count": 37,
   "id": "fd883f00-b349-4e45-bbdf-17228211d6c1",
   "metadata": {},
   "outputs": [],
   "source": [
    "from fractions import Fraction\n",
    "from sage.algebras.combinatorial_theory import _unflatten_matrix\n",
    "import pickle\n",
    "\n",
    "def to_sage(dim, data):\n",
    "    if dim==0:\n",
    "        if isinstance(data, Fraction):\n",
    "            return QQ(data)\n",
    "        if isinstance(data, float):\n",
    "            return RR(data)\n",
    "        return data\n",
    "    return [to_sage(dim-1, xx) for xx in data]\n",
    "\n",
    "def check_stability(file, k, l, construction_size, construction_edges, ftype):\n",
    "    print(\"\\n\\nchecking stability for \" + file)\n",
    "    G.reset()\n",
    "    G.printlevel(0)\n",
    "    if not file.endswith(\".pickle\"):\n",
    "        file += \".pickle\"\n",
    "    with open(file, \"rb\") as f:\n",
    "        certificate = pickle.load(f)\n",
    "    target_size = certificate[\"target size\"]\n",
    "    original_bound = to_sage(0, certificate[\"result\"])\n",
    "    \n",
    "    # Checking condition 2.a\n",
    "    ftype_untyped = ftype.subflag(ftype_points=[])\n",
    "    G.exclude(ftype_untyped)\n",
    "    target = strs(k, l)\n",
    "    if target==0: \n",
    "        bound = 0\n",
    "    else:\n",
    "        try:\n",
    "            bound = G.optimize(target, target_size-1, exact=True, denom=2**20, construction=[])\n",
    "        except:\n",
    "            bound = 1\n",
    "        if bound > original_bound:\n",
    "            bound = G.optimize(target, target_size, exact=True, denom=2**20, construction=[])\n",
    "\n",
    "    G.reset()\n",
    "    \n",
    "    if bound < original_bound:\n",
    "        print(\" - condition 2.a is satisfied\")\n",
    "    else:\n",
    "        print(\" - condition 2.a is not satisfied\")\n",
    "        return\n",
    "\n",
    "    # Checking condition 3\n",
    "    construction = G.blowup_construction(target_size, construction_size, edges=construction_edges)\n",
    "    cvals = construction.values()\n",
    "    svals = to_sage(1, certificate[\"slack vector\"])\n",
    "    correct_slacks = True\n",
    "    for ii in range(len(svals)):\n",
    "        if svals[ii]==0 and cvals[ii]==0:\n",
    "            correct_slacks = False\n",
    "    if not correct_slacks:\n",
    "        print(\" - condition 3 is not satisfied\")\n",
    "        return\n",
    "    else:\n",
    "        print(\" - condition 3 is satisfied\")\n",
    "\n",
    "    # Checking condition i\n",
    "    index = -1\n",
    "    for ii,xx in enumerate(certificate[\"typed flags\"]):\n",
    "        if xx[1] == ftype._pythonize():\n",
    "            index = ii\n",
    "            break\n",
    "    if index==-1:\n",
    "        print(\" - type not found\")\n",
    "        return\n",
    "    mat = matrix(to_sage(2, _unflatten_matrix(certificate[\"X matrices\"][index])[0]))\n",
    "    if mat.nullity()==1:\n",
    "        print(\" - condition i is satisfied\")\n",
    "        print(\"problem is stable\")\n",
    "        return\n",
    "    else:\n",
    "        print(\" - condition i is not satisfied, the matrix has nullity\", mat.nullity())\n",
    "\n",
    "    # Checking condition ii\n",
    "    B_edges = [xx for xx in construction_edges if xx[0]!=xx[1]]\n",
    "    B = G(construction_size, edges=B_edges)\n",
    "    G.exclude(B)\n",
    "    target = strs(k, l)\n",
    "\n",
    "    if target==0: \n",
    "        bound = 0\n",
    "    else:\n",
    "        try:\n",
    "            bound = G.optimize(target, target_size-1, exact=True, denom=2**20, construction=[])\n",
    "        except:\n",
    "            bound = 1\n",
    "        if bound > original_bound:\n",
    "            bound = G.optimize(target, target_size, exact=True, denom=2**20, construction=[])\n",
    "    G.reset()\n",
    "    if bound < original_bound:\n",
    "        print(\" - condition ii is satisfied\")\n",
    "        print(\"problem is stable\")\n",
    "    else:\n",
    "        print(\" - condition ii is not satisfied\")"
   ]
  },
  {
   "cell_type": "code",
   "execution_count": 56,
   "id": "90ac32da-8a45-403b-935e-6eff5977d642",
   "metadata": {},
   "outputs": [
    {
     "name": "stdout",
     "output_type": "stream",
     "text": [
      "\n",
      "\n",
      "checking stability for certificates/stats31\n",
      " - condition 2.a is satisfied\n",
      " - condition 3 is satisfied\n",
      " - condition i is satisfied\n",
      "problem is stable\n",
      "\n",
      "\n",
      "checking stability for certificates/stats41\n",
      " - condition 2.a is satisfied\n",
      " - condition 3 is satisfied\n",
      " - condition i is satisfied\n",
      "problem is stable\n",
      "\n",
      "\n",
      "checking stability for certificates/stats42\n",
      " - condition 2.a is satisfied\n",
      " - condition 3 is satisfied\n",
      " - condition i is satisfied\n",
      "problem is stable\n",
      "\n",
      "\n",
      "checking stability for certificates/stats43\n",
      " - condition 2.a is not satisfied\n",
      "\n",
      "\n",
      "checking stability for certificates/stats52\n",
      " - condition 2.a is satisfied\n",
      " - condition 3 is satisfied\n",
      " - condition i is satisfied\n",
      "problem is stable\n",
      "\n",
      "\n",
      "checking stability for certificates/stats53\n",
      " - condition 2.a is satisfied\n",
      " - condition 3 is satisfied\n",
      " - condition i is satisfied\n",
      "problem is stable\n",
      "\n",
      "\n",
      "checking stability for certificates/stats54\n",
      " - condition 2.a is satisfied\n",
      " - condition 3 is satisfied\n",
      " - condition i is satisfied\n",
      "problem is stable\n",
      "\n",
      "\n",
      "checking stability for certificates/stats64\n",
      " - condition 2.a is satisfied\n",
      " - condition 3 is satisfied\n",
      " - condition i is satisfied\n",
      "problem is stable\n",
      "\n",
      "\n",
      "checking stability for certificates/stats65\n",
      " - condition 2.a is satisfied\n",
      " - condition 3 is satisfied\n",
      " - condition i is not satisfied, the matrix has nullity 2\n",
      " - condition ii is satisfied\n",
      "problem is stable\n",
      "\n",
      "\n",
      "checking stability for certificates/stats67\n",
      " - condition 2.a is satisfied\n",
      " - condition 3 is satisfied\n",
      " - condition i is satisfied\n",
      "problem is stable\n",
      "\n",
      "\n",
      "checking stability for certificates/stats76\n",
      " - condition 2.a is satisfied\n",
      " - condition 3 is satisfied\n",
      " - condition i is not satisfied, the matrix has nullity 2\n",
      " - condition ii is satisfied\n",
      "problem is stable\n",
      "\n",
      "\n",
      "checking stability for certificates/stats79\n",
      " - condition 2.a is satisfied\n",
      " - condition 3 is satisfied\n",
      " - condition i is satisfied\n",
      "problem is stable\n",
      "\n",
      "\n",
      "checking stability for certificates/stats710\n",
      " - condition 2.a is satisfied\n",
      " - condition 3 is satisfied\n",
      " - condition i is not satisfied, the matrix has nullity 2\n",
      " - condition ii is satisfied\n",
      "problem is stable\n"
     ]
    }
   ],
   "source": [
    "empty_1_type = G(1, ftype=[0])\n",
    "empty_2_type = G(2, ftype=[0, 1])\n",
    "empty_3_type = G(3, ftype=[0, 1, 2])\n",
    "empty_4_type = G(4, ftype=[0, 1, 2, 3])\n",
    "empty_5_type = G(5, ftype=[0, 1, 2, 3, 4])\n",
    "acherry_type = G(3, edges=[[0, 1]], ftype=[0, 1, 2])\n",
    "cherry_type = G(3, edges=[[0, 1], [0, 2]], ftype=[0, 1, 2])\n",
    "tri_edge_type = G(5, edges=[[0, 1], [0, 2], [1, 2], [3, 4]], ftype=[0, 1, 2, 3, 4])\n",
    "disj_3_edge_type = G(6, edges=[[0, 2], [1, 3], [4, 5]], ftype=[0, 1, 2, 3, 4, 5])\n",
    "\n",
    "\n",
    "\n",
    "check_stability(\"certificates/stats31\", \n",
    "                3, 1,\n",
    "                2, [[0, 0], [1, 1]], \n",
    "                acherry_type)\n",
    "\n",
    "\n",
    "\n",
    "check_stability(\"certificates/stats41\", \n",
    "                4, 1,\n",
    "                5, [[0, 0], [1, 1], [2, 2], [3, 3], [4, 4]],\n",
    "                empty_5_type)\n",
    "check_stability(\"certificates/stats42\", \n",
    "                4, 2,\n",
    "                6, [[0, 1], [1, 2], [2, 0], [3, 4], [4, 5], [5, 3]], \n",
    "                tri_edge_type)\n",
    "check_stability(\"certificates/stats43\", \n",
    "                4, 3,\n",
    "                2, [[0, 1]], \n",
    "                empty_4_type)\n",
    "\n",
    "\n",
    "\n",
    "check_stability(\"certificates/stats52\", \n",
    "                5, 2,\n",
    "                9, [[0, 1], [1, 2], [2, 0], [3, 4], [4, 5], [5, 3], [6, 7], [7, 8], [8, 6]], \n",
    "                disj_3_edge_type)\n",
    "check_stability(\"certificates/stats53\", \n",
    "                5, 3,\n",
    "                3, [[0, 1], [2, 2]], \n",
    "                cherry_type)\n",
    "check_stability(\"certificates/stats54\", \n",
    "                5, 4,\n",
    "                2, [[0, 0], [1, 1]], \n",
    "                acherry_type)\n",
    "\n",
    "\n",
    "\n",
    "check_stability(\"certificates/stats64\", \n",
    "                6, 4,\n",
    "                3, [[0, 0], [1, 1], [2, 2]], \n",
    "                empty_2_type)\n",
    "check_stability(\"certificates/stats65\", \n",
    "                6, 5,\n",
    "                2, [[0, 1]], \n",
    "                cherry_type)\n",
    "check_stability(\"certificates/stats67\", \n",
    "                6, 7,\n",
    "                2, [[0, 0], [1, 1]], \n",
    "                empty_2_type)\n",
    "\n",
    "\n",
    "\n",
    "check_stability(\"certificates/stats76\", \n",
    "                7, 6,\n",
    "                2, [[0, 1]], \n",
    "                empty_3_type)\n",
    "check_stability(\"certificates/stats79\", \n",
    "                7, 9,\n",
    "                2, [[0, 0], [1, 1]], \n",
    "                acherry_type)\n",
    "check_stability(\"certificates/stats710\", \n",
    "                7, 10,\n",
    "                2, [[0, 1]], \n",
    "                empty_3_type)"
   ]
  },
  {
   "cell_type": "code",
   "execution_count": 57,
   "id": "bb8a52b8-1b40-48a4-9e6e-eb29cb17f482",
   "metadata": {},
   "outputs": [
    {
     "name": "stdout",
     "output_type": "stream",
     "text": [
      "(4,1) density:  0\n",
      "(4,5) density:  0\n"
     ]
    }
   ],
   "source": [
    "#\n",
    "# Relevant data for checking (4, 3)\n",
    "#\n",
    "\n",
    "with open(\"certificates/stats43.pickle\", \"rb\") as f:\n",
    "    cert = pickle.load(f)\n",
    "\n",
    "can_appear = 0\n",
    "for ii,ff in enumerate(G.generate(6)):\n",
    "    if QQ(cert[\"slack vector\"][ii])==0:\n",
    "        can_appear += ff\n",
    "\n",
    "print(\"(4,1) density: \", can_appear.density(G(4, edges=[[0, 1]])))\n",
    "print(\"(4,5) density: \", can_appear.density(G(4, edges=[[0, 1], [0, 2], [0, 3], [1, 2], [1, 3]])))"
   ]
  },
  {
   "cell_type": "code",
   "execution_count": 58,
   "id": "d9d5b508-4a81-4e44-9044-87ce242f2dda",
   "metadata": {},
   "outputs": [
    {
     "name": "stdout",
     "output_type": "stream",
     "text": [
      "lambda 4, 3 difference when m -> m+1\n",
      "-1/6*(4*m^2 - 4*m*n + n^2 + 4*m - 5*n + 6)*(2*m - n + 1)\n",
      "\n",
      "solutions for m where difference is 0\n",
      "m == 1/2*n - 1/2*sqrt(3*n - 5) - 1/2\n",
      "m == 1/2*n + 1/2*sqrt(3*n - 5) - 1/2\n",
      "m == 1/2*n - 1/2\n",
      "\n",
      "\n",
      "maximizing Q(1/2, y, z) = -1/8*(2*y - 1)^3 - 3/2*y^2*(2*z - 1) - 1/8*(2*z - 1)^3 - 6*(y + z - 1)*y*z - 3/2*(2*y - 1)*z^2\n",
      "\n",
      "interior optimums\n",
      "y=-1/20*sqrt(6) + 1/5 z=-1/20*sqrt(6) + 1/5 gives 1/4000*(sqrt(6) + 6)^3 + 9/4000*(sqrt(6) + 6)*(sqrt(6) - 4)^2 ~ 0.196515307716505\n",
      "y=1/20*sqrt(6) + 1/5 z=1/20*sqrt(6) + 1/5 gives -9/4000*(sqrt(6) + 4)^2*(sqrt(6) - 6) - 1/4000*(sqrt(6) - 6)^3 ~ 0.343484692283495\n",
      "\n",
      "boundary optimums\n",
      "y=0, z=-1/2*sqrt(3) + 1 gives 1/8*(sqrt(3) - 1)^3 + 3/8*(sqrt(3) - 2)^2 + 1/8 ~ 0.200961894323342\n",
      "y=1/2, z=-1/2*sqrt(3) + 1 gives 1/8*(sqrt(3) - 1)^3 + 3/8*(sqrt(3) - 2)^2 + 1/8 ~ 0.200961894323342\n",
      "\n",
      "corners\n",
      "y=0 z=0 gives 1/4 ~ 0.250000000000000\n",
      "y=0 z=1/2 gives 1/2 ~ 0.500000000000000\n",
      "y=1/2 z=1/2 gives 0 ~ 0.000000000000000\n"
     ]
    }
   ],
   "source": [
    "#\n",
    "# Calculations from the paper related to (4, 3)\n",
    "#\n",
    "\n",
    "var(\"m n\")\n",
    "\n",
    "count = m*binomial(n-m, 3) + (n-m)*binomial(m, 3)\n",
    "diff = count(m=m+1, n=n) - count\n",
    "print(\"lambda 4, 3 difference when m -> m+1\")\n",
    "print(factor(diff))\n",
    "print(\"\\nsolutions for m where difference is 0\")\n",
    "for xx in solve(diff==0, m):\n",
    "    print(xx)\n",
    "\n",
    "\n",
    "var(\"x y z\")\n",
    "Q = (x-y)^3 + (1-x-z)^3 + 3*y^2*(1-x-z) + 3*z^2*(x-y) + 6*y*z*(1-y-z)\n",
    "q = Q.subs(x=1/2)\n",
    "print(\"\\n\\nmaximizing Q(1/2, y, z) = {}\".format(q))\n",
    "print(\"\\ninterior optimums\")\n",
    "for sol in solve([q.differentiate(y)==0, q.differentiate(z)==0], y, z):\n",
    "    ys = sol[0].rhs()\n",
    "    zs = sol[1].rhs()\n",
    "    if ys not in RR or zs not in RR:\n",
    "        continue\n",
    "    if ys<0 or ys>1/2 or zs<0 or zs>1/2:\n",
    "        continue\n",
    "    val = q.subs(y=ys, z=zs)\n",
    "    print(\"y={} z={} gives {} ~ {}\".format(zs, ys, val, val.n()))\n",
    "\n",
    "print(\"\\nboundary optimums\")\n",
    "b0 = q.subs(y=0)\n",
    "for sol in solve(b0.differentiate(z)==0, z):\n",
    "    zs = sol.rhs()\n",
    "    if zs not in RR or zs<0 or zs>1/2:\n",
    "        continue\n",
    "    val = b0.subs(z=zs)\n",
    "    print(\"y={}, z={} gives {} ~ {}\".format(0, zs, val, val.n()))\n",
    "\n",
    "b12 = q.subs(y=1/2)\n",
    "for sol in solve(b0.differentiate(z)==0, z):\n",
    "    zs = sol.rhs()\n",
    "    if zs not in RR or zs<0 or zs>1/2:\n",
    "        continue\n",
    "    val = b0.subs(z=zs)\n",
    "    print(\"y={}, z={} gives {} ~ {}\".format(1/2, zs, val, val.n()))\n",
    "\n",
    "print(\"\\ncorners\")\n",
    "for ys, zs in [(0, 0), (0, 1/2), (1/2, 1/2)]:\n",
    "    val = q.subs(y=ys, z=zs)\n",
    "    print(\"y={} z={} gives {} ~ {}\".format(ys, zs, val, val.n()))"
   ]
  },
  {
   "cell_type": "markdown",
   "id": "cc971747-9d26-4a43-a5de-5e1d43e05e4e",
   "metadata": {},
   "source": [
    "The inexact results for the remaining cases\n",
    "==================================="
   ]
  },
  {
   "cell_type": "code",
   "execution_count": 2,
   "id": "a27b8069-6998-4188-9bf1-4f27bc6cd80a",
   "metadata": {},
   "outputs": [
    {
     "name": "stdout",
     "output_type": "stream",
     "text": [
      "For k=5, l=5 the found upper bound is 0.3515625030643538\n",
      "For k=6, l=2 the found upper bound is 0.3513749475869929\n",
      "For k=6, l=3 the found upper bound is 0.3653600282649522\n",
      "For k=6, l=6 the found upper bound is 0.3701115739691023\n",
      "For k=7, l=2 the found upper bound is 0.3367351897280793\n",
      "For k=7, l=3 the found upper bound is 0.29903663788406776\n",
      "For k=7, l=4 the found upper bound is 0.3269092897814353\n",
      "For k=7, l=5 the found upper bound is 0.2965188292931691\n",
      "For k=7, l=7 the found upper bound is 0.29259270274675236\n",
      "For k=7, l=8 the found upper bound is 0.35384761752077853\n"
     ]
    }
   ],
   "source": [
    "# Non-exact upper bound results\n",
    "for k,l in [(5, 5), (6, 2), (6, 3), (6, 6), (7, 2), (7, 3), (7, 4), (7, 5), (7, 7), (7, 8)]:\n",
    "    bound = G.optimize(strs(k, l), 8, file=\"certificates/stats{}{}\".format(k, l))\n",
    "    print(\"For k={}, l={} the found upper bound is {}\".format(k, l, bound))"
   ]
  },
  {
   "cell_type": "markdown",
   "id": "caab5cab-a917-4c35-ab88-5215822664e8",
   "metadata": {},
   "source": [
    "Verify the certificates\n",
    "====================\n",
    "The following cell verifies that the provided exact certificates are correct.\n",
    "The cell can be run independently of the rest of the notebook. Note verifying (5, 2) takes a long time, so it is in a separate cell."
   ]
  },
  {
   "cell_type": "code",
   "execution_count": 59,
   "id": "c9c61435-4401-48f9-be25-971dae1fe6f1",
   "metadata": {},
   "outputs": [
    {
     "name": "stdout",
     "output_type": "stream",
     "text": [
      "\n",
      "For the pair k=3 and l=1\n",
      "The solution is valid, it proves the bound 3/4\n",
      "\n",
      "For the pair k=4 and l=1\n",
      "The solution is valid, it proves the bound 72/125\n",
      "\n",
      "For the pair k=4 and l=2\n",
      "The solution is valid, it proves the bound 1/2\n",
      "\n",
      "For the pair k=4 and l=3\n",
      "The solution is valid, it proves the bound 1/2\n",
      "\n",
      "For the pair k=5 and l=3\n",
      "The solution is valid, it proves the bound 255/1024*sqrt17 - 535/1024\n",
      "\n",
      "For the pair k=5 and l=4\n",
      "The solution is valid, it proves the bound 5/8\n",
      "\n",
      "For the pair k=6 and l=4\n",
      "The solution is valid, it proves the bound 40/81\n",
      "\n",
      "For the pair k=6 and l=5\n",
      "The solution is valid, it proves the bound 20/3*alpha^2 - 20/3*alpha + 4/3\n",
      "\n",
      "For the pair k=6 and l=7\n",
      "The solution is valid, it proves the bound 15/32\n",
      "\n",
      "For the pair k=7 and l=6\n",
      "The solution is valid, it proves the bound 28/9*alpha^2 - 28/9*alpha + 7/9\n",
      "\n",
      "For the pair k=7 and l=9\n",
      "The solution is valid, it proves the bound 35/64\n",
      "\n",
      "For the pair k=7 and l=10\n",
      "The solution is valid, it proves the bound 28/81\n"
     ]
    }
   ],
   "source": [
    "kspairs = [(3, 1), (4, 1), (4, 2), (4, 3), (5, 3), (5, 4), \n",
    "           (6, 4), (6, 5), (6, 7), (7, 6), (7, 9), (7, 10)]\n",
    "\n",
    "GraphTheory.printlevel(0)\n",
    "for kk, ll in kspairs:\n",
    "    print(\"\\nFor the pair k={} and l={}\".format(kk, ll))\n",
    "    GraphTheory.verify(\"certificates/stats\"+str(kk)+str(ll))"
   ]
  },
  {
   "cell_type": "code",
   "execution_count": 61,
   "id": "575ef25c-8d75-4941-8e62-c75fe5bbb9a4",
   "metadata": {},
   "outputs": [
    {
     "name": "stdout",
     "output_type": "stream",
     "text": [
      "For the pair k=5 and l=2\n",
      "Checking X matrices\n"
     ]
    },
    {
     "name": "stderr",
     "output_type": "stream",
     "text": [
      "169it [7:47:46, 166.08s/it]\n"
     ]
    },
    {
     "name": "stdout",
     "output_type": "stream",
     "text": [
      "Solution matrices are all positive semidefinite, linear coefficients are all non-negative\n",
      "Calculating multiplication tables\n"
     ]
    },
    {
     "name": "stderr",
     "output_type": "stream",
     "text": [
      "169it [16:42:21, 355.87s/it]\n"
     ]
    },
    {
     "name": "stdout",
     "output_type": "stream",
     "text": [
      "Done calculating linear constraints\n",
      "Calculating the bound provided by the certificate\n"
     ]
    },
    {
     "name": "stderr",
     "output_type": "stream",
     "text": [
      "169it [4:59:46, 106.43s/it]\n"
     ]
    },
    {
     "name": "stdout",
     "output_type": "stream",
     "text": [
      "The solution is valid, it proves the bound 280/729\n"
     ]
    },
    {
     "data": {
      "text/plain": [
       "280/729"
      ]
     },
     "execution_count": 61,
     "metadata": {},
     "output_type": "execute_result"
    }
   ],
   "source": [
    "GraphTheory.printlevel(1)\n",
    "print(\"For the pair k=5 and l=2\")\n",
    "GraphTheory.verify(\"certificates/stats52\")"
   ]
  }
 ],
 "metadata": {
  "kernelspec": {
   "display_name": "SageMath 10.5.beta7",
   "language": "sage",
   "name": "sagemath"
  },
  "language_info": {
   "codemirror_mode": {
    "name": "ipython",
    "version": 3
   },
   "file_extension": ".py",
   "mimetype": "text/x-python",
   "name": "python",
   "nbconvert_exporter": "python",
   "pygments_lexer": "ipython3",
   "version": "3.12.3"
  }
 },
 "nbformat": 4,
 "nbformat_minor": 5
}
